{
 "cells": [
  {
   "cell_type": "code",
   "execution_count": 1,
   "metadata": {},
   "outputs": [],
   "source": [
    "import pandas as pd\n",
    "import os\n",
    "import numpy as np\n",
    "from multiprocessing import Pool\n",
    "import time\n",
    "\n",
    "import lightgbm as lgb\n",
    "from sklearn.model_selection import TimeSeriesSplit\n",
    "from sklearn.metrics import mean_squared_error\n",
    "\n",
    "import warnings\n",
    "warnings.filterwarnings(\"ignore\")\n"
   ]
  },
  {
   "cell_type": "code",
   "execution_count": null,
   "metadata": {},
   "outputs": [],
   "source": []
  },
  {
   "cell_type": "code",
   "execution_count": 2,
   "metadata": {},
   "outputs": [],
   "source": [
    "future2stock = {'JBF': 3443, 'QWF': 2388, 'HCF': 2498, 'DBF': 2610, 'EHF': 1319, 'IPF': 3035, 'IIF': 3006, 'QXF': 2615, 'PEF': 5425, 'NAF': 3105}\n",
    "future_path = r'processedData_2023\\\\futures'\n",
    "stock_path = r'processedData_2023\\\\stocks'\n",
    "future_files = os.listdir(future_path)\n",
    "stock_files = os.listdir(stock_path)\n",
    "\n",
    "# Get all the future tickers\n",
    "future_data = {}\n",
    "stock_data = {}\n",
    "for future_ticker, stock_ticker in future2stock.items():\n",
    "    future_data[future_ticker] = pd.DataFrame()\n",
    "    stock_data[stock_ticker] = pd.DataFrame()\n",
    "    for file in future_files:\n",
    "        if file.startswith(future_ticker):\n",
    "            tmp = pd.read_csv(os.path.join(future_path, file), compression='gzip')    \n",
    "            tmp = tmp[tmp['askPrice1'] > 0]\n",
    "            tmp = tmp[tmp['bidPrice1'] > 0]\n",
    "            tmp = tmp[tmp['askPrice1'] > tmp['bidPrice1']]\n",
    "            future_data[future_ticker] = pd.concat([future_data[future_ticker], tmp])\n",
    "            \n",
    "    for file in stock_files:\n",
    "        if file.startswith(str(stock_ticker)):\n",
    "            tmp = pd.read_csv(os.path.join(stock_path, file), compression='gzip')\n",
    "            tmp = tmp[tmp['SP1'] > 0]\n",
    "            tmp = tmp[tmp['BP1'] > 0]\n",
    "            tmp = tmp[tmp['SP1'] > tmp['BP1']]\n",
    "            stock_data[stock_ticker] = pd.concat([stock_data[stock_ticker], tmp])"
   ]
  },
  {
   "cell_type": "code",
   "execution_count": 3,
   "metadata": {},
   "outputs": [],
   "source": [
    "# Select common dates and indexing\n",
    "for future_ticker, futureData in future_data.items():\n",
    "    stockData = stock_data[future2stock[future_ticker]]\n",
    "    stockData_dates = np.unique(stockData.date)\n",
    "    stoD=pd.to_datetime(stockData_dates, format=\"%Y-%m-%d\")\n",
    "    qqqq=stoD.year*10000+stoD.month*100+stoD.day\n",
    "    \n",
    "    indexData_dates = np.unique(futureData.date)\n",
    "    indD=pd.to_datetime(indexData_dates, format=\"%Y-%m-%d\")\n",
    "    pppp=indD.year*10000+indD.month*100+indD.day\n",
    "    \n",
    "    commonDays=pd.to_datetime(pppp.intersection(qqqq),format=\"%Y%m%d\")\n",
    "    \n",
    "    d_futures=pd.to_datetime(futureData.date,format=\"%Y-%m-%d\")\n",
    "    futureData.date=d_futures\n",
    "    futureData=futureData[futureData.date.isin(commonDays)]\n",
    "\n",
    "    d_stock=pd.to_datetime(stockData.date,format=\"%Y-%m-%d\")\n",
    "    stockData.date=d_stock\n",
    "    stockData=stockData[stockData.date.isin(commonDays)]\n",
    "\n",
    "    stockData_DateTime = pd.to_datetime(stockData.date.astype(str) + ' ' + stockData.time.astype(str), format=\"%Y-%m-%d %H%M%S%f\")\n",
    "    futuresData_DateTime = pd.to_datetime(futureData.date.astype(str) + ' ' + futureData.time.astype(str), format=\"%Y-%m-%d %H%M%S%f\")\n",
    "\n",
    "    stockData.index = stockData_DateTime\n",
    "    stockData = stockData[~stockData.index.duplicated(keep='last')]\n",
    "\n",
    "    futureData.index = futuresData_DateTime\n",
    "    futureData = futureData[~futureData.index.duplicated(keep='last')]\n",
    "    \n",
    "    stockData = stockData.sort_index()\n",
    "    futureData = futureData.sort_index()\n",
    "    \n",
    "    stock_data[future2stock[future_ticker]] = stockData\n",
    "    future_data[future_ticker] = futureData\n",
    "    \n",
    "# Downsampling\n",
    "freq = '10s'\n",
    "for future_ticker, futureData in future_data.items():\n",
    "    stockData = stock_data[future2stock[future_ticker]]\n",
    "    stockData = stockData.groupby(stockData.index.date).apply(lambda x: x.resample(freq, closed='left', label='right').last()).reset_index(level=0, drop=True)\n",
    "    futureData = futureData.groupby(futureData.index.date).apply(lambda x: x.resample(freq, closed='left', label='right').last()).reset_index(level=0, drop=True)\n",
    "    stockData.fillna(method='ffill', inplace=True)\n",
    "    futureData.fillna(method='ffill', inplace=True)\n",
    "    # get the common index\n",
    "    comon_index = stockData.index.intersection(futureData.index)\n",
    "    stock_data[future2stock[future_ticker]] = stockData.loc[comon_index]\n",
    "    future_data[future_ticker] = futureData.loc[comon_index]"
   ]
  },
  {
   "cell_type": "code",
   "execution_count": 4,
   "metadata": {},
   "outputs": [],
   "source": [
    "# Order Slope\n",
    "def cal_slope(df):\n",
    "    # Consider future and stock difference\n",
    "    if 'bidSize1' in df.columns:\n",
    "        bidSizes = [f'bidSize{i}' for i in range(1, 6)]\n",
    "        bidPrices = [f'bidPrice{i}' for i in range(1, 6)]\n",
    "        askSizes = [f'askSize{i}' for i in range(1, 6)]\n",
    "        askPrices = [f'askPrice{i}' for i in range(1, 6)]\n",
    "    else:\n",
    "        bidSizes = [f'BV{i}' for i in range(1, 6)]\n",
    "        bidPrices = [f'BP{i}' for i in range(1, 6)]\n",
    "        askSizes = [f'SV{i}' for i in range(1, 6)]\n",
    "        askPrices = [f'SP{i}' for i in range(1, 6)]\n",
    "\n",
    "    df_bid = df[bidSizes + bidPrices].copy()\n",
    "    df_ask = df[askSizes + askPrices].copy()\n",
    "    df_bid.loc[:, bidPrices] = df_bid[bidPrices] / df[bidPrices[0]].values.reshape(-1, 1)\n",
    "    df_ask.loc[:, askPrices] = df_ask[askPrices] / df[askPrices[0]].values.reshape(-1, 1)\n",
    "    \n",
    "    bid_data = df_bid.values\n",
    "    ask_data = df_ask.values\n",
    "\n",
    "    cum_bid_sizes = np.cumsum(bid_data[:, :5], axis=1) / bid_data[:, :5].sum(axis=1, keepdims=True)\n",
    "    cum_ask_sizes = np.cumsum(ask_data[:, :5], axis=1) / ask_data[:, :5].sum(axis=1, keepdims=True)\n",
    "\n",
    "    bid_price = bid_data[:, 5:]\n",
    "    ask_price = ask_data[:, 5:]\n",
    "\n",
    "    X_bid = cum_bid_sizes - cum_bid_sizes.mean(axis=1, keepdims=True)\n",
    "    Y_bid = bid_price - bid_price.mean(axis=1, keepdims=True)\n",
    "    slope_b = (X_bid * Y_bid).sum(axis=1) / ((X_bid ** 2).sum(axis=1) + 1e-10)\n",
    "\n",
    "    X_ask = cum_ask_sizes - cum_ask_sizes.mean(axis=1, keepdims=True)\n",
    "    Y_ask = ask_price - ask_price.mean(axis=1, keepdims=True)\n",
    "    slope_a = (X_ask * Y_ask).sum(axis=1) / ((X_ask ** 2).sum(axis=1) + 1e-10)\n",
    "\n",
    "    return -slope_b, slope_a"
   ]
  },
  {
   "cell_type": "code",
   "execution_count": 6,
   "metadata": {},
   "outputs": [],
   "source": [
    "# Add features and labels' names to list\n",
    "df_all = {}\n",
    "basicCols = ['date', 'time', 'sAskPrice1','sBidPrice1','sMidQ', 'fAskPrice1','fBidPrice1', 'fMidQ', 'spreadRatio']\n",
    "labelCols = []\n",
    "featureCols = []\n",
    "\n",
    "for i in range(1, 11):\n",
    "    labelCols.extend(['Y_M_{}'.format(str(i))])\n",
    "    \n",
    "    featureCols.extend(['fLaggingRtn_{}'.format(str(i))])\n",
    "    featureCols.extend(['spreadRatio_{}'.format(str(i))])\n",
    "    featureCols.extend(['volumeImbalanceRatio_{}'.format(str(i))])\n",
    "    featureCols.extend(['slope_b_{}'.format(str(i))])\n",
    "    featureCols.extend(['slope_a_{}'.format(str(i))])\n",
    "    featureCols.extend(['slope_ab_{}'.format(str(i))])\n",
    "    featureCols.extend(['sLaggingRtn_{}'.format(str(i))])\n",
    "    featureCols.extend(['stockSpreadRatio_{}'.format(str(i))])\n",
    "    featureCols.extend(['stockVolumeImbalanceRatio_{}'.format(str(i))])\n",
    "    featureCols.extend(['stockSlope_b_{}'.format(str(i))])\n",
    "    featureCols.extend(['stockSlope_a_{}'.format(str(i))])\n",
    "    featureCols.extend(['stockSlope_ab_{}'.format(str(i))])\n",
    "    \n",
    "    for j in range(1, 6):\n",
    "        featureCols.extend(['fAskSize{}_{}'.format(str(j), str(i))])\n",
    "        featureCols.extend(['fBidSize{}_{}'.format(str(j), str(i))])\n",
    "        featureCols.extend(['sAskSize{}_{}'.format(str(j), str(i))])\n",
    "        featureCols.extend(['sBidSize{}_{}'.format(str(j), str(i))])\n",
    "\n",
    "# Generate features and labels\n",
    "for future_ticker, futureData in future_data.items():\n",
    "    stockData = stock_data[future2stock[future_ticker]]\n",
    "    unique_dates = np.unique(stockData['date'])\n",
    "    dfs = []\n",
    "    for date in unique_dates:\n",
    "        stockData_date = stockData[stockData['date'] == date]\n",
    "        futureData_date = futureData[futureData['date'] == date]\n",
    "\n",
    "        # Continue to next iteration if stockData_date or futureData_date is empty\n",
    "        if stockData_date.empty or futureData_date.empty:\n",
    "            continue\n",
    "\n",
    "        df = pd.DataFrame(index=stockData_date.index, columns=basicCols+labelCols+featureCols)\n",
    "        df['date'] = stockData_date['date']\n",
    "        df['time'] = stockData_date['time']   \n",
    "             \n",
    "        # Normalize the size\n",
    "        fAskSizeMax = futureData_date[['askSize1', 'askSize2', 'askSize3', 'askSize4', 'askSize5']].max(axis=1)\n",
    "        fBidSizeMax = futureData_date[['bidSize1', 'bidSize2', 'bidSize3', 'bidSize4', 'bidSize5']].max(axis=1)\n",
    "        sAskSizeMax = stockData_date[['SV1', 'SV2', 'SV3', 'SV4', 'SV5']].max(axis=1)\n",
    "        sBidSizeMax = stockData_date[['BV1', 'BV2', 'BV3', 'BV4', 'BV5']].max(axis=1)\n",
    "        \n",
    "        for i in range(1, 6):\n",
    "            df['fAskPrice{}'.format(str(i))] = futureData_date['askPrice{}'.format(str(i))]\n",
    "            df['fBidPrice{}'.format(str(i))] = futureData_date['bidPrice{}'.format(str(i))]\n",
    "            df['fAskSize{}'.format(str(i))] = futureData_date['askSize{}'.format(str(i))] / fAskSizeMax\n",
    "            df['fBidSize{}'.format(str(i))] = futureData_date['bidSize{}'.format(str(i))] / fBidSizeMax\n",
    "            \n",
    "            df['sAskPrice{}'.format(str(i))] = stockData_date['SP{}'.format(str(i))]\n",
    "            df['sBidPrice{}'.format(str(i))] = stockData_date['BP{}'.format(str(i))]\n",
    "            df['sAskSize{}'.format(str(i))] = stockData_date['SV{}'.format(str(i))] / sAskSizeMax\n",
    "            df['sBidSize{}'.format(str(i))] = stockData_date['BV{}'.format(str(i))] / sBidSizeMax\n",
    "        \n",
    "        df['fMidQ'] = (df['fAskPrice1'] + df['fBidPrice1']) / 2\n",
    "        df['slope_b'], df['slope_a'] = cal_slope(futureData_date)\n",
    "        df['slope_ab'] = df['slope_a'] - df['slope_b']\n",
    "        \n",
    "        # Order Imbalance Ratio\n",
    "        ask = np.array([df['fAskPrice{}'.format(str(i))] * df['fAskSize{}'.format(str(i))] * (1 - (i - 1) / 5) for i in range(1, 6)]).sum(axis=0)\n",
    "        bid = np.array([df['fBidPrice{}'.format(str(i))] * df['fBidSize{}'.format(str(i))] * (1 - (i - 1) / 5) for i in range(1, 6)]).sum(axis=0)\n",
    "        df['spreadRatio'] = (ask - bid) / (ask + bid)\n",
    "\n",
    "        delta_size_bid = np.where(df['fBidPrice1'] < df['fBidPrice1'].shift(1), 0, np.where(df['fBidPrice1'] == df['fBidPrice1'].shift(1), df['fBidSize1'] - df['fBidSize1'].shift(1), df['fBidSize1']))\n",
    "        delta_size_ask = np.where(df['fAskPrice1'].shift(1), 0, np.where(df['fAskPrice1'] == df['fAskPrice1'].shift(1), df['fAskSize1'] - df['fAskSize1'].shift(1), df['fAskSize1']))\n",
    "        df['fOrderImbalance'] = (delta_size_bid - delta_size_ask) / (delta_size_bid + delta_size_ask)\n",
    "\n",
    "        for i in range(1, 11):\n",
    "            df['fLaggingRtn_{}'.format(str(i))] = np.log(df['fMidQ']) - np.log(df['fMidQ'].shift(i))\n",
    "            df['spreadRatio_{}'.format(str(i))] = df['spreadRatio'].shift(i)\n",
    "            df['volumeImbalanceRatio_{}'.format(str(i))] = df['fOrderImbalance'].shift(i)\n",
    "            df['slope_b_{}'.format(str(i))] = df['slope_b'].shift(i)\n",
    "            df['slope_a_{}'.format(str(i))] = df['slope_a'].shift(i)\n",
    "            df['slope_ab_{}'.format(str(i))] = df['slope_ab'].shift(i)\n",
    "            \n",
    "            for j in range(1, 6):\n",
    "                df['fAskSize{}_{}'.format(str(j), str(i))] = df['fAskSize{}'.format(str(j))].shift(i)\n",
    "                df['fBidSize{}_{}'.format(str(j), str(i))] = df['fBidSize{}'.format(str(j))].shift(i)\n",
    "                df['sAskSize{}_{}'.format(str(j), str(i))] = df['sAskSize{}'.format(str(j))].shift(i)\n",
    "                df['sBidSize{}_{}'.format(str(j), str(i))] = df['sBidSize{}'.format(str(j))].shift(i)\n",
    "\n",
    "        # Add stock data\n",
    "        df['sMidQ'] = (stockData_date['SP1'] + stockData_date['BP1'])/2\n",
    "        df['sAskPrice1'] = stockData_date['SP1']\n",
    "        df['sBidPrice1'] = stockData_date['BP1']\n",
    "        df['sMidQ'] = (stockData_date['SP1'] + stockData_date['BP1'])/2\n",
    "        df['stockSlope_b'], df['stockSlope_a'] = cal_slope(stockData_date)\n",
    "        df['stockSlope_ab'] = df['stockSlope_a'] - df['stockSlope_b']\n",
    "        \n",
    "        ask = np.array([df['sAskPrice{}'.format(str(i))] * df['sAskSize{}'.format(str(i))] * (1 - (i - 1) / 5) for i in range(1, 6)]).sum(axis=0)\n",
    "        bid = np.array([df['sBidPrice{}'.format(str(i))] * df['sBidSize{}'.format(str(i))] * (1 - (i - 1) / 5) for i in range(1, 6)]).sum(axis=0)\n",
    "        df['stockSpreadRatio'] = (ask - bid) / (ask + bid)\n",
    "\n",
    "        delta_size_bid = np.where(df['sBidPrice1'] < df['sBidPrice1'].shift(1), 0, np.where(df['sBidPrice1'] == df['sBidPrice1'].shift(1), df['sBidSize1'] - df['sBidSize1'].shift(1), df['sBidSize1']))\n",
    "        delta_size_ask = np.where(df['sAskPrice1'] > df['sAskPrice1'].shift(1), 0, np.where(df['sAskPrice1'] == df['sAskPrice1'].shift(1), df['sAskSize1'] - df['sAskSize1'].shift(1), df['sAskSize1']))\n",
    "        df['stockOrderImbalance'] = (delta_size_bid - delta_size_ask) / (delta_size_bid + delta_size_ask)\n",
    "\n",
    "        for i in range(1, 11):\n",
    "            df['Y_M_{}'.format(str(i))] = np.log(df['sMidQ'].shift(-i)) - np.log(df['sMidQ'])\n",
    "            \n",
    "            df['sLaggingRtn_{}'.format(str(i))] = np.log(df['sMidQ']) - np.log(df['sMidQ'].shift(i))\n",
    "            df['stockSpreadRatio_{}'.format(str(i))] = df['stockSpreadRatio'].shift(i)\n",
    "            df['stockVolumeImbalanceRatio_{}'.format(str(i))] = df['stockOrderImbalance'].shift(i)\n",
    "            df['stockSlope_b_{}'.format(str(i))] = df['stockSlope_b'].shift(i)\n",
    "            df['stockSlope_a_{}'.format(str(i))] = df['stockSlope_a'].shift(i)\n",
    "            df['stockSlope_ab_{}'.format(str(i))] = df['stockSlope_ab'].shift(i)\n",
    "            \n",
    "            for j in range(1, 6):\n",
    "                df['sAskSize{}_{}'.format(str(j), str(i))] = df['sAskSize{}'.format(str(j))].shift(i)\n",
    "                df['sBidSize{}_{}'.format(str(j), str(i))] = df['sBidSize{}'.format(str(j))].shift(i)\n",
    "        dfs.append(df)\n",
    "    # convert inf to nan to 0\n",
    "    df_all[future_ticker] = pd.concat(dfs, ignore_index=True).replace([np.inf, -np.inf], np.nan).fillna(0)"
   ]
  },
  {
   "cell_type": "code",
   "execution_count": 15,
   "metadata": {},
   "outputs": [
    {
     "name": "stdout",
     "output_type": "stream",
     "text": [
      "1.8686816455385262\n"
     ]
    },
    {
     "name": "stderr",
     "output_type": "stream",
     "text": [
      "[I 2023-07-30 12:05:02,353] A new study created in memory with name: no-name-66335eaa-0b36-4520-a803-702cd95d2d38\n",
      "[I 2023-07-30 12:05:07,749] Trial 1 finished with value: -1.830005097883371 and parameters: {'max_depth': 3, 'num_leaves': 7, 'subsample': 0.8, 'colsample_bytree': 0.8, 'reg_alpha': 0.002347692073260415, 'reg_lambda': 0.003341827224461487}. Best is trial 1 with value: -1.830005097883371.\n"
     ]
    },
    {
     "name": "stdout",
     "output_type": "stream",
     "text": [
      "1.836972894239714\n",
      "0.9953856601434286\n",
      "1.3845217360124362\n",
      "2.045231204843789\n",
      "1.0064225523862458\n",
      "1.848572304412892\n",
      "1.9717323277822327\n",
      "1.9270624916556276\n",
      "1.932285747729109\n",
      "0.9053106491566485\n"
     ]
    },
    {
     "name": "stderr",
     "output_type": "stream",
     "text": [
      "[I 2023-07-30 12:05:18,593] Trial 4 finished with value: -1.672383609984498 and parameters: {'max_depth': 7, 'num_leaves': 31, 'subsample': 0.8, 'colsample_bytree': 0.8, 'reg_alpha': 1.0565271037988098, 'reg_lambda': 0.014746223615228447}. Best is trial 1 with value: -1.830005097883371.\n"
     ]
    },
    {
     "name": "stdout",
     "output_type": "stream",
     "text": [
      "1.8273718153599456\n",
      "0.9411653671675655\n",
      "1.807844338230053\n"
     ]
    },
    {
     "name": "stderr",
     "output_type": "stream",
     "text": [
      "[I 2023-07-30 12:05:21,738] Trial 6 finished with value: -1.8451537464088397 and parameters: {'max_depth': 3, 'num_leaves': 7, 'subsample': 0.8, 'colsample_bytree': 0.8, 'reg_alpha': 0.0018691209385441464, 'reg_lambda': 0.004677764575139663}. Best is trial 6 with value: -1.8451537464088397.\n"
     ]
    },
    {
     "name": "stdout",
     "output_type": "stream",
     "text": [
      "1.8475745643823873\n",
      "1.8044970055255352\n"
     ]
    },
    {
     "name": "stderr",
     "output_type": "stream",
     "text": [
      "[I 2023-07-30 12:05:22,915] Trial 4 finished with value: -0.9673081031075181 and parameters: {'max_depth': 3, 'num_leaves': 7, 'subsample': 0.8, 'colsample_bytree': 0.8, 'reg_alpha': 1.9522228585046666, 'reg_lambda': 0.005537948215773518}. Best is trial 4 with value: -0.9673081031075181.\n"
     ]
    },
    {
     "name": "stdout",
     "output_type": "stream",
     "text": [
      "0.9882562866837024\n",
      "1.981297381438674\n",
      "2.093118623278743\n",
      "1.8360706126862665\n",
      "2.594580410873929\n",
      "2.8962227649624186\n",
      "2.0787993544840955\n",
      "2.864388761727964\n",
      "2.7887279935536373\n",
      "1.8350428965185337\n",
      "2.922720039197687\n",
      "2.8179172124990632\n",
      "2.8551147500994123\n",
      "2.8733865345051957\n",
      "2.7393366548390343\n"
     ]
    },
    {
     "name": "stderr",
     "output_type": "stream",
     "text": [
      "[I 2023-07-30 12:05:53,922] Trial 7 finished with value: -1.8263769543126265 and parameters: {'max_depth': 5, 'num_leaves': 31, 'subsample': 0.8, 'colsample_bytree': 0.8, 'reg_alpha': 0.026309793397534916, 'reg_lambda': 0.8104787420003695}. Best is trial 6 with value: -1.8451537464088397.\n"
     ]
    },
    {
     "name": "stdout",
     "output_type": "stream",
     "text": [
      "1.8737949324136918\n",
      "2.8566544057205174\n"
     ]
    },
    {
     "name": "stderr",
     "output_type": "stream",
     "text": [
      "[I 2023-07-30 12:05:57,238] Trial 0 finished with value: -1.8146318372257426 and parameters: {'max_depth': 7, 'num_leaves': 31, 'subsample': 0.8, 'colsample_bytree': 0.8, 'reg_alpha': 0.07478295052485406, 'reg_lambda': 0.005044621783076324}. Best is trial 6 with value: -1.8451537464088397.\n"
     ]
    },
    {
     "name": "stdout",
     "output_type": "stream",
     "text": [
      "1.8190744045314227\n",
      "2.78375617039576\n",
      "2.819210875505709\n",
      "2.4943310829246474\n",
      "2.8772664228037197\n",
      "2.81503082627618\n",
      "2.8688043579715146\n"
     ]
    },
    {
     "name": "stderr",
     "output_type": "stream",
     "text": [
      "[I 2023-07-30 12:06:08,510] Trial 8 finished with value: -1.7900467064798982 and parameters: {'max_depth': 7, 'num_leaves': 127, 'subsample': 0.8, 'colsample_bytree': 0.8, 'reg_alpha': 0.0012586023606593177, 'reg_lambda': 0.12337686963442955}. Best is trial 6 with value: -1.8451537464088397.\n"
     ]
    },
    {
     "name": "stdout",
     "output_type": "stream",
     "text": [
      "1.797921883743776\n",
      "2.4824045252794082\n",
      "2.844543078276205\n",
      "2.4091166069839876\n",
      "2.4265104876273487\n",
      "2.762281776788493\n"
     ]
    },
    {
     "name": "stderr",
     "output_type": "stream",
     "text": [
      "[I 2023-07-30 12:06:22,748] Trial 0 finished with value: -2.362925374042569 and parameters: {'max_depth': 3, 'num_leaves': 63, 'subsample': 0.8, 'colsample_bytree': 0.8, 'reg_alpha': 0.2896312717559958, 'reg_lambda': 0.008499572627837413}. Best is trial 0 with value: -2.362925374042569.\n"
     ]
    },
    {
     "name": "stdout",
     "output_type": "stream",
     "text": [
      "2.601856985562799\n",
      "2.4501432289672938\n"
     ]
    },
    {
     "name": "stderr",
     "output_type": "stream",
     "text": [
      "[I 2023-07-30 12:06:29,638] Trial 5 finished with value: -2.5152443473249324 and parameters: {'max_depth': 7, 'num_leaves': 7, 'subsample': 0.8, 'colsample_bytree': 0.8, 'reg_alpha': 0.0029805050495010327, 'reg_lambda': 0.31847506836569245}. Best is trial 5 with value: -2.5152443473249324.\n"
     ]
    },
    {
     "name": "stdout",
     "output_type": "stream",
     "text": [
      "2.586674449787841\n"
     ]
    },
    {
     "name": "stderr",
     "output_type": "stream",
     "text": [
      "[I 2023-07-30 12:06:31,111] Trial 2 finished with value: -2.5589538248697723 and parameters: {'max_depth': 3, 'num_leaves': 31, 'subsample': 0.8, 'colsample_bytree': 0.8, 'reg_alpha': 0.005147260254503039, 'reg_lambda': 0.0044427574581404235}. Best is trial 2 with value: -2.5589538248697723.\n"
     ]
    },
    {
     "name": "stdout",
     "output_type": "stream",
     "text": [
      "2.710915123973626\n",
      "2.438177301486272\n",
      "2.6464725939536304\n",
      "2.789437399456057\n",
      "2.544311758138809\n"
     ]
    },
    {
     "name": "stderr",
     "output_type": "stream",
     "text": [
      "[I 2023-07-30 12:06:39,098] Trial 8 finished with value: -2.5467600478286205 and parameters: {'max_depth': 5, 'num_leaves': 7, 'subsample': 0.8, 'colsample_bytree': 0.8, 'reg_alpha': 0.021508621918947545, 'reg_lambda': 0.0010612103509563672}. Best is trial 2 with value: -2.5589538248697723.\n",
      "[I 2023-07-30 12:06:39,111] Trial 6 pruned. Trial was pruned at iteration 93.\n",
      "[I 2023-07-30 12:06:39,136] Trial 3 pruned. Trial was pruned at iteration 21.\n"
     ]
    },
    {
     "name": "stdout",
     "output_type": "stream",
     "text": [
      "2.7276185546741747\n"
     ]
    },
    {
     "name": "stderr",
     "output_type": "stream",
     "text": [
      "[I 2023-07-30 12:06:40,013] Trial 7 finished with value: -2.5638236436107906 and parameters: {'max_depth': 5, 'num_leaves': 127, 'subsample': 0.8, 'colsample_bytree': 0.8, 'reg_alpha': 0.0013491331746163435, 'reg_lambda': 0.564016419117442}. Best is trial 7 with value: -2.5638236436107906.\n"
     ]
    },
    {
     "name": "stdout",
     "output_type": "stream",
     "text": [
      "2.6419260354296252\n"
     ]
    },
    {
     "name": "stderr",
     "output_type": "stream",
     "text": [
      "[I 2023-07-30 12:06:41,057] Trial 1 pruned. Trial was pruned at iteration 0.\n",
      "[I 2023-07-30 12:06:42,580] Trial 9 finished with value: -2.5218909214446366 and parameters: {'max_depth': 7, 'num_leaves': 31, 'subsample': 0.8, 'colsample_bytree': 0.8, 'reg_alpha': 0.0015326751586324902, 'reg_lambda': 1.9092095053029765}. Best is trial 7 with value: -2.5638236436107906.\n",
      "[I 2023-07-30 12:06:42,582] A new study created in memory with name: no-name-83619377-1e61-4c95-9e82-5755ae568c82\n"
     ]
    },
    {
     "name": "stdout",
     "output_type": "stream",
     "text": [
      "2.70097267673159\n",
      "0.9978934456433199\n",
      "0.9978934456433199\n",
      "0.9978934456433199\n",
      "0.9978934456433199\n",
      "0.9978934456433199\n",
      "0.9978934456433199\n",
      "1.7133500544458427\n",
      "1.63219894183909\n",
      "1.0008615445388722\n",
      "1.0008615445388722\n",
      "1.5676984470039512\n",
      "1.4952652922024745\n",
      "1.0008615445388722\n",
      "1.0008615445388722\n",
      "0.9009885317781245\n",
      "0.9009885317781245\n",
      "0.9009885317781245\n",
      "0.9426835131542877\n",
      "0.9426835131542877\n",
      "0.9426835131542877\n",
      "1.6222250168297512\n"
     ]
    },
    {
     "name": "stderr",
     "output_type": "stream",
     "text": [
      "[I 2023-07-30 12:07:05,413] Trial 3 finished with value: -0.9676671704844935 and parameters: {'max_depth': 5, 'num_leaves': 7, 'subsample': 0.8, 'colsample_bytree': 0.8, 'reg_alpha': 6.606415442245141, 'reg_lambda': 5.015852100434374}. Best is trial 3 with value: -0.9676671704844935.\n"
     ]
    },
    {
     "name": "stdout",
     "output_type": "stream",
     "text": [
      "0.9959088173078632\n"
     ]
    },
    {
     "name": "stderr",
     "output_type": "stream",
     "text": [
      "[I 2023-07-30 12:07:05,743] Trial 1 finished with value: -0.9676671704844935 and parameters: {'max_depth': 7, 'num_leaves': 127, 'subsample': 0.8, 'colsample_bytree': 0.8, 'reg_alpha': 3.8169972824022365, 'reg_lambda': 0.16600521790690292}. Best is trial 3 with value: -0.9676671704844935.\n"
     ]
    },
    {
     "name": "stdout",
     "output_type": "stream",
     "text": [
      "0.9959088173078632\n"
     ]
    },
    {
     "name": "stderr",
     "output_type": "stream",
     "text": [
      "[I 2023-07-30 12:07:06,967] Trial 5 finished with value: -0.9676671704844935 and parameters: {'max_depth': 7, 'num_leaves': 127, 'subsample': 0.8, 'colsample_bytree': 0.8, 'reg_alpha': 4.719385957461933, 'reg_lambda': 0.0019353302119953794}. Best is trial 3 with value: -0.9676671704844935.\n"
     ]
    },
    {
     "name": "stdout",
     "output_type": "stream",
     "text": [
      "0.9959088173078632\n",
      "1.6953776093060435\n",
      "2.4229760209612197\n",
      "2.466046099193174\n",
      "1.7354592843217498\n",
      "2.0731590435407847\n",
      "2.3797775872913958\n",
      "2.208836000717853\n",
      "2.4736469637134286\n",
      "1.9788446955460213\n",
      "1.7793582762659579\n",
      "2.4401644721426825\n",
      "2.421833900577753\n",
      "2.047972072723974\n"
     ]
    },
    {
     "name": "stderr",
     "output_type": "stream",
     "text": [
      "[I 2023-07-30 12:07:30,392] Trial 8 finished with value: -1.4158729278043463 and parameters: {'max_depth': 7, 'num_leaves': 63, 'subsample': 0.8, 'colsample_bytree': 0.8, 'reg_alpha': 1.7774539183342533, 'reg_lambda': 2.037400157163167}. Best is trial 8 with value: -1.4158729278043463.\n"
     ]
    },
    {
     "name": "stdout",
     "output_type": "stream",
     "text": [
      "1.5657920882518317\n",
      "2.167018576593458\n"
     ]
    },
    {
     "name": "stderr",
     "output_type": "stream",
     "text": [
      "[I 2023-07-30 12:07:32,358] Trial 0 finished with value: -1.7677801703240579 and parameters: {'max_depth': 5, 'num_leaves': 127, 'subsample': 0.8, 'colsample_bytree': 0.8, 'reg_alpha': 0.9310176245669243, 'reg_lambda': 0.006429486133057106}. Best is trial 0 with value: -1.7677801703240579.\n"
     ]
    },
    {
     "name": "stdout",
     "output_type": "stream",
     "text": [
      "2.1667786500604125\n",
      "2.52507233748672\n",
      "2.208478557977868\n"
     ]
    },
    {
     "name": "stderr",
     "output_type": "stream",
     "text": [
      "[I 2023-07-30 12:07:41,549] Trial 4 finished with value: -1.8451504949642996 and parameters: {'max_depth': 7, 'num_leaves': 127, 'subsample': 0.8, 'colsample_bytree': 0.8, 'reg_alpha': 0.8347568418062117, 'reg_lambda': 0.0011259150225920447}. Best is trial 4 with value: -1.8451504949642996.\n"
     ]
    },
    {
     "name": "stdout",
     "output_type": "stream",
     "text": [
      "2.275673346430307\n"
     ]
    },
    {
     "name": "stderr",
     "output_type": "stream",
     "text": [
      "[I 2023-07-30 12:07:42,195] Trial 2 finished with value: -2.2221724591312495 and parameters: {'max_depth': 3, 'num_leaves': 7, 'subsample': 0.8, 'colsample_bytree': 0.8, 'reg_alpha': 0.003001865309979736, 'reg_lambda': 3.2565445736164444}. Best is trial 2 with value: -2.2221724591312495.\n"
     ]
    },
    {
     "name": "stdout",
     "output_type": "stream",
     "text": [
      "2.2908006017103437\n",
      "2.4720927990920893\n",
      "2.18103862981501\n"
     ]
    },
    {
     "name": "stderr",
     "output_type": "stream",
     "text": [
      "[I 2023-07-30 12:07:51,101] Trial 9 finished with value: -2.2101862056090424 and parameters: {'max_depth': 3, 'num_leaves': 31, 'subsample': 0.8, 'colsample_bytree': 0.8, 'reg_alpha': 0.23193015803647046, 'reg_lambda': 0.28168962116580376}. Best is trial 2 with value: -2.2221724591312495.\n"
     ]
    },
    {
     "name": "stdout",
     "output_type": "stream",
     "text": [
      "2.1326325416567027\n",
      "2.365443606689282\n"
     ]
    },
    {
     "name": "stderr",
     "output_type": "stream",
     "text": [
      "[I 2023-07-30 12:07:51,511] Trial 6 finished with value: -2.1703967526235415 and parameters: {'max_depth': 7, 'num_leaves': 31, 'subsample': 0.8, 'colsample_bytree': 0.8, 'reg_alpha': 0.0032482699788333852, 'reg_lambda': 0.04423481731101604}. Best is trial 2 with value: -2.2221724591312495.\n"
     ]
    },
    {
     "name": "stdout",
     "output_type": "stream",
     "text": [
      "2.1983967615206312\n"
     ]
    },
    {
     "name": "stderr",
     "output_type": "stream",
     "text": [
      "[I 2023-07-30 12:07:55,293] Trial 7 finished with value: -2.165083252204313 and parameters: {'max_depth': 7, 'num_leaves': 63, 'subsample': 0.8, 'colsample_bytree': 0.8, 'reg_alpha': 0.007156568447991277, 'reg_lambda': 0.11536284580909605}. Best is trial 2 with value: -2.2221724591312495.\n",
      "[I 2023-07-30 12:07:55,293] A new study created in memory with name: no-name-8853144b-39b6-4650-9fa7-4a1b84a856de\n"
     ]
    },
    {
     "name": "stdout",
     "output_type": "stream",
     "text": [
      "2.2852611559276186\n",
      "1.4655204092793448\n",
      "1.4757553141987765\n",
      "1.5009594526040027\n",
      "1.4916877504747938\n",
      "1.5345247246786025\n",
      "1.363845626836449\n",
      "1.4551634314630966\n",
      "1.4884345605627942\n",
      "1.41295636062852\n",
      "1.2882909851858675\n",
      "2.170397960080238\n",
      "2.143426366144077\n",
      "2.2655627819296\n",
      "1.8090082627261297\n",
      "2.2438012190668144\n",
      "2.1700028432610146\n",
      "2.2156861513165644\n",
      "2.121124075955316\n",
      "2.06583676750072\n",
      "2.1964574365153036\n",
      "2.1859964108520735\n",
      "2.256144227609438\n",
      "2.2040467148022964\n",
      "2.2409877392741846\n",
      "2.2789212333404203\n",
      "2.2155011888236844\n",
      "1.9205898749196106\n",
      "2.210479700316049\n",
      "2.166197666400901\n",
      "1.9435664692071122\n",
      "1.9795154593538378\n",
      "2.0000715601230166\n"
     ]
    },
    {
     "name": "stderr",
     "output_type": "stream",
     "text": [
      "[I 2023-07-30 12:08:56,390] Trial 2 finished with value: -1.8213768986073426 and parameters: {'max_depth': 3, 'num_leaves': 63, 'subsample': 0.8, 'colsample_bytree': 0.8, 'reg_alpha': 0.7887900334143908, 'reg_lambda': 0.0015983294220546}. Best is trial 2 with value: -1.8213768986073426.\n"
     ]
    },
    {
     "name": "stdout",
     "output_type": "stream",
     "text": [
      "2.023158602704384\n",
      "1.9967679327293466\n",
      "1.9618490123111105\n",
      "2.211974595749648\n",
      "1.9632235781164067\n",
      "2.2568359490669847\n"
     ]
    },
    {
     "name": "stderr",
     "output_type": "stream",
     "text": [
      "[I 2023-07-30 12:09:07,661] Trial 9 finished with value: -1.9506547919412647 and parameters: {'max_depth': 7, 'num_leaves': 7, 'subsample': 0.8, 'colsample_bytree': 0.8, 'reg_alpha': 0.0019486463949836244, 'reg_lambda': 0.0035833673654471284}. Best is trial 9 with value: -1.9506547919412647.\n"
     ]
    },
    {
     "name": "stdout",
     "output_type": "stream",
     "text": [
      "1.9599026182371246\n",
      "1.952390828492373\n"
     ]
    },
    {
     "name": "stderr",
     "output_type": "stream",
     "text": [
      "[I 2023-07-30 12:09:12,048] Trial 7 finished with value: -1.9851761706258784 and parameters: {'max_depth': 3, 'num_leaves': 63, 'subsample': 0.8, 'colsample_bytree': 0.8, 'reg_alpha': 0.026302036162252705, 'reg_lambda': 0.028271013534041958}. Best is trial 7 with value: -1.9851761706258784.\n"
     ]
    },
    {
     "name": "stdout",
     "output_type": "stream",
     "text": [
      "1.984651441108673\n"
     ]
    },
    {
     "name": "stderr",
     "output_type": "stream",
     "text": [
      "[I 2023-07-30 12:09:12,455] Trial 8 finished with value: -1.9441047503391444 and parameters: {'max_depth': 3, 'num_leaves': 31, 'subsample': 0.8, 'colsample_bytree': 0.8, 'reg_alpha': 0.004998908555815104, 'reg_lambda': 0.012244081556099578}. Best is trial 7 with value: -1.9851761706258784.\n"
     ]
    },
    {
     "name": "stdout",
     "output_type": "stream",
     "text": [
      "1.940548193165299\n"
     ]
    },
    {
     "name": "stderr",
     "output_type": "stream",
     "text": [
      "[I 2023-07-30 12:09:13,545] Trial 1 finished with value: -1.9736846702705784 and parameters: {'max_depth': 7, 'num_leaves': 7, 'subsample': 0.8, 'colsample_bytree': 0.8, 'reg_alpha': 0.098899809122658, 'reg_lambda': 5.201797369539877}. Best is trial 7 with value: -1.9851761706258784.\n"
     ]
    },
    {
     "name": "stdout",
     "output_type": "stream",
     "text": [
      "1.9483483665350452\n"
     ]
    },
    {
     "name": "stderr",
     "output_type": "stream",
     "text": [
      "[I 2023-07-30 12:09:16,920] Trial 3 finished with value: -2.001627517423741 and parameters: {'max_depth': 3, 'num_leaves': 7, 'subsample': 0.8, 'colsample_bytree': 0.8, 'reg_alpha': 0.3264010549949934, 'reg_lambda': 0.010845211660503734}. Best is trial 3 with value: -2.001627517423741.\n"
     ]
    },
    {
     "name": "stdout",
     "output_type": "stream",
     "text": [
      "2.0469991146274094\n"
     ]
    },
    {
     "name": "stderr",
     "output_type": "stream",
     "text": [
      "[I 2023-07-30 12:09:19,401] Trial 5 finished with value: -1.9881711253551508 and parameters: {'max_depth': 5, 'num_leaves': 31, 'subsample': 0.8, 'colsample_bytree': 0.8, 'reg_alpha': 0.007514528229096396, 'reg_lambda': 0.009359237237632842}. Best is trial 3 with value: -2.001627517423741.\n"
     ]
    },
    {
     "name": "stdout",
     "output_type": "stream",
     "text": [
      "2.0580101479563035\n",
      "1.997523223816161\n"
     ]
    },
    {
     "name": "stderr",
     "output_type": "stream",
     "text": [
      "[I 2023-07-30 12:09:20,533] Trial 4 finished with value: -1.9654642752893188 and parameters: {'max_depth': 5, 'num_leaves': 127, 'subsample': 0.8, 'colsample_bytree': 0.8, 'reg_alpha': 0.0016854894771883206, 'reg_lambda': 0.0011944265399833874}. Best is trial 3 with value: -2.001627517423741.\n"
     ]
    },
    {
     "name": "stdout",
     "output_type": "stream",
     "text": [
      "2.0310487202264533\n",
      "1.9883829536235271\n"
     ]
    },
    {
     "name": "stderr",
     "output_type": "stream",
     "text": [
      "[I 2023-07-30 12:09:27,623] Trial 6 finished with value: -1.9642260886237382 and parameters: {'max_depth': 7, 'num_leaves': 127, 'subsample': 0.8, 'colsample_bytree': 0.8, 'reg_alpha': 0.43857762437567, 'reg_lambda': 0.061600500152779895}. Best is trial 3 with value: -2.001627517423741.\n"
     ]
    },
    {
     "name": "stdout",
     "output_type": "stream",
     "text": [
      "2.0775521869690463\n"
     ]
    },
    {
     "name": "stderr",
     "output_type": "stream",
     "text": [
      "[I 2023-07-30 12:09:28,259] Trial 0 finished with value: -1.970112680768017 and parameters: {'max_depth': 7, 'num_leaves': 63, 'subsample': 0.8, 'colsample_bytree': 0.8, 'reg_alpha': 0.05744280750279607, 'reg_lambda': 0.02999602404368766}. Best is trial 3 with value: -2.001627517423741.\n",
      "[I 2023-07-30 12:09:28,261] A new study created in memory with name: no-name-a0e1440d-35e0-467a-aa2b-28f6ac000439\n"
     ]
    },
    {
     "name": "stdout",
     "output_type": "stream",
     "text": [
      "1.9433666553549234\n",
      "1.204783434670003\n",
      "0.9951745952040385\n",
      "0.9951745952040385\n",
      "1.371061331214345\n",
      "1.2848569309461872\n",
      "0.9991675614710167\n",
      "1.3499308402378194\n",
      "0.9991675614710167\n",
      "1.3552758578168218\n",
      "0.9047356112094831\n",
      "1.1897572534386782\n",
      "1.1929307792021229\n",
      "1.5609094712932268\n",
      "0.942230516412291\n",
      "1.3336506689659569\n",
      "2.052330501025178\n",
      "2.166789560073195\n",
      "1.5278132036833938\n",
      "2.1561455890123153\n"
     ]
    },
    {
     "name": "stderr",
     "output_type": "stream",
     "text": [
      "[I 2023-07-30 12:10:00,053] Trial 7 finished with value: -1.0266040326696495 and parameters: {'max_depth': 3, 'num_leaves': 63, 'subsample': 0.8, 'colsample_bytree': 0.8, 'reg_alpha': 4.301590521393244, 'reg_lambda': 0.029074356516009953}. Best is trial 7 with value: -1.0266040326696495.\n"
     ]
    },
    {
     "name": "stdout",
     "output_type": "stream",
     "text": [
      "1.2917118790514173\n",
      "2.0868026947171665\n",
      "2.0751995879719813\n"
     ]
    },
    {
     "name": "stderr",
     "output_type": "stream",
     "text": [
      "[I 2023-07-30 12:10:03,241] Trial 6 finished with value: -1.2968815652191974 and parameters: {'max_depth': 3, 'num_leaves': 7, 'subsample': 0.8, 'colsample_bytree': 0.8, 'reg_alpha': 2.3207814756323306, 'reg_lambda': 1.74268909765604}. Best is trial 6 with value: -1.2968815652191974.\n"
     ]
    },
    {
     "name": "stdout",
     "output_type": "stream",
     "text": [
      "1.4013429944443119\n",
      "2.0799560822923753\n",
      "2.059951366758312\n",
      "2.04034202202029\n",
      "2.065687202273804\n",
      "2.132501801595295\n",
      "1.8548860964196914\n",
      "2.08058344736988\n",
      "2.1461538608199366\n",
      "1.8380576330968683\n",
      "2.0303047501860143\n",
      "1.8445843898286922\n",
      "2.0602657749386792\n",
      "2.0707672830387165\n"
     ]
    },
    {
     "name": "stderr",
     "output_type": "stream",
     "text": [
      "[I 2023-07-30 12:10:32,402] Trial 8 finished with value: -1.8420680367468716 and parameters: {'max_depth': 3, 'num_leaves': 7, 'subsample': 0.8, 'colsample_bytree': 0.8, 'reg_alpha': 0.004563401159633355, 'reg_lambda': 0.12675950777737804}. Best is trial 8 with value: -1.8420680367468716.\n"
     ]
    },
    {
     "name": "stdout",
     "output_type": "stream",
     "text": [
      "1.8238515140029086\n"
     ]
    },
    {
     "name": "stderr",
     "output_type": "stream",
     "text": [
      "[I 2023-07-30 12:10:35,286] Trial 1 finished with value: -1.8529767322215593 and parameters: {'max_depth': 7, 'num_leaves': 7, 'subsample': 0.8, 'colsample_bytree': 0.8, 'reg_alpha': 0.0010047432378203942, 'reg_lambda': 0.00957478857029837}. Best is trial 1 with value: -1.8529767322215593.\n"
     ]
    },
    {
     "name": "stdout",
     "output_type": "stream",
     "text": [
      "1.859277085763979\n",
      "1.823683623050222\n",
      "1.8594627849374445\n",
      "1.8276851511763201\n"
     ]
    },
    {
     "name": "stderr",
     "output_type": "stream",
     "text": [
      "[I 2023-07-30 12:10:39,835] Trial 9 finished with value: -1.8303091763693495 and parameters: {'max_depth': 3, 'num_leaves': 127, 'subsample': 0.8, 'colsample_bytree': 0.8, 'reg_alpha': 0.19787745130088102, 'reg_lambda': 3.9545630762469495}. Best is trial 1 with value: -1.8529767322215593.\n"
     ]
    },
    {
     "name": "stdout",
     "output_type": "stream",
     "text": [
      "1.8447487839967462\n",
      "2.069388946295786\n",
      "1.8500104254988177\n"
     ]
    },
    {
     "name": "stderr",
     "output_type": "stream",
     "text": [
      "[I 2023-07-30 12:10:50,183] Trial 0 finished with value: -1.8022352402851336 and parameters: {'max_depth': 7, 'num_leaves': 31, 'subsample': 0.8, 'colsample_bytree': 0.8, 'reg_alpha': 0.005501547399707256, 'reg_lambda': 0.6887335068486903}. Best is trial 1 with value: -1.8529767322215593.\n"
     ]
    },
    {
     "name": "stdout",
     "output_type": "stream",
     "text": [
      "1.8153230016183959\n"
     ]
    },
    {
     "name": "stderr",
     "output_type": "stream",
     "text": [
      "[I 2023-07-30 12:10:51,501] Trial 2 finished with value: -1.8349265186394006 and parameters: {'max_depth': 5, 'num_leaves': 31, 'subsample': 0.8, 'colsample_bytree': 0.8, 'reg_alpha': 0.0816916790385499, 'reg_lambda': 0.030502567070630416}. Best is trial 1 with value: -1.8529767322215593.\n"
     ]
    },
    {
     "name": "stdout",
     "output_type": "stream",
     "text": [
      "1.854389612284741\n"
     ]
    },
    {
     "name": "stderr",
     "output_type": "stream",
     "text": [
      "[I 2023-07-30 12:10:52,629] Trial 5 finished with value: -1.7970104559933149 and parameters: {'max_depth': 7, 'num_leaves': 31, 'subsample': 0.8, 'colsample_bytree': 0.8, 'reg_alpha': 0.0027962327330551006, 'reg_lambda': 0.15421111239282492}. Best is trial 1 with value: -1.8529767322215593.\n"
     ]
    },
    {
     "name": "stdout",
     "output_type": "stream",
     "text": [
      "1.8416568981390928\n",
      "1.8343747700330688\n"
     ]
    },
    {
     "name": "stderr",
     "output_type": "stream",
     "text": [
      "[I 2023-07-30 12:10:53,907] Trial 3 finished with value: -1.8209168675604386 and parameters: {'max_depth': 7, 'num_leaves': 127, 'subsample': 0.8, 'colsample_bytree': 0.8, 'reg_alpha': 0.0010190069984152748, 'reg_lambda': 0.49905868956465804}. Best is trial 1 with value: -1.8529767322215593.\n"
     ]
    },
    {
     "name": "stdout",
     "output_type": "stream",
     "text": [
      "1.85837404846724\n"
     ]
    },
    {
     "name": "stderr",
     "output_type": "stream",
     "text": [
      "[I 2023-07-30 12:10:58,528] Trial 4 finished with value: -1.8463970920233777 and parameters: {'max_depth': 7, 'num_leaves': 127, 'subsample': 0.8, 'colsample_bytree': 0.8, 'reg_alpha': 0.028412688360078354, 'reg_lambda': 0.11336162992602744}. Best is trial 1 with value: -1.8529767322215593.\n",
      "[I 2023-07-30 12:10:58,528] A new study created in memory with name: no-name-2aed068d-2a39-40f2-a61a-ddede55b2810\n"
     ]
    },
    {
     "name": "stdout",
     "output_type": "stream",
     "text": [
      "1.8484172140021404\n",
      "1.276796808773131\n",
      "1.261891831738537\n",
      "0.9937808455447354\n",
      "0.9937808455447354\n",
      "1.2915261611335551\n",
      "1.254435562431505\n",
      "1.3375082005863785\n",
      "1.3371069011280747\n",
      "1.2566892239735246\n",
      "1.0035974049289105\n",
      "1.0035974049289105\n",
      "0.9090453378764145\n",
      "1.0187761220999378\n",
      "1.4709778738394668\n",
      "0.9426246159607187\n",
      "1.8524678360304843\n",
      "1.8979998756936105\n",
      "1.8939415658739296\n",
      "1.9549978765908271\n",
      "1.8947650370400528\n",
      "1.4519181301968598\n",
      "1.9432054326320922\n"
     ]
    },
    {
     "name": "stderr",
     "output_type": "stream",
     "text": [
      "[I 2023-07-30 12:11:30,131] Trial 1 finished with value: -1.0255433755339305 and parameters: {'max_depth': 3, 'num_leaves': 127, 'subsample': 0.8, 'colsample_bytree': 0.8, 'reg_alpha': 4.831265634515798, 'reg_lambda': 0.09379328889825718}. Best is trial 1 with value: -1.0255433755339305.\n"
     ]
    },
    {
     "name": "stdout",
     "output_type": "stream",
     "text": [
      "1.2786686733588724\n",
      "1.9444323938577392\n",
      "1.9443523990809155\n",
      "1.3682736929497339\n"
     ]
    },
    {
     "name": "stderr",
     "output_type": "stream",
     "text": [
      "[I 2023-07-30 12:11:34,447] Trial 8 finished with value: -1.2577095894919412 and parameters: {'max_depth': 7, 'num_leaves': 63, 'subsample': 0.8, 'colsample_bytree': 0.8, 'reg_alpha': 2.6495033311360556, 'reg_lambda': 0.25920576292581976}. Best is trial 8 with value: -1.2577095894919412.\n"
     ]
    },
    {
     "name": "stdout",
     "output_type": "stream",
     "text": [
      "1.9217505483432629\n",
      "1.9333486814059677\n",
      "1.8801681759576234\n",
      "1.8970700534088745\n",
      "1.7311354393808738\n",
      "1.9384489221706174\n",
      "1.9405784905065115\n",
      "1.7197670195700123\n",
      "1.9107296574337527\n",
      "1.7600833949056354\n"
     ]
    },
    {
     "name": "stderr",
     "output_type": "stream",
     "text": [
      "[I 2023-07-30 12:11:55,943] Trial 2 finished with value: -1.721550289608699 and parameters: {'max_depth': 3, 'num_leaves': 7, 'subsample': 0.8, 'colsample_bytree': 0.8, 'reg_alpha': 0.005072063644227818, 'reg_lambda': 0.05155837430945393}. Best is trial 2 with value: -1.721550289608699.\n"
     ]
    },
    {
     "name": "stdout",
     "output_type": "stream",
     "text": [
      "1.757466925114964\n",
      "1.7412542863226725\n",
      "1.6843141049265977\n",
      "1.728073292222851\n"
     ]
    },
    {
     "name": "stderr",
     "output_type": "stream",
     "text": [
      "[I 2023-07-30 12:12:02,273] Trial 6 finished with value: -1.7109595688722337 and parameters: {'max_depth': 3, 'num_leaves': 31, 'subsample': 0.8, 'colsample_bytree': 0.8, 'reg_alpha': 0.01709321386195167, 'reg_lambda': 1.809699785304412}. Best is trial 2 with value: -1.721550289608699.\n"
     ]
    },
    {
     "name": "stdout",
     "output_type": "stream",
     "text": [
      "1.7162144163777047\n"
     ]
    },
    {
     "name": "stderr",
     "output_type": "stream",
     "text": [
      "[I 2023-07-30 12:12:06,639] Trial 4 finished with value: -1.7263105509208991 and parameters: {'max_depth': 7, 'num_leaves': 7, 'subsample': 0.8, 'colsample_bytree': 0.8, 'reg_alpha': 0.07966170801330248, 'reg_lambda': 0.0037013747028109083}. Best is trial 4 with value: -1.7263105509208991.\n",
      "[I 2023-07-30 12:12:06,646] Trial 5 pruned. Trial was pruned at iteration 236.\n"
     ]
    },
    {
     "name": "stdout",
     "output_type": "stream",
     "text": [
      "1.7176242151469934\n",
      "1.7182788582160202\n"
     ]
    },
    {
     "name": "stderr",
     "output_type": "stream",
     "text": [
      "[I 2023-07-30 12:12:08,719] Trial 0 finished with value: -1.712845832307145 and parameters: {'max_depth': 5, 'num_leaves': 127, 'subsample': 0.8, 'colsample_bytree': 0.8, 'reg_alpha': 0.0020768786428499724, 'reg_lambda': 0.12119906442673846}. Best is trial 4 with value: -1.7263105509208991.\n"
     ]
    },
    {
     "name": "stdout",
     "output_type": "stream",
     "text": [
      "1.7351419088422337\n",
      "1.9734176495207185\n"
     ]
    },
    {
     "name": "stderr",
     "output_type": "stream",
     "text": [
      "[I 2023-07-30 12:12:11,369] Trial 9 finished with value: -1.7165168391814631 and parameters: {'max_depth': 7, 'num_leaves': 7, 'subsample': 0.8, 'colsample_bytree': 0.8, 'reg_alpha': 0.2423732383585952, 'reg_lambda': 0.0014204131181347736}. Best is trial 4 with value: -1.7263105509208991.\n"
     ]
    },
    {
     "name": "stdout",
     "output_type": "stream",
     "text": [
      "1.7255689121074629\n"
     ]
    },
    {
     "name": "stderr",
     "output_type": "stream",
     "text": [
      "[I 2023-07-30 12:12:13,019] Trial 3 finished with value: -1.7048595737224006 and parameters: {'max_depth': 7, 'num_leaves': 31, 'subsample': 0.8, 'colsample_bytree': 0.8, 'reg_alpha': 0.0022375840919062026, 'reg_lambda': 0.001610483342771921}. Best is trial 4 with value: -1.7263105509208991.\n"
     ]
    },
    {
     "name": "stdout",
     "output_type": "stream",
     "text": [
      "1.6976483578986317\n",
      "1.7202669928816259\n"
     ]
    },
    {
     "name": "stderr",
     "output_type": "stream",
     "text": [
      "[I 2023-07-30 12:12:19,124] Trial 7 finished with value: -1.6790128481159712 and parameters: {'max_depth': 7, 'num_leaves': 63, 'subsample': 0.8, 'colsample_bytree': 0.8, 'reg_alpha': 0.016031247282501705, 'reg_lambda': 0.7199763670396517}. Best is trial 4 with value: -1.7263105509208991.\n",
      "[I 2023-07-30 12:12:19,126] A new study created in memory with name: no-name-a1b6e37c-e90d-4acc-871b-c263c50193df\n"
     ]
    },
    {
     "name": "stdout",
     "output_type": "stream",
     "text": [
      "1.7420249855710628\n",
      "0.9911132103967536\n",
      "1.2059253906187413\n",
      "1.2237343073841325\n",
      "0.9911132103967536\n",
      "0.9911132103967536\n",
      "1.0108667554795876\n",
      "1.2871493952065465\n",
      "1.261823840666422\n",
      "1.0108667554795876\n",
      "0.9134438573039587\n",
      "1.1970720525866905\n",
      "1.3148492105181306\n",
      "1.205567146467434\n",
      "0.9443251441080769\n",
      "1.7633272497326704\n",
      "1.7544120353357795\n",
      "1.4020758569340768\n",
      "1.4930421965901575\n",
      "1.3284079988970223\n",
      "1.779282797393511\n"
     ]
    },
    {
     "name": "stderr",
     "output_type": "stream",
     "text": [
      "[I 2023-07-30 12:12:51,150] Trial 1 finished with value: -1.027206472241052 and parameters: {'max_depth': 7, 'num_leaves': 127, 'subsample': 0.8, 'colsample_bytree': 0.8, 'reg_alpha': 5.975918978849875, 'reg_lambda': 0.030800805467057425}. Best is trial 1 with value: -1.027206472241052.\n"
     ]
    },
    {
     "name": "stdout",
     "output_type": "stream",
     "text": [
      "1.2762833939168845\n",
      "1.791755382945944\n",
      "1.8267642045368229\n",
      "1.462385131689298\n",
      "1.5704320109762273\n",
      "1.8533416223768684\n",
      "1.7723780457901097\n",
      "1.7422438964320879\n",
      "1.8375338659347935\n",
      "1.8005477301606634\n",
      "1.5202213620795408\n",
      "1.6350143396816743\n",
      "1.603309525078744\n",
      "1.8211176287416015\n"
     ]
    },
    {
     "name": "stderr",
     "output_type": "stream",
     "text": [
      "[I 2023-07-30 12:13:12,070] Trial 2 finished with value: -1.3872742786201564 and parameters: {'max_depth': 5, 'num_leaves': 63, 'subsample': 0.8, 'colsample_bytree': 0.8, 'reg_alpha': 2.0010320285906644, 'reg_lambda': 0.13845959604512023}. Best is trial 2 with value: -1.3872742786201564.\n"
     ]
    },
    {
     "name": "stdout",
     "output_type": "stream",
     "text": [
      "1.5261968107512378\n",
      "1.6787746083253308\n",
      "1.64752052703956\n",
      "1.8384491063254407\n"
     ]
    },
    {
     "name": "stderr",
     "output_type": "stream",
     "text": [
      "[I 2023-07-30 12:13:14,300] Trial 8 finished with value: -1.2769653027492753 and parameters: {'max_depth': 5, 'num_leaves': 63, 'subsample': 0.8, 'colsample_bytree': 0.8, 'reg_alpha': 2.4939126711821533, 'reg_lambda': 0.003164733634423391}. Best is trial 2 with value: -1.3872742786201564.\n"
     ]
    },
    {
     "name": "stdout",
     "output_type": "stream",
     "text": [
      "1.42741921959058\n",
      "1.7962452011023788\n"
     ]
    },
    {
     "name": "stderr",
     "output_type": "stream",
     "text": [
      "[I 2023-07-30 12:13:17,101] Trial 5 finished with value: -1.609142570081973 and parameters: {'max_depth': 5, 'num_leaves': 7, 'subsample': 0.8, 'colsample_bytree': 0.8, 'reg_alpha': 0.008205650032712234, 'reg_lambda': 0.08335355038204152}. Best is trial 5 with value: -1.609142570081973.\n"
     ]
    },
    {
     "name": "stdout",
     "output_type": "stream",
     "text": [
      "1.6146816658399568\n"
     ]
    },
    {
     "name": "stderr",
     "output_type": "stream",
     "text": [
      "[I 2023-07-30 12:13:24,058] Trial 4 finished with value: -1.6125448930723725 and parameters: {'max_depth': 3, 'num_leaves': 7, 'subsample': 0.8, 'colsample_bytree': 0.8, 'reg_alpha': 0.08485535914069826, 'reg_lambda': 1.3023237276024824}. Best is trial 4 with value: -1.6125448930723725.\n"
     ]
    },
    {
     "name": "stdout",
     "output_type": "stream",
     "text": [
      "1.5953359352442196\n"
     ]
    },
    {
     "name": "stderr",
     "output_type": "stream",
     "text": [
      "[I 2023-07-30 12:13:25,331] Trial 9 finished with value: -1.6313558044466248 and parameters: {'max_depth': 3, 'num_leaves': 7, 'subsample': 0.8, 'colsample_bytree': 0.8, 'reg_alpha': 0.0071705808460001035, 'reg_lambda': 0.1343601521777915}. Best is trial 9 with value: -1.6313558044466248.\n"
     ]
    },
    {
     "name": "stdout",
     "output_type": "stream",
     "text": [
      "1.6052924366587125\n",
      "1.6175490039891558\n",
      "1.629812392423028\n"
     ]
    },
    {
     "name": "stderr",
     "output_type": "stream",
     "text": [
      "[I 2023-07-30 12:13:27,446] Trial 0 finished with value: -1.530525529745018 and parameters: {'max_depth': 5, 'num_leaves': 31, 'subsample': 0.8, 'colsample_bytree': 0.8, 'reg_alpha': 1.2923983686028648, 'reg_lambda': 4.50745880168095}. Best is trial 9 with value: -1.6313558044466248.\n"
     ]
    },
    {
     "name": "stdout",
     "output_type": "stream",
     "text": [
      "1.6229602291674732\n",
      "1.6271551641516195\n"
     ]
    },
    {
     "name": "stderr",
     "output_type": "stream",
     "text": [
      "[I 2023-07-30 12:13:35,357] Trial 3 finished with value: -1.637319805894537 and parameters: {'max_depth': 5, 'num_leaves': 127, 'subsample': 0.8, 'colsample_bytree': 0.8, 'reg_alpha': 0.04157052267315619, 'reg_lambda': 0.002237651782074197}. Best is trial 3 with value: -1.637319805894537.\n",
      "[I 2023-07-30 12:13:35,398] Trial 6 finished with value: -1.607986914508745 and parameters: {'max_depth': 5, 'num_leaves': 127, 'subsample': 0.8, 'colsample_bytree': 0.8, 'reg_alpha': 0.0011321495376236902, 'reg_lambda': 0.05453650150509326}. Best is trial 3 with value: -1.637319805894537.\n"
     ]
    },
    {
     "name": "stdout",
     "output_type": "stream",
     "text": [
      "1.595007831323688\n",
      "1.6446205132103509\n"
     ]
    },
    {
     "name": "stderr",
     "output_type": "stream",
     "text": [
      "[I 2023-07-30 12:13:35,556] Trial 7 finished with value: -1.6187170714238364 and parameters: {'max_depth': 5, 'num_leaves': 31, 'subsample': 0.8, 'colsample_bytree': 0.8, 'reg_alpha': 0.07114131684825432, 'reg_lambda': 0.006796372592928381}. Best is trial 3 with value: -1.637319805894537.\n",
      "[I 2023-07-30 12:13:35,558] A new study created in memory with name: no-name-1a1c3c27-f261-4b0d-96ec-068ea33fd734\n"
     ]
    },
    {
     "name": "stdout",
     "output_type": "stream",
     "text": [
      "1.6453328065411736\n",
      "1.3633683000369112\n",
      "1.324229272823897\n",
      "1.1694076462920993\n",
      "0.9898619134469414\n",
      "0.9898619134469414\n",
      "0.9898619134469414\n",
      "1.0965123124803944\n",
      "1.2136516692579589\n",
      "1.2702198125188529\n",
      "1.0182470891182904\n",
      "1.0182470891182904\n",
      "1.0182470891182904\n",
      "1.2854378589138544\n",
      "1.6195214485892615\n",
      "0.9172908059951487\n",
      "0.9172908059951487\n",
      "1.4772471048497398\n",
      "1.6645224689888725\n",
      "1.7203496456869483\n",
      "1.72300888581820091.3211170392633291\n",
      "\n",
      "1.6506749369747504\n",
      "1.324420094147051\n",
      "1.7236384614252032\n",
      "1.3846620958426787\n",
      "1.7128625380144742\n"
     ]
    },
    {
     "name": "stderr",
     "output_type": "stream",
     "text": [
      "[I 2023-07-30 12:14:02,885] Trial 9 finished with value: -1.0975691804866106 and parameters: {'max_depth': 7, 'num_leaves': 31, 'subsample': 0.8, 'colsample_bytree': 0.8, 'reg_alpha': 4.872824474082946, 'reg_lambda': 0.017084744891907623}. Best is trial 9 with value: -1.0975691804866106.\n"
     ]
    },
    {
     "name": "stdout",
     "output_type": "stream",
     "text": [
      "1.2413290546093427\n",
      "1.777826373334943\n",
      "1.6933377480834408\n",
      "1.621528724520131\n",
      "1.7752296729997492\n"
     ]
    },
    {
     "name": "stderr",
     "output_type": "stream",
     "text": [
      "[I 2023-07-30 12:14:13,811] Trial 3 finished with value: -1.098544867699341 and parameters: {'max_depth': 7, 'num_leaves': 127, 'subsample': 0.8, 'colsample_bytree': 0.8, 'reg_alpha': 4.167385614128705, 'reg_lambda': 0.34682320146362994}. Best is trial 3 with value: -1.098544867699341.\n"
     ]
    },
    {
     "name": "stdout",
     "output_type": "stream",
     "text": [
      "1.242904435789274\n",
      "1.568212220636997\n"
     ]
    },
    {
     "name": "stderr",
     "output_type": "stream",
     "text": [
      "[I 2023-07-30 12:14:16,628] Trial 8 finished with value: -1.2412192272449516 and parameters: {'max_depth': 5, 'num_leaves': 7, 'subsample': 0.8, 'colsample_bytree': 0.8, 'reg_alpha': 2.818909460596021, 'reg_lambda': 0.14833555702253115}. Best is trial 8 with value: -1.2412192272449516.\n"
     ]
    },
    {
     "name": "stdout",
     "output_type": "stream",
     "text": [
      "1.336077932967107\n",
      "1.6842506828066135\n",
      "1.5740356357983565\n",
      "1.5689564790350772\n",
      "1.7888812308324455\n",
      "1.6184447186097994\n"
     ]
    },
    {
     "name": "stderr",
     "output_type": "stream",
     "text": [
      "[I 2023-07-30 12:14:28,813] Trial 7 finished with value: -1.5876781163268914 and parameters: {'max_depth': 3, 'num_leaves': 31, 'subsample': 0.8, 'colsample_bytree': 0.8, 'reg_alpha': 0.03970633228253245, 'reg_lambda': 0.002918036697932708}. Best is trial 7 with value: -1.5876781163268914.\n"
     ]
    },
    {
     "name": "stdout",
     "output_type": "stream",
     "text": [
      "1.5959591142953566\n"
     ]
    },
    {
     "name": "stderr",
     "output_type": "stream",
     "text": [
      "[I 2023-07-30 12:14:29,424] Trial 5 finished with value: -1.5327486462184017 and parameters: {'max_depth': 5, 'num_leaves': 127, 'subsample': 0.8, 'colsample_bytree': 0.8, 'reg_alpha': 0.9801555496769305, 'reg_lambda': 0.01030911848807017}. Best is trial 7 with value: -1.5876781163268914.\n",
      "[I 2023-07-30 12:14:29,430] Trial 2 pruned. Trial was pruned at iteration 58.\n",
      "[I 2023-07-30 12:14:29,433] Trial 0 pruned. Trial was pruned at iteration 118.\n",
      "[I 2023-07-30 12:14:29,442] Trial 6 pruned. Trial was pruned at iteration 144.\n"
     ]
    },
    {
     "name": "stdout",
     "output_type": "stream",
     "text": [
      "1.5829634541484467\n"
     ]
    },
    {
     "name": "stderr",
     "output_type": "stream",
     "text": [
      "[I 2023-07-30 12:14:31,231] Trial 1 finished with value: -1.5731419650753795 and parameters: {'max_depth': 7, 'num_leaves': 7, 'subsample': 0.8, 'colsample_bytree': 0.8, 'reg_alpha': 0.2611960753948025, 'reg_lambda': 0.0010230655682438366}. Best is trial 7 with value: -1.5876781163268914.\n"
     ]
    },
    {
     "name": "stdout",
     "output_type": "stream",
     "text": [
      "1.5651756168708877\n"
     ]
    },
    {
     "name": "stderr",
     "output_type": "stream",
     "text": [
      "[I 2023-07-30 12:14:31,466] Trial 4 finished with value: -1.5744033971349924 and parameters: {'max_depth': 3, 'num_leaves': 63, 'subsample': 0.8, 'colsample_bytree': 0.8, 'reg_alpha': 0.00888218527793757, 'reg_lambda': 0.5377214834670061}. Best is trial 7 with value: -1.5876781163268914.\n",
      "[I 2023-07-30 12:14:31,467] A new study created in memory with name: no-name-991d43c2-cd42-459f-bc10-fa5347e980a1\n"
     ]
    },
    {
     "name": "stdout",
     "output_type": "stream",
     "text": [
      "1.5911702785639759\n",
      "1.273163003059879\n",
      "1.0351393919446246\n",
      "1.0478801195128342\n",
      "0.9897253822605456\n",
      "0.9897253822605456\n",
      "0.9818727370402269\n",
      "1.1788975264413961\n",
      "1.0260270522614474\n",
      "1.1698801323140284\n",
      "1.0223962227904486\n",
      "1.0223962227904486\n",
      "0.9194261544600919\n",
      "0.9194261544600919\n",
      "1.1798018158302\n",
      "0.9460182006423257\n",
      "1.622395639925695\n",
      "1.624193375662408\n",
      "0.9460182006423257\n",
      "1.5634248182052095\n",
      "1.5244287258832683\n",
      "1.5833843387515143\n",
      "1.6183882430001957\n"
     ]
    },
    {
     "name": "stderr",
     "output_type": "stream",
     "text": [
      "[I 2023-07-30 12:14:57,009] Trial 6 finished with value: -1.018635475968227 and parameters: {'max_depth': 3, 'num_leaves': 31, 'subsample': 0.8, 'colsample_bytree': 0.8, 'reg_alpha': 6.147418595608754, 'reg_lambda': 0.048106680104567555}. Best is trial 6 with value: -1.018635475968227.\n",
      "[I 2023-07-30 12:14:57,061] Trial 4 finished with value: -1.0191391737617583 and parameters: {'max_depth': 5, 'num_leaves': 63, 'subsample': 0.8, 'colsample_bytree': 0.8, 'reg_alpha': 6.091220677317627, 'reg_lambda': 1.4702047037154033}. Best is trial 4 with value: -1.0191391737617583.\n"
     ]
    },
    {
     "name": "stdout",
     "output_type": "stream",
     "text": [
      "1.2156114196877237\n",
      "1.2181299086553796\n",
      "1.2661547911174862\n",
      "1.5682138303554665\n",
      "1.6310185253030451\n",
      "1.7150263237027783\n",
      "1.6743221009169673\n",
      "1.6809368174735315\n",
      "1.7077530607988436\n",
      "1.5359345102001414\n",
      "1.5403576226778075\n",
      "1.5439818740321962\n",
      "1.6431605983992141\n",
      "1.455220130526033\n",
      "1.5233308031452746\n",
      "1.5179872551902782\n",
      "1.6831838532106884\n",
      "1.5751203700460128\n"
     ]
    },
    {
     "name": "stderr",
     "output_type": "stream",
     "text": [
      "[I 2023-07-30 12:15:24,987] Trial 8 finished with value: -1.4956935108436036 and parameters: {'max_depth': 7, 'num_leaves': 7, 'subsample': 0.8, 'colsample_bytree': 0.8, 'reg_alpha': 0.12502530060137765, 'reg_lambda': 1.9390974048576886}. Best is trial 8 with value: -1.4956935108436036.\n"
     ]
    },
    {
     "name": "stdout",
     "output_type": "stream",
     "text": [
      "1.5040005041333613\n"
     ]
    },
    {
     "name": "stderr",
     "output_type": "stream",
     "text": [
      "[I 2023-07-30 12:15:25,268] Trial 2 finished with value: -1.4949868929250325 and parameters: {'max_depth': 3, 'num_leaves': 127, 'subsample': 0.8, 'colsample_bytree': 0.8, 'reg_alpha': 0.022557993736807867, 'reg_lambda': 0.014026495558250189}. Best is trial 8 with value: -1.4956935108436036.\n"
     ]
    },
    {
     "name": "stdout",
     "output_type": "stream",
     "text": [
      "1.5456505074516587\n"
     ]
    },
    {
     "name": "stderr",
     "output_type": "stream",
     "text": [
      "[I 2023-07-30 12:15:33,857] Trial 9 finished with value: -1.383768351525696 and parameters: {'max_depth': 7, 'num_leaves': 31, 'subsample': 0.8, 'colsample_bytree': 0.8, 'reg_alpha': 1.90465071618656, 'reg_lambda': 2.8529097429602945}. Best is trial 8 with value: -1.4956935108436036.\n",
      "[I 2023-07-30 12:15:33,865] Trial 0 pruned. Trial was pruned at iteration 149.\n"
     ]
    },
    {
     "name": "stdout",
     "output_type": "stream",
     "text": [
      "1.4817305099546196\n",
      "1.5534646156724172\n"
     ]
    },
    {
     "name": "stderr",
     "output_type": "stream",
     "text": [
      "[I 2023-07-30 12:15:35,441] Trial 7 finished with value: -1.481289815385304 and parameters: {'max_depth': 5, 'num_leaves': 31, 'subsample': 0.8, 'colsample_bytree': 0.8, 'reg_alpha': 0.006947525844747329, 'reg_lambda': 0.5558203554461095}. Best is trial 8 with value: -1.4956935108436036.\n"
     ]
    },
    {
     "name": "stdout",
     "output_type": "stream",
     "text": [
      "1.5362934656757545\n",
      "1.4937769928233713\n"
     ]
    },
    {
     "name": "stderr",
     "output_type": "stream",
     "text": [
      "[I 2023-07-30 12:15:38,078] Trial 5 finished with value: -1.5141247414050754 and parameters: {'max_depth': 7, 'num_leaves': 127, 'subsample': 0.8, 'colsample_bytree': 0.8, 'reg_alpha': 0.7674864976764079, 'reg_lambda': 0.0019144825645961208}. Best is trial 5 with value: -1.5141247414050754.\n"
     ]
    },
    {
     "name": "stdout",
     "output_type": "stream",
     "text": [
      "1.5878762855431594\n"
     ]
    },
    {
     "name": "stderr",
     "output_type": "stream",
     "text": [
      "[I 2023-07-30 12:15:41,306] Trial 1 finished with value: -1.5156309072618188 and parameters: {'max_depth': 7, 'num_leaves': 31, 'subsample': 0.8, 'colsample_bytree': 0.8, 'reg_alpha': 0.2318990885943144, 'reg_lambda': 0.08452812642924355}. Best is trial 1 with value: -1.5156309072618188.\n"
     ]
    },
    {
     "name": "stdout",
     "output_type": "stream",
     "text": [
      "1.5839375932943156\n"
     ]
    },
    {
     "name": "stderr",
     "output_type": "stream",
     "text": [
      "[I 2023-07-30 12:15:43,587] Trial 3 finished with value: -1.4549375372892406 and parameters: {'max_depth': 7, 'num_leaves': 127, 'subsample': 0.8, 'colsample_bytree': 0.8, 'reg_alpha': 0.021911947891358155, 'reg_lambda': 0.004842299352571811}. Best is trial 1 with value: -1.5156309072618188.\n",
      "[I 2023-07-30 12:15:43,589] A new study created in memory with name: no-name-702da53f-146c-4c6e-9549-d556110a7e17\n"
     ]
    },
    {
     "name": "stdout",
     "output_type": "stream",
     "text": [
      "1.5476402730164502\n",
      "1.1654989685460424\n",
      "0.9897603532465272\n",
      "1.113124090304057\n",
      "1.0506087767465422\n",
      "1.0258419736453148\n",
      "1.1670425471301449\n",
      "1.185729903178836\n",
      "1.0135687148431443\n",
      "1.2259813319590191\n",
      "1.20835981469232\n",
      "1.2388425770990752\n",
      "1.5911583216514427\n",
      "1.5690043798984408\n",
      "1.5459554487591212\n",
      "1.5085517872789462\n",
      "1.5404637796597314\n",
      "1.534357968688973\n",
      "1.489305420360632\n",
      "1.3922031030056605\n",
      "1.496793211079789\n",
      "1.586477197414789\n",
      "1.4823757008995737\n",
      "1.6066592221414595\n",
      "1.6072283962002112\n",
      "1.5636197792889215\n",
      "1.592866236727648\n",
      "1.3380633766703718\n",
      "1.6380562850063785\n"
     ]
    },
    {
     "name": "stderr",
     "output_type": "stream",
     "text": [
      "[I 2023-07-30 12:16:26,534] Trial 2 finished with value: -1.1943349934508212 and parameters: {'max_depth': 5, 'num_leaves': 127, 'subsample': 0.8, 'colsample_bytree': 0.8, 'reg_alpha': 3.680883770019616, 'reg_lambda': 0.09866556349818276}. Best is trial 2 with value: -1.1943349934508212.\n"
     ]
    },
    {
     "name": "stdout",
     "output_type": "stream",
     "text": [
      "1.2258061606862332\n",
      "1.5715261409513328\n",
      "1.501713064490352\n",
      "1.512098881058245\n",
      "1.4807381781247948\n",
      "1.5870744784112556\n",
      "1.5353348251289414\n",
      "1.5166792059570007\n"
     ]
    },
    {
     "name": "stderr",
     "output_type": "stream",
     "text": [
      "[I 2023-07-30 12:16:43,896] Trial 7 finished with value: -1.4687553039414305 and parameters: {'max_depth': 3, 'num_leaves': 63, 'subsample': 0.8, 'colsample_bytree': 0.8, 'reg_alpha': 0.11829094380474448, 'reg_lambda': 0.0038776972719369108}. Best is trial 7 with value: -1.4687553039414305.\n"
     ]
    },
    {
     "name": "stdout",
     "output_type": "stream",
     "text": [
      "1.4889714894788626\n"
     ]
    },
    {
     "name": "stderr",
     "output_type": "stream",
     "text": [
      "[I 2023-07-30 12:16:46,924] Trial 0 finished with value: -1.4365308437443196 and parameters: {'max_depth': 3, 'num_leaves': 127, 'subsample': 0.8, 'colsample_bytree': 0.8, 'reg_alpha': 0.0011513938155004952, 'reg_lambda': 0.012705863465818762}. Best is trial 7 with value: -1.4687553039414305.\n"
     ]
    },
    {
     "name": "stdout",
     "output_type": "stream",
     "text": [
      "1.4981234188909285\n"
     ]
    },
    {
     "name": "stderr",
     "output_type": "stream",
     "text": [
      "[I 2023-07-30 12:16:47,886] Trial 1 finished with value: -1.4677588168908358 and parameters: {'max_depth': 3, 'num_leaves': 31, 'subsample': 0.8, 'colsample_bytree': 0.8, 'reg_alpha': 0.06992447430134581, 'reg_lambda': 0.6801373730676252}. Best is trial 7 with value: -1.4687553039414305.\n"
     ]
    },
    {
     "name": "stdout",
     "output_type": "stream",
     "text": [
      "1.4939465323515524\n",
      "1.4888484218595577\n",
      "1.5101954880915334\n"
     ]
    },
    {
     "name": "stderr",
     "output_type": "stream",
     "text": [
      "[I 2023-07-30 12:16:52,257] Trial 6 finished with value: -1.4689471550643296 and parameters: {'max_depth': 7, 'num_leaves': 7, 'subsample': 0.8, 'colsample_bytree': 0.8, 'reg_alpha': 0.31995910018403667, 'reg_lambda': 0.001437949252171858}. Best is trial 6 with value: -1.4689471550643296.\n"
     ]
    },
    {
     "name": "stdout",
     "output_type": "stream",
     "text": [
      "1.4969575765517333\n",
      "1.531539842778066\n"
     ]
    },
    {
     "name": "stderr",
     "output_type": "stream",
     "text": [
      "[I 2023-07-30 12:16:52,973] Trial 9 finished with value: -1.457397933938637 and parameters: {'max_depth': 3, 'num_leaves': 127, 'subsample': 0.8, 'colsample_bytree': 0.8, 'reg_alpha': 0.5547854896652997, 'reg_lambda': 0.0050640403300359835}. Best is trial 6 with value: -1.4689471550643296.\n"
     ]
    },
    {
     "name": "stdout",
     "output_type": "stream",
     "text": [
      "1.4831625365507541\n",
      "1.5096241762489586\n"
     ]
    },
    {
     "name": "stderr",
     "output_type": "stream",
     "text": [
      "[I 2023-07-30 12:16:58,944] Trial 5 finished with value: -1.4355481034350546 and parameters: {'max_depth': 5, 'num_leaves': 31, 'subsample': 0.8, 'colsample_bytree': 0.8, 'reg_alpha': 0.0010970804552990969, 'reg_lambda': 5.282856653648405}. Best is trial 6 with value: -1.4689471550643296.\n"
     ]
    },
    {
     "name": "stdout",
     "output_type": "stream",
     "text": [
      "1.5029091267772188\n",
      "1.5048897702612023\n"
     ]
    },
    {
     "name": "stderr",
     "output_type": "stream",
     "text": [
      "[I 2023-07-30 12:17:01,849] Trial 3 finished with value: -1.4689903901045689 and parameters: {'max_depth': 5, 'num_leaves': 31, 'subsample': 0.8, 'colsample_bytree': 0.8, 'reg_alpha': 0.15552197389159328, 'reg_lambda': 3.0659853722576766}. Best is trial 3 with value: -1.4689903901045689.\n"
     ]
    },
    {
     "name": "stdout",
     "output_type": "stream",
     "text": [
      "1.525478752823823\n"
     ]
    },
    {
     "name": "stderr",
     "output_type": "stream",
     "text": [
      "[I 2023-07-30 12:17:03,331] Trial 8 finished with value: -1.4675745966807665 and parameters: {'max_depth': 5, 'num_leaves': 31, 'subsample': 0.8, 'colsample_bytree': 0.8, 'reg_alpha': 0.5622471176418655, 'reg_lambda': 2.7610291303004595}. Best is trial 3 with value: -1.4689903901045689.\n"
     ]
    },
    {
     "name": "stdout",
     "output_type": "stream",
     "text": [
      "1.5066590022147262\n"
     ]
    },
    {
     "name": "stderr",
     "output_type": "stream",
     "text": [
      "[I 2023-07-30 12:17:06,731] Trial 4 finished with value: -1.4304481018657427 and parameters: {'max_depth': 7, 'num_leaves': 63, 'subsample': 0.8, 'colsample_bytree': 0.8, 'reg_alpha': 0.07415855207674679, 'reg_lambda': 0.08261453851827841}. Best is trial 3 with value: -1.4689903901045689.\n",
      "[I 2023-07-30 12:17:06,732] A new study created in memory with name: no-name-945a95a4-26c7-4bf4-a221-2d85995424d4\n"
     ]
    },
    {
     "name": "stdout",
     "output_type": "stream",
     "text": [
      "1.5416554597723464\n",
      "1.1404479856960676\n",
      "1.1758696899596328\n",
      "1.1386983641305735\n",
      "1.1659861637443167\n",
      "1.1651943424510827\n",
      "1.0580133731559542\n",
      "1.128135333395293\n",
      "1.2244520954814717\n",
      "1.0665063072572336\n",
      "1.070751898102449\n",
      "1.487481309231439\n",
      "1.5044786563096095\n",
      "1.49078645708302\n",
      "1.1530606425976921\n",
      "1.4945515067802457\n",
      "1.4954990443792824\n",
      "1.5599271077729568\n",
      "1.4636816375272976\n",
      "1.5564733854136559\n",
      "1.5221620553186939\n",
      "1.4845053838674942\n",
      "1.5867878002165081\n",
      "1.2179026389494427\n",
      "1.5248368599337854\n",
      "1.5345834478510083\n",
      "1.5572973607755625\n",
      "1.4530273277987054\n",
      "1.4532188771990788\n",
      "1.4426867773211534\n",
      "1.4298755412515998\n",
      "1.4616759972378492\n",
      "1.6277277643610768\n",
      "1.4118985394023729\n",
      "1.5363618346301358\n",
      "1.4301877182376972\n"
     ]
    },
    {
     "name": "stderr",
     "output_type": "stream",
     "text": [
      "[I 2023-07-30 12:18:05,791] Trial 1 finished with value: -1.4273316494000314 and parameters: {'max_depth': 3, 'num_leaves': 7, 'subsample': 0.8, 'colsample_bytree': 0.8, 'reg_alpha': 0.12739484221547362, 'reg_lambda': 0.005667331466473824}. Best is trial 1 with value: -1.4273316494000314.\n"
     ]
    },
    {
     "name": "stdout",
     "output_type": "stream",
     "text": [
      "1.4431639157588794\n"
     ]
    },
    {
     "name": "stderr",
     "output_type": "stream",
     "text": [
      "[I 2023-07-30 12:18:06,492] Trial 9 finished with value: -1.4135843951719398 and parameters: {'max_depth': 3, 'num_leaves': 7, 'subsample': 0.8, 'colsample_bytree': 0.8, 'reg_alpha': 0.08415799639517846, 'reg_lambda': 0.005548332825932705}. Best is trial 1 with value: -1.4273316494000314.\n"
     ]
    },
    {
     "name": "stdout",
     "output_type": "stream",
     "text": [
      "1.4470923436857492\n"
     ]
    },
    {
     "name": "stderr",
     "output_type": "stream",
     "text": [
      "[I 2023-07-30 12:18:08,768] Trial 6 finished with value: -1.3512479288652082 and parameters: {'max_depth': 5, 'num_leaves': 31, 'subsample': 0.8, 'colsample_bytree': 0.8, 'reg_alpha': 1.783451704204465, 'reg_lambda': 7.47631390355522}. Best is trial 1 with value: -1.4273316494000314.\n"
     ]
    },
    {
     "name": "stdout",
     "output_type": "stream",
     "text": [
      "1.4387943755255255\n"
     ]
    },
    {
     "name": "stderr",
     "output_type": "stream",
     "text": [
      "[I 2023-07-30 12:18:11,968] Trial 0 finished with value: -1.366028694697396 and parameters: {'max_depth': 5, 'num_leaves': 31, 'subsample': 0.8, 'colsample_bytree': 0.8, 'reg_alpha': 1.4818889408237197, 'reg_lambda': 5.58417148301805}. Best is trial 1 with value: -1.4273316494000314.\n"
     ]
    },
    {
     "name": "stdout",
     "output_type": "stream",
     "text": [
      "1.4557426790970798\n"
     ]
    },
    {
     "name": "stderr",
     "output_type": "stream",
     "text": [
      "[I 2023-07-30 12:18:12,506] Trial 4 finished with value: -1.4405701490430787 and parameters: {'max_depth': 3, 'num_leaves': 31, 'subsample': 0.8, 'colsample_bytree': 0.8, 'reg_alpha': 0.0015995265305107796, 'reg_lambda': 0.047218165960739494}. Best is trial 4 with value: -1.4405701490430787.\n"
     ]
    },
    {
     "name": "stdout",
     "output_type": "stream",
     "text": [
      "1.4938492772364733\n",
      "1.5054900071380248\n",
      "1.4791623484228937\n"
     ]
    },
    {
     "name": "stderr",
     "output_type": "stream",
     "text": [
      "[I 2023-07-30 12:18:15,318] Trial 3 finished with value: -1.3942268914107463 and parameters: {'max_depth': 5, 'num_leaves': 127, 'subsample': 0.8, 'colsample_bytree': 0.8, 'reg_alpha': 0.0394371945907523, 'reg_lambda': 0.04664453691039193}. Best is trial 4 with value: -1.4405701490430787.\n"
     ]
    },
    {
     "name": "stdout",
     "output_type": "stream",
     "text": [
      "1.4625974613470116\n",
      "1.5344269126351822\n",
      "1.439923964055061\n"
     ]
    },
    {
     "name": "stderr",
     "output_type": "stream",
     "text": [
      "[I 2023-07-30 12:18:24,141] Trial 8 finished with value: -1.4306203888183646 and parameters: {'max_depth': 5, 'num_leaves': 63, 'subsample': 0.8, 'colsample_bytree': 0.8, 'reg_alpha': 0.0018620025403287609, 'reg_lambda': 0.018953128589579465}. Best is trial 4 with value: -1.4405701490430787.\n"
     ]
    },
    {
     "name": "stdout",
     "output_type": "stream",
     "text": [
      "1.4543948603852617\n"
     ]
    },
    {
     "name": "stderr",
     "output_type": "stream",
     "text": [
      "[I 2023-07-30 12:18:25,576] Trial 2 finished with value: -1.4371052881015622 and parameters: {'max_depth': 7, 'num_leaves': 31, 'subsample': 0.8, 'colsample_bytree': 0.8, 'reg_alpha': 0.9216835493456523, 'reg_lambda': 0.0014246703690079738}. Best is trial 4 with value: -1.4405701490430787.\n"
     ]
    },
    {
     "name": "stdout",
     "output_type": "stream",
     "text": [
      "1.496559399232211\n"
     ]
    },
    {
     "name": "stderr",
     "output_type": "stream",
     "text": [
      "[I 2023-07-30 12:18:26,088] Trial 5 finished with value: -1.4035433596612379 and parameters: {'max_depth': 7, 'num_leaves': 31, 'subsample': 0.8, 'colsample_bytree': 0.8, 'reg_alpha': 0.008815960947568804, 'reg_lambda': 0.14562990306481596}. Best is trial 4 with value: -1.4405701490430787.\n"
     ]
    },
    {
     "name": "stdout",
     "output_type": "stream",
     "text": [
      "1.4904193084962647\n",
      "1.4312928753491252\n"
     ]
    },
    {
     "name": "stderr",
     "output_type": "stream",
     "text": [
      "[I 2023-07-30 12:18:31,526] Trial 7 finished with value: -1.3940071362325819 and parameters: {'max_depth': 7, 'num_leaves': 127, 'subsample': 0.8, 'colsample_bytree': 0.8, 'reg_alpha': 0.002663810184222815, 'reg_lambda': 0.0013813307803816576}. Best is trial 4 with value: -1.4405701490430787.\n"
     ]
    },
    {
     "name": "stdout",
     "output_type": "stream",
     "text": [
      "1.5036884538245527\n",
      ">>>Done with 8 processes, and time taken is 811.9987573623657\n",
      "Time taken:  815.386715888977 seconds\n"
     ]
    },
    {
     "name": "stderr",
     "output_type": "stream",
     "text": [
      "[I 2023-07-30 12:18:37,392] A new study created in memory with name: no-name-75e615eb-94af-4f95-a69c-efb9cecc646f\n"
     ]
    },
    {
     "name": "stdout",
     "output_type": "stream",
     "text": [
      "1.0950709273013661\n",
      "1.0950709273013661\n",
      "1.0950709273013661\n",
      "1.994046966782543\n",
      "1.0950709273013661\n",
      "1.0950709273013661\n",
      "1.0950709273013661\n",
      "1.417530444147781\n",
      "1.015374725440493\n",
      "1.015374725440493\n",
      "1.015374725440493\n",
      "2.0426351576613104\n",
      "1.015374725440493\n",
      "1.015374725440493\n",
      "1.015374725440493\n",
      "2.079822033007664\n",
      "1.6550535703552374\n",
      "1.3785724317314259\n",
      "1.7786021791192557\n",
      "0.9972428037069729\n",
      "0.9972428037069729\n",
      "0.99724280370697290.9972428037069729\n",
      "\n",
      "1.773497710947824\n",
      "1.082014132243856\n",
      "0.9972428037069729\n",
      "1.780059690893454\n",
      "1.082014132243856\n",
      "1.082014132243856\n",
      "1.8007390282170963\n"
     ]
    },
    {
     "name": "stderr",
     "output_type": "stream",
     "text": [
      "[I 2023-07-30 12:19:07,363] Trial 7 finished with value: -1.0463928475577096 and parameters: {'max_depth': 3, 'num_leaves': 7, 'subsample': 0.8, 'colsample_bytree': 0.8, 'reg_alpha': 3.4674916416476935, 'reg_lambda': 0.017016542474557687}. Best is trial 7 with value: -1.0463928475577096.\n"
     ]
    },
    {
     "name": "stdout",
     "output_type": "stream",
     "text": [
      "1.0422616490958596\n"
     ]
    },
    {
     "name": "stderr",
     "output_type": "stream",
     "text": [
      "[I 2023-07-30 12:19:11,842] Trial 6 finished with value: -1.0463928475577096 and parameters: {'max_depth': 7, 'num_leaves': 127, 'subsample': 0.8, 'colsample_bytree': 0.8, 'reg_alpha': 3.671611935707663, 'reg_lambda': 0.001378182709923201}. Best is trial 7 with value: -1.0463928475577096.\n",
      "[I 2023-07-30 12:19:11,980] Trial 1 finished with value: -1.0463928475577096 and parameters: {'max_depth': 5, 'num_leaves': 63, 'subsample': 0.8, 'colsample_bytree': 0.8, 'reg_alpha': 4.304097060925751, 'reg_lambda': 0.07947350621508963}. Best is trial 7 with value: -1.0463928475577096.\n"
     ]
    },
    {
     "name": "stdout",
     "output_type": "stream",
     "text": [
      "1.0422616490958596\n",
      "1.0422616490958596\n",
      "1.082014132243856\n",
      "1.9943680099452692\n",
      "1.9470317170398754\n",
      "1.082014132243856\n",
      "2.163706886498101\n",
      "1.98169814270822\n"
     ]
    },
    {
     "name": "stderr",
     "output_type": "stream",
     "text": [
      "[I 2023-07-30 12:19:21,883] Trial 4 finished with value: -1.095889196442425 and parameters: {'max_depth': 7, 'num_leaves': 127, 'subsample': 0.8, 'colsample_bytree': 0.8, 'reg_alpha': 0.7270598570838351, 'reg_lambda': 2.6827112861654805}. Best is trial 4 with value: -1.095889196442425.\n"
     ]
    },
    {
     "name": "stdout",
     "output_type": "stream",
     "text": [
      "1.2897433935194371\n",
      "1.9983704881863549\n"
     ]
    },
    {
     "name": "stderr",
     "output_type": "stream",
     "text": [
      "[I 2023-07-30 12:19:26,594] Trial 5 finished with value: -1.1447417224809033 and parameters: {'max_depth': 7, 'num_leaves': 7, 'subsample': 0.8, 'colsample_bytree': 0.8, 'reg_alpha': 0.6199264805167586, 'reg_lambda': 0.00910315349913233}. Best is trial 5 with value: -1.1447417224809033.\n"
     ]
    },
    {
     "name": "stdout",
     "output_type": "stream",
     "text": [
      "1.5340060237118287\n"
     ]
    },
    {
     "name": "stderr",
     "output_type": "stream",
     "text": [
      "[I 2023-07-30 12:19:28,579] Trial 0 finished with value: -1.4427283188059608 and parameters: {'max_depth': 7, 'num_leaves': 7, 'subsample': 0.8, 'colsample_bytree': 0.8, 'reg_alpha': 0.4179211226936546, 'reg_lambda': 2.0914133320747004}. Best is trial 0 with value: -1.4427283188059608.\n"
     ]
    },
    {
     "name": "stdout",
     "output_type": "stream",
     "text": [
      "1.7302554996112498\n",
      "2.225724053397279\n"
     ]
    },
    {
     "name": "stderr",
     "output_type": "stream",
     "text": [
      "[I 2023-07-30 12:19:35,351] Trial 9 finished with value: -1.7789408998997434 and parameters: {'max_depth': 7, 'num_leaves': 127, 'subsample': 0.8, 'colsample_bytree': 0.8, 'reg_alpha': 0.20599060723845844, 'reg_lambda': 0.037955741049609}. Best is trial 9 with value: -1.7789408998997434.\n"
     ]
    },
    {
     "name": "stdout",
     "output_type": "stream",
     "text": [
      "1.8576745702805013\n"
     ]
    },
    {
     "name": "stderr",
     "output_type": "stream",
     "text": [
      "[I 2023-07-30 12:19:43,506] Trial 3 finished with value: -1.9973534030597289 and parameters: {'max_depth': 3, 'num_leaves': 31, 'subsample': 0.8, 'colsample_bytree': 0.8, 'reg_alpha': 0.026058232734506415, 'reg_lambda': 0.06491707288404862}. Best is trial 3 with value: -1.9973534030597289.\n"
     ]
    },
    {
     "name": "stdout",
     "output_type": "stream",
     "text": [
      "1.9541295209603717\n",
      "2.2386336554846835\n",
      "2.184433911613599\n"
     ]
    },
    {
     "name": "stderr",
     "output_type": "stream",
     "text": [
      "[I 2023-07-30 12:19:52,395] Trial 2 finished with value: -1.9919658926488215 and parameters: {'max_depth': 7, 'num_leaves': 63, 'subsample': 0.8, 'colsample_bytree': 0.8, 'reg_alpha': 0.07912845351731043, 'reg_lambda': 1.0110589943935404}. Best is trial 3 with value: -1.9973534030597289.\n"
     ]
    },
    {
     "name": "stdout",
     "output_type": "stream",
     "text": [
      "1.9501761736712702\n"
     ]
    },
    {
     "name": "stderr",
     "output_type": "stream",
     "text": [
      "[I 2023-07-30 12:19:54,175] Trial 8 finished with value: -1.9820249942909218 and parameters: {'max_depth': 7, 'num_leaves': 7, 'subsample': 0.8, 'colsample_bytree': 0.8, 'reg_alpha': 0.06870172156685708, 'reg_lambda': 0.45232903387099466}. Best is trial 3 with value: -1.9973534030597289.\n",
      "[I 2023-07-30 12:19:54,177] A new study created in memory with name: no-name-13a9adfe-6714-4e3a-9b7b-4c6d40468f7c\n"
     ]
    },
    {
     "name": "stdout",
     "output_type": "stream",
     "text": [
      "1.9278600485236552\n",
      "1.0954121236116636\n",
      "1.0954121236116636\n",
      "1.0954121236116636\n",
      "1.0954121236116636\n",
      "1.0954121236116636\n",
      "1.0180248772080347\n",
      "1.7520297981350046\n",
      "1.0180248772080347\n",
      "1.0180248772080347\n",
      "1.18074753798032\n",
      "1.7216080028183933\n",
      "0.9958318799547516\n",
      "1.0954121236116636\n",
      "0.9958318799547516\n",
      "0.9958318799547516\n",
      "1.0890406262809567\n",
      "1.0890406262809567\n",
      "1.0890406262809567\n",
      "1.7283867340343742\n",
      "1.2663218629647144\n",
      "1.3843452623255423\n",
      "1.5763342918855532\n",
      "1.7248838182843853\n",
      "1.0180248772080347\n"
     ]
    },
    {
     "name": "stderr",
     "output_type": "stream",
     "text": [
      "[I 2023-07-30 12:20:15,535] Trial 7 finished with value: -1.0479886348822585 and parameters: {'max_depth': 7, 'num_leaves': 7, 'subsample': 0.8, 'colsample_bytree': 0.8, 'reg_alpha': 1.9444171108112949, 'reg_lambda': 0.31042171960258097}. Best is trial 7 with value: -1.0479886348822585.\n"
     ]
    },
    {
     "name": "stdout",
     "output_type": "stream",
     "text": [
      "1.0416336673558861\n",
      "1.6024336184982175\n"
     ]
    },
    {
     "name": "stderr",
     "output_type": "stream",
     "text": [
      "[I 2023-07-30 12:20:19,080] Trial 3 finished with value: -1.0479886348822585 and parameters: {'max_depth': 7, 'num_leaves': 127, 'subsample': 0.8, 'colsample_bytree': 0.8, 'reg_alpha': 5.90430185488812, 'reg_lambda': 0.0931351168555984}. Best is trial 7 with value: -1.0479886348822585.\n"
     ]
    },
    {
     "name": "stdout",
     "output_type": "stream",
     "text": [
      "1.0416336673558861\n",
      "1.4436806175615757\n"
     ]
    },
    {
     "name": "stderr",
     "output_type": "stream",
     "text": [
      "[I 2023-07-30 12:20:22,424] Trial 5 finished with value: -1.0479886348822585 and parameters: {'max_depth': 3, 'num_leaves': 63, 'subsample': 0.8, 'colsample_bytree': 0.8, 'reg_alpha': 1.6793759209352088, 'reg_lambda': 0.25674943627837776}. Best is trial 7 with value: -1.0479886348822585.\n"
     ]
    },
    {
     "name": "stdout",
     "output_type": "stream",
     "text": [
      "1.0416336673558861\n",
      "1.6783910609685186\n",
      "1.5803280482521895\n",
      "1.8194451417905704\n",
      "1.5802090134041276\n",
      "1.374073134216454\n",
      "1.7868272640136365\n",
      "1.6595596642535675\n",
      "1.8701957120187842\n",
      "1.7567994232071058\n"
     ]
    },
    {
     "name": "stderr",
     "output_type": "stream",
     "text": [
      "[I 2023-07-30 12:20:40,375] Trial 9 finished with value: -1.4101139029004695 and parameters: {'max_depth': 5, 'num_leaves': 31, 'subsample': 0.8, 'colsample_bytree': 0.8, 'reg_alpha': 0.4726643520195502, 'reg_lambda': 0.0017179900119278068}. Best is trial 9 with value: -1.4101139029004695.\n"
     ]
    },
    {
     "name": "stdout",
     "output_type": "stream",
     "text": [
      "1.6032373265711852\n",
      "1.6435600045052787\n"
     ]
    },
    {
     "name": "stderr",
     "output_type": "stream",
     "text": [
      "[I 2023-07-30 12:20:41,913] Trial 8 finished with value: -1.447118250818629 and parameters: {'max_depth': 7, 'num_leaves': 7, 'subsample': 0.8, 'colsample_bytree': 0.8, 'reg_alpha': 0.42570475305889943, 'reg_lambda': 0.05814215328300201}. Best is trial 8 with value: -1.447118250818629.\n"
     ]
    },
    {
     "name": "stdout",
     "output_type": "stream",
     "text": [
      "1.6107315081646219\n"
     ]
    },
    {
     "name": "stderr",
     "output_type": "stream",
     "text": [
      "[I 2023-07-30 12:20:44,086] Trial 4 finished with value: -1.7117208966276785 and parameters: {'max_depth': 3, 'num_leaves': 31, 'subsample': 0.8, 'colsample_bytree': 0.8, 'reg_alpha': 0.0018172448408274484, 'reg_lambda': 0.05890028396325133}. Best is trial 4 with value: -1.7117208966276785.\n"
     ]
    },
    {
     "name": "stdout",
     "output_type": "stream",
     "text": [
      "1.6816536201305317\n"
     ]
    },
    {
     "name": "stderr",
     "output_type": "stream",
     "text": [
      "[I 2023-07-30 12:20:44,862] Trial 1 finished with value: -1.36896766607593 and parameters: {'max_depth': 5, 'num_leaves': 31, 'subsample': 0.8, 'colsample_bytree': 0.8, 'reg_alpha': 0.49055919287637795, 'reg_lambda': 0.0014818892302109312}. Best is trial 4 with value: -1.7117208966276785.\n"
     ]
    },
    {
     "name": "stdout",
     "output_type": "stream",
     "text": [
      "1.6005287721363919\n",
      "1.9150574332085846\n",
      "1.6447061953334714\n",
      "1.8973539982285974\n"
     ]
    },
    {
     "name": "stderr",
     "output_type": "stream",
     "text": [
      "[I 2023-07-30 12:20:54,120] Trial 2 finished with value: -1.7068883743035723 and parameters: {'max_depth': 5, 'num_leaves': 31, 'subsample': 0.8, 'colsample_bytree': 0.8, 'reg_alpha': 0.004721247121139189, 'reg_lambda': 0.0010540197934035883}. Best is trial 4 with value: -1.7117208966276785.\n"
     ]
    },
    {
     "name": "stdout",
     "output_type": "stream",
     "text": [
      "1.6357831527390987\n"
     ]
    },
    {
     "name": "stderr",
     "output_type": "stream",
     "text": [
      "[I 2023-07-30 12:20:55,668] Trial 6 finished with value: -1.7102764544670617 and parameters: {'max_depth': 5, 'num_leaves': 127, 'subsample': 0.8, 'colsample_bytree': 0.8, 'reg_alpha': 0.007973438729998505, 'reg_lambda': 6.937626375528386}. Best is trial 4 with value: -1.7117208966276785.\n"
     ]
    },
    {
     "name": "stdout",
     "output_type": "stream",
     "text": [
      "1.7052564030648574\n",
      "1.8511424194674113\n"
     ]
    },
    {
     "name": "stderr",
     "output_type": "stream",
     "text": [
      "[I 2023-07-30 12:21:01,297] Trial 0 finished with value: -1.6996689966616416 and parameters: {'max_depth': 7, 'num_leaves': 127, 'subsample': 0.8, 'colsample_bytree': 0.8, 'reg_alpha': 0.006923162066102003, 'reg_lambda': 3.492528182893876}. Best is trial 4 with value: -1.7117208966276785.\n",
      "[I 2023-07-30 12:21:01,299] A new study created in memory with name: no-name-13fe0e33-5315-49b6-a92f-4445c274aff4\n"
     ]
    },
    {
     "name": "stdout",
     "output_type": "stream",
     "text": [
      "1.6939006210688232\n",
      "1.5479186147780566\n",
      "1.5933304549082012\n",
      "1.0950750312827955\n",
      "1.0950750312827955\n",
      "1.0950750312827955\n",
      "1.0950750312827955\n",
      "1.3601960159997826\n",
      "1.0188868949864227\n",
      "1.0188868949864227\n",
      "1.0188868949864227\n",
      "1.0188868949864227\n",
      "0.9965399433706921\n",
      "0.9965399433706921\n",
      "0.9965399433706921\n",
      "0.9965399433706921\n",
      "1.5866208887583355\n",
      "1.0915868978380998\n",
      "1.46735351922627851.573350685985949\n",
      "\n",
      "1.0915868978380998\n",
      "1.4469053184417242\n",
      "1.0915868978380998\n",
      "1.0915868978380998\n",
      "1.5031571868541103\n"
     ]
    },
    {
     "name": "stderr",
     "output_type": "stream",
     "text": [
      "[I 2023-07-30 12:21:26,249] Trial 9 finished with value: -1.0491099721393087 and parameters: {'max_depth': 7, 'num_leaves': 127, 'subsample': 0.8, 'colsample_bytree': 0.8, 'reg_alpha': 4.161373531674193, 'reg_lambda': 0.02244156418310875}. Best is trial 9 with value: -1.0491099721393087.\n"
     ]
    },
    {
     "name": "stdout",
     "output_type": "stream",
     "text": [
      "1.043461093218534\n",
      "1.4714583344097352\n",
      "1.4748801797377866\n"
     ]
    },
    {
     "name": "stderr",
     "output_type": "stream",
     "text": [
      "[I 2023-07-30 12:21:28,661] Trial 6 finished with value: -1.0491099721393087 and parameters: {'max_depth': 3, 'num_leaves': 7, 'subsample': 0.8, 'colsample_bytree': 0.8, 'reg_alpha': 2.8177575863813793, 'reg_lambda': 0.47998524260763864}. Best is trial 9 with value: -1.0491099721393087.\n"
     ]
    },
    {
     "name": "stdout",
     "output_type": "stream",
     "text": [
      "1.043461093218534\n",
      "1.517136975699965\n"
     ]
    },
    {
     "name": "stderr",
     "output_type": "stream",
     "text": [
      "[I 2023-07-30 12:21:31,890] Trial 5 finished with value: -1.0491099721393087 and parameters: {'max_depth': 3, 'num_leaves': 63, 'subsample': 0.8, 'colsample_bytree': 0.8, 'reg_alpha': 4.592716913119588, 'reg_lambda': 5.138523382078423}. Best is trial 9 with value: -1.0491099721393087.\n"
     ]
    },
    {
     "name": "stdout",
     "output_type": "stream",
     "text": [
      "1.043461093218534\n"
     ]
    },
    {
     "name": "stderr",
     "output_type": "stream",
     "text": [
      "[I 2023-07-30 12:21:32,141] Trial 8 finished with value: -1.0491099721393087 and parameters: {'max_depth': 5, 'num_leaves': 127, 'subsample': 0.8, 'colsample_bytree': 0.8, 'reg_alpha': 4.087238567173327, 'reg_lambda': 0.012923564750964062}. Best is trial 9 with value: -1.0491099721393087.\n"
     ]
    },
    {
     "name": "stdout",
     "output_type": "stream",
     "text": [
      "1.043461093218534\n",
      "1.479111711971275\n",
      "1.505784032040777\n",
      "1.5354123221173581\n",
      "1.497199214380043\n",
      "1.6758805064210474\n",
      "1.5359347812602846\n",
      "1.4448718793985715\n",
      "1.6770579846183793\n",
      "1.703394718966811\n",
      "1.6490785939563315\n"
     ]
    },
    {
     "name": "stderr",
     "output_type": "stream",
     "text": [
      "[I 2023-07-30 12:21:55,507] Trial 0 finished with value: -1.5603148465796695 and parameters: {'max_depth': 3, 'num_leaves': 31, 'subsample': 0.8, 'colsample_bytree': 0.8, 'reg_alpha': 0.046061901248801794, 'reg_lambda': 0.003092801072538865}. Best is trial 0 with value: -1.5603148465796695.\n",
      "[I 2023-07-30 12:21:55,509] Trial 3 pruned. Trial was pruned at iteration 62.\n",
      "[I 2023-07-30 12:21:55,641] Trial 1 pruned. Trial was pruned at iteration 74.\n"
     ]
    },
    {
     "name": "stdout",
     "output_type": "stream",
     "text": [
      "1.5478727766428546\n",
      "1.6854055864240407\n"
     ]
    },
    {
     "name": "stderr",
     "output_type": "stream",
     "text": [
      "[I 2023-07-30 12:21:58,890] Trial 4 pruned. Trial was pruned at iteration 0.\n",
      "[I 2023-07-30 12:22:01,006] Trial 7 finished with value: -1.5629008074414101 and parameters: {'max_depth': 3, 'num_leaves': 63, 'subsample': 0.8, 'colsample_bytree': 0.8, 'reg_alpha': 0.029944955112350832, 'reg_lambda': 5.6419187679690275}. Best is trial 7 with value: -1.5629008074414101.\n"
     ]
    },
    {
     "name": "stdout",
     "output_type": "stream",
     "text": [
      "1.5524090353640756\n"
     ]
    },
    {
     "name": "stderr",
     "output_type": "stream",
     "text": [
      "[I 2023-07-30 12:22:03,243] Trial 2 finished with value: -1.5126765970202605 and parameters: {'max_depth': 3, 'num_leaves': 63, 'subsample': 0.8, 'colsample_bytree': 0.8, 'reg_alpha': 0.21936600301864037, 'reg_lambda': 0.014303857542442002}. Best is trial 7 with value: -1.5629008074414101.\n",
      "[I 2023-07-30 12:22:03,245] A new study created in memory with name: no-name-254c5c54-a12f-4ead-a0cd-ad7272e2d525\n"
     ]
    },
    {
     "name": "stdout",
     "output_type": "stream",
     "text": [
      "1.5472377186180948\n",
      "1.423137861048403\n",
      "1.0930467733534908\n",
      "1.0930467733534908\n",
      "1.0186544315205532\n",
      "1.4172891364542979\n",
      "1.3780347765447445\n",
      "1.4504453564656936\n",
      "1.2267126492181788\n",
      "0.9962748949788871\n",
      "1.4318275549460795\n",
      "1.4144919842830115\n",
      "1.0928116266214207\n",
      "1.4859776767058221\n",
      "1.4078068414823264\n"
     ]
    },
    {
     "name": "stderr",
     "output_type": "stream",
     "text": [
      "[I 2023-07-30 12:22:22,061] Trial 6 finished with value: -1.0494337334163455 and parameters: {'max_depth': 5, 'num_leaves': 7, 'subsample': 0.8, 'colsample_bytree': 0.8, 'reg_alpha': 8.162217712689301, 'reg_lambda': 0.9976248982690124}. Best is trial 6 with value: -1.0494337334163455.\n"
     ]
    },
    {
     "name": "stdout",
     "output_type": "stream",
     "text": [
      "1.0463809406073752\n",
      "1.4718156172935837\n",
      "1.3942908166488541\n",
      "1.3217626472262634\n",
      "1.4567101248753227\n",
      "1.4039780341104136\n",
      "1.4205745695936436\n",
      "1.4043035632012586\n",
      "1.6252524960558876\n",
      "1.4165490127764917\n",
      "1.4099347344735893\n",
      "1.6119770849459156\n",
      "1.4038273274067965\n",
      "1.5890467484781654\n",
      "1.4357153876601156\n"
     ]
    },
    {
     "name": "stderr",
     "output_type": "stream",
     "text": [
      "[I 2023-07-30 12:22:50,198] Trial 8 finished with value: -1.3349841992302531 and parameters: {'max_depth': 5, 'num_leaves': 127, 'subsample': 0.8, 'colsample_bytree': 0.8, 'reg_alpha': 0.5896343413290884, 'reg_lambda': 0.04317450935467913}. Best is trial 8 with value: -1.3349841992302531.\n"
     ]
    },
    {
     "name": "stdout",
     "output_type": "stream",
     "text": [
      "1.4214218414074171\n"
     ]
    },
    {
     "name": "stderr",
     "output_type": "stream",
     "text": [
      "[I 2023-07-30 12:22:51,494] Trial 2 finished with value: -1.464226785342258 and parameters: {'max_depth': 3, 'num_leaves': 63, 'subsample': 0.8, 'colsample_bytree': 0.8, 'reg_alpha': 0.002379546844972027, 'reg_lambda': 0.8020323749739529}. Best is trial 2 with value: -1.464226785342258.\n"
     ]
    },
    {
     "name": "stdout",
     "output_type": "stream",
     "text": [
      "1.4639607686751335\n",
      "1.376222170889812\n",
      "1.5632366065381413\n",
      "1.4304073453622248\n",
      "1.409324074755256\n",
      "1.3624326207905808\n",
      "1.4364659356599985\n"
     ]
    },
    {
     "name": "stderr",
     "output_type": "stream",
     "text": [
      "[I 2023-07-30 12:22:58,120] Trial 5 finished with value: -1.4589983899561296 and parameters: {'max_depth': 7, 'num_leaves': 7, 'subsample': 0.8, 'colsample_bytree': 0.8, 'reg_alpha': 0.0014924361056225812, 'reg_lambda': 0.054470528273457636}. Best is trial 2 with value: -1.464226785342258.\n"
     ]
    },
    {
     "name": "stdout",
     "output_type": "stream",
     "text": [
      "1.4765456601646\n",
      "1.6064308893849564\n"
     ]
    },
    {
     "name": "stderr",
     "output_type": "stream",
     "text": [
      "[I 2023-07-30 12:23:05,512] Trial 7 finished with value: -1.476825999314371 and parameters: {'max_depth': 3, 'num_leaves': 63, 'subsample': 0.8, 'colsample_bytree': 0.8, 'reg_alpha': 0.07769951658803649, 'reg_lambda': 0.5686390779019757}. Best is trial 7 with value: -1.476825999314371.\n"
     ]
    },
    {
     "name": "stdout",
     "output_type": "stream",
     "text": [
      "1.4786257560741323\n",
      "1.5807403746604622\n",
      "1.5251235038804731\n",
      "1.3533775235605674\n",
      "1.5167268580504736\n"
     ]
    },
    {
     "name": "stderr",
     "output_type": "stream",
     "text": [
      "[I 2023-07-30 12:23:16,014] Trial 4 finished with value: -1.462161715972849 and parameters: {'max_depth': 5, 'num_leaves': 127, 'subsample': 0.8, 'colsample_bytree': 0.8, 'reg_alpha': 0.010346660021395813, 'reg_lambda': 2.39703462553954}. Best is trial 7 with value: -1.476825999314371.\n",
      "[I 2023-07-30 12:23:16,151] Trial 3 pruned. Trial was pruned at iteration 51.\n"
     ]
    },
    {
     "name": "stdout",
     "output_type": "stream",
     "text": [
      "1.4797789518669058\n"
     ]
    },
    {
     "name": "stderr",
     "output_type": "stream",
     "text": [
      "[I 2023-07-30 12:23:17,854] Trial 0 finished with value: -1.4693667125278638 and parameters: {'max_depth': 5, 'num_leaves': 127, 'subsample': 0.8, 'colsample_bytree': 0.8, 'reg_alpha': 0.025055413965054268, 'reg_lambda': 0.005220466095263249}. Best is trial 7 with value: -1.476825999314371.\n",
      "[I 2023-07-30 12:23:17,891] Trial 1 pruned. Trial was pruned at iteration 33.\n"
     ]
    },
    {
     "name": "stdout",
     "output_type": "stream",
     "text": [
      "1.4753057516773493\n"
     ]
    },
    {
     "name": "stderr",
     "output_type": "stream",
     "text": [
      "[I 2023-07-30 12:23:20,338] Trial 9 finished with value: -1.4349284875652688 and parameters: {'max_depth': 7, 'num_leaves': 31, 'subsample': 0.8, 'colsample_bytree': 0.8, 'reg_alpha': 0.2088163031391422, 'reg_lambda': 0.0035143452690073514}. Best is trial 7 with value: -1.476825999314371.\n",
      "[I 2023-07-30 12:23:20,341] A new study created in memory with name: no-name-fc279f0f-5e8c-4c76-9537-83319814e6bf\n"
     ]
    },
    {
     "name": "stdout",
     "output_type": "stream",
     "text": [
      "1.4394368334607135\n",
      "1.0934220882436245\n",
      "1.0934220882436245\n",
      "1.0934220882436245\n",
      "1.0201326428481763\n",
      "1.0201326428481763\n",
      "1.0201326428481763\n",
      "1.2518004844989141\n",
      "1.0934220882436245\n",
      "1.320678505679906\n",
      "0.9964956060201374\n",
      "1.3320648927930334\n",
      "0.9964956060201374\n",
      "1.0932239605130822\n",
      "1.0932239605130822\n",
      "1.2460825212987188\n",
      "1.0934220882436245\n"
     ]
    },
    {
     "name": "stderr",
     "output_type": "stream",
     "text": [
      "[I 2023-07-30 12:23:41,208] Trial 1 finished with value: -1.0503459419109187 and parameters: {'max_depth': 7, 'num_leaves': 7, 'subsample': 0.8, 'colsample_bytree': 0.8, 'reg_alpha': 6.269881631520897, 'reg_lambda': 8.182062656840335}. Best is trial 1 with value: -1.0503459419109187.\n"
     ]
    },
    {
     "name": "stdout",
     "output_type": "stream",
     "text": [
      "1.048455411929573\n",
      "1.3118746473744087\n",
      "1.3079459384721948\n",
      "1.3217605069391911\n",
      "1.317333704296584\n"
     ]
    },
    {
     "name": "stderr",
     "output_type": "stream",
     "text": [
      "[I 2023-07-30 12:23:42,632] Trial 3 finished with value: -1.0503459419109187 and parameters: {'max_depth': 3, 'num_leaves': 7, 'subsample': 0.8, 'colsample_bytree': 0.8, 'reg_alpha': 6.881965499916807, 'reg_lambda': 0.01962025698244502}. Best is trial 1 with value: -1.0503459419109187.\n"
     ]
    },
    {
     "name": "stdout",
     "output_type": "stream",
     "text": [
      "1.048455411929573\n",
      "1.3809706204689043\n",
      "0.9964956060201374\n",
      "1.2585690830981076\n",
      "1.322205724976991\n",
      "1.2655352154975485\n",
      "1.3397647193459872\n",
      "1.3387196490260242\n",
      "1.357604120148788\n",
      "1.320549421535837\n",
      "1.3659044164625262\n"
     ]
    },
    {
     "name": "stderr",
     "output_type": "stream",
     "text": [
      "[I 2023-07-30 12:23:56,690] Trial 2 finished with value: -1.1077310907190074 and parameters: {'max_depth': 5, 'num_leaves': 127, 'subsample': 0.8, 'colsample_bytree': 0.8, 'reg_alpha': 1.814405430798497, 'reg_lambda': 0.7134365289253763}. Best is trial 2 with value: -1.1077310907190074.\n"
     ]
    },
    {
     "name": "stdout",
     "output_type": "stream",
     "text": [
      "1.1630699009855505\n",
      "1.4141752049206628\n",
      "1.518045990019738\n",
      "1.5278307270213838\n",
      "1.5117861855803456\n",
      "1.4952857462155205\n",
      "1.357476287568199\n",
      "1.4991035394500152\n"
     ]
    },
    {
     "name": "stderr",
     "output_type": "stream",
     "text": [
      "[I 2023-07-30 12:24:10,028] Trial 0 finished with value: -1.39312543564754 and parameters: {'max_depth': 3, 'num_leaves': 127, 'subsample': 0.8, 'colsample_bytree': 0.8, 'reg_alpha': 0.0010958603081822286, 'reg_lambda': 0.0017576073839814116}. Best is trial 0 with value: -1.39312543564754.\n"
     ]
    },
    {
     "name": "stdout",
     "output_type": "stream",
     "text": [
      "1.3849962186083913\n"
     ]
    },
    {
     "name": "stderr",
     "output_type": "stream",
     "text": [
      "[I 2023-07-30 12:24:12,646] Trial 8 finished with value: -1.3541270916117183 and parameters: {'max_depth': 3, 'num_leaves': 31, 'subsample': 0.8, 'colsample_bytree': 0.8, 'reg_alpha': 0.4528077913008957, 'reg_lambda': 6.579922253032846}. Best is trial 0 with value: -1.39312543564754.\n"
     ]
    },
    {
     "name": "stdout",
     "output_type": "stream",
     "text": [
      "1.3636227160832373\n",
      "1.3588266291241724\n"
     ]
    },
    {
     "name": "stderr",
     "output_type": "stream",
     "text": [
      "[I 2023-07-30 12:24:20,425] Trial 5 finished with value: -1.3074818625116285 and parameters: {'max_depth': 3, 'num_leaves': 7, 'subsample': 0.8, 'colsample_bytree': 0.8, 'reg_alpha': 0.4375877715075018, 'reg_lambda': 0.003752695999977967}. Best is trial 0 with value: -1.39312543564754.\n"
     ]
    },
    {
     "name": "stdout",
     "output_type": "stream",
     "text": [
      "1.3530825341002275\n"
     ]
    },
    {
     "name": "stderr",
     "output_type": "stream",
     "text": [
      "[I 2023-07-30 12:24:22,918] Trial 4 finished with value: -1.3210398128910452 and parameters: {'max_depth': 3, 'num_leaves': 63, 'subsample': 0.8, 'colsample_bytree': 0.8, 'reg_alpha': 0.3581999086718822, 'reg_lambda': 0.1854265679915158}. Best is trial 0 with value: -1.39312543564754.\n"
     ]
    },
    {
     "name": "stdout",
     "output_type": "stream",
     "text": [
      "1.3604378766734728\n",
      "1.492803131581558\n"
     ]
    },
    {
     "name": "stderr",
     "output_type": "stream",
     "text": [
      "[I 2023-07-30 12:24:24,181] Trial 6 finished with value: -1.359990588075719 and parameters: {'max_depth': 3, 'num_leaves': 63, 'subsample': 0.8, 'colsample_bytree': 0.8, 'reg_alpha': 0.3246168928691431, 'reg_lambda': 0.0026589149822533156}. Best is trial 0 with value: -1.39312543564754.\n"
     ]
    },
    {
     "name": "stdout",
     "output_type": "stream",
     "text": [
      "1.3696842893416863\n",
      "1.4776395357554932\n"
     ]
    },
    {
     "name": "stderr",
     "output_type": "stream",
     "text": [
      "[I 2023-07-30 12:24:29,459] Trial 9 finished with value: -1.3793670846751354 and parameters: {'max_depth': 7, 'num_leaves': 31, 'subsample': 0.8, 'colsample_bytree': 0.8, 'reg_alpha': 0.002352867733690246, 'reg_lambda': 0.2798000855884524}. Best is trial 0 with value: -1.39312543564754.\n"
     ]
    },
    {
     "name": "stdout",
     "output_type": "stream",
     "text": [
      "1.3727056492911984\n"
     ]
    },
    {
     "name": "stderr",
     "output_type": "stream",
     "text": [
      "[I 2023-07-30 12:24:30,714] Trial 7 finished with value: -1.388523343031871 and parameters: {'max_depth': 7, 'num_leaves': 63, 'subsample': 0.8, 'colsample_bytree': 0.8, 'reg_alpha': 0.0021743287707544014, 'reg_lambda': 1.6520837303765143}. Best is trial 0 with value: -1.39312543564754.\n",
      "[I 2023-07-30 12:24:30,716] A new study created in memory with name: no-name-3979a41c-8c8a-4621-8eeb-3a8275e78997\n"
     ]
    },
    {
     "name": "stdout",
     "output_type": "stream",
     "text": [
      "1.380100697984618\n",
      "1.0916917989670694\n",
      "1.0916917989670694\n",
      "1.285799785111327\n",
      "1.2169042863829151\n",
      "1.0916917989670694\n",
      "1.0916917989670694\n",
      "1.0916917989670694\n",
      "1.0916917989670694\n",
      "1.021124306471695\n",
      "1.021124306471695\n",
      "1.021124306471695\n",
      "0.9983407635116299\n",
      "1.1382330069644648\n",
      "0.9983407635116299\n",
      "1.1714781355555806\n",
      "1.1986332788440308\n",
      "1.2870478186854888\n",
      "1.0942923140154794\n",
      "1.2608553357969188\n",
      "1.0942923140154794\n",
      "0.9983407635116299\n",
      "1.273835938436612\n",
      "1.25171292345888\n",
      "1.2996925370663226\n",
      "1.4774306050355874\n"
     ]
    },
    {
     "name": "stderr",
     "output_type": "stream",
     "text": [
      "[I 2023-07-30 12:24:55,411] Trial 3 finished with value: -1.0512029100214797 and parameters: {'max_depth': 7, 'num_leaves': 63, 'subsample': 0.8, 'colsample_bytree': 0.8, 'reg_alpha': 7.15270958875551, 'reg_lambda': 1.8128417894886697}. Best is trial 3 with value: -1.0512029100214797.\n"
     ]
    },
    {
     "name": "stdout",
     "output_type": "stream",
     "text": [
      "1.0505653671415236\n"
     ]
    },
    {
     "name": "stderr",
     "output_type": "stream",
     "text": [
      "[I 2023-07-30 12:24:56,771] Trial 9 finished with value: -1.0512029100214797 and parameters: {'max_depth': 5, 'num_leaves': 7, 'subsample': 0.8, 'colsample_bytree': 0.8, 'reg_alpha': 7.0586517532670365, 'reg_lambda': 7.842460361218983}. Best is trial 3 with value: -1.0512029100214797.\n"
     ]
    },
    {
     "name": "stdout",
     "output_type": "stream",
     "text": [
      "1.0505653671415236\n",
      "1.3357450301621265\n",
      "1.4285995458149885\n",
      "1.305274243974132\n",
      "1.287466224843107\n",
      "1.497690895802828\n"
     ]
    },
    {
     "name": "stderr",
     "output_type": "stream",
     "text": [
      "[I 2023-07-30 12:25:04,312] Trial 0 finished with value: -1.2071954048612643 and parameters: {'max_depth': 7, 'num_leaves': 7, 'subsample': 0.8, 'colsample_bytree': 0.8, 'reg_alpha': 0.9615140448238784, 'reg_lambda': 0.002365191495584573}. Best is trial 0 with value: -1.2071954048612643.\n"
     ]
    },
    {
     "name": "stdout",
     "output_type": "stream",
     "text": [
      "1.2470970349879382\n"
     ]
    },
    {
     "name": "stderr",
     "output_type": "stream",
     "text": [
      "[I 2023-07-30 12:25:07,271] Trial 5 finished with value: -1.1754473904032274 and parameters: {'max_depth': 7, 'num_leaves': 31, 'subsample': 0.8, 'colsample_bytree': 0.8, 'reg_alpha': 1.1585303290147169, 'reg_lambda': 2.131405585149356}. Best is trial 0 with value: -1.2071954048612643.\n"
     ]
    },
    {
     "name": "stdout",
     "output_type": "stream",
     "text": [
      "1.2203718367579839\n",
      "1.4828225649899398\n",
      "1.317727178532305\n",
      "1.3077427388772889\n"
     ]
    },
    {
     "name": "stderr",
     "output_type": "stream",
     "text": [
      "[I 2023-07-30 12:25:11,143] Trial 4 finished with value: -1.2611128762615818 and parameters: {'max_depth': 3, 'num_leaves': 63, 'subsample': 0.8, 'colsample_bytree': 0.8, 'reg_alpha': 0.6470499943920235, 'reg_lambda': 0.01912297505311035}. Best is trial 4 with value: -1.2611128762615818.\n"
     ]
    },
    {
     "name": "stdout",
     "output_type": "stream",
     "text": [
      "1.2929906275235505\n",
      "1.2961575936665217\n",
      "1.3130233041592922\n",
      "1.4706117299911672\n"
     ]
    },
    {
     "name": "stderr",
     "output_type": "stream",
     "text": [
      "[I 2023-07-30 12:25:27,095] Trial 2 finished with value: -1.2899752719741735 and parameters: {'max_depth': 3, 'num_leaves': 127, 'subsample': 0.8, 'colsample_bytree': 0.8, 'reg_alpha': 0.40348687791482996, 'reg_lambda': 0.0988189327288433}. Best is trial 2 with value: -1.2899752719741735.\n"
     ]
    },
    {
     "name": "stdout",
     "output_type": "stream",
     "text": [
      "1.3092324161428066\n",
      "1.2630050589816924\n",
      "1.40783423936660921.4560367298202035\n",
      "\n"
     ]
    },
    {
     "name": "stderr",
     "output_type": "stream",
     "text": [
      "[I 2023-07-30 12:25:36,595] Trial 1 finished with value: -1.3347596515940188 and parameters: {'max_depth': 5, 'num_leaves': 127, 'subsample': 0.8, 'colsample_bytree': 0.8, 'reg_alpha': 0.20578352257069174, 'reg_lambda': 4.551937636487272}. Best is trial 1 with value: -1.3347596515940188.\n"
     ]
    },
    {
     "name": "stdout",
     "output_type": "stream",
     "text": [
      "1.2999670272689727\n",
      "1.4124152868524644\n"
     ]
    },
    {
     "name": "stderr",
     "output_type": "stream",
     "text": [
      "[I 2023-07-30 12:25:41,787] Trial 7 finished with value: -1.3276869974391559 and parameters: {'max_depth': 7, 'num_leaves': 63, 'subsample': 0.8, 'colsample_bytree': 0.8, 'reg_alpha': 0.001734449578686734, 'reg_lambda': 1.1686292309046806}. Best is trial 1 with value: -1.3347596515940188.\n"
     ]
    },
    {
     "name": "stdout",
     "output_type": "stream",
     "text": [
      "1.3167256366712419\n"
     ]
    },
    {
     "name": "stderr",
     "output_type": "stream",
     "text": [
      "[I 2023-07-30 12:25:42,725] Trial 6 finished with value: -1.3124643521175592 and parameters: {'max_depth': 7, 'num_leaves': 63, 'subsample': 0.8, 'colsample_bytree': 0.8, 'reg_alpha': 0.18145068692694097, 'reg_lambda': 5.392747252169462}. Best is trial 1 with value: -1.3347596515940188.\n"
     ]
    },
    {
     "name": "stdout",
     "output_type": "stream",
     "text": [
      "1.2838158840260694\n"
     ]
    },
    {
     "name": "stderr",
     "output_type": "stream",
     "text": [
      "[I 2023-07-30 12:25:44,903] Trial 8 finished with value: -1.3182571707392718 and parameters: {'max_depth': 7, 'num_leaves': 63, 'subsample': 0.8, 'colsample_bytree': 0.8, 'reg_alpha': 0.021271616555639316, 'reg_lambda': 6.968216765604046}. Best is trial 1 with value: -1.3347596515940188.\n",
      "[I 2023-07-30 12:25:44,905] A new study created in memory with name: no-name-8072fc27-b76d-45a6-8c2b-d20ba8b7919a\n"
     ]
    },
    {
     "name": "stdout",
     "output_type": "stream",
     "text": [
      "1.3342868305483004\n",
      "1.2463916122525625\n",
      "1.0902668589159228\n",
      "1.0902668589159228\n",
      "1.0902668589159228\n",
      "1.0223006018625824\n",
      "1.120172809362073\n",
      "1.0223006018625824\n",
      "1.1992404483585992\n",
      "1.245227136544264\n",
      "1.2005973628616173\n",
      "0.9985415452122535\n",
      "1.111480959222276\n",
      "0.9985415452122535\n",
      "1.0934895356153829\n",
      "1.1553758848274218\n",
      "1.2412173445386252\n",
      "1.0934895356153829\n"
     ]
    },
    {
     "name": "stderr",
     "output_type": "stream",
     "text": [
      "[I 2023-07-30 12:26:03,852] Trial 1 finished with value: -1.0512410930065463 and parameters: {'max_depth': 7, 'num_leaves': 31, 'subsample': 0.8, 'colsample_bytree': 0.8, 'reg_alpha': 6.669427181560561, 'reg_lambda': 1.653720104264577}. Best is trial 1 with value: -1.0512410930065463.\n"
     ]
    },
    {
     "name": "stdout",
     "output_type": "stream",
     "text": [
      "1.0516069234265901\n",
      "1.1478336617769764\n"
     ]
    },
    {
     "name": "stderr",
     "output_type": "stream",
     "text": [
      "[I 2023-07-30 12:26:06,887] Trial 7 finished with value: -1.0512410930065463 and parameters: {'max_depth': 5, 'num_leaves': 7, 'subsample': 0.8, 'colsample_bytree': 0.8, 'reg_alpha': 4.739088462787128, 'reg_lambda': 0.03786723333154527}. Best is trial 1 with value: -1.0512410930065463.\n"
     ]
    },
    {
     "name": "stdout",
     "output_type": "stream",
     "text": [
      "1.0516069234265901\n",
      "1.208569385233503\n",
      "1.3158501766379362\n",
      "1.1980088849168047\n",
      "1.3293518217464764\n",
      "1.2286911510099\n",
      "1.455626241443715\n",
      "1.2597541859629304\n",
      "1.4654072927996913\n",
      "1.4323429406951909\n",
      "1.311117553459435\n"
     ]
    },
    {
     "name": "stderr",
     "output_type": "stream",
     "text": [
      "[I 2023-07-30 12:26:28,889] Trial 6 finished with value: -1.2119938214300336 and parameters: {'max_depth': 5, 'num_leaves': 127, 'subsample': 0.8, 'colsample_bytree': 0.8, 'reg_alpha': 0.7832458803530216, 'reg_lambda': 0.006842555948088177}. Best is trial 6 with value: -1.2119938214300336.\n"
     ]
    },
    {
     "name": "stdout",
     "output_type": "stream",
     "text": [
      "1.254761385791277\n",
      "1.422399676986458\n",
      "1.3072582813283655\n",
      "1.283952186920547\n",
      "1.287749583533961\n"
     ]
    },
    {
     "name": "stderr",
     "output_type": "stream",
     "text": [
      "[I 2023-07-30 12:26:32,628] Trial 9 finished with value: -1.2393576709328165 and parameters: {'max_depth': 7, 'num_leaves': 7, 'subsample': 0.8, 'colsample_bytree': 0.8, 'reg_alpha': 0.6824208185804448, 'reg_lambda': 0.25742969186453873}. Best is trial 9 with value: -1.2393576709328165.\n"
     ]
    },
    {
     "name": "stdout",
     "output_type": "stream",
     "text": [
      "1.2578234827580914\n",
      "1.253054717147533\n"
     ]
    },
    {
     "name": "stderr",
     "output_type": "stream",
     "text": [
      "[I 2023-07-30 12:26:33,273] Trial 8 finished with value: -1.2955527701640819 and parameters: {'max_depth': 3, 'num_leaves': 7, 'subsample': 0.8, 'colsample_bytree': 0.8, 'reg_alpha': 0.007497357188862633, 'reg_lambda': 0.4859583288864236}. Best is trial 8 with value: -1.2955527701640819.\n"
     ]
    },
    {
     "name": "stdout",
     "output_type": "stream",
     "text": [
      "1.301639134118783\n"
     ]
    },
    {
     "name": "stderr",
     "output_type": "stream",
     "text": [
      "[I 2023-07-30 12:26:39,637] Trial 5 finished with value: -1.2959816076336719 and parameters: {'max_depth': 5, 'num_leaves': 7, 'subsample': 0.8, 'colsample_bytree': 0.8, 'reg_alpha': 0.005745825037365861, 'reg_lambda': 0.11065653196688649}. Best is trial 5 with value: -1.2959816076336719.\n"
     ]
    },
    {
     "name": "stdout",
     "output_type": "stream",
     "text": [
      "1.2678049906108773\n",
      "1.2602528396155281\n",
      "1.4379661097415897\n",
      "1.288047749344404\n",
      "1.2407946363878641\n",
      "1.3735252521506396\n",
      "1.3796586120689234\n",
      "1.3820434603796592\n"
     ]
    },
    {
     "name": "stderr",
     "output_type": "stream",
     "text": [
      "[I 2023-07-30 12:27:04,725] Trial 3 finished with value: -1.3037800229306147 and parameters: {'max_depth': 5, 'num_leaves': 31, 'subsample': 0.8, 'colsample_bytree': 0.8, 'reg_alpha': 0.20449253963554556, 'reg_lambda': 0.0010200507191170899}. Best is trial 3 with value: -1.3037800229306147.\n"
     ]
    },
    {
     "name": "stdout",
     "output_type": "stream",
     "text": [
      "1.271534597760252\n"
     ]
    },
    {
     "name": "stderr",
     "output_type": "stream",
     "text": [
      "[I 2023-07-30 12:27:07,400] Trial 0 finished with value: -1.288381139837567 and parameters: {'max_depth': 7, 'num_leaves': 31, 'subsample': 0.8, 'colsample_bytree': 0.8, 'reg_alpha': 0.13794879853951073, 'reg_lambda': 0.008631781131565052}. Best is trial 3 with value: -1.3037800229306147.\n"
     ]
    },
    {
     "name": "stdout",
     "output_type": "stream",
     "text": [
      "1.2829580759624957\n"
     ]
    },
    {
     "name": "stderr",
     "output_type": "stream",
     "text": [
      "[I 2023-07-30 12:27:08,843] Trial 4 finished with value: -1.2727167253167084 and parameters: {'max_depth': 7, 'num_leaves': 63, 'subsample': 0.8, 'colsample_bytree': 0.8, 'reg_alpha': 0.0017435022127578331, 'reg_lambda': 0.0030961367215988004}. Best is trial 3 with value: -1.3037800229306147.\n"
     ]
    },
    {
     "name": "stdout",
     "output_type": "stream",
     "text": [
      "1.2468114093592906\n"
     ]
    },
    {
     "name": "stderr",
     "output_type": "stream",
     "text": [
      "[I 2023-07-30 12:27:10,113] Trial 2 finished with value: -1.301496955996829 and parameters: {'max_depth': 7, 'num_leaves': 63, 'subsample': 0.8, 'colsample_bytree': 0.8, 'reg_alpha': 0.11292053461661362, 'reg_lambda': 0.10741068987729034}. Best is trial 3 with value: -1.3037800229306147.\n",
      "[I 2023-07-30 12:27:10,115] A new study created in memory with name: no-name-eab1a44e-56b8-4c02-88a6-dea9073241c9\n"
     ]
    },
    {
     "name": "stdout",
     "output_type": "stream",
     "text": [
      "1.2837436766791541\n",
      "1.089534652883725\n",
      "1.2131581643043516\n",
      "1.2034928630136534\n",
      "1.089534652883725\n",
      "1.089534652883725\n",
      "1.2182083832197088\n",
      "1.1044363397390597\n",
      "1.023524063364126\n",
      "1.206926678541924\n",
      "1.023524063364126\n",
      "1.2151460652651636\n",
      "1.2254959850272644\n",
      "0.9985469424739475\n",
      "1.2898436961635573\n",
      "1.283493673041411\n",
      "1.2159778723329284\n",
      "0.9985469424739475\n",
      "0.9985469424739475\n",
      "1.0917133044267\n",
      "1.2987137210878066\n",
      "1.2184704418748562\n",
      "1.2506054826619102\n"
     ]
    },
    {
     "name": "stderr",
     "output_type": "stream",
     "text": [
      "[I 2023-07-30 12:27:34,868] Trial 5 finished with value: -1.0511709928664223 and parameters: {'max_depth': 5, 'num_leaves': 31, 'subsample': 0.8, 'colsample_bytree': 0.8, 'reg_alpha': 4.982389208526524, 'reg_lambda': 0.06104485841946104}. Best is trial 5 with value: -1.0511709928664223.\n"
     ]
    },
    {
     "name": "stdout",
     "output_type": "stream",
     "text": [
      "1.0525360011836131\n",
      "1.2693819916608398\n",
      "1.0917133044267\n",
      "1.3966565838993075\n",
      "1.3428316482729425\n"
     ]
    },
    {
     "name": "stderr",
     "output_type": "stream",
     "text": [
      "[I 2023-07-30 12:27:41,950] Trial 8 finished with value: -1.0511709928664223 and parameters: {'max_depth': 3, 'num_leaves': 7, 'subsample': 0.8, 'colsample_bytree': 0.8, 'reg_alpha': 3.234031833745886, 'reg_lambda': 0.029374348999321377}. Best is trial 5 with value: -1.0511709928664223.\n"
     ]
    },
    {
     "name": "stdout",
     "output_type": "stream",
     "text": [
      "1.0525360011836131\n",
      "1.3800209561362433\n",
      "1.3136658419646072\n",
      "1.216808063840186\n",
      "1.225593362137959\n",
      "1.3063085224301738\n"
     ]
    },
    {
     "name": "stderr",
     "output_type": "stream",
     "text": [
      "[I 2023-07-30 12:27:47,953] Trial 1 finished with value: -1.2736776460748431 and parameters: {'max_depth': 3, 'num_leaves': 63, 'subsample': 0.8, 'colsample_bytree': 0.8, 'reg_alpha': 0.009931018704642733, 'reg_lambda': 0.0900599967157838}. Best is trial 1 with value: -1.2736776460748431.\n"
     ]
    },
    {
     "name": "stdout",
     "output_type": "stream",
     "text": [
      "1.259924645422842\n",
      "1.235981937036203\n"
     ]
    },
    {
     "name": "stderr",
     "output_type": "stream",
     "text": [
      "[I 2023-07-30 12:27:49,440] Trial 2 finished with value: -1.1380059481792124 and parameters: {'max_depth': 7, 'num_leaves': 31, 'subsample': 0.8, 'colsample_bytree': 0.8, 'reg_alpha': 1.4518620466681829, 'reg_lambda': 0.03067753280182351}. Best is trial 1 with value: -1.2736776460748431.\n"
     ]
    },
    {
     "name": "stdout",
     "output_type": "stream",
     "text": [
      "1.1546801575263865\n"
     ]
    },
    {
     "name": "stderr",
     "output_type": "stream",
     "text": [
      "[I 2023-07-30 12:27:52,593] Trial 0 finished with value: -1.2753126141844011 and parameters: {'max_depth': 3, 'num_leaves': 127, 'subsample': 0.8, 'colsample_bytree': 0.8, 'reg_alpha': 0.050427009739225065, 'reg_lambda': 0.8794955759232698}. Best is trial 0 with value: -1.2753126141844011.\n"
     ]
    },
    {
     "name": "stdout",
     "output_type": "stream",
     "text": [
      "1.2492847947780898\n",
      "1.322476844548165\n",
      "1.2397738870417219\n",
      "1.3208624321781206\n",
      "1.2262027718267183\n",
      "1.229840276556605\n",
      "1.3386808755486943\n"
     ]
    },
    {
     "name": "stderr",
     "output_type": "stream",
     "text": [
      "[I 2023-07-30 12:28:05,266] Trial 7 finished with value: -1.2532194652058473 and parameters: {'max_depth': 5, 'num_leaves': 127, 'subsample': 0.8, 'colsample_bytree': 0.8, 'reg_alpha': 0.002497016092723905, 'reg_lambda': 0.002298968954697514}. Best is trial 0 with value: -1.2753126141844011.\n"
     ]
    },
    {
     "name": "stdout",
     "output_type": "stream",
     "text": [
      "1.2417184491403477\n",
      "1.3540219660305175\n",
      "1.2659263975824115\n"
     ]
    },
    {
     "name": "stderr",
     "output_type": "stream",
     "text": [
      "[I 2023-07-30 12:28:09,814] Trial 3 finished with value: -1.2642745392980426 and parameters: {'max_depth': 5, 'num_leaves': 127, 'subsample': 0.8, 'colsample_bytree': 0.8, 'reg_alpha': 0.023153387483135127, 'reg_lambda': 7.047464117045089}. Best is trial 0 with value: -1.2753126141844011.\n"
     ]
    },
    {
     "name": "stdout",
     "output_type": "stream",
     "text": [
      "1.2667800961643905\n"
     ]
    },
    {
     "name": "stderr",
     "output_type": "stream",
     "text": [
      "[I 2023-07-30 12:28:10,784] Trial 6 finished with value: -1.2695198223227002 and parameters: {'max_depth': 5, 'num_leaves': 63, 'subsample': 0.8, 'colsample_bytree': 0.8, 'reg_alpha': 0.011872164997760103, 'reg_lambda': 0.001418319402185479}. Best is trial 0 with value: -1.2753126141844011.\n"
     ]
    },
    {
     "name": "stdout",
     "output_type": "stream",
     "text": [
      "1.2403324417933148\n"
     ]
    },
    {
     "name": "stderr",
     "output_type": "stream",
     "text": [
      "[I 2023-07-30 12:28:13,033] Trial 9 finished with value: -1.2711818749730526 and parameters: {'max_depth': 5, 'num_leaves': 127, 'subsample': 0.8, 'colsample_bytree': 0.8, 'reg_alpha': 0.03973716809656775, 'reg_lambda': 0.004199034407015384}. Best is trial 0 with value: -1.2753126141844011.\n"
     ]
    },
    {
     "name": "stdout",
     "output_type": "stream",
     "text": [
      "1.2438801295505892\n"
     ]
    },
    {
     "name": "stderr",
     "output_type": "stream",
     "text": [
      "[I 2023-07-30 12:28:14,423] Trial 4 finished with value: -1.2358676528973636 and parameters: {'max_depth': 7, 'num_leaves': 127, 'subsample': 0.8, 'colsample_bytree': 0.8, 'reg_alpha': 0.0013802188827307068, 'reg_lambda': 8.274499784335266}. Best is trial 0 with value: -1.2753126141844011.\n",
      "[I 2023-07-30 12:28:14,425] A new study created in memory with name: no-name-3051c18f-3f15-4664-8bf2-0a349c6b489e\n"
     ]
    },
    {
     "name": "stdout",
     "output_type": "stream",
     "text": [
      "1.2316117809786697\n",
      "1.0891330138735245\n",
      "1.0891330138735245\n",
      "1.1113956667965672\n",
      "1.0891330138735245\n",
      "1.0891330138735245\n",
      "1.0891330138735245\n",
      "1.0241703919454335\n",
      "1.0241703919454335\n",
      "1.1773264312458684\n",
      "1.0241703919454335\n",
      "1.1903361930636438\n",
      "1.0241703919454335\n",
      "1.0846794087364557\n",
      "1.101235168125322\n",
      "0.997624594338099\n",
      "1.2065879599135612\n",
      "0.997624594338099\n",
      "1.1867954516445178\n",
      "0.997624594338099\n",
      "0.997624594338099\n",
      "1.2695682712709209\n",
      "1.0900091803761787\n",
      "1.223348972971974\n",
      "1.0900091803761787\n",
      "1.047447390800771\n",
      "1.0900091803761787\n",
      "1.1161465258269891\n"
     ]
    },
    {
     "name": "stderr",
     "output_type": "stream",
     "text": [
      "[I 2023-07-30 12:28:38,681] Trial 3 finished with value: -1.0506711491153433 and parameters: {'max_depth': 7, 'num_leaves': 127, 'subsample': 0.8, 'colsample_bytree': 0.8, 'reg_alpha': 8.705128009504369, 'reg_lambda': 0.5649434567009679}. Best is trial 3 with value: -1.0506711491153433.\n"
     ]
    },
    {
     "name": "stdout",
     "output_type": "stream",
     "text": [
      "1.052418565043481\n",
      "1.195488482260003\n",
      "1.0900091803761787\n",
      "1.2351553598740628\n"
     ]
    },
    {
     "name": "stderr",
     "output_type": "stream",
     "text": [
      "[I 2023-07-30 12:28:43,269] Trial 7 finished with value: -1.0506711491153433 and parameters: {'max_depth': 3, 'num_leaves': 63, 'subsample': 0.8, 'colsample_bytree': 0.8, 'reg_alpha': 9.957127353993618, 'reg_lambda': 0.0010686636970622474}. Best is trial 3 with value: -1.0506711491153433.\n"
     ]
    },
    {
     "name": "stdout",
     "output_type": "stream",
     "text": [
      "1.052418565043481\n",
      "1.194069966094167\n"
     ]
    },
    {
     "name": "stderr",
     "output_type": "stream",
     "text": [
      "[I 2023-07-30 12:28:44,944] Trial 8 finished with value: -1.0506711491153433 and parameters: {'max_depth': 5, 'num_leaves': 7, 'subsample': 0.8, 'colsample_bytree': 0.8, 'reg_alpha': 8.286390604483923, 'reg_lambda': 0.0028764150700956903}. Best is trial 3 with value: -1.0506711491153433.\n"
     ]
    },
    {
     "name": "stdout",
     "output_type": "stream",
     "text": [
      "1.052418565043481\n",
      "1.3601066907826207\n",
      "1.1597546123255627\n",
      "1.3265980797403116\n",
      "1.3049720388547201\n"
     ]
    },
    {
     "name": "stderr",
     "output_type": "stream",
     "text": [
      "[I 2023-07-30 12:28:54,594] Trial 0 finished with value: -1.0506711491153433 and parameters: {'max_depth': 5, 'num_leaves': 7, 'subsample': 0.8, 'colsample_bytree': 0.8, 'reg_alpha': 3.412424665482099, 'reg_lambda': 0.7729779730782124}. Best is trial 3 with value: -1.0506711491153433.\n"
     ]
    },
    {
     "name": "stdout",
     "output_type": "stream",
     "text": [
      "1.052418565043481\n",
      "1.1865367212508298\n"
     ]
    },
    {
     "name": "stderr",
     "output_type": "stream",
     "text": [
      "[I 2023-07-30 12:28:58,275] Trial 2 finished with value: -1.1785474596162007 and parameters: {'max_depth': 5, 'num_leaves': 31, 'subsample': 0.8, 'colsample_bytree': 0.8, 'reg_alpha': 0.8762270670438164, 'reg_lambda': 3.6567099827319196}. Best is trial 2 with value: -1.1785474596162007.\n"
     ]
    },
    {
     "name": "stdout",
     "output_type": "stream",
     "text": [
      "1.203853246549504\n"
     ]
    },
    {
     "name": "stderr",
     "output_type": "stream",
     "text": [
      "[I 2023-07-30 12:28:58,585] Trial 9 finished with value: -1.2362383149599638 and parameters: {'max_depth': 7, 'num_leaves': 7, 'subsample': 0.8, 'colsample_bytree': 0.8, 'reg_alpha': 0.004828209457757101, 'reg_lambda': 2.036439957994283}. Best is trial 9 with value: -1.2362383149599638.\n"
     ]
    },
    {
     "name": "stdout",
     "output_type": "stream",
     "text": [
      "1.2122103102827155\n"
     ]
    },
    {
     "name": "stderr",
     "output_type": "stream",
     "text": [
      "[I 2023-07-30 12:28:58,949] Trial 6 finished with value: -1.1321462242779172 and parameters: {'max_depth': 3, 'num_leaves': 127, 'subsample': 0.8, 'colsample_bytree': 0.8, 'reg_alpha': 1.5733490811904294, 'reg_lambda': 0.4734974059368161}. Best is trial 9 with value: -1.2362383149599638.\n"
     ]
    },
    {
     "name": "stdout",
     "output_type": "stream",
     "text": [
      "1.1344992691241154\n",
      "1.175461952829526\n",
      "1.2969988913695847\n",
      "1.3222228957667563\n",
      "1.2715533154949268\n"
     ]
    },
    {
     "name": "stderr",
     "output_type": "stream",
     "text": [
      "[I 2023-07-30 12:29:09,806] Trial 1 finished with value: -1.214187720511935 and parameters: {'max_depth': 7, 'num_leaves': 63, 'subsample': 0.8, 'colsample_bytree': 0.8, 'reg_alpha': 0.009247544347940563, 'reg_lambda': 1.5414717004852159}. Best is trial 9 with value: -1.2362383149599638.\n"
     ]
    },
    {
     "name": "stdout",
     "output_type": "stream",
     "text": [
      "1.2004999328289099\n"
     ]
    },
    {
     "name": "stderr",
     "output_type": "stream",
     "text": [
      "[I 2023-07-30 12:29:10,603] Trial 5 finished with value: -1.2372769797219059 and parameters: {'max_depth': 5, 'num_leaves': 127, 'subsample': 0.8, 'colsample_bytree': 0.8, 'reg_alpha': 0.037590079589719716, 'reg_lambda': 0.017512651521535947}. Best is trial 5 with value: -1.2372769797219059.\n"
     ]
    },
    {
     "name": "stdout",
     "output_type": "stream",
     "text": [
      "1.2358819618043195\n"
     ]
    },
    {
     "name": "stderr",
     "output_type": "stream",
     "text": [
      "[I 2023-07-30 12:29:12,737] Trial 4 finished with value: -1.2152479671328578 and parameters: {'max_depth': 7, 'num_leaves': 63, 'subsample': 0.8, 'colsample_bytree': 0.8, 'reg_alpha': 0.004422302808514582, 'reg_lambda': 0.004738924052710239}. Best is trial 5 with value: -1.2372769797219059.\n",
      "[I 2023-07-30 12:29:12,740] A new study created in memory with name: no-name-81e1700b-bcd0-4bdc-ac2b-ff3ceb11ca2d\n"
     ]
    },
    {
     "name": "stdout",
     "output_type": "stream",
     "text": [
      "1.2483591496011515\n",
      "1.0886131052695254\n",
      "1.1439503665701993\n",
      "1.1876844071138963\n",
      "1.0886131052695254\n",
      "1.1062097504860384\n",
      "1.0244773935355804\n",
      "1.15653290383639\n",
      "1.1905117732650916\n",
      "1.175444273631002\n",
      "1.2086528986761258\n",
      "1.1934541903542564\n",
      "0.9961936611024452\n",
      "1.0883438720768088\n",
      "1.2248235562385181\n",
      "1.2287109091004744\n",
      "1.1651290989216605\n"
     ]
    },
    {
     "name": "stderr",
     "output_type": "stream",
     "text": [
      "[I 2023-07-30 12:29:29,851] Trial 1 finished with value: -1.049879209369585 and parameters: {'max_depth': 7, 'num_leaves': 63, 'subsample': 0.8, 'colsample_bytree': 0.8, 'reg_alpha': 6.9969618216073535, 'reg_lambda': 0.0034697059081598724}. Best is trial 1 with value: -1.049879209369585.\n"
     ]
    },
    {
     "name": "stdout",
     "output_type": "stream",
     "text": [
      "1.0517680148635646\n",
      "1.2359110452186344\n",
      "1.2244838108712848\n",
      "1.2218527217592972\n",
      "1.2114950648463059\n",
      "1.2044140056819799\n",
      "1.2230730833907841\n",
      "1.1351968542910842\n",
      "1.155823549123774\n",
      "1.216946331537623\n",
      "1.151743116482724\n",
      "1.1727074523848187\n",
      "1.1552767520588512\n",
      "1.182495356661775\n",
      "1.320208327167044\n",
      "1.1809231009018668\n",
      "1.309916168588766\n",
      "1.3150477063446162\n",
      "1.2933749478305123\n",
      "1.3342885928203883\n",
      "1.171263132690767\n",
      "1.2937979129711306\n"
     ]
    },
    {
     "name": "stderr",
     "output_type": "stream",
     "text": [
      "[I 2023-07-30 12:30:04,560] Trial 3 finished with value: -1.2024599312909257 and parameters: {'max_depth': 3, 'num_leaves': 31, 'subsample': 0.8, 'colsample_bytree': 0.8, 'reg_alpha': 0.0010598012072499277, 'reg_lambda': 0.12845636553817744}. Best is trial 3 with value: -1.2024599312909257.\n"
     ]
    },
    {
     "name": "stdout",
     "output_type": "stream",
     "text": [
      "1.1842331993258262\n",
      "1.3131032601441697\n",
      "1.2930238333767565\n"
     ]
    },
    {
     "name": "stderr",
     "output_type": "stream",
     "text": [
      "[I 2023-07-30 12:30:12,813] Trial 0 finished with value: -1.224151711906723 and parameters: {'max_depth': 3, 'num_leaves': 63, 'subsample': 0.8, 'colsample_bytree': 0.8, 'reg_alpha': 0.049420444243578096, 'reg_lambda': 2.0507202841338894}. Best is trial 0 with value: -1.224151711906723.\n"
     ]
    },
    {
     "name": "stdout",
     "output_type": "stream",
     "text": [
      "1.193920421910454\n"
     ]
    },
    {
     "name": "stderr",
     "output_type": "stream",
     "text": [
      "[I 2023-07-30 12:30:13,872] Trial 4 finished with value: -1.1960964688768638 and parameters: {'max_depth': 7, 'num_leaves': 7, 'subsample': 0.8, 'colsample_bytree': 0.8, 'reg_alpha': 0.003707493271172896, 'reg_lambda': 0.020014948474038}. Best is trial 0 with value: -1.224151711906723.\n"
     ]
    },
    {
     "name": "stdout",
     "output_type": "stream",
     "text": [
      "1.2046707187137584\n"
     ]
    },
    {
     "name": "stderr",
     "output_type": "stream",
     "text": [
      "[I 2023-07-30 12:30:14,409] Trial 5 finished with value: -1.219669275745001 and parameters: {'max_depth': 3, 'num_leaves': 63, 'subsample': 0.8, 'colsample_bytree': 0.8, 'reg_alpha': 0.03236722594802153, 'reg_lambda': 0.0019307801098582106}. Best is trial 0 with value: -1.224151711906723.\n",
      "[I 2023-07-30 12:30:14,411] Trial 7 pruned. Trial was pruned at iteration 205.\n",
      "[I 2023-07-30 12:30:14,434] Trial 2 pruned. Trial was pruned at iteration 97.\n",
      "[I 2023-07-30 12:30:14,534] Trial 6 pruned. Trial was pruned at iteration 0.\n"
     ]
    },
    {
     "name": "stdout",
     "output_type": "stream",
     "text": [
      "1.194053338129499\n",
      "1.2945213308934735\n"
     ]
    },
    {
     "name": "stderr",
     "output_type": "stream",
     "text": [
      "[I 2023-07-30 12:30:17,648] Trial 8 finished with value: -1.2229874140709707 and parameters: {'max_depth': 3, 'num_leaves': 31, 'subsample': 0.8, 'colsample_bytree': 0.8, 'reg_alpha': 0.12555232754343426, 'reg_lambda': 0.002637273660559737}. Best is trial 0 with value: -1.224151711906723.\n"
     ]
    },
    {
     "name": "stdout",
     "output_type": "stream",
     "text": [
      "1.189184727241908\n"
     ]
    },
    {
     "name": "stderr",
     "output_type": "stream",
     "text": [
      "[I 2023-07-30 12:30:20,579] Trial 9 finished with value: -1.2171668867365555 and parameters: {'max_depth': 5, 'num_leaves': 7, 'subsample': 0.8, 'colsample_bytree': 0.8, 'reg_alpha': 0.16085209646636886, 'reg_lambda': 0.007729623582885794}. Best is trial 0 with value: -1.224151711906723.\n"
     ]
    },
    {
     "name": "stdout",
     "output_type": "stream",
     "text": [
      "1.209649448206658\n",
      ">>>Done with 8 processes, and time taken is 706.0093419551849\n",
      "Time taken:  709.3359920978546 seconds\n"
     ]
    },
    {
     "name": "stderr",
     "output_type": "stream",
     "text": [
      "[I 2023-07-30 12:30:26,836] A new study created in memory with name: no-name-a0620d05-d893-4801-bec7-d50381858536\n"
     ]
    },
    {
     "name": "stdout",
     "output_type": "stream",
     "text": [
      "1.1172706922649347\n",
      "1.1172706922649347\n",
      "1.1172706922649347\n",
      "1.1172706922649347\n",
      "1.0026319715096985\n",
      "1.0026319715096985\n",
      "1.0026319715096985\n",
      "1.1172706922649347\n",
      "1.0026319715096985\n",
      "2.0044475755155524\n",
      "1.9862489908293313\n",
      "1.9820774998386064\n",
      "0.9794253262098529\n",
      "0.9794253262098529\n",
      "0.9794253262098529\n",
      "0.9794253262098529\n",
      "1.4470326192835827\n",
      "1.0548483790375318\n",
      "1.0548483790375318\n",
      "1.6608845869748183\n",
      "1.9435541089330997\n"
     ]
    },
    {
     "name": "stderr",
     "output_type": "stream",
     "text": [
      "[I 2023-07-30 12:30:55,740] Trial 4 finished with value: -1.0445586100768076 and parameters: {'max_depth': 3, 'num_leaves': 31, 'subsample': 0.8, 'colsample_bytree': 0.8, 'reg_alpha': 4.2334388260914615, 'reg_lambda': 0.876306991693625}. Best is trial 4 with value: -1.0445586100768076.\n"
     ]
    },
    {
     "name": "stdout",
     "output_type": "stream",
     "text": [
      "1.0686166813620197\n"
     ]
    },
    {
     "name": "stderr",
     "output_type": "stream",
     "text": [
      "[I 2023-07-30 12:30:55,999] Trial 5 finished with value: -1.0445586100768076 and parameters: {'max_depth': 3, 'num_leaves': 63, 'subsample': 0.8, 'colsample_bytree': 0.8, 'reg_alpha': 6.8353174338296965, 'reg_lambda': 1.6025886532940115}. Best is trial 4 with value: -1.0445586100768076.\n"
     ]
    },
    {
     "name": "stdout",
     "output_type": "stream",
     "text": [
      "1.0686166813620197\n",
      "1.7784698666475816\n",
      "1.0548483790375318\n",
      "1.8961496281920152\n",
      "1.0548483790375318\n",
      "2.06413402712316\n",
      "1.8730944060898747\n",
      "1.9382943477066252\n"
     ]
    },
    {
     "name": "stderr",
     "output_type": "stream",
     "text": [
      "[I 2023-07-30 12:31:07,082] Trial 2 finished with value: -1.1036896266341387 and parameters: {'max_depth': 7, 'num_leaves': 63, 'subsample': 0.8, 'colsample_bytree': 0.8, 'reg_alpha': 0.8627206496588665, 'reg_lambda': 1.7886301673037899}. Best is trial 2 with value: -1.1036896266341387.\n"
     ]
    },
    {
     "name": "stdout",
     "output_type": "stream",
     "text": [
      "1.3642717641486755\n"
     ]
    },
    {
     "name": "stderr",
     "output_type": "stream",
     "text": [
      "[I 2023-07-30 12:31:08,674] Trial 1 finished with value: -1.1036896266341387 and parameters: {'max_depth': 3, 'num_leaves': 127, 'subsample': 0.8, 'colsample_bytree': 0.8, 'reg_alpha': 0.8656615644126114, 'reg_lambda': 3.0244725136294273}. Best is trial 2 with value: -1.1036896266341387.\n"
     ]
    },
    {
     "name": "stdout",
     "output_type": "stream",
     "text": [
      "1.3642717641486755\n",
      "2.1193597287763666\n",
      "1.852090932022131\n",
      "1.9998266016349202\n",
      "2.2214464272927685\n",
      "2.0028727686914873\n",
      "2.055359945007888\n",
      "2.1447783011741812\n",
      "2.167904994384429\n"
     ]
    },
    {
     "name": "stderr",
     "output_type": "stream",
     "text": [
      "[I 2023-07-30 12:31:28,577] Trial 8 finished with value: -1.75554536545311 and parameters: {'max_depth': 7, 'num_leaves': 31, 'subsample': 0.8, 'colsample_bytree': 0.8, 'reg_alpha': 0.2300065657059315, 'reg_lambda': 0.2580880247103978}. Best is trial 8 with value: -1.75554536545311.\n",
      "[I 2023-07-30 12:31:28,582] Trial 6 pruned. Trial was pruned at iteration 52.\n",
      "[I 2023-07-30 12:31:28,606] Trial 3 pruned. Trial was pruned at iteration 131.\n"
     ]
    },
    {
     "name": "stdout",
     "output_type": "stream",
     "text": [
      "1.9356109192677167\n"
     ]
    },
    {
     "name": "stderr",
     "output_type": "stream",
     "text": [
      "[I 2023-07-30 12:31:34,104] Trial 7 finished with value: -2.020499942326359 and parameters: {'max_depth': 3, 'num_leaves': 7, 'subsample': 0.8, 'colsample_bytree': 0.8, 'reg_alpha': 0.01061581996445313, 'reg_lambda': 2.0098872755602617}. Best is trial 7 with value: -2.020499942326359.\n"
     ]
    },
    {
     "name": "stdout",
     "output_type": "stream",
     "text": [
      "1.9250961356235727\n",
      "2.016076325594712\n",
      "2.061147963052525\n"
     ]
    },
    {
     "name": "stderr",
     "output_type": "stream",
     "text": [
      "[I 2023-07-30 12:31:45,125] Trial 0 finished with value: -2.0153024378193196 and parameters: {'max_depth': 7, 'num_leaves': 63, 'subsample': 0.8, 'colsample_bytree': 0.8, 'reg_alpha': 0.061520850979983104, 'reg_lambda': 0.3853263027359312}. Best is trial 7 with value: -2.020499942326359.\n",
      "[I 2023-07-30 12:31:45,192] Trial 9 finished with value: -1.9966312429363449 and parameters: {'max_depth': 7, 'num_leaves': 63, 'subsample': 0.8, 'colsample_bytree': 0.8, 'reg_alpha': 0.0022044856637919137, 'reg_lambda': 1.8362908830987041}. Best is trial 7 with value: -2.020499942326359.\n",
      "[I 2023-07-30 12:31:45,194] A new study created in memory with name: no-name-f017cabb-3212-4fef-8f5d-f1b3f87c9711\n"
     ]
    },
    {
     "name": "stdout",
     "output_type": "stream",
     "text": [
      "1.9721590215722244\n",
      "1.917886553535812\n",
      "1.658243097555813\n",
      "1.1172324398966964\n",
      "1.1172324398966964\n",
      "1.1172324398966964\n",
      "0.9995358477515381\n",
      "1.6225707661450919\n",
      "0.9995358477515381\n",
      "1.5799764499308075\n",
      "0.9786042511819506\n",
      "0.9786042511819506\n",
      "1.7643112453494538\n",
      "1.6016094319950422\n",
      "1.0572968160384963\n",
      "1.0572968160384963\n",
      "1.7080468584487996\n",
      "1.6702569165327983\n",
      "0.9995358477515381\n",
      "1.6872590526834053\n",
      "1.7396997863472112\n"
     ]
    },
    {
     "name": "stderr",
     "output_type": "stream",
     "text": [
      "[I 2023-07-30 12:32:07,378] Trial 8 finished with value: -1.0447628592629985 and parameters: {'max_depth': 3, 'num_leaves': 127, 'subsample': 0.8, 'colsample_bytree': 0.8, 'reg_alpha': 3.133041133698925, 'reg_lambda': 0.13101363758488221}. Best is trial 8 with value: -1.0447628592629985.\n"
     ]
    },
    {
     "name": "stdout",
     "output_type": "stream",
     "text": [
      "1.0711449414463106\n",
      "1.3495344711961579\n",
      "1.6570598259524782\n",
      "1.754325305669349\n",
      "1.7358040758018642\n"
     ]
    },
    {
     "name": "stderr",
     "output_type": "stream",
     "text": [
      "[I 2023-07-30 12:32:15,806] Trial 6 finished with value: -1.0447628592629985 and parameters: {'max_depth': 7, 'num_leaves': 127, 'subsample': 0.8, 'colsample_bytree': 0.8, 'reg_alpha': 1.826205411508109, 'reg_lambda': 0.5191855600972468}. Best is trial 8 with value: -1.0447628592629985.\n"
     ]
    },
    {
     "name": "stdout",
     "output_type": "stream",
     "text": [
      "1.0711449414463106\n",
      "1.8816170312408378\n",
      "1.4318848533528623\n",
      "1.9102269863609855\n",
      "1.9256479571986311\n",
      "1.7098239304645926\n",
      "1.9537112789232136\n",
      "1.89919103849655\n",
      "1.7255388432846352\n",
      "1.8313843204329636\n"
     ]
    },
    {
     "name": "stderr",
     "output_type": "stream",
     "text": [
      "[I 2023-07-30 12:32:38,955] Trial 9 finished with value: -1.295384213610719 and parameters: {'max_depth': 7, 'num_leaves': 127, 'subsample': 0.8, 'colsample_bytree': 0.8, 'reg_alpha': 0.8614148171877132, 'reg_lambda': 0.4072123452984264}. Best is trial 9 with value: -1.295384213610719.\n"
     ]
    },
    {
     "name": "stdout",
     "output_type": "stream",
     "text": [
      "1.57873345585634\n",
      "1.8361723400519185\n",
      "1.836698985453653\n",
      "1.8634319688588086\n",
      "1.9076298156191989\n",
      "1.8360839437175454\n"
     ]
    },
    {
     "name": "stderr",
     "output_type": "stream",
     "text": [
      "[I 2023-07-30 12:32:55,782] Trial 7 finished with value: -1.7432929873338103 and parameters: {'max_depth': 3, 'num_leaves': 31, 'subsample': 0.8, 'colsample_bytree': 0.8, 'reg_alpha': 0.1652891097600956, 'reg_lambda': 0.244780307657298}. Best is trial 7 with value: -1.7432929873338103.\n"
     ]
    },
    {
     "name": "stdout",
     "output_type": "stream",
     "text": [
      "1.7362280823810368\n"
     ]
    },
    {
     "name": "stderr",
     "output_type": "stream",
     "text": [
      "[I 2023-07-30 12:32:58,702] Trial 2 finished with value: -1.7625914168687593 and parameters: {'max_depth': 7, 'num_leaves': 7, 'subsample': 0.8, 'colsample_bytree': 0.8, 'reg_alpha': 0.0013979148738137532, 'reg_lambda': 0.6906384991154844}. Best is trial 2 with value: -1.7625914168687593.\n",
      "[I 2023-07-30 12:32:58,739] Trial 5 pruned. Trial was pruned at iteration 107.\n",
      "[I 2023-07-30 12:32:58,807] Trial 3 pruned. Trial was pruned at iteration 15.\n"
     ]
    },
    {
     "name": "stdout",
     "output_type": "stream",
     "text": [
      "1.7737300752530034\n"
     ]
    },
    {
     "name": "stderr",
     "output_type": "stream",
     "text": [
      "[I 2023-07-30 12:33:00,412] Trial 0 finished with value: -1.7781679756011208 and parameters: {'max_depth': 7, 'num_leaves': 7, 'subsample': 0.8, 'colsample_bytree': 0.8, 'reg_alpha': 0.005902019363215154, 'reg_lambda': 0.007182279692514875}. Best is trial 0 with value: -1.7781679756011208.\n"
     ]
    },
    {
     "name": "stdout",
     "output_type": "stream",
     "text": [
      "1.7622029793487064\n"
     ]
    },
    {
     "name": "stderr",
     "output_type": "stream",
     "text": [
      "[I 2023-07-30 12:33:02,249] Trial 4 finished with value: -1.754521795249533 and parameters: {'max_depth': 5, 'num_leaves': 127, 'subsample': 0.8, 'colsample_bytree': 0.8, 'reg_alpha': 0.0012509482520385899, 'reg_lambda': 0.4953626460192506}. Best is trial 0 with value: -1.7781679756011208.\n"
     ]
    },
    {
     "name": "stdout",
     "output_type": "stream",
     "text": [
      "1.7513167109447858\n"
     ]
    },
    {
     "name": "stderr",
     "output_type": "stream",
     "text": [
      "[I 2023-07-30 12:33:03,590] Trial 1 finished with value: -1.814912572525433 and parameters: {'max_depth': 3, 'num_leaves': 127, 'subsample': 0.8, 'colsample_bytree': 0.8, 'reg_alpha': 0.026353845133035004, 'reg_lambda': 0.012964189918579134}. Best is trial 1 with value: -1.814912572525433.\n",
      "[I 2023-07-30 12:33:03,592] A new study created in memory with name: no-name-19665896-e274-4e23-9f6a-2c53cfa433eb\n"
     ]
    },
    {
     "name": "stdout",
     "output_type": "stream",
     "text": [
      "1.7661310889676018\n",
      "1.454426487585744\n",
      "1.119208257038039\n",
      "1.5763754018502827\n",
      "0.9993480902341977\n",
      "1.6378239728357742\n",
      "1.119208257038039\n",
      "1.119208257038039\n",
      "1.5501922068366079\n",
      "1.5724764805403035\n",
      "1.5670941534223752\n",
      "1.3680380281770554\n",
      "1.3175017918813028\n",
      "1.5972901436051787\n",
      "1.5765019156510305\n",
      "1.2899891326728248\n",
      "1.5812103791413332\n",
      "1.6394181055989192\n",
      "1.5907054509650111\n",
      "1.5994515140420629\n",
      "1.7802516633376713\n",
      "1.5586898986298339\n",
      "1.578735430830926\n",
      "1.7025763171320354\n",
      "1.5580810997422345\n",
      "1.6010562414202127\n",
      "1.6935928982815631\n",
      "1.8003715379769865\n",
      "1.7323116584411897\n",
      "1.7775306152835535\n",
      "1.804451065950349\n"
     ]
    },
    {
     "name": "stderr",
     "output_type": "stream",
     "text": [
      "[I 2023-07-30 12:34:00,777] Trial 6 finished with value: -1.490277114211052 and parameters: {'max_depth': 5, 'num_leaves': 127, 'subsample': 0.8, 'colsample_bytree': 0.8, 'reg_alpha': 0.49022565772721505, 'reg_lambda': 1.6325539679384453}. Best is trial 6 with value: -1.490277114211052.\n",
      "[I 2023-07-30 12:34:00,781] Trial 3 finished with value: -1.3101772125191542 and parameters: {'max_depth': 7, 'num_leaves': 127, 'subsample': 0.8, 'colsample_bytree': 0.8, 'reg_alpha': 0.8175794602648928, 'reg_lambda': 0.18285512327792708}. Best is trial 6 with value: -1.490277114211052.\n"
     ]
    },
    {
     "name": "stdout",
     "output_type": "stream",
     "text": [
      "1.62214486310921121.5567468236999975\n",
      "\n",
      "1.7812536722312877\n"
     ]
    },
    {
     "name": "stderr",
     "output_type": "stream",
     "text": [
      "[I 2023-07-30 12:34:04,625] Trial 7 finished with value: -1.4533740191717812 and parameters: {'max_depth': 5, 'num_leaves': 31, 'subsample': 0.8, 'colsample_bytree': 0.8, 'reg_alpha': 0.5404461351741061, 'reg_lambda': 0.05453250536911185}. Best is trial 6 with value: -1.490277114211052.\n"
     ]
    },
    {
     "name": "stdout",
     "output_type": "stream",
     "text": [
      "1.605389909236645\n",
      "1.5673203949187084\n"
     ]
    },
    {
     "name": "stderr",
     "output_type": "stream",
     "text": [
      "[I 2023-07-30 12:34:11,603] Trial 0 finished with value: -1.6278263518530096 and parameters: {'max_depth': 3, 'num_leaves': 127, 'subsample': 0.8, 'colsample_bytree': 0.8, 'reg_alpha': 0.004256127947828198, 'reg_lambda': 0.8582762573838606}. Best is trial 0 with value: -1.6278263518530096.\n"
     ]
    },
    {
     "name": "stdout",
     "output_type": "stream",
     "text": [
      "1.6219497430638343\n",
      "1.7397821826737911\n",
      "1.78416750975817\n",
      "1.6973042172589827\n",
      "1.7098384196332908\n",
      "1.7283484896072416\n"
     ]
    },
    {
     "name": "stderr",
     "output_type": "stream",
     "text": [
      "[I 2023-07-30 12:34:28,294] Trial 4 finished with value: -1.6751152047030957 and parameters: {'max_depth': 3, 'num_leaves': 127, 'subsample': 0.8, 'colsample_bytree': 0.8, 'reg_alpha': 0.017635951755056778, 'reg_lambda': 0.017696336639984864}. Best is trial 4 with value: -1.6751152047030957.\n",
      "[I 2023-07-30 12:34:28,302] Trial 5 pruned. Trial was pruned at iteration 217.\n"
     ]
    },
    {
     "name": "stdout",
     "output_type": "stream",
     "text": [
      "1.6210964143778943\n"
     ]
    },
    {
     "name": "stderr",
     "output_type": "stream",
     "text": [
      "[I 2023-07-30 12:34:32,860] Trial 2 pruned. Trial was pruned at iteration 437.\n"
     ]
    },
    {
     "name": "stdout",
     "output_type": "stream",
     "text": [
      "1.714559556686785\n",
      "1.7823200737779699\n"
     ]
    },
    {
     "name": "stderr",
     "output_type": "stream",
     "text": [
      "[I 2023-07-30 12:34:36,941] Trial 1 finished with value: -1.660090665169038 and parameters: {'max_depth': 5, 'num_leaves': 127, 'subsample': 0.8, 'colsample_bytree': 0.8, 'reg_alpha': 0.027211269335680365, 'reg_lambda': 0.004383977061165515}. Best is trial 4 with value: -1.6751152047030957.\n"
     ]
    },
    {
     "name": "stdout",
     "output_type": "stream",
     "text": [
      "1.6332653830150452\n",
      "1.7188890355907926\n"
     ]
    },
    {
     "name": "stderr",
     "output_type": "stream",
     "text": [
      "[I 2023-07-30 12:34:54,176] Trial 8 finished with value: -1.6699514750912356 and parameters: {'max_depth': 5, 'num_leaves': 31, 'subsample': 0.8, 'colsample_bytree': 0.8, 'reg_alpha': 0.03199681159041217, 'reg_lambda': 0.2832510784860925}. Best is trial 4 with value: -1.6751152047030957.\n",
      "[I 2023-07-30 12:34:54,181] Trial 9 pruned. Trial was pruned at iteration 33.\n",
      "[I 2023-07-30 12:34:54,183] A new study created in memory with name: no-name-1c8a6e56-bcf9-4e8a-ad1c-e7875eb5b4c0\n"
     ]
    },
    {
     "name": "stdout",
     "output_type": "stream",
     "text": [
      "1.652683923985832\n",
      "1.120366539023498\n",
      "1.120366539023498\n",
      "1.3411275640436453\n",
      "1.345150780697073\n",
      "1.120366539023498\n",
      "1.353389262083295\n",
      "0.9992507081854871\n",
      "0.9992507081854871\n",
      "1.41415022201017\n",
      "0.9827958148621714\n",
      "1.3779830939418738\n",
      "1.384678526042252\n",
      "0.9827958148621714\n",
      "1.4235652119243105\n",
      "1.0528107577539982\n",
      "1.0528107577539982\n",
      "1.4630675897431376\n"
     ]
    },
    {
     "name": "stderr",
     "output_type": "stream",
     "text": [
      "[I 2023-07-30 12:35:15,232] Trial 1 finished with value: -1.0450016859393694 and parameters: {'max_depth': 3, 'num_leaves': 127, 'subsample': 0.8, 'colsample_bytree': 0.8, 'reg_alpha': 7.688332301114538, 'reg_lambda': 1.1339059053603031}. Best is trial 1 with value: -1.0450016859393694.\n"
     ]
    },
    {
     "name": "stdout",
     "output_type": "stream",
     "text": [
      "1.069784609871692\n",
      "0.9992507081854871\n"
     ]
    },
    {
     "name": "stderr",
     "output_type": "stream",
     "text": [
      "[I 2023-07-30 12:35:17,126] Trial 9 finished with value: -1.0450016859393694 and parameters: {'max_depth': 3, 'num_leaves': 63, 'subsample': 0.8, 'colsample_bytree': 0.8, 'reg_alpha': 7.042763018886194, 'reg_lambda': 5.051259533598248}. Best is trial 1 with value: -1.0450016859393694.\n"
     ]
    },
    {
     "name": "stdout",
     "output_type": "stream",
     "text": [
      "1.069784609871692\n",
      "1.4748240981832588\n",
      "1.4802904850502934\n",
      "1.4654383422310753\n",
      "1.4849951538700612\n",
      "1.4840913196760743\n",
      "1.491077098449746\n",
      "1.3092697370911979\n",
      "1.6798444487066573\n",
      "1.6746236780038735\n",
      "1.2969103246673246\n"
     ]
    },
    {
     "name": "stderr",
     "output_type": "stream",
     "text": [
      "[I 2023-07-30 12:35:38,076] Trial 2 finished with value: -1.2144995660688145 and parameters: {'max_depth': 5, 'num_leaves': 31, 'subsample': 0.8, 'colsample_bytree': 0.8, 'reg_alpha': 1.490852946024783, 'reg_lambda': 6.156083144524584}. Best is trial 2 with value: -1.2144995660688145.\n"
     ]
    },
    {
     "name": "stdout",
     "output_type": "stream",
     "text": [
      "1.3467005213765653\n",
      "1.6818394064028594\n",
      "1.6512455467254785\n",
      "1.669144689221811\n",
      "1.658925420768416\n",
      "1.6583549090456517\n",
      "1.6754898188420086\n",
      "1.631428086939204\n"
     ]
    },
    {
     "name": "stderr",
     "output_type": "stream",
     "text": [
      "[I 2023-07-30 12:35:54,883] Trial 0 finished with value: -1.5366763735543842 and parameters: {'max_depth': 3, 'num_leaves': 127, 'subsample': 0.8, 'colsample_bytree': 0.8, 'reg_alpha': 0.0038133959727136933, 'reg_lambda': 0.22966103358820628}. Best is trial 0 with value: -1.5366763735543842.\n"
     ]
    },
    {
     "name": "stdout",
     "output_type": "stream",
     "text": [
      "1.5480967185530021\n",
      "1.630648492311269\n",
      "1.6345260344243417\n",
      "1.6346142065642928\n"
     ]
    },
    {
     "name": "stderr",
     "output_type": "stream",
     "text": [
      "[I 2023-07-30 12:36:01,645] Trial 5 finished with value: -1.5367532679542195 and parameters: {'max_depth': 3, 'num_leaves': 127, 'subsample': 0.8, 'colsample_bytree': 0.8, 'reg_alpha': 0.00811519203520713, 'reg_lambda': 1.498724777488734}. Best is trial 5 with value: -1.5367532679542195.\n"
     ]
    },
    {
     "name": "stdout",
     "output_type": "stream",
     "text": [
      "1.5495012145614666\n",
      "1.6500859976864062\n",
      "1.6267835685559406\n"
     ]
    },
    {
     "name": "stderr",
     "output_type": "stream",
     "text": [
      "[I 2023-07-30 12:36:10,899] Trial 7 finished with value: -1.53391299480232 and parameters: {'max_depth': 5, 'num_leaves': 31, 'subsample': 0.8, 'colsample_bytree': 0.8, 'reg_alpha': 0.00619292334167739, 'reg_lambda': 2.100739775208248}. Best is trial 5 with value: -1.5367532679542195.\n"
     ]
    },
    {
     "name": "stdout",
     "output_type": "stream",
     "text": [
      "1.5136556391245222\n"
     ]
    },
    {
     "name": "stderr",
     "output_type": "stream",
     "text": [
      "[I 2023-07-30 12:36:16,038] Trial 8 finished with value: -1.5478231727820755 and parameters: {'max_depth': 3, 'num_leaves': 7, 'subsample': 0.8, 'colsample_bytree': 0.8, 'reg_alpha': 0.16996338889466062, 'reg_lambda': 0.044304437073844065}. Best is trial 8 with value: -1.5478231727820755.\n"
     ]
    },
    {
     "name": "stdout",
     "output_type": "stream",
     "text": [
      "1.546519032837388\n"
     ]
    },
    {
     "name": "stderr",
     "output_type": "stream",
     "text": [
      "[I 2023-07-30 12:36:16,444] Trial 4 finished with value: -1.549405796922714 and parameters: {'max_depth': 3, 'num_leaves': 7, 'subsample': 0.8, 'colsample_bytree': 0.8, 'reg_alpha': 0.13954943438304698, 'reg_lambda': 0.002726653281692839}. Best is trial 4 with value: -1.549405796922714.\n"
     ]
    },
    {
     "name": "stdout",
     "output_type": "stream",
     "text": [
      "1.5464033374032402\n",
      "1.5227267672767262\n"
     ]
    },
    {
     "name": "stderr",
     "output_type": "stream",
     "text": [
      "[I 2023-07-30 12:36:16,608] Trial 3 finished with value: -1.533479743986462 and parameters: {'max_depth': 5, 'num_leaves': 127, 'subsample': 0.8, 'colsample_bytree': 0.8, 'reg_alpha': 0.0018797272853256005, 'reg_lambda': 1.0020191153007787}. Best is trial 4 with value: -1.549405796922714.\n",
      "[I 2023-07-30 12:36:17,602] Trial 6 finished with value: -1.5419712497280376 and parameters: {'max_depth': 5, 'num_leaves': 63, 'subsample': 0.8, 'colsample_bytree': 0.8, 'reg_alpha': 0.009365251360935904, 'reg_lambda': 0.00849013710428013}. Best is trial 4 with value: -1.549405796922714.\n",
      "[I 2023-07-30 12:36:17,604] A new study created in memory with name: no-name-0e8c3f68-bd9c-42af-af26-ddcc08c89169\n"
     ]
    },
    {
     "name": "stdout",
     "output_type": "stream",
     "text": [
      "1.5318272367502406\n",
      "1.317683583753216\n",
      "1.361686857724508\n",
      "1.1207340154466712\n",
      "1.287589693774979\n",
      "1.0000719104736446\n",
      "1.3685230392587067\n",
      "1.2254216546250853\n",
      "0.9841470684017335\n",
      "1.296223424752915\n",
      "1.0512710236619736\n",
      "1.406802133067364\n",
      "1.3278126777414592\n",
      "1.3454286494936525\n"
     ]
    },
    {
     "name": "stderr",
     "output_type": "stream",
     "text": [
      "[I 2023-07-30 12:36:35,535] Trial 6 finished with value: -1.0448693562943414 and parameters: {'max_depth': 7, 'num_leaves': 31, 'subsample': 0.8, 'colsample_bytree': 0.8, 'reg_alpha': 4.455582180449851, 'reg_lambda': 0.28143346375395145}. Best is trial 6 with value: -1.0448693562943414.\n"
     ]
    },
    {
     "name": "stdout",
     "output_type": "stream",
     "text": [
      "1.0681227634876835\n",
      "1.4222050776792268\n",
      "1.3106302323831434\n",
      "1.416795828188447\n",
      "1.3261591618994597\n",
      "1.4038884310245179\n",
      "1.5087348758916628\n",
      "1.4213614547400055\n",
      "1.5787118718567843\n",
      "1.428438582895315\n",
      "1.5846274386274597\n",
      "1.5514914837317182\n",
      "1.5826723205490558\n",
      "1.4034207915116363\n",
      "1.375188119724144\n",
      "1.578496506107697\n",
      "1.5781907198670606\n",
      "1.5879438079773693\n"
     ]
    },
    {
     "name": "stderr",
     "output_type": "stream",
     "text": [
      "[I 2023-07-30 12:37:12,253] Trial 3 finished with value: -1.4157849685592843 and parameters: {'max_depth': 3, 'num_leaves': 63, 'subsample': 0.8, 'colsample_bytree': 0.8, 'reg_alpha': 0.43091599166871736, 'reg_lambda': 0.019739253055540307}. Best is trial 3 with value: -1.4157849685592843.\n"
     ]
    },
    {
     "name": "stdout",
     "output_type": "stream",
     "text": [
      "1.4654641508064956\n",
      "1.5871193565012838\n",
      "1.5879724974422171\n",
      "1.557479733653797\n"
     ]
    },
    {
     "name": "stderr",
     "output_type": "stream",
     "text": [
      "[I 2023-07-30 12:37:26,053] Trial 0 finished with value: -1.4716138721395347 and parameters: {'max_depth': 3, 'num_leaves': 7, 'subsample': 0.8, 'colsample_bytree': 0.8, 'reg_alpha': 0.0057173801020288335, 'reg_lambda': 0.36423694230547177}. Best is trial 0 with value: -1.4716138721395347.\n"
     ]
    },
    {
     "name": "stdout",
     "output_type": "stream",
     "text": [
      "1.4766810521532487\n"
     ]
    },
    {
     "name": "stderr",
     "output_type": "stream",
     "text": [
      "[I 2023-07-30 12:37:28,889] Trial 4 finished with value: -1.486589138328093 and parameters: {'max_depth': 3, 'num_leaves': 127, 'subsample': 0.8, 'colsample_bytree': 0.8, 'reg_alpha': 0.02105983256565249, 'reg_lambda': 7.2408523719820606}. Best is trial 4 with value: -1.486589138328093.\n"
     ]
    },
    {
     "name": "stdout",
     "output_type": "stream",
     "text": [
      "1.4704707795737877\n",
      "1.5751478463982158\n",
      "1.5837127142633594\n",
      "1.5758382637022288\n"
     ]
    },
    {
     "name": "stderr",
     "output_type": "stream",
     "text": [
      "[I 2023-07-30 12:37:39,290] Trial 1 finished with value: -1.4788767070991147 and parameters: {'max_depth': 7, 'num_leaves': 7, 'subsample': 0.8, 'colsample_bytree': 0.8, 'reg_alpha': 0.1694050303939439, 'reg_lambda': 0.06240464843507202}. Best is trial 4 with value: -1.486589138328093.\n",
      "[I 2023-07-30 12:37:39,333] Trial 2 pruned. Trial was pruned at iteration 22.\n",
      "[I 2023-07-30 12:37:39,358] Trial 7 pruned. Trial was pruned at iteration 132.\n"
     ]
    },
    {
     "name": "stdout",
     "output_type": "stream",
     "text": [
      "1.475748795379765\n",
      "1.574811338828535\n"
     ]
    },
    {
     "name": "stderr",
     "output_type": "stream",
     "text": [
      "[I 2023-07-30 12:37:44,272] Trial 8 finished with value: -1.4721780473766786 and parameters: {'max_depth': 5, 'num_leaves': 127, 'subsample': 0.8, 'colsample_bytree': 0.8, 'reg_alpha': 0.009376274225167316, 'reg_lambda': 0.0010361945209219864}. Best is trial 4 with value: -1.486589138328093.\n"
     ]
    },
    {
     "name": "stdout",
     "output_type": "stream",
     "text": [
      "1.4802137030148868\n"
     ]
    },
    {
     "name": "stderr",
     "output_type": "stream",
     "text": [
      "[I 2023-07-30 12:37:47,871] Trial 5 finished with value: -1.4825444432090777 and parameters: {'max_depth': 5, 'num_leaves': 127, 'subsample': 0.8, 'colsample_bytree': 0.8, 'reg_alpha': 0.020538476507732394, 'reg_lambda': 0.1837869022610811}. Best is trial 4 with value: -1.486589138328093.\n"
     ]
    },
    {
     "name": "stdout",
     "output_type": "stream",
     "text": [
      "1.4760711473856691\n",
      "1.56556740275637\n"
     ]
    },
    {
     "name": "stderr",
     "output_type": "stream",
     "text": [
      "[I 2023-07-30 12:37:53,196] Trial 9 finished with value: -1.4641014102800638 and parameters: {'max_depth': 7, 'num_leaves': 127, 'subsample': 0.8, 'colsample_bytree': 0.8, 'reg_alpha': 0.004540687303329544, 'reg_lambda': 2.5696533595549615}. Best is trial 4 with value: -1.486589138328093.\n",
      "[I 2023-07-30 12:37:53,197] A new study created in memory with name: no-name-a26615d7-e4ba-41d9-ad04-a2c884d9fa9f\n"
     ]
    },
    {
     "name": "stdout",
     "output_type": "stream",
     "text": [
      "1.4495214315306237\n",
      "1.2537542068206333\n",
      "1.2551888923506869\n",
      "1.2788265889680006\n",
      "1.1215378231095539\n",
      "1.2289004940753232\n",
      "1.001631154271869\n",
      "1.2982068977374839\n",
      "1.3457945061867793\n",
      "1.2569500952939632\n",
      "0.9857414965737273\n",
      "1.2727453654047973\n",
      "1.3720346591541293\n",
      "1.050653120824534\n",
      "1.313124298675834\n",
      "1.361015274658355\n",
      "1.3729649618077386\n",
      "1.3575265985031995\n"
     ]
    },
    {
     "name": "stderr",
     "output_type": "stream",
     "text": [
      "[I 2023-07-30 12:38:13,395] Trial 6 finished with value: -1.0455176127328294 and parameters: {'max_depth': 3, 'num_leaves': 31, 'subsample': 0.8, 'colsample_bytree': 0.8, 'reg_alpha': 7.586333405151105, 'reg_lambda': 1.0859619419651496}. Best is trial 6 with value: -1.0455176127328294.\n"
     ]
    },
    {
     "name": "stdout",
     "output_type": "stream",
     "text": [
      "1.0680244688844633\n",
      "1.371277188931749\n",
      "1.374834233167509\n",
      "1.3660783654377773\n",
      "1.3777110392572298\n",
      "1.3253523411663641\n",
      "1.4814948136098995\n",
      "1.5225057678024734\n",
      "1.5223281675290545\n",
      "1.5017835813276619\n",
      "1.5140076137932437\n",
      "1.515977199167861\n",
      "1.530604456025435\n",
      "1.5157354085848542\n",
      "1.525282898101049\n",
      "1.5158280359005234\n",
      "1.4941034620005413\n",
      "1.5252547340817042\n",
      "1.5029021714246302\n",
      "1.5076852689366214\n",
      "1.5049193185005802\n",
      "1.5228991562270209\n",
      "1.5090727477113175\n"
     ]
    },
    {
     "name": "stderr",
     "output_type": "stream",
     "text": [
      "[I 2023-07-30 12:39:10,603] Trial 7 finished with value: -1.4084346150559781 and parameters: {'max_depth': 5, 'num_leaves': 7, 'subsample': 0.8, 'colsample_bytree': 0.8, 'reg_alpha': 0.00186773193984143, 'reg_lambda': 4.3163392818478465}. Best is trial 7 with value: -1.4084346150559781.\n"
     ]
    },
    {
     "name": "stdout",
     "output_type": "stream",
     "text": [
      "1.4358256770166167\n"
     ]
    },
    {
     "name": "stderr",
     "output_type": "stream",
     "text": [
      "[I 2023-07-30 12:39:12,243] Trial 5 finished with value: -1.435275376979001 and parameters: {'max_depth': 7, 'num_leaves': 7, 'subsample': 0.8, 'colsample_bytree': 0.8, 'reg_alpha': 0.024599809088782548, 'reg_lambda': 0.005073164744642809}. Best is trial 5 with value: -1.435275376979001.\n"
     ]
    },
    {
     "name": "stdout",
     "output_type": "stream",
     "text": [
      "1.4460174647956605\n"
     ]
    },
    {
     "name": "stderr",
     "output_type": "stream",
     "text": [
      "[I 2023-07-30 12:39:13,309] Trial 4 finished with value: -1.4038392917231857 and parameters: {'max_depth': 5, 'num_leaves': 127, 'subsample': 0.8, 'colsample_bytree': 0.8, 'reg_alpha': 0.3578707052317953, 'reg_lambda': 0.001399056814589295}. Best is trial 5 with value: -1.435275376979001.\n",
      "[I 2023-07-30 12:39:13,429] Trial 3 finished with value: -1.4320465780406462 and parameters: {'max_depth': 5, 'num_leaves': 7, 'subsample': 0.8, 'colsample_bytree': 0.8, 'reg_alpha': 0.015547075263150871, 'reg_lambda': 0.007687747239150725}. Best is trial 5 with value: -1.435275376979001.\n"
     ]
    },
    {
     "name": "stdout",
     "output_type": "stream",
     "text": [
      "1.4441055558784601\n",
      "1.4507272269550113\n"
     ]
    },
    {
     "name": "stderr",
     "output_type": "stream",
     "text": [
      "[I 2023-07-30 12:39:13,543] Trial 0 pruned. Trial was pruned at iteration 30.\n",
      "[I 2023-07-30 12:39:14,104] Trial 1 finished with value: -1.4418754140166719 and parameters: {'max_depth': 3, 'num_leaves': 63, 'subsample': 0.8, 'colsample_bytree': 0.8, 'reg_alpha': 0.05235716728471099, 'reg_lambda': 0.13610346603475304}. Best is trial 1 with value: -1.4418754140166719.\n"
     ]
    },
    {
     "name": "stdout",
     "output_type": "stream",
     "text": [
      "1.4491554367796071\n"
     ]
    },
    {
     "name": "stderr",
     "output_type": "stream",
     "text": [
      "[I 2023-07-30 12:39:17,643] Trial 9 finished with value: -1.4198763769472769 and parameters: {'max_depth': 5, 'num_leaves': 31, 'subsample': 0.8, 'colsample_bytree': 0.8, 'reg_alpha': 0.011980689421578447, 'reg_lambda': 0.03197632091181879}. Best is trial 1 with value: -1.4418754140166719.\n"
     ]
    },
    {
     "name": "stdout",
     "output_type": "stream",
     "text": [
      "1.4282707529889231\n"
     ]
    },
    {
     "name": "stderr",
     "output_type": "stream",
     "text": [
      "[I 2023-07-30 12:39:18,465] Trial 8 finished with value: -1.4181767156572458 and parameters: {'max_depth': 5, 'num_leaves': 31, 'subsample': 0.8, 'colsample_bytree': 0.8, 'reg_alpha': 0.007058780405115939, 'reg_lambda': 0.017421604432067195}. Best is trial 1 with value: -1.4418754140166719.\n"
     ]
    },
    {
     "name": "stdout",
     "output_type": "stream",
     "text": [
      "1.4428051706753098\n"
     ]
    },
    {
     "name": "stderr",
     "output_type": "stream",
     "text": [
      "[I 2023-07-30 12:39:18,801] Trial 2 finished with value: -1.4310149612398966 and parameters: {'max_depth': 5, 'num_leaves': 31, 'subsample': 0.8, 'colsample_bytree': 0.8, 'reg_alpha': 0.016953796957174996, 'reg_lambda': 1.002221106945152}. Best is trial 1 with value: -1.4418754140166719.\n",
      "[I 2023-07-30 12:39:18,804] A new study created in memory with name: no-name-2107d902-15fd-48fd-b316-5a72470fdb40\n"
     ]
    },
    {
     "name": "stdout",
     "output_type": "stream",
     "text": [
      "1.4479103718115174\n",
      "1.1212964992503682\n",
      "1.1212964992503682\n",
      "1.1606825769952298\n",
      "1.1212964992503682\n",
      "1.2381763402877735\n",
      "1.1824776885714532\n",
      "1.0030015304401885\n",
      "0.9866472675754463\n",
      "1.2579047143069197\n",
      "1.0030015304401885\n",
      "1.263402979021873\n",
      "1.049740259736202\n",
      "1.249489161681129\n",
      "1.3517464794570362\n",
      "1.2907802573619298\n"
     ]
    },
    {
     "name": "stderr",
     "output_type": "stream",
     "text": [
      "[I 2023-07-30 12:39:38,035] Trial 0 finished with value: -1.0457510696098542 and parameters: {'max_depth': 7, 'num_leaves': 31, 'subsample': 0.8, 'colsample_bytree': 0.8, 'reg_alpha': 8.413201917043445, 'reg_lambda': 0.144028625881244}. Best is trial 0 with value: -1.0457510696098542.\n"
     ]
    },
    {
     "name": "stdout",
     "output_type": "stream",
     "text": [
      "1.2612576811700436\n",
      "1.0680697910470658\n",
      "1.301997609454306\n",
      "1.0030015304401885\n",
      "1.3159447521135417\n",
      "1.3966963149765366\n",
      "1.318884520092824\n",
      "1.164832277469823\n",
      "1.3281214611961494\n",
      "1.1685327351490387\n",
      "1.4091649222972804\n",
      "1.4371273922607843\n",
      "1.4717951878693603\n",
      "1.317710357961125\n",
      "1.4428366013517802\n",
      "1.4671300642865586\n"
     ]
    },
    {
     "name": "stderr",
     "output_type": "stream",
     "text": [
      "[I 2023-07-30 12:40:05,060] Trial 1 finished with value: -1.208863035920407 and parameters: {'max_depth': 7, 'num_leaves': 31, 'subsample': 0.8, 'colsample_bytree': 0.8, 'reg_alpha': 1.1078318836777288, 'reg_lambda': 0.01718929830080894}. Best is trial 1 with value: -1.208863035920407.\n"
     ]
    },
    {
     "name": "stdout",
     "output_type": "stream",
     "text": [
      "1.3460199501443746\n",
      "1.468775843144285\n",
      "1.4557560406660988\n",
      "1.4072775089931924\n"
     ]
    },
    {
     "name": "stderr",
     "output_type": "stream",
     "text": [
      "[I 2023-07-30 12:40:14,330] Trial 6 finished with value: -1.3373308850592598 and parameters: {'max_depth': 5, 'num_leaves': 31, 'subsample': 0.8, 'colsample_bytree': 0.8, 'reg_alpha': 0.5361694660129603, 'reg_lambda': 1.8081167673442624}. Best is trial 6 with value: -1.3373308850592598.\n"
     ]
    },
    {
     "name": "stdout",
     "output_type": "stream",
     "text": [
      "1.38619607219782\n",
      "1.4805135289990392\n"
     ]
    },
    {
     "name": "stderr",
     "output_type": "stream",
     "text": [
      "[I 2023-07-30 12:40:16,890] Trial 9 finished with value: -1.2070729210624949 and parameters: {'max_depth': 5, 'num_leaves': 31, 'subsample': 0.8, 'colsample_bytree': 0.8, 'reg_alpha': 1.1166878783486176, 'reg_lambda': 0.0017058066125477385}. Best is trial 6 with value: -1.3373308850592598.\n"
     ]
    },
    {
     "name": "stdout",
     "output_type": "stream",
     "text": [
      "1.3352563314796868\n",
      "1.464478956289137\n",
      "1.4453818134332321\n",
      "1.453968084063788\n",
      "1.443279500272209\n",
      "1.4509603403123243\n"
     ]
    },
    {
     "name": "stderr",
     "output_type": "stream",
     "text": [
      "[I 2023-07-30 12:40:30,605] Trial 7 finished with value: -1.4005996189323133 and parameters: {'max_depth': 3, 'num_leaves': 127, 'subsample': 0.8, 'colsample_bytree': 0.8, 'reg_alpha': 0.10566287320048381, 'reg_lambda': 0.0020962797769594546}. Best is trial 7 with value: -1.4005996189323133.\n"
     ]
    },
    {
     "name": "stdout",
     "output_type": "stream",
     "text": [
      "1.4158145963674642\n"
     ]
    },
    {
     "name": "stderr",
     "output_type": "stream",
     "text": [
      "[I 2023-07-30 12:40:31,923] Trial 4 finished with value: -1.3703020251505627 and parameters: {'max_depth': 5, 'num_leaves': 7, 'subsample': 0.8, 'colsample_bytree': 0.8, 'reg_alpha': 0.2972761933210523, 'reg_lambda': 0.13557230555810898}. Best is trial 7 with value: -1.4005996189323133.\n",
      "[I 2023-07-30 12:40:31,955] Trial 3 finished with value: -1.3513028718618312 and parameters: {'max_depth': 5, 'num_leaves': 31, 'subsample': 0.8, 'colsample_bytree': 0.8, 'reg_alpha': 0.0016473574259071163, 'reg_lambda': 0.001664647617261239}. Best is trial 7 with value: -1.4005996189323133.\n"
     ]
    },
    {
     "name": "stdout",
     "output_type": "stream",
     "text": [
      "1.3936952547509098\n",
      "1.3925396472322062\n"
     ]
    },
    {
     "name": "stderr",
     "output_type": "stream",
     "text": [
      "[I 2023-07-30 12:40:37,451] Trial 8 finished with value: -1.3789609604846154 and parameters: {'max_depth': 5, 'num_leaves': 31, 'subsample': 0.8, 'colsample_bytree': 0.8, 'reg_alpha': 0.013969426200614077, 'reg_lambda': 0.001507776209459367}. Best is trial 7 with value: -1.4005996189323133.\n"
     ]
    },
    {
     "name": "stdout",
     "output_type": "stream",
     "text": [
      "1.4088999925861219\n"
     ]
    },
    {
     "name": "stderr",
     "output_type": "stream",
     "text": [
      "[I 2023-07-30 12:40:38,653] Trial 2 finished with value: -1.379299465462909 and parameters: {'max_depth': 5, 'num_leaves': 127, 'subsample': 0.8, 'colsample_bytree': 0.8, 'reg_alpha': 0.02295173165807912, 'reg_lambda': 0.0031527776199269096}. Best is trial 7 with value: -1.4005996189323133.\n"
     ]
    },
    {
     "name": "stdout",
     "output_type": "stream",
     "text": [
      "1.4074934472214238\n",
      "1.4533688201485222\n"
     ]
    },
    {
     "name": "stderr",
     "output_type": "stream",
     "text": [
      "[I 2023-07-30 12:40:44,073] Trial 5 finished with value: -1.3730635989131084 and parameters: {'max_depth': 7, 'num_leaves': 63, 'subsample': 0.8, 'colsample_bytree': 0.8, 'reg_alpha': 0.012618193149598235, 'reg_lambda': 0.018079311704328898}. Best is trial 7 with value: -1.4005996189323133.\n",
      "[I 2023-07-30 12:40:44,075] A new study created in memory with name: no-name-36e24ce2-8a7a-4309-a003-bef09302d1bb\n"
     ]
    },
    {
     "name": "stdout",
     "output_type": "stream",
     "text": [
      "1.379013051222063\n",
      "1.1204708961051113\n",
      "1.2041381939741604\n",
      "1.1204708961051113\n",
      "1.1204708961051113\n",
      "1.161050142800472\n",
      "1.0039186029522342\n",
      "0.9869175920813191\n",
      "1.1883792680652554\n",
      "1.1948067115636316\n",
      "1.3004159102010686\n",
      "1.29887477990077\n",
      "1.0494657015830506\n",
      "1.2242642338880219\n",
      "1.0039186029522342\n",
      "1.2335194169384651\n",
      "1.2940581695519808\n",
      "1.0039186029522342\n"
     ]
    },
    {
     "name": "stderr",
     "output_type": "stream",
     "text": [
      "[I 2023-07-30 12:41:04,980] Trial 9 finished with value: -1.0458172845344402 and parameters: {'max_depth': 3, 'num_leaves': 63, 'subsample': 0.8, 'colsample_bytree': 0.8, 'reg_alpha': 8.725231963846452, 'reg_lambda': 7.6866106972788355}. Best is trial 9 with value: -1.0458172845344402.\n"
     ]
    },
    {
     "name": "stdout",
     "output_type": "stream",
     "text": [
      "1.0683136299504856\n",
      "1.156110550929374\n",
      "1.2587008343200397\n",
      "1.2865683488750002\n",
      "1.3024534660771587\n",
      "1.4069652880766008\n",
      "0.9869175920813191\n",
      "1.4116247461583908\n",
      "1.2349032309294816\n",
      "1.2499006787255176\n",
      "1.3369004050871631\n",
      "1.255345691189943\n",
      "1.4211662201722404\n",
      "1.4285250018439397\n",
      "1.430119913191821\n"
     ]
    },
    {
     "name": "stderr",
     "output_type": "stream",
     "text": [
      "[I 2023-07-30 12:41:34,141] Trial 3 finished with value: -1.1846982270829958 and parameters: {'max_depth': 3, 'num_leaves': 127, 'subsample': 0.8, 'colsample_bytree': 0.8, 'reg_alpha': 1.3231039833775278, 'reg_lambda': 0.0067727312226024084}. Best is trial 3 with value: -1.1846982270829958.\n"
     ]
    },
    {
     "name": "stdout",
     "output_type": "stream",
     "text": [
      "1.3060906803410963\n",
      "1.42251453145718\n",
      "1.3945048011767318\n"
     ]
    },
    {
     "name": "stderr",
     "output_type": "stream",
     "text": [
      "[I 2023-07-30 12:41:39,669] Trial 0 finished with value: -1.1129955925097492 and parameters: {'max_depth': 5, 'num_leaves': 63, 'subsample': 0.8, 'colsample_bytree': 0.8, 'reg_alpha': 1.9411828168615137, 'reg_lambda': 1.8847991136461124}. Best is trial 3 with value: -1.1846982270829958.\n"
     ]
    },
    {
     "name": "stdout",
     "output_type": "stream",
     "text": [
      "1.2187676404806\n"
     ]
    },
    {
     "name": "stderr",
     "output_type": "stream",
     "text": [
      "[I 2023-07-30 12:41:46,156] Trial 2 finished with value: -1.3404863544148464 and parameters: {'max_depth': 3, 'num_leaves': 31, 'subsample': 0.8, 'colsample_bytree': 0.8, 'reg_alpha': 0.0023525933487379917, 'reg_lambda': 2.1891701036100666}. Best is trial 2 with value: -1.3404863544148464.\n"
     ]
    },
    {
     "name": "stdout",
     "output_type": "stream",
     "text": [
      "1.3623335969308792\n",
      "1.3966029907416935\n",
      "1.403018892591903\n",
      "1.3911380429130447\n"
     ]
    },
    {
     "name": "stderr",
     "output_type": "stream",
     "text": [
      "[I 2023-07-30 12:41:50,409] Trial 8 finished with value: -1.3220109212374376 and parameters: {'max_depth': 5, 'num_leaves': 7, 'subsample': 0.8, 'colsample_bytree': 0.8, 'reg_alpha': 0.0010201950298361125, 'reg_lambda': 0.20021792742673433}. Best is trial 2 with value: -1.3404863544148464.\n",
      "[I 2023-07-30 12:41:50,412] Trial 4 pruned. Trial was pruned at iteration 82.\n",
      "[I 2023-07-30 12:41:50,413] Trial 6 pruned. Trial was pruned at iteration 127.\n"
     ]
    },
    {
     "name": "stdout",
     "output_type": "stream",
     "text": [
      "1.348816746499612\n"
     ]
    },
    {
     "name": "stderr",
     "output_type": "stream",
     "text": [
      "[I 2023-07-30 12:41:58,507] Trial 1 finished with value: -1.3231309704853929 and parameters: {'max_depth': 5, 'num_leaves': 127, 'subsample': 0.8, 'colsample_bytree': 0.8, 'reg_alpha': 0.002978418959896758, 'reg_lambda': 0.07033450702830257}. Best is trial 2 with value: -1.3404863544148464.\n"
     ]
    },
    {
     "name": "stdout",
     "output_type": "stream",
     "text": [
      "1.350805539127735\n"
     ]
    },
    {
     "name": "stderr",
     "output_type": "stream",
     "text": [
      "[I 2023-07-30 12:41:59,542] Trial 5 finished with value: -1.3309131310167959 and parameters: {'max_depth': 5, 'num_leaves': 127, 'subsample': 0.8, 'colsample_bytree': 0.8, 'reg_alpha': 0.0013211405027968549, 'reg_lambda': 3.024745852952705}. Best is trial 2 with value: -1.3404863544148464.\n"
     ]
    },
    {
     "name": "stdout",
     "output_type": "stream",
     "text": [
      "1.3535275498883637\n",
      "1.4042545061589264\n"
     ]
    },
    {
     "name": "stderr",
     "output_type": "stream",
     "text": [
      "[I 2023-07-30 12:42:05,369] Trial 7 finished with value: -1.3267366256015731 and parameters: {'max_depth': 7, 'num_leaves': 63, 'subsample': 0.8, 'colsample_bytree': 0.8, 'reg_alpha': 0.004047083133491373, 'reg_lambda': 0.03328095923996691}. Best is trial 2 with value: -1.3404863544148464.\n",
      "[I 2023-07-30 12:42:05,372] A new study created in memory with name: no-name-02dcbcc6-ceed-47f1-b4bd-beb345299397\n"
     ]
    },
    {
     "name": "stdout",
     "output_type": "stream",
     "text": [
      "1.3522448166434973\n",
      "1.1196348464105528\n",
      "1.2207715423757703\n",
      "1.2135926364243332\n",
      "1.1196348464105528\n",
      "1.1196348464105528\n",
      "1.1196348464105528\n",
      "1.2391881959308693\n",
      "1.1995109871766654\n",
      "1.2657380143384842\n",
      "1.004137140957493\n",
      "1.004137140957493\n",
      "1.262085053542305\n",
      "0.986945481127708\n",
      "1.0495210947839257\n",
      "1.2346919503146794\n",
      "1.2341555112590528\n",
      "1.2741319802577609\n"
     ]
    },
    {
     "name": "stderr",
     "output_type": "stream",
     "text": [
      "[I 2023-07-30 12:42:30,169] Trial 4 finished with value: -1.0456705887160704 and parameters: {'max_depth': 3, 'num_leaves': 7, 'subsample': 0.8, 'colsample_bytree': 0.8, 'reg_alpha': 6.352144366663436, 'reg_lambda': 9.255192977564331}. Best is trial 4 with value: -1.0456705887160704.\n"
     ]
    },
    {
     "name": "stdout",
     "output_type": "stream",
     "text": [
      "1.0681143803006736\n",
      "1.004137140957493\n",
      "0.986945481127708\n",
      "1.2624215356326929\n",
      "1.004137140957493\n",
      "1.265651341405158\n",
      "1.260558675373567\n",
      "1.1287028873254055\n",
      "1.0495210947839257\n",
      "1.3440403593538937\n",
      "1.3407816848097625\n",
      "1.1210033298267763\n",
      "1.3715295912155832\n"
     ]
    },
    {
     "name": "stderr",
     "output_type": "stream",
     "text": [
      "[I 2023-07-30 12:42:46,828] Trial 8 finished with value: -1.0456705887160704 and parameters: {'max_depth': 7, 'num_leaves': 127, 'subsample': 0.8, 'colsample_bytree': 0.8, 'reg_alpha': 3.0973376073676513, 'reg_lambda': 0.08371840523687114}. Best is trial 4 with value: -1.0456705887160704.\n"
     ]
    },
    {
     "name": "stdout",
     "output_type": "stream",
     "text": [
      "1.0681143803006736\n",
      "1.296984668962129\n",
      "1.36263313307195\n",
      "1.301804408546929\n",
      "1.352145489573997\n",
      "1.3591342966658027\n",
      "1.3809032913971184\n",
      "1.380118663553798\n",
      "1.3926295672287061\n"
     ]
    },
    {
     "name": "stderr",
     "output_type": "stream",
     "text": [
      "[I 2023-07-30 12:43:06,991] Trial 0 finished with value: -1.1675432825391183 and parameters: {'max_depth': 7, 'num_leaves': 63, 'subsample': 0.8, 'colsample_bytree': 0.8, 'reg_alpha': 1.3481591624567142, 'reg_lambda': 0.0037305011756846476}. Best is trial 0 with value: -1.1675432825391183.\n"
     ]
    },
    {
     "name": "stdout",
     "output_type": "stream",
     "text": [
      "1.2882568690400116\n"
     ]
    },
    {
     "name": "stderr",
     "output_type": "stream",
     "text": [
      "[I 2023-07-30 12:43:10,674] Trial 5 finished with value: -1.165442798636629 and parameters: {'max_depth': 7, 'num_leaves': 127, 'subsample': 0.8, 'colsample_bytree': 0.8, 'reg_alpha': 1.3891933442831812, 'reg_lambda': 0.17380325535872546}. Best is trial 0 with value: -1.1675432825391183.\n"
     ]
    },
    {
     "name": "stdout",
     "output_type": "stream",
     "text": [
      "1.2806342674413937\n",
      "1.3883296991768925\n"
     ]
    },
    {
     "name": "stderr",
     "output_type": "stream",
     "text": [
      "[I 2023-07-30 12:43:18,726] Trial 2 finished with value: -1.3041089990366799 and parameters: {'max_depth': 3, 'num_leaves': 127, 'subsample': 0.8, 'colsample_bytree': 0.8, 'reg_alpha': 0.3846686500223731, 'reg_lambda': 0.0014071428243990526}. Best is trial 2 with value: -1.3041089990366799.\n"
     ]
    },
    {
     "name": "stdout",
     "output_type": "stream",
     "text": [
      "1.3401378517419367\n"
     ]
    },
    {
     "name": "stderr",
     "output_type": "stream",
     "text": [
      "[I 2023-07-30 12:43:19,511] Trial 6 finished with value: -1.3225232563385485 and parameters: {'max_depth': 3, 'num_leaves': 127, 'subsample': 0.8, 'colsample_bytree': 0.8, 'reg_alpha': 0.026727238996111798, 'reg_lambda': 1.7118125050456636}. Best is trial 6 with value: -1.3225232563385485.\n"
     ]
    },
    {
     "name": "stdout",
     "output_type": "stream",
     "text": [
      "1.3351369470598238\n"
     ]
    },
    {
     "name": "stderr",
     "output_type": "stream",
     "text": [
      "[I 2023-07-30 12:43:20,033] Trial 1 finished with value: -1.3015904113659105 and parameters: {'max_depth': 5, 'num_leaves': 127, 'subsample': 0.8, 'colsample_bytree': 0.8, 'reg_alpha': 0.4185577345178464, 'reg_lambda': 0.007200291522474761}. Best is trial 6 with value: -1.3225232563385485.\n"
     ]
    },
    {
     "name": "stdout",
     "output_type": "stream",
     "text": [
      "1.3393035607826058\n",
      "1.3830900192815923\n",
      "1.3800713347186795\n"
     ]
    },
    {
     "name": "stderr",
     "output_type": "stream",
     "text": [
      "[I 2023-07-30 12:43:23,459] Trial 9 finished with value: -1.3230601590387978 and parameters: {'max_depth': 3, 'num_leaves': 31, 'subsample': 0.8, 'colsample_bytree': 0.8, 'reg_alpha': 0.16193276641777957, 'reg_lambda': 0.12180968314911879}. Best is trial 9 with value: -1.3230601590387978.\n"
     ]
    },
    {
     "name": "stdout",
     "output_type": "stream",
     "text": [
      "1.3398313737701482\n"
     ]
    },
    {
     "name": "stderr",
     "output_type": "stream",
     "text": [
      "[I 2023-07-30 12:43:27,976] Trial 7 finished with value: -1.3065123918316714 and parameters: {'max_depth': 7, 'num_leaves': 31, 'subsample': 0.8, 'colsample_bytree': 0.8, 'reg_alpha': 0.006025829783923842, 'reg_lambda': 0.5399814005546318}. Best is trial 9 with value: -1.3230601590387978.\n"
     ]
    },
    {
     "name": "stdout",
     "output_type": "stream",
     "text": [
      "1.3302679806607305\n"
     ]
    },
    {
     "name": "stderr",
     "output_type": "stream",
     "text": [
      "[I 2023-07-30 12:43:28,364] Trial 3 finished with value: -1.3191228958652446 and parameters: {'max_depth': 5, 'num_leaves': 31, 'subsample': 0.8, 'colsample_bytree': 0.8, 'reg_alpha': 0.2062208138030574, 'reg_lambda': 0.013710897985631427}. Best is trial 9 with value: -1.3230601590387978.\n",
      "[I 2023-07-30 12:43:28,366] A new study created in memory with name: no-name-4f24843c-00b3-48d2-be58-48a66de2602e\n"
     ]
    },
    {
     "name": "stdout",
     "output_type": "stream",
     "text": [
      "1.3320082992899032\n",
      "1.1898878661389791\n",
      "1.2037461702533157\n",
      "1.2314164944753416\n",
      "1.2504855176692207\n",
      "1.163109916624795\n",
      "1.171291797721486\n",
      "1.1957253088704518\n",
      "1.2272766821990542\n",
      "1.1782981271477915\n",
      "1.2401629715821134\n",
      "1.229689054308785\n",
      "1.1932491308727915\n",
      "1.2324798138413207\n",
      "1.2329684509658978\n",
      "1.2182185507979084\n",
      "1.2206114234684091\n",
      "1.2170199065260816\n",
      "1.349318146753749\n",
      "1.3081364806260538\n",
      "1.3274348030227188\n",
      "1.3254244453343738\n",
      "1.335058218119246\n",
      "1.2170640801669357\n",
      "1.2300475085546876\n",
      "1.3421012818342568\n",
      "1.3492403622531948\n",
      "1.232121282130913\n",
      "1.343947458131838\n",
      "1.3354380183582546\n",
      "1.3578724719649329\n",
      "1.3547285513460279\n",
      "1.3384572934076178\n"
     ]
    },
    {
     "name": "stderr",
     "output_type": "stream",
     "text": [
      "[I 2023-07-30 12:44:27,961] Trial 4 finished with value: -1.282868135869927 and parameters: {'max_depth': 3, 'num_leaves': 63, 'subsample': 0.8, 'colsample_bytree': 0.8, 'reg_alpha': 0.01748684323225048, 'reg_lambda': 0.743311079029471}. Best is trial 4 with value: -1.282868135869927.\n"
     ]
    },
    {
     "name": "stdout",
     "output_type": "stream",
     "text": [
      "1.3039105261260153\n",
      "1.3391493276429816\n"
     ]
    },
    {
     "name": "stderr",
     "output_type": "stream",
     "text": [
      "[I 2023-07-30 12:44:32,619] Trial 5 finished with value: -1.2626822755028395 and parameters: {'max_depth': 5, 'num_leaves': 127, 'subsample': 0.8, 'colsample_bytree': 0.8, 'reg_alpha': 0.5420981702481201, 'reg_lambda': 0.08476886834491923}. Best is trial 4 with value: -1.282868135869927.\n"
     ]
    },
    {
     "name": "stdout",
     "output_type": "stream",
     "text": [
      "1.299675487137362\n",
      "1.307998588067535\n"
     ]
    },
    {
     "name": "stderr",
     "output_type": "stream",
     "text": [
      "[I 2023-07-30 12:44:36,797] Trial 2 finished with value: -1.286742413317135 and parameters: {'max_depth': 7, 'num_leaves': 7, 'subsample': 0.8, 'colsample_bytree': 0.8, 'reg_alpha': 0.017689364150145246, 'reg_lambda': 0.0019446077364021145}. Best is trial 2 with value: -1.286742413317135.\n"
     ]
    },
    {
     "name": "stdout",
     "output_type": "stream",
     "text": [
      "1.2968722346660664\n",
      "1.3409262365540238\n"
     ]
    },
    {
     "name": "stderr",
     "output_type": "stream",
     "text": [
      "[I 2023-07-30 12:44:38,170] Trial 1 finished with value: -1.2951821348621044 and parameters: {'max_depth': 3, 'num_leaves': 63, 'subsample': 0.8, 'colsample_bytree': 0.8, 'reg_alpha': 0.14331545106132784, 'reg_lambda': 5.895199790820258}. Best is trial 1 with value: -1.2951821348621044.\n"
     ]
    },
    {
     "name": "stdout",
     "output_type": "stream",
     "text": [
      "1.3107819884312344\n",
      "1.3517066008447922\n"
     ]
    },
    {
     "name": "stderr",
     "output_type": "stream",
     "text": [
      "[I 2023-07-30 12:44:42,122] Trial 6 finished with value: -1.2865936480162847 and parameters: {'max_depth': 3, 'num_leaves': 127, 'subsample': 0.8, 'colsample_bytree': 0.8, 'reg_alpha': 0.274858550585349, 'reg_lambda': 0.025188136729998593}. Best is trial 1 with value: -1.2951821348621044.\n",
      "[I 2023-07-30 12:44:42,132] Trial 7 pruned. Trial was pruned at iteration 11.\n"
     ]
    },
    {
     "name": "stdout",
     "output_type": "stream",
     "text": [
      "1.3047015558981925\n"
     ]
    },
    {
     "name": "stderr",
     "output_type": "stream",
     "text": [
      "[I 2023-07-30 12:44:44,195] Trial 8 pruned. Trial was pruned at iteration 108.\n",
      "[I 2023-07-30 12:44:45,059] Trial 0 finished with value: -1.2760189788471332 and parameters: {'max_depth': 5, 'num_leaves': 127, 'subsample': 0.8, 'colsample_bytree': 0.8, 'reg_alpha': 0.009401551351402587, 'reg_lambda': 0.054304559340623684}. Best is trial 1 with value: -1.2951821348621044.\n"
     ]
    },
    {
     "name": "stdout",
     "output_type": "stream",
     "text": [
      "1.3069410635685341\n"
     ]
    },
    {
     "name": "stderr",
     "output_type": "stream",
     "text": [
      "[I 2023-07-30 12:44:47,302] Trial 9 finished with value: -1.281865895296727 and parameters: {'max_depth': 5, 'num_leaves': 63, 'subsample': 0.8, 'colsample_bytree': 0.8, 'reg_alpha': 0.019620978579442436, 'reg_lambda': 1.376831987425366}. Best is trial 1 with value: -1.2951821348621044.\n"
     ]
    },
    {
     "name": "stdout",
     "output_type": "stream",
     "text": [
      "1.3094396418840553\n",
      "1.3503092307013385\n"
     ]
    },
    {
     "name": "stderr",
     "output_type": "stream",
     "text": [
      "[I 2023-07-30 12:44:52,499] Trial 3 finished with value: -1.2845295795360223 and parameters: {'max_depth': 7, 'num_leaves': 127, 'subsample': 0.8, 'colsample_bytree': 0.8, 'reg_alpha': 0.2050108695533947, 'reg_lambda': 0.0027577017621164697}. Best is trial 1 with value: -1.2951821348621044.\n"
     ]
    },
    {
     "name": "stdout",
     "output_type": "stream",
     "text": [
      "1.3046035160477658\n",
      ">>>Done with 8 processes, and time taken is 868.3573579788208\n",
      "Time taken:  871.687196969986 seconds\n"
     ]
    },
    {
     "name": "stderr",
     "output_type": "stream",
     "text": [
      "[I 2023-07-30 12:44:58,511] A new study created in memory with name: no-name-03a8d697-8349-4016-83cf-4a403c7ad0bc\n"
     ]
    },
    {
     "name": "stdout",
     "output_type": "stream",
     "text": [
      "1.2879885049513788\n",
      "1.045739094724599\n",
      "1.2753273586834286\n",
      "1.045739094724599\n",
      "1.045739094724599\n",
      "1.045739094724599\n",
      "1.045739094724599\n",
      "1.2856558266770755\n",
      "1.3173716825355264\n",
      "1.2806910469023602\n",
      "1.0361583840667716\n",
      "1.0361583840667716\n",
      "1.6770169646089972\n",
      "1.6377873164899803\n",
      "1.0361583840667716\n",
      "1.388339728436181\n",
      "1.669979094004029\n",
      "0.9226180569290507\n",
      "1.0361583840667716\n",
      "1.6694718848932446\n",
      "0.9226180569290507\n",
      "0.9226180569290507\n",
      "1.6794834197382702\n",
      "2.201968263672838\n",
      "2.163192130604874\n",
      "0.9570429205812028\n",
      "0.9570429205812028\n",
      "1.4368412210021146\n",
      "0.9570429205812028\n",
      "1.679294999769847\n",
      "2.2176821014223522\n",
      "2.173652411073406\n"
     ]
    },
    {
     "name": "stderr",
     "output_type": "stream",
     "text": [
      "[I 2023-07-30 12:45:31,879] Trial 3 finished with value: -1.000521281020291 and parameters: {'max_depth': 3, 'num_leaves': 127, 'subsample': 0.8, 'colsample_bytree': 0.8, 'reg_alpha': 8.932377919118998, 'reg_lambda': 1.9950413487908598}. Best is trial 3 with value: -1.000521281020291.\n"
     ]
    },
    {
     "name": "stdout",
     "output_type": "stream",
     "text": [
      "2.12926059247778\n",
      "1.0410479487998314\n"
     ]
    },
    {
     "name": "stderr",
     "output_type": "stream",
     "text": [
      "[I 2023-07-30 12:45:33,975] Trial 7 finished with value: -1.000521281020291 and parameters: {'max_depth': 7, 'num_leaves': 31, 'subsample': 0.8, 'colsample_bytree': 0.8, 'reg_alpha': 3.025222441051851, 'reg_lambda': 0.03820021078104764}. Best is trial 3 with value: -1.000521281020291.\n"
     ]
    },
    {
     "name": "stdout",
     "output_type": "stream",
     "text": [
      "1.0410479487998314\n",
      "2.086764255368169\n",
      "2.1202450217339512\n",
      "1.8887354831988814\n",
      "1.6523756155939138\n",
      "2.0951543380249076\n",
      "2.1158235594091286\n"
     ]
    },
    {
     "name": "stderr",
     "output_type": "stream",
     "text": [
      "[I 2023-07-30 12:45:49,170] Trial 6 finished with value: -1.0619715922743458 and parameters: {'max_depth': 7, 'num_leaves': 31, 'subsample': 0.8, 'colsample_bytree': 0.8, 'reg_alpha': 0.8593226459606036, 'reg_lambda': 0.030729790178683877}. Best is trial 6 with value: -1.0619715922743458.\n"
     ]
    },
    {
     "name": "stdout",
     "output_type": "stream",
     "text": [
      "1.3482995050701048\n"
     ]
    },
    {
     "name": "stderr",
     "output_type": "stream",
     "text": [
      "[I 2023-07-30 12:45:50,990] Trial 9 finished with value: -1.9494290181325424 and parameters: {'max_depth': 3, 'num_leaves': 7, 'subsample': 0.8, 'colsample_bytree': 0.8, 'reg_alpha': 0.0077112189761478845, 'reg_lambda': 1.4517601815952637}. Best is trial 9 with value: -1.9494290181325424.\n",
      "[I 2023-07-30 12:45:51,034] Trial 8 finished with value: -1.6662464235154482 and parameters: {'max_depth': 3, 'num_leaves': 7, 'subsample': 0.8, 'colsample_bytree': 0.8, 'reg_alpha': 0.253774406722557, 'reg_lambda': 8.363509626129543}. Best is trial 9 with value: -1.9494290181325424.\n"
     ]
    },
    {
     "name": "stdout",
     "output_type": "stream",
     "text": [
      "2.4509107649517192\n",
      "2.329122811447733\n"
     ]
    },
    {
     "name": "stderr",
     "output_type": "stream",
     "text": [
      "[I 2023-07-30 12:45:53,680] Trial 4 finished with value: -1.9238908481202563 and parameters: {'max_depth': 5, 'num_leaves': 31, 'subsample': 0.8, 'colsample_bytree': 0.8, 'reg_alpha': 0.001354444692567529, 'reg_lambda': 0.017594725037525395}. Best is trial 9 with value: -1.9494290181325424.\n"
     ]
    },
    {
     "name": "stdout",
     "output_type": "stream",
     "text": [
      "2.456383179454831\n"
     ]
    },
    {
     "name": "stderr",
     "output_type": "stream",
     "text": [
      "[I 2023-07-30 12:45:57,101] Trial 1 finished with value: -1.9539328929752486 and parameters: {'max_depth': 5, 'num_leaves': 7, 'subsample': 0.8, 'colsample_bytree': 0.8, 'reg_alpha': 0.001417376288752723, 'reg_lambda': 0.7127527408662427}. Best is trial 1 with value: -1.9539328929752486.\n"
     ]
    },
    {
     "name": "stdout",
     "output_type": "stream",
     "text": [
      "2.5011931047478795\n",
      "2.099178259372427\n"
     ]
    },
    {
     "name": "stderr",
     "output_type": "stream",
     "text": [
      "[I 2023-07-30 12:45:57,473] Trial 0 finished with value: -1.9565314749337837 and parameters: {'max_depth': 3, 'num_leaves': 7, 'subsample': 0.8, 'colsample_bytree': 0.8, 'reg_alpha': 0.001644320793418553, 'reg_lambda': 0.0016586412520685396}. Best is trial 0 with value: -1.9565314749337837.\n"
     ]
    },
    {
     "name": "stdout",
     "output_type": "stream",
     "text": [
      "2.5063378367576137\n"
     ]
    },
    {
     "name": "stderr",
     "output_type": "stream",
     "text": [
      "[I 2023-07-30 12:45:57,691] Trial 5 finished with value: -1.4831874001456145 and parameters: {'max_depth': 3, 'num_leaves': 31, 'subsample': 0.8, 'colsample_bytree': 0.8, 'reg_alpha': 0.32461394713520586, 'reg_lambda': 0.18147564380870623}. Best is trial 0 with value: -1.9565314749337837.\n"
     ]
    },
    {
     "name": "stdout",
     "output_type": "stream",
     "text": [
      "2.244822685340673\n"
     ]
    },
    {
     "name": "stderr",
     "output_type": "stream",
     "text": [
      "[I 2023-07-30 12:46:02,344] Trial 2 finished with value: -1.9357597439670997 and parameters: {'max_depth': 7, 'num_leaves': 63, 'subsample': 0.8, 'colsample_bytree': 0.8, 'reg_alpha': 0.01026608304578306, 'reg_lambda': 0.002729090540843894}. Best is trial 0 with value: -1.9565314749337837.\n",
      "[I 2023-07-30 12:46:02,346] A new study created in memory with name: no-name-af92bd35-ee46-4d27-98fa-0eb2ab924e97\n"
     ]
    },
    {
     "name": "stdout",
     "output_type": "stream",
     "text": [
      "2.499200972088489\n",
      "1.0470823490886252\n",
      "1.0470823490886252\n",
      "1.0470823490886252\n",
      "1.2684013121871764\n",
      "1.0470823490886252\n",
      "1.0470823490886252\n",
      "1.2765643155477395\n",
      "1.0380657932185957\n",
      "1.0380657932185957\n",
      "1.0380657932185957\n",
      "1.2503736890276942\n",
      "1.0380657932185957\n",
      "1.2714739228395828\n",
      "0.9233350706398729\n",
      "0.9233350706398729\n",
      "1.226244893115263\n",
      "0.9233350706398729\n",
      "1.5045769733252645\n",
      "0.959781755668843\n",
      "1.5628748283794391\n",
      "0.959781755668843\n",
      "1.426261565315198\n",
      "1.369286933335173\n"
     ]
    },
    {
     "name": "stderr",
     "output_type": "stream",
     "text": [
      "[I 2023-07-30 12:46:27,995] Trial 0 finished with value: -1.0016482811533893 and parameters: {'max_depth': 5, 'num_leaves': 127, 'subsample': 0.8, 'colsample_bytree': 0.8, 'reg_alpha': 2.2253898460810984, 'reg_lambda': 0.31680110386588795}. Best is trial 0 with value: -1.0016482811533893.\n"
     ]
    },
    {
     "name": "stdout",
     "output_type": "stream",
     "text": [
      "1.0399764371510103\n",
      "0.9233350706398729\n"
     ]
    },
    {
     "name": "stderr",
     "output_type": "stream",
     "text": [
      "[I 2023-07-30 12:46:29,972] Trial 9 finished with value: -1.0016482811533893 and parameters: {'max_depth': 5, 'num_leaves': 31, 'subsample': 0.8, 'colsample_bytree': 0.8, 'reg_alpha': 2.286559961451553, 'reg_lambda': 4.700107309992858}. Best is trial 0 with value: -1.0016482811533893.\n"
     ]
    },
    {
     "name": "stdout",
     "output_type": "stream",
     "text": [
      "1.0399764371510103\n",
      "0.959781755668843\n",
      "1.3202014532438366\n",
      "1.5027024775117082\n",
      "1.6664537143461309\n",
      "1.539737396409873\n",
      "1.8252385572061534\n"
     ]
    },
    {
     "name": "stderr",
     "output_type": "stream",
     "text": [
      "[I 2023-07-30 12:46:37,041] Trial 1 finished with value: -1.0423719159466112 and parameters: {'max_depth': 3, 'num_leaves': 7, 'subsample': 0.8, 'colsample_bytree': 0.8, 'reg_alpha': 1.3355112631474364, 'reg_lambda': 0.01893866531570609}. Best is trial 1 with value: -1.0423719159466112.\n"
     ]
    },
    {
     "name": "stdout",
     "output_type": "stream",
     "text": [
      "1.243594611117119\n",
      "1.8386929751030583\n",
      "1.5114280771943096\n",
      "1.2446773588002933\n"
     ]
    },
    {
     "name": "stderr",
     "output_type": "stream",
     "text": [
      "[I 2023-07-30 12:46:46,781] Trial 3 finished with value: -1.1197040482375802 and parameters: {'max_depth': 5, 'num_leaves': 127, 'subsample': 0.8, 'colsample_bytree': 0.8, 'reg_alpha': 0.9936278228789278, 'reg_lambda': 0.0011561078524885266}. Best is trial 3 with value: -1.1197040482375802.\n"
     ]
    },
    {
     "name": "stdout",
     "output_type": "stream",
     "text": [
      "1.3453596694405134\n",
      "1.8284385235424474\n"
     ]
    },
    {
     "name": "stderr",
     "output_type": "stream",
     "text": [
      "[I 2023-07-30 12:46:49,670] Trial 4 finished with value: -1.450676842952006 and parameters: {'max_depth': 7, 'num_leaves': 63, 'subsample': 0.8, 'colsample_bytree': 0.8, 'reg_alpha': 0.4423251314672643, 'reg_lambda': 0.006898308989606083}. Best is trial 4 with value: -1.450676842952006.\n"
     ]
    },
    {
     "name": "stdout",
     "output_type": "stream",
     "text": [
      "2.0053854018980863\n",
      "1.8151877056933485\n",
      "1.847393090798724\n",
      "1.8123290569182289\n",
      "1.8275028548013554\n"
     ]
    },
    {
     "name": "stderr",
     "output_type": "stream",
     "text": [
      "[I 2023-07-30 12:46:58,663] Trial 5 finished with value: -1.7074096363366862 and parameters: {'max_depth': 3, 'num_leaves': 7, 'subsample': 0.8, 'colsample_bytree': 0.8, 'reg_alpha': 0.037729921650310305, 'reg_lambda': 3.635439486849936}. Best is trial 5 with value: -1.7074096363366862.\n"
     ]
    },
    {
     "name": "stdout",
     "output_type": "stream",
     "text": [
      "2.03864054247131\n"
     ]
    },
    {
     "name": "stderr",
     "output_type": "stream",
     "text": [
      "[I 2023-07-30 12:47:01,521] Trial 8 finished with value: -1.6400940777086046 and parameters: {'max_depth': 5, 'num_leaves': 63, 'subsample': 0.8, 'colsample_bytree': 0.8, 'reg_alpha': 0.21691183046974233, 'reg_lambda': 3.9612069859970997}. Best is trial 5 with value: -1.7074096363366862.\n"
     ]
    },
    {
     "name": "stdout",
     "output_type": "stream",
     "text": [
      "2.0663225100730824\n",
      "1.791638191803218\n",
      "1.838357164846276\n"
     ]
    },
    {
     "name": "stderr",
     "output_type": "stream",
     "text": [
      "[I 2023-07-30 12:47:05,950] Trial 7 finished with value: -1.6919943598565659 and parameters: {'max_depth': 3, 'num_leaves': 63, 'subsample': 0.8, 'colsample_bytree': 0.8, 'reg_alpha': 0.10700333490611742, 'reg_lambda': 3.5922863001007914}. Best is trial 5 with value: -1.7074096363366862.\n"
     ]
    },
    {
     "name": "stdout",
     "output_type": "stream",
     "text": [
      "2.0260890984023168\n"
     ]
    },
    {
     "name": "stderr",
     "output_type": "stream",
     "text": [
      "[I 2023-07-30 12:47:13,352] Trial 2 finished with value: -1.695447903346673 and parameters: {'max_depth': 7, 'num_leaves': 63, 'subsample': 0.8, 'colsample_bytree': 0.8, 'reg_alpha': 0.013435016880008019, 'reg_lambda': 0.0015294723621432826}. Best is trial 5 with value: -1.7074096363366862.\n"
     ]
    },
    {
     "name": "stdout",
     "output_type": "stream",
     "text": [
      "2.08513206759202\n"
     ]
    },
    {
     "name": "stderr",
     "output_type": "stream",
     "text": [
      "[I 2023-07-30 12:47:13,771] Trial 6 finished with value: -1.7030330640448283 and parameters: {'max_depth': 7, 'num_leaves': 63, 'subsample': 0.8, 'colsample_bytree': 0.8, 'reg_alpha': 0.02773282161396212, 'reg_lambda': 0.0021175011545639657}. Best is trial 5 with value: -1.7074096363366862.\n",
      "[I 2023-07-30 12:47:13,773] A new study created in memory with name: no-name-d29bfbda-6a00-4f14-8b6c-2530d8996446\n"
     ]
    },
    {
     "name": "stdout",
     "output_type": "stream",
     "text": [
      "2.0532677792101803\n",
      "1.2255316290112588\n",
      "1.21975238160033\n",
      "1.0453382886679172\n",
      "1.2320168180337998\n",
      "1.240595455973297\n",
      "1.0453382886679172\n",
      "1.0453382886679172\n",
      "1.0453382886679172\n",
      "1.0390990735795238\n",
      "1.23244270627783\n",
      "1.2069959935770749\n",
      "1.0390990735795238\n",
      "1.0390990735795238\n",
      "1.0390990735795238\n",
      "0.926075955225353\n",
      "0.926075955225353\n",
      "0.926075955225353\n",
      "0.9628474341497165\n",
      "1.5068368718232752\n",
      "0.9628474341497165\n"
     ]
    },
    {
     "name": "stderr",
     "output_type": "stream",
     "text": [
      "[I 2023-07-30 12:47:40,278] Trial 2 finished with value: -1.0028456854053114 and parameters: {'max_depth': 7, 'num_leaves': 63, 'subsample': 0.8, 'colsample_bytree': 0.8, 'reg_alpha': 7.908096809943335, 'reg_lambda': 2.4341628671631805}. Best is trial 2 with value: -1.0028456854053114.\n"
     ]
    },
    {
     "name": "stdout",
     "output_type": "stream",
     "text": [
      "1.040867675404046\n",
      "1.4904953103229692\n",
      "1.5076097501799448\n",
      "1.358028190667878\n"
     ]
    },
    {
     "name": "stderr",
     "output_type": "stream",
     "text": [
      "[I 2023-07-30 12:47:42,925] Trial 9 finished with value: -1.0028456854053114 and parameters: {'max_depth': 5, 'num_leaves': 7, 'subsample': 0.8, 'colsample_bytree': 0.8, 'reg_alpha': 3.0795297102279253, 'reg_lambda': 0.012881730283103403}. Best is trial 2 with value: -1.0028456854053114.\n"
     ]
    },
    {
     "name": "stdout",
     "output_type": "stream",
     "text": [
      "1.040867675404046\n",
      "1.4837832539088307\n",
      "0.926075955225353\n",
      "1.3020965881446993\n",
      "1.2673577040225041\n",
      "1.4405921188633095\n",
      "1.662275368942582\n",
      "1.2671301073827967\n",
      "1.7554973928243947\n",
      "1.3780276649703291\n",
      "1.6763637715865354\n",
      "1.7268642569631472\n"
     ]
    },
    {
     "name": "stderr",
     "output_type": "stream",
     "text": [
      "[I 2023-07-30 12:47:57,624] Trial 7 finished with value: -1.0937140055102064 and parameters: {'max_depth': 5, 'num_leaves': 31, 'subsample': 0.8, 'colsample_bytree': 0.8, 'reg_alpha': 1.6857042790798444, 'reg_lambda': 1.3444665758637515}. Best is trial 7 with value: -1.0937140055102064.\n"
     ]
    },
    {
     "name": "stdout",
     "output_type": "stream",
     "text": [
      "1.1906990060557332\n",
      "1.728462801913114\n",
      "1.7532741848247457\n",
      "1.7261059427179966\n"
     ]
    },
    {
     "name": "stderr",
     "output_type": "stream",
     "text": [
      "[I 2023-07-30 12:48:07,999] Trial 4 finished with value: -1.1140424830519353 and parameters: {'max_depth': 5, 'num_leaves': 7, 'subsample': 0.8, 'colsample_bytree': 0.8, 'reg_alpha': 1.368882021689845, 'reg_lambda': 1.665222038766644}. Best is trial 4 with value: -1.1140424830519353.\n"
     ]
    },
    {
     "name": "stdout",
     "output_type": "stream",
     "text": [
      "1.2925689904040856\n",
      "1.697780669143092\n",
      "1.7465537823266533\n",
      "1.705029282440323\n"
     ]
    },
    {
     "name": "stderr",
     "output_type": "stream",
     "text": [
      "[I 2023-07-30 12:48:16,295] Trial 3 finished with value: -1.5979891332172331 and parameters: {'max_depth': 5, 'num_leaves': 127, 'subsample': 0.8, 'colsample_bytree': 0.8, 'reg_alpha': 0.005065044853047513, 'reg_lambda': 0.0017555163094683153}. Best is trial 3 with value: -1.5979891332172331.\n"
     ]
    },
    {
     "name": "stdout",
     "output_type": "stream",
     "text": [
      "1.8668389943959347\n"
     ]
    },
    {
     "name": "stderr",
     "output_type": "stream",
     "text": [
      "[I 2023-07-30 12:48:21,863] Trial 6 finished with value: -1.5124654282501573 and parameters: {'max_depth': 5, 'num_leaves': 31, 'subsample': 0.8, 'colsample_bytree': 0.8, 'reg_alpha': 0.3080851223067411, 'reg_lambda': 3.8834254353774176}. Best is trial 3 with value: -1.5979891332172331.\n"
     ]
    },
    {
     "name": "stdout",
     "output_type": "stream",
     "text": [
      "1.8055840709678037\n"
     ]
    },
    {
     "name": "stderr",
     "output_type": "stream",
     "text": [
      "[I 2023-07-30 12:48:22,587] Trial 8 finished with value: -1.6236062805345277 and parameters: {'max_depth': 5, 'num_leaves': 7, 'subsample': 0.8, 'colsample_bytree': 0.8, 'reg_alpha': 0.009847290769505822, 'reg_lambda': 0.0046926198755648674}. Best is trial 8 with value: -1.6236062805345277.\n"
     ]
    },
    {
     "name": "stdout",
     "output_type": "stream",
     "text": [
      "1.886321808422699\n"
     ]
    },
    {
     "name": "stderr",
     "output_type": "stream",
     "text": [
      "[I 2023-07-30 12:48:23,729] Trial 1 finished with value: -1.5979435906093378 and parameters: {'max_depth': 5, 'num_leaves': 63, 'subsample': 0.8, 'colsample_bytree': 0.8, 'reg_alpha': 0.007874293664346395, 'reg_lambda': 0.807257665276429}. Best is trial 8 with value: -1.6236062805345277.\n"
     ]
    },
    {
     "name": "stdout",
     "output_type": "stream",
     "text": [
      "1.8673683061638195\n"
     ]
    },
    {
     "name": "stderr",
     "output_type": "stream",
     "text": [
      "[I 2023-07-30 12:48:24,130] Trial 0 finished with value: -1.4875479537614726 and parameters: {'max_depth': 5, 'num_leaves': 63, 'subsample': 0.8, 'colsample_bytree': 0.8, 'reg_alpha': 0.35422440149145024, 'reg_lambda': 6.255904996797353}. Best is trial 8 with value: -1.6236062805345277.\n",
      "[I 2023-07-30 12:48:24,210] Trial 5 finished with value: -1.6027674345290677 and parameters: {'max_depth': 5, 'num_leaves': 7, 'subsample': 0.8, 'colsample_bytree': 0.8, 'reg_alpha': 0.055033815500104756, 'reg_lambda': 2.6857109624707207}. Best is trial 8 with value: -1.6236062805345277.\n",
      "[I 2023-07-30 12:48:24,210] A new study created in memory with name: no-name-0b762f46-5d97-4808-87ae-911353b8ff33\n"
     ]
    },
    {
     "name": "stdout",
     "output_type": "stream",
     "text": [
      "1.832833851651682\n",
      "1.8496398858696312\n",
      "1.1932126858700365\n",
      "1.0467669437495541\n",
      "1.181443648225773\n",
      "1.2089186238263567\n",
      "1.170299332013568\n",
      "1.2075515684470106\n",
      "1.2091906359924633\n",
      "1.0373255149008218\n",
      "1.1860578015515555\n",
      "1.2058967752247665\n",
      "0.927702154334622\n",
      "1.1541969295945933\n",
      "1.4189866157016173\n",
      "1.4003815927734997\n",
      "1.410754758530275\n",
      "1.3841642031237027\n",
      "1.4175003624360645\n",
      "1.2876685383006967\n",
      "1.2181143899430782\n",
      "1.5693907253931396\n",
      "1.4061712836796365\n",
      "1.4313921437951127\n"
     ]
    },
    {
     "name": "stderr",
     "output_type": "stream",
     "text": [
      "[I 2023-07-30 12:48:57,794] Trial 3 finished with value: -1.074041593978385 and parameters: {'max_depth': 7, 'num_leaves': 31, 'subsample': 0.8, 'colsample_bytree': 0.8, 'reg_alpha': 2.1147946874770662, 'reg_lambda': 8.1201563742542}. Best is trial 3 with value: -1.074041593978385.\n"
     ]
    },
    {
     "name": "stdout",
     "output_type": "stream",
     "text": [
      "1.1402989669638484\n",
      "1.4363166719525406\n",
      "1.55527526687007\n",
      "1.6579454864495022\n",
      "1.3397757317914825\n",
      "1.5648986761075725\n",
      "1.5843443412636664\n",
      "1.6136457511924762\n",
      "1.6014821523141145\n",
      "1.6394017972179316\n"
     ]
    },
    {
     "name": "stderr",
     "output_type": "stream",
     "text": [
      "[I 2023-07-30 12:49:15,391] Trial 5 finished with value: -1.5204786525103624 and parameters: {'max_depth': 3, 'num_leaves': 31, 'subsample': 0.8, 'colsample_bytree': 0.8, 'reg_alpha': 0.008483277243999238, 'reg_lambda': 0.021717466578406515}. Best is trial 5 with value: -1.5204786525103624.\n"
     ]
    },
    {
     "name": "stdout",
     "output_type": "stream",
     "text": [
      "1.7857711029939847\n",
      "1.5989350779178206\n",
      "1.6275839596095385\n",
      "1.6410415869874662\n",
      "1.610801151618944\n",
      "1.5239663650932598\n",
      "1.592181289379941\n"
     ]
    },
    {
     "name": "stderr",
     "output_type": "stream",
     "text": [
      "[I 2023-07-30 12:49:29,357] Trial 4 finished with value: -1.420866601039865 and parameters: {'max_depth': 3, 'num_leaves': 7, 'subsample': 0.8, 'colsample_bytree': 0.8, 'reg_alpha': 0.3779124455605996, 'reg_lambda': 0.2265398043966289}. Best is trial 5 with value: -1.5204786525103624.\n"
     ]
    },
    {
     "name": "stdout",
     "output_type": "stream",
     "text": [
      "1.6695098075682655\n"
     ]
    },
    {
     "name": "stderr",
     "output_type": "stream",
     "text": [
      "[I 2023-07-30 12:49:34,240] Trial 9 finished with value: -1.4947323816408375 and parameters: {'max_depth': 5, 'num_leaves': 7, 'subsample': 0.8, 'colsample_bytree': 0.8, 'reg_alpha': 0.1672950162487346, 'reg_lambda': 1.7671611094005717}. Best is trial 5 with value: -1.5204786525103624.\n"
     ]
    },
    {
     "name": "stdout",
     "output_type": "stream",
     "text": [
      "1.6710516828956756\n"
     ]
    },
    {
     "name": "stderr",
     "output_type": "stream",
     "text": [
      "[I 2023-07-30 12:49:39,531] Trial 6 finished with value: -1.5161551424863735 and parameters: {'max_depth': 3, 'num_leaves': 63, 'subsample': 0.8, 'colsample_bytree': 0.8, 'reg_alpha': 0.11904826159493073, 'reg_lambda': 0.31345608211845394}. Best is trial 5 with value: -1.5204786525103624.\n"
     ]
    },
    {
     "name": "stdout",
     "output_type": "stream",
     "text": [
      "1.7131270153674316\n",
      "1.6471850009539013\n"
     ]
    },
    {
     "name": "stderr",
     "output_type": "stream",
     "text": [
      "[I 2023-07-30 12:49:47,354] Trial 0 finished with value: -1.496936590518481 and parameters: {'max_depth': 7, 'num_leaves': 7, 'subsample': 0.8, 'colsample_bytree': 0.8, 'reg_alpha': 0.1527147640667381, 'reg_lambda': 6.356904462540054}. Best is trial 5 with value: -1.5204786525103624.\n"
     ]
    },
    {
     "name": "stdout",
     "output_type": "stream",
     "text": [
      "1.6819201353475328\n"
     ]
    },
    {
     "name": "stderr",
     "output_type": "stream",
     "text": [
      "[I 2023-07-30 12:49:50,625] Trial 2 finished with value: -1.5049474010941564 and parameters: {'max_depth': 5, 'num_leaves': 63, 'subsample': 0.8, 'colsample_bytree': 0.8, 'reg_alpha': 0.1592063317510821, 'reg_lambda': 0.03522554800488386}. Best is trial 5 with value: -1.5204786525103624.\n"
     ]
    },
    {
     "name": "stdout",
     "output_type": "stream",
     "text": [
      "1.7477116454605308\n",
      "1.595821692318033\n",
      "1.6443823759079095\n"
     ]
    },
    {
     "name": "stderr",
     "output_type": "stream",
     "text": [
      "[I 2023-07-30 12:50:02,060] Trial 1 finished with value: -1.5103041281775205 and parameters: {'max_depth': 7, 'num_leaves': 127, 'subsample': 0.8, 'colsample_bytree': 0.8, 'reg_alpha': 0.11285687467162246, 'reg_lambda': 2.0359693458417083}. Best is trial 5 with value: -1.5204786525103624.\n"
     ]
    },
    {
     "name": "stdout",
     "output_type": "stream",
     "text": [
      "1.7177856301104704\n"
     ]
    },
    {
     "name": "stderr",
     "output_type": "stream",
     "text": [
      "[I 2023-07-30 12:50:05,035] Trial 7 finished with value: -1.4893646283013937 and parameters: {'max_depth': 7, 'num_leaves': 127, 'subsample': 0.8, 'colsample_bytree': 0.8, 'reg_alpha': 0.021896705574245962, 'reg_lambda': 0.7042512129279822}. Best is trial 5 with value: -1.5204786525103624.\n"
     ]
    },
    {
     "name": "stdout",
     "output_type": "stream",
     "text": [
      "1.736521482548542\n"
     ]
    },
    {
     "name": "stderr",
     "output_type": "stream",
     "text": [
      "[I 2023-07-30 12:50:06,277] Trial 8 finished with value: -1.5155746821764318 and parameters: {'max_depth': 7, 'num_leaves': 63, 'subsample': 0.8, 'colsample_bytree': 0.8, 'reg_alpha': 0.11613999965352258, 'reg_lambda': 9.365162424429705}. Best is trial 5 with value: -1.5204786525103624.\n",
      "[I 2023-07-30 12:50:06,279] A new study created in memory with name: no-name-93a2de9f-2f2d-4aeb-a4df-618eaa840c19\n"
     ]
    },
    {
     "name": "stdout",
     "output_type": "stream",
     "text": [
      "1.7052399380086365\n",
      "1.1947852115717321\n",
      "1.1731740636799841\n",
      "1.0468404979542822\n",
      "1.04684049795428221.0468404979542822\n",
      "\n",
      "1.0468404979542822\n",
      "1.2054138958745848\n",
      "1.1720478160318644\n",
      "1.1732612664113464\n",
      "1.0360011324220062\n",
      "1.1479504203973798\n",
      "1.0360011324220062\n",
      "1.0360011324220062\n",
      "1.3958545673251626\n",
      "1.387163825157425\n",
      "0.9274648722242277\n",
      "0.9274648722242277\n",
      "0.9274648722242277\n",
      "1.2695517998120691\n",
      "1.3924105628778862\n",
      "1.4017522930273056\n",
      "1.3965257328457428\n",
      "0.9604484500468363\n",
      "1.517829993103825\n",
      "1.3930051354069262\n",
      "1.4970185231933688\n"
     ]
    },
    {
     "name": "stderr",
     "output_type": "stream",
     "text": [
      "[I 2023-07-30 12:50:35,579] Trial 3 finished with value: -1.002635315316914 and parameters: {'max_depth': 7, 'num_leaves': 31, 'subsample': 0.8, 'colsample_bytree': 0.8, 'reg_alpha': 5.343879271724547, 'reg_lambda': 9.939142522256692}. Best is trial 3 with value: -1.002635315316914.\n"
     ]
    },
    {
     "name": "stdout",
     "output_type": "stream",
     "text": [
      "1.0424216239372177\n",
      "1.2127833866567523\n",
      "1.1875923186794588\n",
      "1.1875923186794588\n",
      "1.5102253862152912\n",
      "1.4722450619390464\n",
      "1.4712822726582557\n",
      "1.5304336069371365\n",
      "1.544651068456036\n",
      "1.2634685807580555\n",
      "1.461541943304019\n",
      "1.529879067628523\n",
      "1.5315678571388678\n",
      "1.167140922214105\n"
     ]
    },
    {
     "name": "stderr",
     "output_type": "stream",
     "text": [
      "[I 2023-07-30 12:50:59,779] Trial 5 finished with value: -1.0730079486988158 and parameters: {'max_depth': 5, 'num_leaves': 127, 'subsample': 0.8, 'colsample_bytree': 0.8, 'reg_alpha': 2.504461762917244, 'reg_lambda': 0.05175240683243539}. Best is trial 5 with value: -1.0730079486988158.\n",
      "[I 2023-07-30 12:50:59,901] Trial 2 finished with value: -1.0790484828459104 and parameters: {'max_depth': 3, 'num_leaves': 127, 'subsample': 0.8, 'colsample_bytree': 0.8, 'reg_alpha': 2.339793854319501, 'reg_lambda': 0.010990361202430647}. Best is trial 2 with value: -1.0790484828459104.\n",
      "[I 2023-07-30 12:50:59,987] Trial 0 finished with value: -1.437024616629722 and parameters: {'max_depth': 5, 'num_leaves': 7, 'subsample': 0.8, 'colsample_bytree': 0.8, 'reg_alpha': 0.0022107765539256313, 'reg_lambda': 0.6050665703704866}. Best is trial 0 with value: -1.437024616629722.\n"
     ]
    },
    {
     "name": "stdout",
     "output_type": "stream",
     "text": [
      "1.197343592949578\n",
      "1.6347101392683294\n",
      "1.521169169205153\n"
     ]
    },
    {
     "name": "stderr",
     "output_type": "stream",
     "text": [
      "[I 2023-07-30 12:51:03,451] Trial 1 finished with value: -1.45752863823785 and parameters: {'max_depth': 3, 'num_leaves': 63, 'subsample': 0.8, 'colsample_bytree': 0.8, 'reg_alpha': 0.014117555259918594, 'reg_lambda': 0.026910942739669184}. Best is trial 1 with value: -1.45752863823785.\n"
     ]
    },
    {
     "name": "stdout",
     "output_type": "stream",
     "text": [
      "1.6553338206429515\n"
     ]
    },
    {
     "name": "stderr",
     "output_type": "stream",
     "text": [
      "[I 2023-07-30 12:51:04,849] Trial 6 finished with value: -1.2360402945688107 and parameters: {'max_depth': 5, 'num_leaves': 63, 'subsample': 0.8, 'colsample_bytree': 0.8, 'reg_alpha': 1.008203674659223, 'reg_lambda': 3.402011861814031}. Best is trial 1 with value: -1.45752863823785.\n"
     ]
    },
    {
     "name": "stdout",
     "output_type": "stream",
     "text": [
      "1.3875572076628941\n",
      "1.495023690964699\n"
     ]
    },
    {
     "name": "stderr",
     "output_type": "stream",
     "text": [
      "[I 2023-07-30 12:51:09,460] Trial 8 finished with value: -1.4508306673008655 and parameters: {'max_depth': 7, 'num_leaves': 7, 'subsample': 0.8, 'colsample_bytree': 0.8, 'reg_alpha': 0.010450605982645267, 'reg_lambda': 2.8862194990693335}. Best is trial 1 with value: -1.45752863823785.\n"
     ]
    },
    {
     "name": "stdout",
     "output_type": "stream",
     "text": [
      "1.6235783235507162\n"
     ]
    },
    {
     "name": "stderr",
     "output_type": "stream",
     "text": [
      "[I 2023-07-30 12:51:09,986] Trial 9 finished with value: -1.4582676462665645 and parameters: {'max_depth': 3, 'num_leaves': 127, 'subsample': 0.8, 'colsample_bytree': 0.8, 'reg_alpha': 0.011531219440879195, 'reg_lambda': 2.2844543618381885}. Best is trial 9 with value: -1.4582676462665645.\n"
     ]
    },
    {
     "name": "stdout",
     "output_type": "stream",
     "text": [
      "1.653409318736538\n"
     ]
    },
    {
     "name": "stderr",
     "output_type": "stream",
     "text": [
      "[I 2023-07-30 12:51:11,441] Trial 7 finished with value: -1.4384370109360896 and parameters: {'max_depth': 5, 'num_leaves': 63, 'subsample': 0.8, 'colsample_bytree': 0.8, 'reg_alpha': 0.0035724958852880124, 'reg_lambda': 3.0707098101471586}. Best is trial 9 with value: -1.4582676462665645.\n"
     ]
    },
    {
     "name": "stdout",
     "output_type": "stream",
     "text": [
      "1.624720053378387\n"
     ]
    },
    {
     "name": "stderr",
     "output_type": "stream",
     "text": [
      "[I 2023-07-30 12:51:14,185] Trial 4 finished with value: -1.421750058258991 and parameters: {'max_depth': 7, 'num_leaves': 63, 'subsample': 0.8, 'colsample_bytree': 0.8, 'reg_alpha': 0.0013567294446753615, 'reg_lambda': 0.3471480171469571}. Best is trial 9 with value: -1.4582676462665645.\n",
      "[I 2023-07-30 12:51:14,187] A new study created in memory with name: no-name-388ab5ac-ece3-410b-88bb-33a16cb6e4ab\n"
     ]
    },
    {
     "name": "stdout",
     "output_type": "stream",
     "text": [
      "1.6112291012219297\n",
      "1.1600171726661783\n",
      "1.136733664742301\n",
      "1.0477716785792988\n",
      "1.0477716785792988\n",
      "1.1557596828744168\n",
      "1.1760053064158802\n",
      "1.1842642851581522\n",
      "1.0355743653299656\n",
      "0.9276974094128524\n",
      "1.155290552017599\n",
      "1.3694880098964421\n",
      "0.9593479602254749\n",
      "1.113446612647249\n",
      "1.1501335204817167\n",
      "1.3263972830054698\n",
      "1.1924455633773505\n",
      "1.3518010221847332\n"
     ]
    },
    {
     "name": "stderr",
     "output_type": "stream",
     "text": [
      "[I 2023-07-30 12:51:34,788] Trial 1 finished with value: -1.0027896006889407 and parameters: {'max_depth': 5, 'num_leaves': 63, 'subsample': 0.8, 'colsample_bytree': 0.8, 'reg_alpha': 8.721331542495133, 'reg_lambda': 2.7367175142909557}. Best is trial 1 with value: -1.0027896006889407.\n"
     ]
    },
    {
     "name": "stdout",
     "output_type": "stream",
     "text": [
      "1.0435565898971124\n",
      "1.3197374695686117\n",
      "1.4496319368150317\n",
      "1.3553814223828922\n",
      "1.1818699044190184\n",
      "1.3761577102299254\n",
      "1.3611395036796807\n",
      "1.4664085610675492\n",
      "1.472528412259821\n",
      "1.4499012678435486\n",
      "1.3935295656379916\n",
      "1.1742952361221817\n"
     ]
    },
    {
     "name": "stderr",
     "output_type": "stream",
     "text": [
      "[I 2023-07-30 12:52:02,381] Trial 8 finished with value: -1.1749311900501962 and parameters: {'max_depth': 5, 'num_leaves': 7, 'subsample': 0.8, 'colsample_bytree': 0.8, 'reg_alpha': 1.3463704182244143, 'reg_lambda': 0.15126113467125527}. Best is trial 8 with value: -1.1749311900501962.\n"
     ]
    },
    {
     "name": "stdout",
     "output_type": "stream",
     "text": [
      "1.2782735677531325\n",
      "1.4872369865795096\n",
      "1.4922512973474917\n",
      "1.4286300340156233\n"
     ]
    },
    {
     "name": "stderr",
     "output_type": "stream",
     "text": [
      "[I 2023-07-30 12:52:05,895] Trial 3 finished with value: -1.4103170485905487 and parameters: {'max_depth': 3, 'num_leaves': 31, 'subsample': 0.8, 'colsample_bytree': 0.8, 'reg_alpha': 0.006722862564399722, 'reg_lambda': 4.0345727100330375}. Best is trial 3 with value: -1.4103170485905487.\n"
     ]
    },
    {
     "name": "stdout",
     "output_type": "stream",
     "text": [
      "1.6102970522993036\n",
      "1.417492743406741\n",
      "1.4577022391898362\n",
      "1.463620650415029\n"
     ]
    },
    {
     "name": "stderr",
     "output_type": "stream",
     "text": [
      "[I 2023-07-30 12:52:17,082] Trial 6 finished with value: -1.4106310011392735 and parameters: {'max_depth': 3, 'num_leaves': 31, 'subsample': 0.8, 'colsample_bytree': 0.8, 'reg_alpha': 0.0793163829072529, 'reg_lambda': 0.06488839018151066}. Best is trial 6 with value: -1.4106310011392735.\n"
     ]
    },
    {
     "name": "stdout",
     "output_type": "stream",
     "text": [
      "1.5573242995141514\n",
      "1.424614159951202\n"
     ]
    },
    {
     "name": "stderr",
     "output_type": "stream",
     "text": [
      "[I 2023-07-30 12:52:22,218] Trial 4 finished with value: -1.383965857055162 and parameters: {'max_depth': 3, 'num_leaves': 127, 'subsample': 0.8, 'colsample_bytree': 0.8, 'reg_alpha': 0.22138230579862408, 'reg_lambda': 0.31483745924689316}. Best is trial 6 with value: -1.4106310011392735.\n"
     ]
    },
    {
     "name": "stdout",
     "output_type": "stream",
     "text": [
      "1.5098231888210756\n",
      "1.4367382140757998\n",
      "1.4534829385439116\n",
      "1.4591429088038363\n",
      "1.488506979391331\n",
      "1.4483446483344102\n"
     ]
    },
    {
     "name": "stderr",
     "output_type": "stream",
     "text": [
      "[I 2023-07-30 12:52:41,086] Trial 7 finished with value: -1.3693784093096422 and parameters: {'max_depth': 7, 'num_leaves': 63, 'subsample': 0.8, 'colsample_bytree': 0.8, 'reg_alpha': 0.00391487448694925, 'reg_lambda': 0.005178053336719207}. Best is trial 6 with value: -1.4106310011392735.\n"
     ]
    },
    {
     "name": "stdout",
     "output_type": "stream",
     "text": [
      "1.5013302482706283\n"
     ]
    },
    {
     "name": "stderr",
     "output_type": "stream",
     "text": [
      "[I 2023-07-30 12:52:46,626] Trial 0 finished with value: -1.4015882697986928 and parameters: {'max_depth': 7, 'num_leaves': 127, 'subsample': 0.8, 'colsample_bytree': 0.8, 'reg_alpha': 0.09638940513619416, 'reg_lambda': 0.07713754709964107}. Best is trial 6 with value: -1.4106310011392735.\n"
     ]
    },
    {
     "name": "stdout",
     "output_type": "stream",
     "text": [
      "1.5767925006073464\n"
     ]
    },
    {
     "name": "stderr",
     "output_type": "stream",
     "text": [
      "[I 2023-07-30 12:52:48,491] Trial 5 finished with value: -1.4040787188500403 and parameters: {'max_depth': 7, 'num_leaves': 63, 'subsample': 0.8, 'colsample_bytree': 0.8, 'reg_alpha': 0.056443943743529304, 'reg_lambda': 2.1429315281459216}. Best is trial 6 with value: -1.4106310011392735.\n"
     ]
    },
    {
     "name": "stdout",
     "output_type": "stream",
     "text": [
      "1.5368177021963176\n"
     ]
    },
    {
     "name": "stderr",
     "output_type": "stream",
     "text": [
      "[I 2023-07-30 12:52:50,730] Trial 2 finished with value: -1.3790142219756785 and parameters: {'max_depth': 7, 'num_leaves': 127, 'subsample': 0.8, 'colsample_bytree': 0.8, 'reg_alpha': 0.006672820375879867, 'reg_lambda': 2.017808181173044}. Best is trial 6 with value: -1.4106310011392735.\n"
     ]
    },
    {
     "name": "stdout",
     "output_type": "stream",
     "text": [
      "1.5375877746617754\n"
     ]
    },
    {
     "name": "stderr",
     "output_type": "stream",
     "text": [
      "[I 2023-07-30 12:52:50,971] Trial 9 finished with value: -1.3936166394328011 and parameters: {'max_depth': 7, 'num_leaves': 127, 'subsample': 0.8, 'colsample_bytree': 0.8, 'reg_alpha': 0.011418420800909343, 'reg_lambda': 4.793779495896682}. Best is trial 6 with value: -1.4106310011392735.\n",
      "[I 2023-07-30 12:52:50,974] A new study created in memory with name: no-name-7c1cd280-1e28-4ebd-bc32-8d62519c6a4c\n"
     ]
    },
    {
     "name": "stdout",
     "output_type": "stream",
     "text": [
      "1.5514613027586854\n",
      "1.1436779679194853\n",
      "1.0478560541246265\n",
      "1.1362751870196697\n",
      "1.168494030669472\n",
      "1.1494030294457735\n",
      "1.1039100206454042\n",
      "1.140557358661576\n",
      "1.1710825811569954\n",
      "1.1632330867558323\n",
      "1.1596636186016696\n",
      "1.3103497144652634\n",
      "1.3269246577661558\n",
      "1.2111181155729496\n",
      "1.2577450164241875\n",
      "1.3251733409443938\n",
      "1.3390519030559362\n",
      "1.3142888171155436\n",
      "1.350176173667838\n",
      "1.4084722804198138\n",
      "1.1455418723694453\n",
      "1.3872563651002652\n",
      "1.3352850944719867\n",
      "1.30102679928607531.386165522193726\n",
      "\n",
      "1.2597893148598918\n",
      "1.3670973933432697\n",
      "1.3993318741840512\n",
      "1.3987276736599854\n",
      "1.3689255174686674\n",
      "1.1919063945406903\n",
      "1.4251844002648046\n",
      "1.4207363562695885\n"
     ]
    },
    {
     "name": "stderr",
     "output_type": "stream",
     "text": [
      "[I 2023-07-30 12:53:53,259] Trial 1 finished with value: -1.3544316365136662 and parameters: {'max_depth': 5, 'num_leaves': 7, 'subsample': 0.8, 'colsample_bytree': 0.8, 'reg_alpha': 0.0205972619176095, 'reg_lambda': 0.01614032156926609}. Best is trial 1 with value: -1.3544316365136662.\n"
     ]
    },
    {
     "name": "stdout",
     "output_type": "stream",
     "text": [
      "1.50115418317864\n"
     ]
    },
    {
     "name": "stderr",
     "output_type": "stream",
     "text": [
      "[I 2023-07-30 12:53:53,777] Trial 7 finished with value: -1.1703206170150602 and parameters: {'max_depth': 5, 'num_leaves': 127, 'subsample': 0.8, 'colsample_bytree': 0.8, 'reg_alpha': 1.5220687083760507, 'reg_lambda': 0.0010641193563663597}. Best is trial 1 with value: -1.3544316365136662.\n"
     ]
    },
    {
     "name": "stdout",
     "output_type": "stream",
     "text": [
      "1.2551806484675891\n",
      "1.3909588527572825\n",
      "1.4073809835588755\n",
      "1.417265171216833\n"
     ]
    },
    {
     "name": "stderr",
     "output_type": "stream",
     "text": [
      "[I 2023-07-30 12:54:01,197] Trial 8 finished with value: -1.354655236721078 and parameters: {'max_depth': 7, 'num_leaves': 7, 'subsample': 0.8, 'colsample_bytree': 0.8, 'reg_alpha': 0.06025328549496917, 'reg_lambda': 0.055045430834468355}. Best is trial 8 with value: -1.354655236721078.\n"
     ]
    },
    {
     "name": "stdout",
     "output_type": "stream",
     "text": [
      "1.4862590478501525\n",
      "1.4051580586036383\n",
      "1.4116362794345514\n"
     ]
    },
    {
     "name": "stderr",
     "output_type": "stream",
     "text": [
      "[I 2023-07-30 12:54:07,704] Trial 6 finished with value: -1.345713340162901 and parameters: {'max_depth': 3, 'num_leaves': 127, 'subsample': 0.8, 'colsample_bytree': 0.8, 'reg_alpha': 0.19717207243648363, 'reg_lambda': 0.030506993284934624}. Best is trial 8 with value: -1.354655236721078.\n"
     ]
    },
    {
     "name": "stdout",
     "output_type": "stream",
     "text": [
      "1.4579501034166311\n",
      "1.4146435176719252\n"
     ]
    },
    {
     "name": "stderr",
     "output_type": "stream",
     "text": [
      "[I 2023-07-30 12:54:14,832] Trial 3 finished with value: -1.3374312655889828 and parameters: {'max_depth': 5, 'num_leaves': 127, 'subsample': 0.8, 'colsample_bytree': 0.8, 'reg_alpha': 0.0017842130787117385, 'reg_lambda': 0.1953662451479282}. Best is trial 8 with value: -1.354655236721078.\n"
     ]
    },
    {
     "name": "stdout",
     "output_type": "stream",
     "text": [
      "1.4843100340176238\n"
     ]
    },
    {
     "name": "stderr",
     "output_type": "stream",
     "text": [
      "[I 2023-07-30 12:54:17,130] Trial 0 finished with value: -1.345442595839493 and parameters: {'max_depth': 5, 'num_leaves': 127, 'subsample': 0.8, 'colsample_bytree': 0.8, 'reg_alpha': 0.23506951346863525, 'reg_lambda': 0.03362178625647926}. Best is trial 8 with value: -1.354655236721078.\n"
     ]
    },
    {
     "name": "stdout",
     "output_type": "stream",
     "text": [
      "1.4818617160153522\n"
     ]
    },
    {
     "name": "stderr",
     "output_type": "stream",
     "text": [
      "[I 2023-07-30 12:54:17,714] Trial 9 finished with value: -1.3579867358890916 and parameters: {'max_depth': 5, 'num_leaves': 31, 'subsample': 0.8, 'colsample_bytree': 0.8, 'reg_alpha': 0.034882401085348846, 'reg_lambda': 0.11771893052674595}. Best is trial 9 with value: -1.3579867358890916.\n"
     ]
    },
    {
     "name": "stdout",
     "output_type": "stream",
     "text": [
      "1.4832073022392254\n",
      "1.4015580869367552\n",
      "1.399699782180694\n"
     ]
    },
    {
     "name": "stderr",
     "output_type": "stream",
     "text": [
      "[I 2023-07-30 12:54:20,132] Trial 4 finished with value: -1.3022444208830033 and parameters: {'max_depth': 7, 'num_leaves': 31, 'subsample': 0.8, 'colsample_bytree': 0.8, 'reg_alpha': 0.4363495777068099, 'reg_lambda': 0.42901554438522777}. Best is trial 9 with value: -1.3579867358890916.\n"
     ]
    },
    {
     "name": "stdout",
     "output_type": "stream",
     "text": [
      "1.4079616743020162\n"
     ]
    },
    {
     "name": "stderr",
     "output_type": "stream",
     "text": [
      "[I 2023-07-30 12:54:27,103] Trial 5 finished with value: -1.3514292227029423 and parameters: {'max_depth': 7, 'num_leaves': 63, 'subsample': 0.8, 'colsample_bytree': 0.8, 'reg_alpha': 0.12059165196507077, 'reg_lambda': 1.6406578698212968}. Best is trial 9 with value: -1.3579867358890916.\n"
     ]
    },
    {
     "name": "stdout",
     "output_type": "stream",
     "text": [
      "1.4796918611014973\n"
     ]
    },
    {
     "name": "stderr",
     "output_type": "stream",
     "text": [
      "[I 2023-07-30 12:54:28,107] Trial 2 finished with value: -1.3571549177966082 and parameters: {'max_depth': 7, 'num_leaves': 63, 'subsample': 0.8, 'colsample_bytree': 0.8, 'reg_alpha': 0.08816523224255816, 'reg_lambda': 0.0033992113099963243}. Best is trial 9 with value: -1.3579867358890916.\n",
      "[I 2023-07-30 12:54:28,109] A new study created in memory with name: no-name-2de86bc2-24b9-4e8c-900d-4456f42bba59\n"
     ]
    },
    {
     "name": "stdout",
     "output_type": "stream",
     "text": [
      "1.4837451101698154\n",
      "1.1086398981487249\n",
      "1.0972552670798175\n",
      "1.0470967317211775\n",
      "1.1537580312322775\n",
      "1.1603985541851307\n",
      "1.0470967317211775\n",
      "1.1020226675268106\n",
      "1.033571056202054\n",
      "1.033571056202054\n",
      "1.1394715327981277\n",
      "1.1388467219686738\n",
      "1.3139462979069636\n",
      "0.9294961783948145\n",
      "0.9294961783948145\n",
      "1.1648627938634974\n",
      "1.315594472382137\n",
      "0.9568738421208515\n",
      "1.329456338087454\n",
      "1.325621069611767\n"
     ]
    },
    {
     "name": "stderr",
     "output_type": "stream",
     "text": [
      "[I 2023-07-30 12:54:50,149] Trial 6 finished with value: -1.0026387214142023 and parameters: {'max_depth': 3, 'num_leaves': 63, 'subsample': 0.8, 'colsample_bytree': 0.8, 'reg_alpha': 9.319508365880036, 'reg_lambda': 0.17497462224509713}. Best is trial 6 with value: -1.0026387214142023.\n"
     ]
    },
    {
     "name": "stdout",
     "output_type": "stream",
     "text": [
      "1.046155798632114\n",
      "1.338195410464484\n",
      "1.3542731262454373\n",
      "0.9568738421208515\n",
      "1.3228365630340053\n",
      "1.2200852932928674\n",
      "1.2942659121993985\n",
      "1.34300668241992761.3704419152589438\n",
      "\n",
      "1.351428569304371\n",
      "1.30130286338672\n",
      "1.3589334272708475\n",
      "1.1866406652093877\n",
      "1.3086864176123552\n"
     ]
    },
    {
     "name": "stderr",
     "output_type": "stream",
     "text": [
      "[I 2023-07-30 12:55:10,899] Trial 1 finished with value: -1.0191629866623961 and parameters: {'max_depth': 7, 'num_leaves': 7, 'subsample': 0.8, 'colsample_bytree': 0.8, 'reg_alpha': 3.431317336753192, 'reg_lambda': 4.034881477126119}. Best is trial 1 with value: -1.0191629866623961.\n"
     ]
    },
    {
     "name": "stdout",
     "output_type": "stream",
     "text": [
      "1.128777124873083\n"
     ]
    },
    {
     "name": "stderr",
     "output_type": "stream",
     "text": [
      "[I 2023-07-30 12:55:15,001] Trial 5 finished with value: -1.335031348541739 and parameters: {'max_depth': 3, 'num_leaves': 7, 'subsample': 0.8, 'colsample_bytree': 0.8, 'reg_alpha': 0.0027303511451150296, 'reg_lambda': 0.009292457598042363}. Best is trial 5 with value: -1.335031348541739.\n"
     ]
    },
    {
     "name": "stdout",
     "output_type": "stream",
     "text": [
      "1.4905263904180006\n",
      "1.3653741292600845\n",
      "1.3261425565677967\n",
      "1.3375873222565082\n",
      "1.341821354889872\n"
     ]
    },
    {
     "name": "stderr",
     "output_type": "stream",
     "text": [
      "[I 2023-07-30 12:55:19,902] Trial 2 finished with value: -1.3238573738182509 and parameters: {'max_depth': 3, 'num_leaves': 31, 'subsample': 0.8, 'colsample_bytree': 0.8, 'reg_alpha': 0.0010937652323414343, 'reg_lambda': 0.20923433580743875}. Best is trial 5 with value: -1.335031348541739.\n"
     ]
    },
    {
     "name": "stdout",
     "output_type": "stream",
     "text": [
      "1.4948787505881884\n",
      "1.350431452557117\n",
      "1.3363856369924036\n"
     ]
    },
    {
     "name": "stderr",
     "output_type": "stream",
     "text": [
      "[I 2023-07-30 12:55:29,822] Trial 7 finished with value: -1.2533003578461912 and parameters: {'max_depth': 3, 'num_leaves': 31, 'subsample': 0.8, 'colsample_bytree': 0.8, 'reg_alpha': 0.5764489658611643, 'reg_lambda': 0.008404421914956862}. Best is trial 5 with value: -1.335031348541739.\n"
     ]
    },
    {
     "name": "stdout",
     "output_type": "stream",
     "text": [
      "1.3687704802974068\n"
     ]
    },
    {
     "name": "stderr",
     "output_type": "stream",
     "text": [
      "[I 2023-07-30 12:55:30,739] Trial 0 finished with value: -1.3220491916330321 and parameters: {'max_depth': 5, 'num_leaves': 31, 'subsample': 0.8, 'colsample_bytree': 0.8, 'reg_alpha': 0.0023381838929811805, 'reg_lambda': 9.104006217355186}. Best is trial 5 with value: -1.335031348541739.\n"
     ]
    },
    {
     "name": "stdout",
     "output_type": "stream",
     "text": [
      "1.459182291840213\n"
     ]
    },
    {
     "name": "stderr",
     "output_type": "stream",
     "text": [
      "[I 2023-07-30 12:55:33,381] Trial 4 finished with value: -1.3158550737187091 and parameters: {'max_depth': 5, 'num_leaves': 63, 'subsample': 0.8, 'colsample_bytree': 0.8, 'reg_alpha': 0.004838018117148017, 'reg_lambda': 0.9673224145098823}. Best is trial 5 with value: -1.335031348541739.\n"
     ]
    },
    {
     "name": "stdout",
     "output_type": "stream",
     "text": [
      "1.4672023583028455\n"
     ]
    },
    {
     "name": "stderr",
     "output_type": "stream",
     "text": [
      "[I 2023-07-30 12:55:34,011] Trial 8 finished with value: -1.3096445248590043 and parameters: {'max_depth': 7, 'num_leaves': 31, 'subsample': 0.8, 'colsample_bytree': 0.8, 'reg_alpha': 0.009877894756859481, 'reg_lambda': 2.5500437237155915}. Best is trial 5 with value: -1.335031348541739.\n"
     ]
    },
    {
     "name": "stdout",
     "output_type": "stream",
     "text": [
      "1.4414672846875836\n",
      "1.3568242031329922\n",
      "1.3319583575368443\n"
     ]
    },
    {
     "name": "stderr",
     "output_type": "stream",
     "text": [
      "[I 2023-07-30 12:55:41,801] Trial 3 finished with value: -1.3122695133142206 and parameters: {'max_depth': 7, 'num_leaves': 63, 'subsample': 0.8, 'colsample_bytree': 0.8, 'reg_alpha': 0.020361613588224, 'reg_lambda': 0.34954775407167227}. Best is trial 5 with value: -1.335031348541739.\n"
     ]
    },
    {
     "name": "stdout",
     "output_type": "stream",
     "text": [
      "1.4146780651165618\n"
     ]
    },
    {
     "name": "stderr",
     "output_type": "stream",
     "text": [
      "[I 2023-07-30 12:55:42,238] Trial 9 finished with value: -1.305043617448403 and parameters: {'max_depth': 7, 'num_leaves': 31, 'subsample': 0.8, 'colsample_bytree': 0.8, 'reg_alpha': 0.19232555234097207, 'reg_lambda': 0.04647056817734417}. Best is trial 5 with value: -1.335031348541739.\n",
      "[I 2023-07-30 12:55:42,239] A new study created in memory with name: no-name-674a8d3b-4b53-4232-81ab-7fe2ffc78b0d\n"
     ]
    },
    {
     "name": "stdout",
     "output_type": "stream",
     "text": [
      "1.4020538809632064\n",
      "1.046506147629606\n",
      "1.0895188402343712\n",
      "1.0868423910384992\n",
      "1.088832300743185\n",
      "1.139673364576563\n",
      "1.046506147629606\n",
      "1.046506147629606\n",
      "1.157008958069548\n",
      "1.1374027051148874\n",
      "1.032545553457828\n",
      "1.032545553457828\n",
      "0.9303813063583423\n",
      "0.9303813063583423\n",
      "1.151750269550309\n",
      "1.3066059091772348\n",
      "1.2547614268116174\n",
      "0.9555695538853978\n",
      "1.2557451693754118\n",
      "1.282769125659089\n",
      "1.3120280277193699\n",
      "1.2346996667043157\n",
      "1.032545553457828\n"
     ]
    },
    {
     "name": "stderr",
     "output_type": "stream",
     "text": [
      "[I 2023-07-30 12:56:09,795] Trial 9 finished with value: -1.0024003076914485 and parameters: {'max_depth': 5, 'num_leaves': 31, 'subsample': 0.8, 'colsample_bytree': 0.8, 'reg_alpha': 6.423372331395083, 'reg_lambda': 0.3670881798004885}. Best is trial 9 with value: -1.0024003076914485.\n"
     ]
    },
    {
     "name": "stdout",
     "output_type": "stream",
     "text": [
      "1.0469989771260693\n",
      "1.3255930908795173\n",
      "0.9555695538853978\n",
      "1.2719753799187634\n",
      "1.1451317753673393\n",
      "1.1542694350196663\n",
      "1.2859428674566538\n",
      "1.264762702357514\n",
      "1.2851550547629695\n",
      "1.2980772792030237\n",
      "1.319172062879563\n"
     ]
    },
    {
     "name": "stderr",
     "output_type": "stream",
     "text": [
      "[I 2023-07-30 12:56:28,197] Trial 0 finished with value: -1.0142084997297358 and parameters: {'max_depth': 5, 'num_leaves': 127, 'subsample': 0.8, 'colsample_bytree': 0.8, 'reg_alpha': 3.565452395271914, 'reg_lambda': 1.3393360878715148}. Best is trial 0 with value: -1.0142084997297358.\n"
     ]
    },
    {
     "name": "stdout",
     "output_type": "stream",
     "text": [
      "1.1060399373175052\n",
      "1.139060502281683\n",
      "1.3175508313043733\n",
      "1.285682669078484\n"
     ]
    },
    {
     "name": "stderr",
     "output_type": "stream",
     "text": [
      "[I 2023-07-30 12:56:35,939] Trial 1 finished with value: -1.2938848619143415 and parameters: {'max_depth': 3, 'num_leaves': 127, 'subsample': 0.8, 'colsample_bytree': 0.8, 'reg_alpha': 0.004269849072544415, 'reg_lambda': 0.11095613356085718}. Best is trial 1 with value: -1.2938848619143415.\n"
     ]
    },
    {
     "name": "stdout",
     "output_type": "stream",
     "text": [
      "1.4292209458922063\n",
      "1.2679554921765241\n",
      "1.2889071596611865\n",
      "1.3050757010586391\n",
      "1.3101573002139615\n"
     ]
    },
    {
     "name": "stderr",
     "output_type": "stream",
     "text": [
      "[I 2023-07-30 12:56:47,778] Trial 4 finished with value: -1.0883846551685457 and parameters: {'max_depth': 5, 'num_leaves': 63, 'subsample': 0.8, 'colsample_bytree': 0.8, 'reg_alpha': 2.174675840794197, 'reg_lambda': 0.510422356066728}. Best is trial 1 with value: -1.2938848619143415.\n"
     ]
    },
    {
     "name": "stdout",
     "output_type": "stream",
     "text": [
      "1.0786792971062724\n"
     ]
    },
    {
     "name": "stderr",
     "output_type": "stream",
     "text": [
      "[I 2023-07-30 12:56:49,854] Trial 5 finished with value: -1.2775917330939046 and parameters: {'max_depth': 5, 'num_leaves': 31, 'subsample': 0.8, 'colsample_bytree': 0.8, 'reg_alpha': 0.0012591116114548113, 'reg_lambda': 0.0019154005589961409}. Best is trial 1 with value: -1.2938848619143415.\n"
     ]
    },
    {
     "name": "stdout",
     "output_type": "stream",
     "text": [
      "1.4440451630409255\n"
     ]
    },
    {
     "name": "stderr",
     "output_type": "stream",
     "text": [
      "[I 2023-07-30 12:56:52,675] Trial 2 finished with value: -1.262753810462272 and parameters: {'max_depth': 3, 'num_leaves': 7, 'subsample': 0.8, 'colsample_bytree': 0.8, 'reg_alpha': 0.3626538683256462, 'reg_lambda': 0.0035324446523465453}. Best is trial 1 with value: -1.2938848619143415.\n"
     ]
    },
    {
     "name": "stdout",
     "output_type": "stream",
     "text": [
      "1.3494958575070273\n"
     ]
    },
    {
     "name": "stderr",
     "output_type": "stream",
     "text": [
      "[I 2023-07-30 12:56:53,277] Trial 3 finished with value: -1.2813127513662743 and parameters: {'max_depth': 5, 'num_leaves': 31, 'subsample': 0.8, 'colsample_bytree': 0.8, 'reg_alpha': 0.0021546070678109402, 'reg_lambda': 0.9872820314712536}. Best is trial 1 with value: -1.2938848619143415.\n",
      "[I 2023-07-30 12:56:53,309] Trial 6 finished with value: -1.2725091274475804 and parameters: {'max_depth': 3, 'num_leaves': 7, 'subsample': 0.8, 'colsample_bytree': 0.8, 'reg_alpha': 0.3242256525292354, 'reg_lambda': 1.0165336743356177}. Best is trial 1 with value: -1.2938848619143415.\n"
     ]
    },
    {
     "name": "stdout",
     "output_type": "stream",
     "text": [
      "1.4416605666939555\n",
      "1.354479154816011\n"
     ]
    },
    {
     "name": "stderr",
     "output_type": "stream",
     "text": [
      "[I 2023-07-30 12:56:53,617] Trial 7 finished with value: -1.234229466998205 and parameters: {'max_depth': 3, 'num_leaves': 31, 'subsample': 0.8, 'colsample_bytree': 0.8, 'reg_alpha': 0.5420037794518431, 'reg_lambda': 0.12863983620526678}. Best is trial 1 with value: -1.2938848619143415.\n"
     ]
    },
    {
     "name": "stdout",
     "output_type": "stream",
     "text": [
      "1.3415208040555475\n",
      "1.3049718896321965\n"
     ]
    },
    {
     "name": "stderr",
     "output_type": "stream",
     "text": [
      "[I 2023-07-30 12:56:57,899] Trial 8 finished with value: -1.2806191342580668 and parameters: {'max_depth': 7, 'num_leaves': 63, 'subsample': 0.8, 'colsample_bytree': 0.8, 'reg_alpha': 0.18490613676887246, 'reg_lambda': 0.016277309326600386}. Best is trial 1 with value: -1.2938848619143415.\n",
      "[I 2023-07-30 12:56:57,901] A new study created in memory with name: no-name-81479ae0-9a1b-4642-8113-5ab614d355dd\n"
     ]
    },
    {
     "name": "stdout",
     "output_type": "stream",
     "text": [
      "1.3711948653201138\n",
      "1.146050069667316\n",
      "1.0465684438563663\n",
      "1.0465684438563663\n",
      "1.0465684438563663\n",
      "1.0939136893402688\n",
      "1.159106921774967\n",
      "1.1541708026634174\n",
      "1.031846011060692\n",
      "1.031846011060692\n",
      "1.1342913671673447\n",
      "1.0938104522616279\n",
      "1.1268079103994944\n",
      "1.271243457293683\n",
      "0.930718332037181\n",
      "1.2851446643146787\n",
      "0.930718332037181\n",
      "0.9548411466659337\n",
      "1.203597161523545\n",
      "1.2693007958905813\n",
      "1.2751640369993826\n"
     ]
    },
    {
     "name": "stderr",
     "output_type": "stream",
     "text": [
      "[I 2023-07-30 12:57:19,778] Trial 2 finished with value: -1.002382227807191 and parameters: {'max_depth': 3, 'num_leaves': 7, 'subsample': 0.8, 'colsample_bytree': 0.8, 'reg_alpha': 6.525869617034272, 'reg_lambda': 1.5601303742411659}. Best is trial 2 with value: -1.002382227807191.\n"
     ]
    },
    {
     "name": "stdout",
     "output_type": "stream",
     "text": [
      "1.0479372054157818\n",
      "1.2678513389950297\n",
      "1.2695165023201782\n",
      "1.2003222576413632\n",
      "1.289340133128218\n",
      "1.2820417791294267\n",
      "0.9548411466659337\n",
      "1.2800613866462989\n",
      "1.2539448706248133\n",
      "1.2737987702431908\n",
      "1.2677197788728067\n",
      "1.2714512978769315\n",
      "1.1178586876048935\n",
      "1.1471076092100176\n",
      "1.2753822599621625\n"
     ]
    },
    {
     "name": "stderr",
     "output_type": "stream",
     "text": [
      "[I 2023-07-30 12:57:46,197] Trial 6 finished with value: -1.0078882224547556 and parameters: {'max_depth': 3, 'num_leaves': 7, 'subsample': 0.8, 'colsample_bytree': 0.8, 'reg_alpha': 3.68952954146593, 'reg_lambda': 0.00999535905217469}. Best is trial 6 with value: -1.0078882224547556.\n"
     ]
    },
    {
     "name": "stdout",
     "output_type": "stream",
     "text": [
      "1.1939137523763719\n",
      "1.0754671786536052\n",
      "1.276070236653987\n",
      "1.2762242420943521\n"
     ]
    },
    {
     "name": "stderr",
     "output_type": "stream",
     "text": [
      "[I 2023-07-30 12:57:49,300] Trial 8 finished with value: -1.260304392047016 and parameters: {'max_depth': 3, 'num_leaves': 7, 'subsample': 0.8, 'colsample_bytree': 0.8, 'reg_alpha': 0.001262306925019288, 'reg_lambda': 0.11438702056635652}. Best is trial 8 with value: -1.260304392047016.\n"
     ]
    },
    {
     "name": "stdout",
     "output_type": "stream",
     "text": [
      "1.3990022336351413\n",
      "1.2290685065860598\n"
     ]
    },
    {
     "name": "stderr",
     "output_type": "stream",
     "text": [
      "[I 2023-07-30 12:57:51,699] Trial 3 finished with value: -1.2732398670508875 and parameters: {'max_depth': 3, 'num_leaves': 127, 'subsample': 0.8, 'colsample_bytree': 0.8, 'reg_alpha': 0.003134998145939431, 'reg_lambda': 5.292290973704333}. Best is trial 3 with value: -1.2732398670508875.\n"
     ]
    },
    {
     "name": "stdout",
     "output_type": "stream",
     "text": [
      "1.388114377288289\n",
      "1.2020610359317248\n",
      "1.2375673788549224\n"
     ]
    },
    {
     "name": "stderr",
     "output_type": "stream",
     "text": [
      "[I 2023-07-30 12:58:00,786] Trial 1 finished with value: -1.2385899989399793 and parameters: {'max_depth': 5, 'num_leaves': 31, 'subsample': 0.8, 'colsample_bytree': 0.8, 'reg_alpha': 0.0013948184342349242, 'reg_lambda': 0.00549678970012523}. Best is trial 3 with value: -1.2732398670508875.\n"
     ]
    },
    {
     "name": "stdout",
     "output_type": "stream",
     "text": [
      "1.3696546721940601\n"
     ]
    },
    {
     "name": "stderr",
     "output_type": "stream",
     "text": [
      "[I 2023-07-30 12:58:01,309] Trial 7 finished with value: -1.2691075354548051 and parameters: {'max_depth': 3, 'num_leaves': 127, 'subsample': 0.8, 'colsample_bytree': 0.8, 'reg_alpha': 0.14766986948422303, 'reg_lambda': 0.007364089577801037}. Best is trial 3 with value: -1.2732398670508875.\n"
     ]
    },
    {
     "name": "stdout",
     "output_type": "stream",
     "text": [
      "1.3721970718228502\n"
     ]
    },
    {
     "name": "stderr",
     "output_type": "stream",
     "text": [
      "[I 2023-07-30 12:58:02,282] Trial 9 finished with value: -1.1920701239519353 and parameters: {'max_depth': 3, 'num_leaves': 7, 'subsample': 0.8, 'colsample_bytree': 0.8, 'reg_alpha': 0.7963586516103831, 'reg_lambda': 0.4323208607459209}. Best is trial 3 with value: -1.2732398670508875.\n"
     ]
    },
    {
     "name": "stdout",
     "output_type": "stream",
     "text": [
      "1.2495608791548904\n"
     ]
    },
    {
     "name": "stderr",
     "output_type": "stream",
     "text": [
      "[I 2023-07-30 12:58:02,831] Trial 4 finished with value: -1.2753275040706735 and parameters: {'max_depth': 3, 'num_leaves': 127, 'subsample': 0.8, 'colsample_bytree': 0.8, 'reg_alpha': 0.0769115597633436, 'reg_lambda': 0.15689664589309424}. Best is trial 4 with value: -1.2753275040706735.\n"
     ]
    },
    {
     "name": "stdout",
     "output_type": "stream",
     "text": [
      "1.386080932838368\n"
     ]
    },
    {
     "name": "stderr",
     "output_type": "stream",
     "text": [
      "[I 2023-07-30 12:58:03,696] Trial 5 finished with value: -1.1651255835612424 and parameters: {'max_depth': 5, 'num_leaves': 127, 'subsample': 0.8, 'colsample_bytree': 0.8, 'reg_alpha': 0.9462458448534031, 'reg_lambda': 0.21142463569354458}. Best is trial 4 with value: -1.2753275040706735.\n"
     ]
    },
    {
     "name": "stdout",
     "output_type": "stream",
     "text": [
      "1.2200362459664849\n"
     ]
    },
    {
     "name": "stderr",
     "output_type": "stream",
     "text": [
      "[I 2023-07-30 12:58:04,069] Trial 0 finished with value: -1.2536634528809996 and parameters: {'max_depth': 7, 'num_leaves': 31, 'subsample': 0.8, 'colsample_bytree': 0.8, 'reg_alpha': 0.011192866732338274, 'reg_lambda': 0.013697256738818058}. Best is trial 4 with value: -1.2753275040706735.\n"
     ]
    },
    {
     "name": "stdout",
     "output_type": "stream",
     "text": [
      "1.3820242789821895\n",
      ">>>Done with 8 processes, and time taken is 788.2972552776337\n",
      "Time taken:  791.3705909252167 seconds\n"
     ]
    },
    {
     "name": "stderr",
     "output_type": "stream",
     "text": [
      "[I 2023-07-30 12:58:09,826] A new study created in memory with name: no-name-29122972-1d31-44ba-92b3-93578fbdf665\n"
     ]
    },
    {
     "name": "stdout",
     "output_type": "stream",
     "text": [
      "1.4332268771601928\n",
      "0.9511476058177148\n",
      "0.9511476058177148\n",
      "0.9511476058177148\n",
      "0.9511476058177148\n",
      "0.9511476058177148\n",
      "0.9511476058177148\n",
      "1.3567265051164892\n",
      "1.0793939181888632\n",
      "1.3282560957290155\n",
      "1.0793939181888632\n",
      "1.4987963220919838\n",
      "1.2791125467893867\n",
      "1.4161690097241006\n",
      "1.499409726125485\n",
      "1.4743363702360135\n",
      "0.9884393654976904\n",
      "1.5363601524445265\n",
      "1.5197450265931955\n",
      "1.3531422611078376\n",
      "1.4051833846999031\n",
      "0.9740508958075722\n",
      "1.171658140646766\n",
      "1.412444085283294\n"
     ]
    },
    {
     "name": "stderr",
     "output_type": "stream",
     "text": [
      "[I 2023-07-30 12:58:43,625] Trial 4 finished with value: -1.012305450673166 and parameters: {'max_depth': 3, 'num_leaves': 7, 'subsample': 0.8, 'colsample_bytree': 0.8, 'reg_alpha': 5.641867071873485, 'reg_lambda': 1.0814656682082717}. Best is trial 4 with value: -1.012305450673166.\n"
     ]
    },
    {
     "name": "stdout",
     "output_type": "stream",
     "text": [
      "1.0684954680539889\n",
      "1.4569208390989985\n",
      "1.4516545484254593\n",
      "1.4909009310052426\n",
      "1.3982149464009233\n",
      "1.4897838784277795\n",
      "1.314166208415454\n",
      "1.3783557516062608\n",
      "1.4384376010393147\n",
      "1.4762840601768659\n",
      "1.449754794682903\n"
     ]
    },
    {
     "name": "stderr",
     "output_type": "stream",
     "text": [
      "[I 2023-07-30 12:58:56,323] Trial 3 finished with value: -1.3465309890581498 and parameters: {'max_depth': 3, 'num_leaves': 7, 'subsample': 0.8, 'colsample_bytree': 0.8, 'reg_alpha': 0.23944980751215242, 'reg_lambda': 0.002308815753820032}. Best is trial 3 with value: -1.3465309890581498.\n"
     ]
    },
    {
     "name": "stdout",
     "output_type": "stream",
     "text": [
      "1.6139811222401725\n"
     ]
    },
    {
     "name": "stderr",
     "output_type": "stream",
     "text": [
      "[I 2023-07-30 12:58:58,642] Trial 9 finished with value: -1.2274013117987561 and parameters: {'max_depth': 3, 'num_leaves': 7, 'subsample': 0.8, 'colsample_bytree': 0.8, 'reg_alpha': 0.34753508682078027, 'reg_lambda': 0.05006154597909012}. Best is trial 3 with value: -1.3465309890581498.\n"
     ]
    },
    {
     "name": "stdout",
     "output_type": "stream",
     "text": [
      "1.6206406859249824\n",
      "1.5994606905587823\n",
      "1.3845502908738787\n",
      "1.6254507332195374\n"
     ]
    },
    {
     "name": "stderr",
     "output_type": "stream",
     "text": [
      "[I 2023-07-30 12:59:03,406] Trial 0 finished with value: -1.409167485314209 and parameters: {'max_depth': 7, 'num_leaves': 7, 'subsample': 0.8, 'colsample_bytree': 0.8, 'reg_alpha': 0.1758418458669599, 'reg_lambda': 0.002462897306536376}. Best is trial 0 with value: -1.409167485314209.\n"
     ]
    },
    {
     "name": "stdout",
     "output_type": "stream",
     "text": [
      "1.7522725129221293\n",
      "1.486206386236823\n"
     ]
    },
    {
     "name": "stderr",
     "output_type": "stream",
     "text": [
      "[I 2023-07-30 12:59:05,295] Trial 1 finished with value: -1.4270165499514884 and parameters: {'max_depth': 3, 'num_leaves': 63, 'subsample': 0.8, 'colsample_bytree': 0.8, 'reg_alpha': 0.13716142841279616, 'reg_lambda': 0.004712094619728297}. Best is trial 1 with value: -1.4270165499514884.\n"
     ]
    },
    {
     "name": "stdout",
     "output_type": "stream",
     "text": [
      "1.7957972723540827\n",
      "1.5579688502376676\n"
     ]
    },
    {
     "name": "stderr",
     "output_type": "stream",
     "text": [
      "[I 2023-07-30 12:59:11,690] Trial 8 finished with value: -1.5818831299721456 and parameters: {'max_depth': 3, 'num_leaves': 127, 'subsample': 0.8, 'colsample_bytree': 0.8, 'reg_alpha': 0.0015706422319367737, 'reg_lambda': 0.7576472341708766}. Best is trial 8 with value: -1.5818831299721456.\n"
     ]
    },
    {
     "name": "stdout",
     "output_type": "stream",
     "text": [
      "1.9259673707356875\n"
     ]
    },
    {
     "name": "stderr",
     "output_type": "stream",
     "text": [
      "[I 2023-07-30 12:59:14,721] Trial 6 finished with value: -1.371811366933215 and parameters: {'max_depth': 7, 'num_leaves': 63, 'subsample': 0.8, 'colsample_bytree': 0.8, 'reg_alpha': 0.211479940557267, 'reg_lambda': 0.007355088851591165}. Best is trial 8 with value: -1.5818831299721456.\n"
     ]
    },
    {
     "name": "stdout",
     "output_type": "stream",
     "text": [
      "1.6706668161322078\n"
     ]
    },
    {
     "name": "stderr",
     "output_type": "stream",
     "text": [
      "[I 2023-07-30 12:59:14,959] Trial 7 finished with value: -1.5786098307167467 and parameters: {'max_depth': 3, 'num_leaves': 127, 'subsample': 0.8, 'colsample_bytree': 0.8, 'reg_alpha': 0.0024003631256794113, 'reg_lambda': 0.0013738301449224756}. Best is trial 8 with value: -1.5818831299721456.\n"
     ]
    },
    {
     "name": "stdout",
     "output_type": "stream",
     "text": [
      "1.9298134196142058\n",
      "1.6713717254686564\n",
      "1.7824486295456872\n"
     ]
    },
    {
     "name": "stderr",
     "output_type": "stream",
     "text": [
      "[I 2023-07-30 12:59:17,087] Trial 2 finished with value: -1.5041878739362207 and parameters: {'max_depth': 7, 'num_leaves': 31, 'subsample': 0.8, 'colsample_bytree': 0.8, 'reg_alpha': 0.0014040578758644851, 'reg_lambda': 0.685384548814534}. Best is trial 8 with value: -1.5818831299721456.\n",
      "[I 2023-07-30 12:59:22,067] Trial 5 finished with value: -1.5858698094993007 and parameters: {'max_depth': 7, 'num_leaves': 7, 'subsample': 0.8, 'colsample_bytree': 0.8, 'reg_alpha': 0.03363026391881071, 'reg_lambda': 0.0025350784944763605}. Best is trial 5 with value: -1.5858698094993007.\n",
      "[I 2023-07-30 12:59:22,069] A new study created in memory with name: no-name-07881111-0fb1-47ad-9f00-edee15f72e0a\n"
     ]
    },
    {
     "name": "stdout",
     "output_type": "stream",
     "text": [
      "1.881623219531832\n",
      "1.2083014617676424\n",
      "0.9529732246045137\n",
      "0.9529732246045137\n",
      "1.2945418676159717\n",
      "1.0726287375391896\n",
      "1.0726287375391896\n",
      "1.3306954982726156\n",
      "1.253581877732537\n",
      "1.2732730207492287\n",
      "0.9929273938937051\n",
      "0.9929273938937051\n",
      "1.2552868591851807\n",
      "1.3160074545547849\n",
      "1.3675037700799004\n",
      "1.234824107700768\n",
      "1.3600879609084933\n",
      "0.9718723530946773\n",
      "1.3808645009411977\n",
      "1.3428313563912608\n",
      "0.9718723530946773\n",
      "1.3574634301253594\n",
      "1.3344579133089196\n"
     ]
    },
    {
     "name": "stderr",
     "output_type": "stream",
     "text": [
      "[I 2023-07-30 12:59:44,042] Trial 4 finished with value: -1.0132302594438984 and parameters: {'max_depth': 5, 'num_leaves': 31, 'subsample': 0.8, 'colsample_bytree': 0.8, 'reg_alpha': 2.368144725364671, 'reg_lambda': 0.02699369877043277}. Best is trial 4 with value: -1.0132302594438984.\n"
     ]
    },
    {
     "name": "stdout",
     "output_type": "stream",
     "text": [
      "1.0757495880874064\n",
      "1.4070190527629398\n"
     ]
    },
    {
     "name": "stderr",
     "output_type": "stream",
     "text": [
      "[I 2023-07-30 12:59:45,876] Trial 7 finished with value: -1.0132302594438984 and parameters: {'max_depth': 5, 'num_leaves': 63, 'subsample': 0.8, 'colsample_bytree': 0.8, 'reg_alpha': 1.929520154595617, 'reg_lambda': 0.0016366969829991465}. Best is trial 4 with value: -1.0132302594438984.\n"
     ]
    },
    {
     "name": "stdout",
     "output_type": "stream",
     "text": [
      "1.0757495880874064\n",
      "1.4093194724664073\n",
      "1.38591686647627641.353836133715884\n",
      "\n",
      "1.4086618637144213\n",
      "1.3665678592931183\n",
      "1.4381189642354162\n",
      "1.3785957894296779\n",
      "1.447072035306471\n",
      "1.4341743512414213\n",
      "1.4239482610718062\n",
      "1.3780692365775273\n",
      "1.345922414071059\n",
      "1.4177110192036766\n",
      "1.4038939305920222\n",
      "1.4106393167474804\n"
     ]
    },
    {
     "name": "stderr",
     "output_type": "stream",
     "text": [
      "[I 2023-07-30 13:00:12,769] Trial 8 finished with value: -1.4356325864480828 and parameters: {'max_depth': 3, 'num_leaves': 31, 'subsample': 0.8, 'colsample_bytree': 0.8, 'reg_alpha': 0.017006779886539886, 'reg_lambda': 0.006423410148082372}. Best is trial 8 with value: -1.4356325864480828.\n"
     ]
    },
    {
     "name": "stdout",
     "output_type": "stream",
     "text": [
      "1.6800392800081205\n",
      "1.3736494421747016\n",
      "1.3703953073734292\n"
     ]
    },
    {
     "name": "stderr",
     "output_type": "stream",
     "text": [
      "[I 2023-07-30 13:00:21,294] Trial 1 finished with value: -1.414959360281966 and parameters: {'max_depth': 5, 'num_leaves': 127, 'subsample': 0.8, 'colsample_bytree': 0.8, 'reg_alpha': 0.0038484307150843527, 'reg_lambda': 0.0015934699931090088}. Best is trial 8 with value: -1.4356325864480828.\n"
     ]
    },
    {
     "name": "stdout",
     "output_type": "stream",
     "text": [
      "1.6225535838469387\n"
     ]
    },
    {
     "name": "stderr",
     "output_type": "stream",
     "text": [
      "[I 2023-07-30 13:00:22,166] Trial 2 finished with value: -1.425838264686673 and parameters: {'max_depth': 5, 'num_leaves': 31, 'subsample': 0.8, 'colsample_bytree': 0.8, 'reg_alpha': 0.002810925517630607, 'reg_lambda': 0.0026913399299226828}. Best is trial 8 with value: -1.4356325864480828.\n"
     ]
    },
    {
     "name": "stdout",
     "output_type": "stream",
     "text": [
      "1.6424436769567112\n"
     ]
    },
    {
     "name": "stderr",
     "output_type": "stream",
     "text": [
      "[I 2023-07-30 13:00:24,664] Trial 6 finished with value: -1.4193251174257655 and parameters: {'max_depth': 3, 'num_leaves': 7, 'subsample': 0.8, 'colsample_bytree': 0.8, 'reg_alpha': 0.06984554274702515, 'reg_lambda': 5.78174852336873}. Best is trial 8 with value: -1.4356325864480828.\n"
     ]
    },
    {
     "name": "stdout",
     "output_type": "stream",
     "text": [
      "1.6636704992434233\n"
     ]
    },
    {
     "name": "stderr",
     "output_type": "stream",
     "text": [
      "[I 2023-07-30 13:00:24,984] Trial 9 finished with value: -1.431093482606062 and parameters: {'max_depth': 5, 'num_leaves': 31, 'subsample': 0.8, 'colsample_bytree': 0.8, 'reg_alpha': 0.01640184258285483, 'reg_lambda': 0.0018904628015223854}. Best is trial 8 with value: -1.4356325864480828.\n"
     ]
    },
    {
     "name": "stdout",
     "output_type": "stream",
     "text": [
      "1.6354501490282374\n"
     ]
    },
    {
     "name": "stderr",
     "output_type": "stream",
     "text": [
      "[I 2023-07-30 13:00:25,942] Trial 0 finished with value: -1.3902217330035542 and parameters: {'max_depth': 5, 'num_leaves': 31, 'subsample': 0.8, 'colsample_bytree': 0.8, 'reg_alpha': 0.15047409505759432, 'reg_lambda': 0.1291700002338855}. Best is trial 8 with value: -1.4356325864480828.\n"
     ]
    },
    {
     "name": "stdout",
     "output_type": "stream",
     "text": [
      "1.6755448853832853\n"
     ]
    },
    {
     "name": "stderr",
     "output_type": "stream",
     "text": [
      "[I 2023-07-30 13:00:28,133] Trial 5 finished with value: -1.4169335746366924 and parameters: {'max_depth': 5, 'num_leaves': 7, 'subsample': 0.8, 'colsample_bytree': 0.8, 'reg_alpha': 0.08676092740136301, 'reg_lambda': 9.233188473021011}. Best is trial 8 with value: -1.4356325864480828.\n"
     ]
    },
    {
     "name": "stdout",
     "output_type": "stream",
     "text": [
      "1.656291643317667\n"
     ]
    },
    {
     "name": "stderr",
     "output_type": "stream",
     "text": [
      "[I 2023-07-30 13:00:28,856] Trial 3 finished with value: -1.401121507751673 and parameters: {'max_depth': 7, 'num_leaves': 63, 'subsample': 0.8, 'colsample_bytree': 0.8, 'reg_alpha': 0.0022469727378769716, 'reg_lambda': 1.3841860184783572}. Best is trial 8 with value: -1.4356325864480828.\n",
      "[I 2023-07-30 13:00:28,857] A new study created in memory with name: no-name-e4191eb2-5af7-4743-8e47-52ddc12aa4fa\n"
     ]
    },
    {
     "name": "stdout",
     "output_type": "stream",
     "text": [
      "1.6364020206303636\n",
      "0.9532373677405623\n",
      "0.9532373677405623\n",
      "1.2198301343020233\n",
      "1.2934027965194368\n",
      "1.204306281920146\n",
      "1.26167114007553251.0765447300894433\n",
      "\n",
      "1.0708683492053812\n",
      "1.0708683492053812\n",
      "1.2459548429253906\n",
      "1.2972152587799042\n",
      "0.9963995315957064\n",
      "0.9963995315957064\n",
      "1.19937212794708\n",
      "1.327091969689259\n",
      "1.3065450732349708\n",
      "1.3263847746377397\n",
      "1.3278588397412139\n",
      "0.973261222763675\n",
      "1.2902271018116775\n",
      "0.973261222763675\n",
      "1.2908166829305237\n",
      "1.318260752941232\n",
      "1.3350322606854828\n",
      "1.2939763231209978\n",
      "1.346424930503903\n",
      "1.3200868371777001\n",
      "1.3380606436642826\n"
     ]
    },
    {
     "name": "stderr",
     "output_type": "stream",
     "text": [
      "[I 2023-07-30 13:00:56,418] Trial 0 finished with value: -1.0136344407094449 and parameters: {'max_depth': 3, 'num_leaves': 7, 'subsample': 0.8, 'colsample_bytree': 0.8, 'reg_alpha': 2.6699879143463843, 'reg_lambda': 4.563550045837148}. Best is trial 0 with value: -1.0136344407094449.\n"
     ]
    },
    {
     "name": "stdout",
     "output_type": "stream",
     "text": [
      "1.0744057322418996\n"
     ]
    },
    {
     "name": "stderr",
     "output_type": "stream",
     "text": [
      "[I 2023-07-30 13:00:57,122] Trial 1 finished with value: -1.0136344407094449 and parameters: {'max_depth': 3, 'num_leaves': 127, 'subsample': 0.8, 'colsample_bytree': 0.8, 'reg_alpha': 4.131514298588908, 'reg_lambda': 0.0019004472657677782}. Best is trial 0 with value: -1.0136344407094449.\n"
     ]
    },
    {
     "name": "stdout",
     "output_type": "stream",
     "text": [
      "1.0744057322418996\n",
      "1.3774892009355688\n",
      "1.3154451425360079\n",
      "1.295729017495772\n",
      "1.301689128145339\n",
      "1.2761419211990157\n",
      "1.3095856323306205\n",
      "1.3387709153659804\n",
      "1.3142554897787269\n",
      "1.2710273142411084\n",
      "1.2882005196231932\n"
     ]
    },
    {
     "name": "stderr",
     "output_type": "stream",
     "text": [
      "[I 2023-07-30 13:01:20,807] Trial 9 finished with value: -1.3208468571533878 and parameters: {'max_depth': 5, 'num_leaves': 7, 'subsample': 0.8, 'colsample_bytree': 0.8, 'reg_alpha': 0.004650286597869436, 'reg_lambda': 0.13475836334329913}. Best is trial 9 with value: -1.3208468571533878.\n"
     ]
    },
    {
     "name": "stdout",
     "output_type": "stream",
     "text": [
      "1.5591508330400798\n"
     ]
    },
    {
     "name": "stderr",
     "output_type": "stream",
     "text": [
      "[I 2023-07-30 13:01:28,236] Trial 4 finished with value: -1.3539211347043636 and parameters: {'max_depth': 7, 'num_leaves': 7, 'subsample': 0.8, 'colsample_bytree': 0.8, 'reg_alpha': 0.01580366548689137, 'reg_lambda': 0.01802067796296836}. Best is trial 4 with value: -1.3539211347043636.\n"
     ]
    },
    {
     "name": "stdout",
     "output_type": "stream",
     "text": [
      "1.5183152443890067\n",
      "1.3107622531042362\n"
     ]
    },
    {
     "name": "stderr",
     "output_type": "stream",
     "text": [
      "[I 2023-07-30 13:01:30,290] Trial 2 finished with value: -1.3606606389221314 and parameters: {'max_depth': 3, 'num_leaves': 127, 'subsample': 0.8, 'colsample_bytree': 0.8, 'reg_alpha': 0.02223997670027857, 'reg_lambda': 2.837075826172155}. Best is trial 2 with value: -1.3606606389221314.\n"
     ]
    },
    {
     "name": "stdout",
     "output_type": "stream",
     "text": [
      "1.5369416557636475\n"
     ]
    },
    {
     "name": "stderr",
     "output_type": "stream",
     "text": [
      "[I 2023-07-30 13:01:33,471] Trial 6 finished with value: -1.3530664223855975 and parameters: {'max_depth': 3, 'num_leaves': 127, 'subsample': 0.8, 'colsample_bytree': 0.8, 'reg_alpha': 0.09327609880597257, 'reg_lambda': 0.29188430152704853}. Best is trial 2 with value: -1.3606606389221314.\n"
     ]
    },
    {
     "name": "stdout",
     "output_type": "stream",
     "text": [
      "1.5736545080583593\n",
      "1.2937435608038397\n"
     ]
    },
    {
     "name": "stderr",
     "output_type": "stream",
     "text": [
      "[I 2023-07-30 13:01:34,402] Trial 7 finished with value: -1.3358707294287295 and parameters: {'max_depth': 3, 'num_leaves': 127, 'subsample': 0.8, 'colsample_bytree': 0.8, 'reg_alpha': 0.12131870703524016, 'reg_lambda': 0.0016753370778225195}. Best is trial 2 with value: -1.3606606389221314.\n"
     ]
    },
    {
     "name": "stdout",
     "output_type": "stream",
     "text": [
      "1.5623132988323523\n"
     ]
    },
    {
     "name": "stderr",
     "output_type": "stream",
     "text": [
      "[I 2023-07-30 13:01:34,770] Trial 5 finished with value: -1.343313784707639 and parameters: {'max_depth': 5, 'num_leaves': 63, 'subsample': 0.8, 'colsample_bytree': 0.8, 'reg_alpha': 0.21624968618548393, 'reg_lambda': 0.6652714422619307}. Best is trial 2 with value: -1.3606606389221314.\n"
     ]
    },
    {
     "name": "stdout",
     "output_type": "stream",
     "text": [
      "1.6146034169642705\n"
     ]
    },
    {
     "name": "stderr",
     "output_type": "stream",
     "text": [
      "[I 2023-07-30 13:01:37,049] Trial 3 finished with value: -1.3516025116729335 and parameters: {'max_depth': 7, 'num_leaves': 7, 'subsample': 0.8, 'colsample_bytree': 0.8, 'reg_alpha': 0.07532239424251762, 'reg_lambda': 0.0018137391207386528}. Best is trial 2 with value: -1.3606606389221314.\n"
     ]
    },
    {
     "name": "stdout",
     "output_type": "stream",
     "text": [
      "1.5619312787839768\n"
     ]
    },
    {
     "name": "stderr",
     "output_type": "stream",
     "text": [
      "[I 2023-07-30 13:01:39,039] Trial 8 finished with value: -1.3445073304970268 and parameters: {'max_depth': 5, 'num_leaves': 63, 'subsample': 0.8, 'colsample_bytree': 0.8, 'reg_alpha': 0.06382968705107937, 'reg_lambda': 0.028449731765795346}. Best is trial 2 with value: -1.3606606389221314.\n",
      "[I 2023-07-30 13:01:39,041] A new study created in memory with name: no-name-62a20f32-4e0e-40da-a9d9-0f8f377dee3e\n"
     ]
    },
    {
     "name": "stdout",
     "output_type": "stream",
     "text": [
      "1.5801332132700048\n",
      "0.9516469487443446\n",
      "1.2074922907730903\n",
      "1.216540643134791\n",
      "0.9516469487443446\n",
      "1.1900714346655654\n",
      "1.20021863347644421.1808887495668907\n",
      "\n",
      "1.21922604901411\n",
      "1.1964870084838637\n",
      "1.0689311452525412\n",
      "0.9987495560936464\n",
      "1.2277703907941717\n",
      "1.271144060097845\n",
      "1.280055743791475\n",
      "1.3104575175492985\n",
      "1.2889583627878225\n",
      "1.2678726963789555\n",
      "0.9747005577138457\n",
      "1.2831153372627386\n",
      "1.3198590428371406\n",
      "1.295366602936808\n",
      "1.3159811976921643\n"
     ]
    },
    {
     "name": "stderr",
     "output_type": "stream",
     "text": [
      "[I 2023-07-30 13:02:01,369] Trial 6 finished with value: -1.013279202855331 and parameters: {'max_depth': 7, 'num_leaves': 127, 'subsample': 0.8, 'colsample_bytree': 0.8, 'reg_alpha': 3.280261710581761, 'reg_lambda': 0.002503450912206132}. Best is trial 6 with value: -1.013279202855331.\n"
     ]
    },
    {
     "name": "stdout",
     "output_type": "stream",
     "text": [
      "1.0723678064722773\n",
      "1.276231164198372\n",
      "1.3089727684544665\n",
      "1.2911612541969073\n",
      "1.29244899259526\n",
      "1.2985080437736438\n",
      "1.2990738206657162\n",
      "1.2480124956026013\n",
      "1.2178046176725839\n",
      "1.1084672641951898\n",
      "1.1719135343151268\n",
      "1.2336021702158662\n",
      "1.2538852450781133\n",
      "1.2519901176123294\n",
      "1.1942230644343215\n",
      "1.2429431968741658\n",
      "1.285503515965623\n",
      "1.1973258897812884\n"
     ]
    },
    {
     "name": "stderr",
     "output_type": "stream",
     "text": [
      "[I 2023-07-30 13:02:29,747] Trial 8 finished with value: -1.2647100876909363 and parameters: {'max_depth': 3, 'num_leaves': 127, 'subsample': 0.8, 'colsample_bytree': 0.8, 'reg_alpha': 0.004148938281354014, 'reg_lambda': 0.013268536326547647}. Best is trial 8 with value: -1.2647100876909363.\n"
     ]
    },
    {
     "name": "stdout",
     "output_type": "stream",
     "text": [
      "1.4527870693095188\n"
     ]
    },
    {
     "name": "stderr",
     "output_type": "stream",
     "text": [
      "[I 2023-07-30 13:02:33,149] Trial 7 finished with value: -1.2885443607388125 and parameters: {'max_depth': 3, 'num_leaves': 7, 'subsample': 0.8, 'colsample_bytree': 0.8, 'reg_alpha': 0.012540570383050838, 'reg_lambda': 1.087207288051309}. Best is trial 7 with value: -1.2885443607388125.\n"
     ]
    },
    {
     "name": "stdout",
     "output_type": "stream",
     "text": [
      "1.4526140920119062\n"
     ]
    },
    {
     "name": "stderr",
     "output_type": "stream",
     "text": [
      "[I 2023-07-30 13:02:35,541] Trial 9 finished with value: -1.284579527459208 and parameters: {'max_depth': 3, 'num_leaves': 31, 'subsample': 0.8, 'colsample_bytree': 0.8, 'reg_alpha': 0.0012147434629563394, 'reg_lambda': 0.0015860702761479246}. Best is trial 7 with value: -1.2885443607388125.\n",
      "[I 2023-07-30 13:02:35,567] Trial 3 finished with value: -1.3024530448689708 and parameters: {'max_depth': 3, 'num_leaves': 31, 'subsample': 0.8, 'colsample_bytree': 0.8, 'reg_alpha': 0.023634534640320896, 'reg_lambda': 5.309494672559691}. Best is trial 3 with value: -1.3024530448689708.\n"
     ]
    },
    {
     "name": "stdout",
     "output_type": "stream",
     "text": [
      "1.45013467293042\n",
      "1.4707708599413385\n"
     ]
    },
    {
     "name": "stderr",
     "output_type": "stream",
     "text": [
      "[I 2023-07-30 13:02:36,000] Trial 5 finished with value: -1.2983283364875209 and parameters: {'max_depth': 3, 'num_leaves': 31, 'subsample': 0.8, 'colsample_bytree': 0.8, 'reg_alpha': 0.007786360822701138, 'reg_lambda': 0.19547047266087023}. Best is trial 3 with value: -1.3024530448689708.\n"
     ]
    },
    {
     "name": "stdout",
     "output_type": "stream",
     "text": [
      "1.4479613584135045\n"
     ]
    },
    {
     "name": "stderr",
     "output_type": "stream",
     "text": [
      "[I 2023-07-30 13:02:36,411] Trial 2 finished with value: -1.280642760186637 and parameters: {'max_depth': 3, 'num_leaves': 7, 'subsample': 0.8, 'colsample_bytree': 0.8, 'reg_alpha': 0.3285385544699553, 'reg_lambda': 0.007944748217232553}. Best is trial 3 with value: -1.3024530448689708.\n"
     ]
    },
    {
     "name": "stdout",
     "output_type": "stream",
     "text": [
      "1.42457855492433\n"
     ]
    },
    {
     "name": "stderr",
     "output_type": "stream",
     "text": [
      "[I 2023-07-30 13:02:37,312] Trial 0 finished with value: -1.2173805601693561 and parameters: {'max_depth': 7, 'num_leaves': 127, 'subsample': 0.8, 'colsample_bytree': 0.8, 'reg_alpha': 0.43562004606617777, 'reg_lambda': 0.0014743212582884542}. Best is trial 3 with value: -1.3024530448689708.\n",
      "[I 2023-07-30 13:02:37,410] Trial 1 finished with value: -1.2926356123066767 and parameters: {'max_depth': 5, 'num_leaves': 7, 'subsample': 0.8, 'colsample_bytree': 0.8, 'reg_alpha': 0.010103331750071137, 'reg_lambda': 0.03383839987033939}. Best is trial 3 with value: -1.3024530448689708.\n"
     ]
    },
    {
     "name": "stdout",
     "output_type": "stream",
     "text": [
      "1.4041441469563996\n",
      "1.456801339130683\n",
      "1.2020959277409102\n"
     ]
    },
    {
     "name": "stderr",
     "output_type": "stream",
     "text": [
      "[I 2023-07-30 13:02:42,501] Trial 4 finished with value: -1.2922685548281652 and parameters: {'max_depth': 5, 'num_leaves': 127, 'subsample': 0.8, 'colsample_bytree': 0.8, 'reg_alpha': 0.09901913563509324, 'reg_lambda': 0.05801830440346872}. Best is trial 3 with value: -1.3024530448689708.\n",
      "[I 2023-07-30 13:02:42,502] A new study created in memory with name: no-name-afecfc2e-4d9c-462b-9828-937af18ad451\n"
     ]
    },
    {
     "name": "stdout",
     "output_type": "stream",
     "text": [
      "1.4506063367033128\n",
      "1.1969693175150085\n",
      "1.1215112940586216\n",
      "1.179299530798866\n",
      "0.9500489380561962\n",
      "0.9500489380561962\n",
      "0.9500489380561962\n",
      "0.9500489380561962\n",
      "1.0657055337358938\n",
      "1.2620641001801278\n",
      "1.1878581981612868\n",
      "1.2453952494566793\n",
      "0.9987838505162892\n",
      "1.1851626187673387\n",
      "1.274532774802244\n",
      "1.2918248546563327\n",
      "1.268807884782026\n",
      "1.105009447810322\n",
      "1.286782279637859\n",
      "1.261314365030437\n",
      "1.1685647981453755\n",
      "0.9749670486460271\n",
      "1.2460753152028634\n",
      "1.2652362712951803\n",
      "1.2584477839803276\n",
      "1.1889948797397918\n",
      "1.231262081233017\n",
      "1.2331795617033383\n",
      "1.0750853241016638\n"
     ]
    },
    {
     "name": "stderr",
     "output_type": "stream",
     "text": [
      "[I 2023-07-30 13:03:11,273] Trial 5 finished with value: -1.01197956401745 and parameters: {'max_depth': 5, 'num_leaves': 63, 'subsample': 0.8, 'colsample_bytree': 0.8, 'reg_alpha': 8.138454171089025, 'reg_lambda': 0.5488926312541987}. Best is trial 5 with value: -1.01197956401745.\n"
     ]
    },
    {
     "name": "stdout",
     "output_type": "stream",
     "text": [
      "1.0703924491328438\n",
      "1.2426516038259294\n",
      "1.2136100522167392\n",
      "1.1305471683290105\n",
      "1.2305052998972337\n",
      "1.0754784415109686\n",
      "1.1449785010950386\n",
      "1.1374727278261476\n",
      "0.9749670486460271\n",
      "1.2423499460761371\n",
      "1.160502105960405\n"
     ]
    },
    {
     "name": "stderr",
     "output_type": "stream",
     "text": [
      "[I 2023-07-30 13:03:26,819] Trial 3 finished with value: -1.221568307369438 and parameters: {'max_depth': 3, 'num_leaves': 7, 'subsample': 0.8, 'colsample_bytree': 0.8, 'reg_alpha': 0.0011459725641148923, 'reg_lambda': 0.6159687912359515}. Best is trial 3 with value: -1.221568307369438.\n"
     ]
    },
    {
     "name": "stdout",
     "output_type": "stream",
     "text": [
      "1.4197743540273602\n",
      "1.211390308132493\n"
     ]
    },
    {
     "name": "stderr",
     "output_type": "stream",
     "text": [
      "[I 2023-07-30 13:03:27,372] Trial 8 finished with value: -1.169311796977002 and parameters: {'max_depth': 7, 'num_leaves': 31, 'subsample': 0.8, 'colsample_bytree': 0.8, 'reg_alpha': 0.6649160697285613, 'reg_lambda': 0.3056979852174553}. Best is trial 3 with value: -1.221568307369438.\n"
     ]
    },
    {
     "name": "stdout",
     "output_type": "stream",
     "text": [
      "1.3353339801743005\n"
     ]
    },
    {
     "name": "stderr",
     "output_type": "stream",
     "text": [
      "[I 2023-07-30 13:03:30,690] Trial 0 finished with value: -1.235702478402915 and parameters: {'max_depth': 3, 'num_leaves': 63, 'subsample': 0.8, 'colsample_bytree': 0.8, 'reg_alpha': 0.007771241285806624, 'reg_lambda': 0.021512857749558828}. Best is trial 0 with value: -1.235702478402915.\n"
     ]
    },
    {
     "name": "stdout",
     "output_type": "stream",
     "text": [
      "1.4236644536896963\n",
      "1.172496043379876\n"
     ]
    },
    {
     "name": "stderr",
     "output_type": "stream",
     "text": [
      "[I 2023-07-30 13:03:33,595] Trial 4 finished with value: -1.1827981886432437 and parameters: {'max_depth': 7, 'num_leaves': 127, 'subsample': 0.8, 'colsample_bytree': 0.8, 'reg_alpha': 0.5441428736001992, 'reg_lambda': 1.425868536411348}. Best is trial 0 with value: -1.235702478402915.\n",
      "[I 2023-07-30 13:03:33,664] Trial 9 finished with value: -1.2119854631095348 and parameters: {'max_depth': 3, 'num_leaves': 127, 'subsample': 0.8, 'colsample_bytree': 0.8, 'reg_alpha': 0.002500636699023064, 'reg_lambda': 0.12115450139672887}. Best is trial 0 with value: -1.235702478402915.\n"
     ]
    },
    {
     "name": "stdout",
     "output_type": "stream",
     "text": [
      "1.3456495429377509\n",
      "1.393136099883994\n"
     ]
    },
    {
     "name": "stderr",
     "output_type": "stream",
     "text": [
      "[I 2023-07-30 13:03:35,880] Trial 1 finished with value: -1.2488643956590013 and parameters: {'max_depth': 3, 'num_leaves': 7, 'subsample': 0.8, 'colsample_bytree': 0.8, 'reg_alpha': 0.1485967550544521, 'reg_lambda': 5.7418213104123685}. Best is trial 1 with value: -1.2488643956590013.\n"
     ]
    },
    {
     "name": "stdout",
     "output_type": "stream",
     "text": [
      "1.3693936009023868\n"
     ]
    },
    {
     "name": "stderr",
     "output_type": "stream",
     "text": [
      "[I 2023-07-30 13:03:37,008] Trial 6 finished with value: -1.194587975566527 and parameters: {'max_depth': 5, 'num_leaves': 63, 'subsample': 0.8, 'colsample_bytree': 0.8, 'reg_alpha': 0.3312627069057336, 'reg_lambda': 0.2706521868846361}. Best is trial 1 with value: -1.2488643956590013.\n"
     ]
    },
    {
     "name": "stdout",
     "output_type": "stream",
     "text": [
      "1.361996501961436\n"
     ]
    },
    {
     "name": "stderr",
     "output_type": "stream",
     "text": [
      "[I 2023-07-30 13:03:39,523] Trial 2 finished with value: -1.2307592040334503 and parameters: {'max_depth': 5, 'num_leaves': 63, 'subsample': 0.8, 'colsample_bytree': 0.8, 'reg_alpha': 0.02983253990927278, 'reg_lambda': 0.38114592352468435}. Best is trial 1 with value: -1.2488643956590013.\n",
      "[I 2023-07-30 13:03:39,696] Trial 7 finished with value: -1.253297795926563 and parameters: {'max_depth': 5, 'num_leaves': 7, 'subsample': 0.8, 'colsample_bytree': 0.8, 'reg_alpha': 0.07705879070611468, 'reg_lambda': 0.018650440813908827}. Best is trial 7 with value: -1.253297795926563.\n"
     ]
    },
    {
     "name": "stdout",
     "output_type": "stream",
     "text": [
      "1.400761021197579\n",
      "1.3741944815405684\n"
     ]
    },
    {
     "name": "stderr",
     "output_type": "stream",
     "text": [
      "[I 2023-07-30 13:03:39,699] A new study created in memory with name: no-name-7f8d74b2-9e63-4a4f-b265-b2d4e9c4bcb2\n"
     ]
    },
    {
     "name": "stdout",
     "output_type": "stream",
     "text": [
      "0.9502253195812281\n",
      "1.1314926766887548\n",
      "1.1241172987166568\n",
      "0.9502253195812281\n",
      "0.9502253195812281\n",
      "0.9502253195812281\n",
      "0.9502253195812281\n",
      "1.0628289159234712\n",
      "1.1213861309236337\n",
      "1.1356976521757538\n",
      "1.234897612844616\n",
      "1.0628289159234712\n",
      "1.0628289159234712\n",
      "1.0628289159234712\n",
      "1.246031674658649\n",
      "0.998636357969756\n",
      "1.1362540536839167\n",
      "1.2306776753784068\n",
      "1.2430903276218572\n",
      "0.998636357969756\n",
      "1.1515020619532927\n",
      "1.241457687632047\n",
      "0.998636357969756\n",
      "1.2187055385737326\n",
      "0.9754597150595384\n",
      "1.1953431000016255\n",
      "1.20427689786348\n",
      "0.998636357969756\n",
      "0.9754597150595384\n",
      "0.9754597150595384\n",
      "1.0883914574438762\n"
     ]
    },
    {
     "name": "stderr",
     "output_type": "stream",
     "text": [
      "[I 2023-07-30 13:04:10,232] Trial 1 finished with value: -1.011189257433039 and parameters: {'max_depth': 5, 'num_leaves': 127, 'subsample': 0.8, 'colsample_bytree': 0.8, 'reg_alpha': 8.325265764812773, 'reg_lambda': 0.21215460369692082}. Best is trial 1 with value: -1.011189257433039.\n"
     ]
    },
    {
     "name": "stdout",
     "output_type": "stream",
     "text": [
      "1.0687959786312011\n",
      "0.9777930471723068\n",
      "1.2041462564880971\n",
      "0.9754523454886809\n"
     ]
    },
    {
     "name": "stderr",
     "output_type": "stream",
     "text": [
      "[I 2023-07-30 13:04:15,129] Trial 5 finished with value: -1.011189257433039 and parameters: {'max_depth': 7, 'num_leaves': 31, 'subsample': 0.8, 'colsample_bytree': 0.8, 'reg_alpha': 9.430797542610199, 'reg_lambda': 0.004519464729348175}. Best is trial 1 with value: -1.011189257433039.\n"
     ]
    },
    {
     "name": "stdout",
     "output_type": "stream",
     "text": [
      "1.0687959786312011\n"
     ]
    },
    {
     "name": "stderr",
     "output_type": "stream",
     "text": [
      "[I 2023-07-30 13:04:15,547] Trial 7 finished with value: -1.011189257433039 and parameters: {'max_depth': 5, 'num_leaves': 63, 'subsample': 0.8, 'colsample_bytree': 0.8, 'reg_alpha': 5.68301208524902, 'reg_lambda': 0.0044394515907013815}. Best is trial 1 with value: -1.011189257433039.\n"
     ]
    },
    {
     "name": "stdout",
     "output_type": "stream",
     "text": [
      "1.20829799135586421.0687959786312011\n",
      "\n",
      "0.979402629512521\n",
      "1.2143713653163906\n"
     ]
    },
    {
     "name": "stderr",
     "output_type": "stream",
     "text": [
      "[I 2023-07-30 13:04:19,622] Trial 3 finished with value: -1.1463020511194522 and parameters: {'max_depth': 7, 'num_leaves': 63, 'subsample': 0.8, 'colsample_bytree': 0.8, 'reg_alpha': 0.7854605967427705, 'reg_lambda': 0.03061120171861098}. Best is trial 3 with value: -1.1463020511194522.\n"
     ]
    },
    {
     "name": "stdout",
     "output_type": "stream",
     "text": [
      "1.306493803774248\n",
      "0.9817359616252892\n",
      "1.0414385102044177\n"
     ]
    },
    {
     "name": "stderr",
     "output_type": "stream",
     "text": [
      "[I 2023-07-30 13:04:24,249] Trial 4 finished with value: -1.1837366922059827 and parameters: {'max_depth': 3, 'num_leaves': 7, 'subsample': 0.8, 'colsample_bytree': 0.8, 'reg_alpha': 0.004099567733815955, 'reg_lambda': 0.09873730244960369}. Best is trial 4 with value: -1.1837366922059827.\n"
     ]
    },
    {
     "name": "stdout",
     "output_type": "stream",
     "text": [
      "1.375398340480675\n"
     ]
    },
    {
     "name": "stderr",
     "output_type": "stream",
     "text": [
      "[I 2023-07-30 13:04:25,731] Trial 0 finished with value: -1.1830492826097485 and parameters: {'max_depth': 3, 'num_leaves': 127, 'subsample': 0.8, 'colsample_bytree': 0.8, 'reg_alpha': 0.01293671727924977, 'reg_lambda': 0.010316968168140053}. Best is trial 4 with value: -1.1837366922059827.\n"
     ]
    },
    {
     "name": "stdout",
     "output_type": "stream",
     "text": [
      "1.37334681762942\n",
      "1.1121618376171143\n"
     ]
    },
    {
     "name": "stderr",
     "output_type": "stream",
     "text": [
      "[I 2023-07-30 13:04:29,537] Trial 8 finished with value: -1.1816350720040283 and parameters: {'max_depth': 5, 'num_leaves': 7, 'subsample': 0.8, 'colsample_bytree': 0.8, 'reg_alpha': 0.03195122353746779, 'reg_lambda': 5.950509980456247}. Best is trial 4 with value: -1.1837366922059827.\n"
     ]
    },
    {
     "name": "stdout",
     "output_type": "stream",
     "text": [
      "1.3474711342117236\n"
     ]
    },
    {
     "name": "stderr",
     "output_type": "stream",
     "text": [
      "[I 2023-07-30 13:04:30,995] Trial 6 finished with value: -1.186659550627311 and parameters: {'max_depth': 7, 'num_leaves': 7, 'subsample': 0.8, 'colsample_bytree': 0.8, 'reg_alpha': 0.013993028175673, 'reg_lambda': 0.09593824592094488}. Best is trial 6 with value: -1.186659550627311.\n"
     ]
    },
    {
     "name": "stdout",
     "output_type": "stream",
     "text": [
      "1.3787873416099115\n"
     ]
    },
    {
     "name": "stderr",
     "output_type": "stream",
     "text": [
      "[I 2023-07-30 13:04:32,247] Trial 9 finished with value: -1.0577602135123392 and parameters: {'max_depth': 7, 'num_leaves': 63, 'subsample': 0.8, 'colsample_bytree': 0.8, 'reg_alpha': 1.5616549917623312, 'reg_lambda': 0.016479550505870053}. Best is trial 6 with value: -1.186659550627311.\n"
     ]
    },
    {
     "name": "stdout",
     "output_type": "stream",
     "text": [
      "1.2356719638828233\n"
     ]
    },
    {
     "name": "stderr",
     "output_type": "stream",
     "text": [
      "[I 2023-07-30 13:04:33,190] Trial 2 pruned. Trial was pruned at iteration 137.\n",
      "[I 2023-07-30 13:04:33,192] A new study created in memory with name: no-name-4321323a-6711-4e0f-91fa-b543d66a6eb7\n"
     ]
    },
    {
     "name": "stdout",
     "output_type": "stream",
     "text": [
      "1.1296991601566018\n",
      "1.1417408363150003\n",
      "1.0134302204610979\n",
      "1.1435299195180098\n",
      "0.9795015754344393\n",
      "1.0936479937439674\n",
      "0.9517736857358625\n",
      "1.043933343075127\n",
      "1.218997923312906\n",
      "1.0487902612287523\n",
      "0.9864955627111154\n",
      "1.211954626471757\n",
      "1.247812907473352\n",
      "1.1626293299905728\n",
      "1.2323535227030102\n",
      "1.2101195429614258\n",
      "1.1776532150872219\n",
      "1.142132808343875\n",
      "1.1996427761064026\n",
      "1.1804999849985598\n",
      "1.186164006722333\n",
      "1.0252895131436388\n",
      "1.1262138995208841\n",
      "1.157150531309226\n",
      "1.016775728684999\n",
      "1.174140569928869\n",
      "1.1699479464656564\n",
      "1.125247818755833\n",
      "1.18075312205714\n",
      "1.1680901572263167\n",
      "1.0409741692096692\n",
      "1.1869246360134558\n",
      "1.0870852550540155\n"
     ]
    },
    {
     "name": "stderr",
     "output_type": "stream",
     "text": [
      "[I 2023-07-30 13:05:10,551] Trial 0 finished with value: -1.1832337304267013 and parameters: {'max_depth': 3, 'num_leaves': 127, 'subsample': 0.8, 'colsample_bytree': 0.8, 'reg_alpha': 0.0013379161395646972, 'reg_lambda': 3.1020140038777058}. Best is trial 0 with value: -1.1832337304267013.\n"
     ]
    },
    {
     "name": "stdout",
     "output_type": "stream",
     "text": [
      "1.3880075710180875\n",
      "1.070358859125913\n",
      "1.0134664835637186\n"
     ]
    },
    {
     "name": "stderr",
     "output_type": "stream",
     "text": [
      "[I 2023-07-30 13:05:15,826] Trial 6 finished with value: -1.1537380659535725 and parameters: {'max_depth': 5, 'num_leaves': 7, 'subsample': 0.8, 'colsample_bytree': 0.8, 'reg_alpha': 0.0016530241996477563, 'reg_lambda': 0.2144995652755156}. Best is trial 0 with value: -1.1832337304267013.\n"
     ]
    },
    {
     "name": "stdout",
     "output_type": "stream",
     "text": [
      "1.3799584141781072\n"
     ]
    },
    {
     "name": "stderr",
     "output_type": "stream",
     "text": [
      "[I 2023-07-30 13:05:16,733] Trial 5 finished with value: -1.1318276718856448 and parameters: {'max_depth': 3, 'num_leaves': 7, 'subsample': 0.8, 'colsample_bytree': 0.8, 'reg_alpha': 0.6526170483278269, 'reg_lambda': 2.121736864080512}. Best is trial 0 with value: -1.1832337304267013.\n"
     ]
    },
    {
     "name": "stdout",
     "output_type": "stream",
     "text": [
      "1.3078230822587977\n",
      "1.0650158545519106\n",
      "1.037745083863103\n",
      "1.1418750501109645\n",
      "1.0712363299420755\n"
     ]
    },
    {
     "name": "stderr",
     "output_type": "stream",
     "text": [
      "[I 2023-07-30 13:05:25,612] Trial 3 finished with value: -1.1565329404129874 and parameters: {'max_depth': 7, 'num_leaves': 127, 'subsample': 0.8, 'colsample_bytree': 0.8, 'reg_alpha': 0.4236942070030535, 'reg_lambda': 1.363446455609793}. Best is trial 0 with value: -1.1832337304267013.\n"
     ]
    },
    {
     "name": "stdout",
     "output_type": "stream",
     "text": [
      "1.2771857877672455\n"
     ]
    },
    {
     "name": "stderr",
     "output_type": "stream",
     "text": [
      "[I 2023-07-30 13:05:26,349] Trial 9 finished with value: -1.1352665162728415 and parameters: {'max_depth': 5, 'num_leaves': 127, 'subsample': 0.8, 'colsample_bytree': 0.8, 'reg_alpha': 0.0063409404823608975, 'reg_lambda': 0.004971845957971392}. Best is trial 0 with value: -1.1832337304267013.\n"
     ]
    },
    {
     "name": "stdout",
     "output_type": "stream",
     "text": [
      "1.2940421598631267\n"
     ]
    },
    {
     "name": "stderr",
     "output_type": "stream",
     "text": [
      "[I 2023-07-30 13:05:29,730] Trial 4 finished with value: -1.1780523037168753 and parameters: {'max_depth': 5, 'num_leaves': 63, 'subsample': 0.8, 'colsample_bytree': 0.8, 'reg_alpha': 0.03715020501656699, 'reg_lambda': 0.03451039534886541}. Best is trial 0 with value: -1.1832337304267013.\n"
     ]
    },
    {
     "name": "stdout",
     "output_type": "stream",
     "text": [
      "1.2908430794958898\n"
     ]
    },
    {
     "name": "stderr",
     "output_type": "stream",
     "text": [
      "[I 2023-07-30 13:05:30,206] Trial 2 finished with value: -1.1627545834559196 and parameters: {'max_depth': 5, 'num_leaves': 63, 'subsample': 0.8, 'colsample_bytree': 0.8, 'reg_alpha': 0.11076417592849314, 'reg_lambda': 0.01898359542898851}. Best is trial 0 with value: -1.1832337304267013.\n"
     ]
    },
    {
     "name": "stdout",
     "output_type": "stream",
     "text": [
      "1.2769449980776408\n",
      "1.0749360004063881\n"
     ]
    },
    {
     "name": "stderr",
     "output_type": "stream",
     "text": [
      "[I 2023-07-30 13:05:31,290] Trial 1 finished with value: -1.1569073936903163 and parameters: {'max_depth': 7, 'num_leaves': 31, 'subsample': 0.8, 'colsample_bytree': 0.8, 'reg_alpha': 0.024260300030832127, 'reg_lambda': 2.7185545104191196}. Best is trial 0 with value: -1.1832337304267013.\n"
     ]
    },
    {
     "name": "stdout",
     "output_type": "stream",
     "text": [
      "1.291421734544965\n"
     ]
    },
    {
     "name": "stderr",
     "output_type": "stream",
     "text": [
      "[I 2023-07-30 13:05:32,216] Trial 7 finished with value: -1.1514962636494595 and parameters: {'max_depth': 5, 'num_leaves': 31, 'subsample': 0.8, 'colsample_bytree': 0.8, 'reg_alpha': 0.2640671284267755, 'reg_lambda': 0.11669878465168228}. Best is trial 0 with value: -1.1832337304267013.\n"
     ]
    },
    {
     "name": "stdout",
     "output_type": "stream",
     "text": [
      "1.280344868326688\n"
     ]
    },
    {
     "name": "stderr",
     "output_type": "stream",
     "text": [
      "[I 2023-07-30 13:05:35,037] Trial 8 finished with value: -1.138864455317249 and parameters: {'max_depth': 7, 'num_leaves': 63, 'subsample': 0.8, 'colsample_bytree': 0.8, 'reg_alpha': 0.004944503128782566, 'reg_lambda': 2.1011399946654525}. Best is trial 0 with value: -1.1832337304267013.\n",
      "[I 2023-07-30 13:05:35,038] A new study created in memory with name: no-name-8a847967-065e-42ac-98f5-bed6a6d7db71\n"
     ]
    },
    {
     "name": "stdout",
     "output_type": "stream",
     "text": [
      "1.3210677168921203\n",
      "0.9522058333747196\n",
      "0.9590413426566484\n",
      "0.9522058333747196\n",
      "0.9522058333747196\n",
      "0.9522058333747196\n",
      "0.9522058333747196\n",
      "0.9522058333747196\n",
      "1.0576689105744832\n",
      "1.1366785361670602\n",
      "1.1121958694718348\n",
      "1.0576689105744832\n",
      "1.1920467974051097\n",
      "1.0962320450625112\n",
      "1.019347967611612\n",
      "1.0576689105744832\n",
      "1.0576689105744832\n",
      "1.1647578747415637\n",
      "0.9967758171116332\n",
      "0.9967758171116332\n",
      "1.171238179682237\n",
      "1.1059151598920682\n",
      "1.153378534345282\n",
      "1.1488023764928486\n",
      "1.0905776048409812\n",
      "1.1680377147306504\n",
      "1.1241033053931904\n",
      "0.97516036417867970.9751603641786797\n",
      "\n",
      "1.055621991314286\n",
      "1.069007436356557\n",
      "0.9739361191102371\n",
      "1.159410074375576\n",
      "1.065433411435875\n",
      "1.187610601252158\n"
     ]
    },
    {
     "name": "stderr",
     "output_type": "stream",
     "text": [
      "[I 2023-07-30 13:06:09,174] Trial 2 finished with value: -1.009670803977416 and parameters: {'max_depth': 5, 'num_leaves': 127, 'subsample': 0.8, 'colsample_bytree': 0.8, 'reg_alpha': 5.746185276342434, 'reg_lambda': 3.5579435629537857}. Best is trial 2 with value: -1.009670803977416.\n",
      "[I 2023-07-30 13:06:09,216] Trial 4 finished with value: -1.009670803977416 and parameters: {'max_depth': 5, 'num_leaves': 7, 'subsample': 0.8, 'colsample_bytree': 0.8, 'reg_alpha': 9.097118639934864, 'reg_lambda': 0.3128302035174129}. Best is trial 2 with value: -1.009670803977416.\n"
     ]
    },
    {
     "name": "stdout",
     "output_type": "stream",
     "text": [
      "1.0665430946475647\n",
      "1.0665430946475647\n",
      "1.062273000596259\n",
      "1.0241249025999035\n",
      "1.1509831532924777\n"
     ]
    },
    {
     "name": "stderr",
     "output_type": "stream",
     "text": [
      "[I 2023-07-30 13:06:11,969] Trial 0 finished with value: -1.1001405668578783 and parameters: {'max_depth': 5, 'num_leaves': 7, 'subsample': 0.8, 'colsample_bytree': 0.8, 'reg_alpha': 0.929229494857803, 'reg_lambda': 0.0026556836805818095}. Best is trial 0 with value: -1.1001405668578783.\n"
     ]
    },
    {
     "name": "stdout",
     "output_type": "stream",
     "text": [
      "1.2502813135412585\n",
      "0.9751603641786797\n"
     ]
    },
    {
     "name": "stderr",
     "output_type": "stream",
     "text": [
      "[I 2023-07-30 13:06:18,386] Trial 9 finished with value: -1.0856396339149135 and parameters: {'max_depth': 7, 'num_leaves': 63, 'subsample': 0.8, 'colsample_bytree': 0.8, 'reg_alpha': 1.0760461426180514, 'reg_lambda': 2.0218494159188007}. Best is trial 0 with value: -1.1001405668578783.\n"
     ]
    },
    {
     "name": "stdout",
     "output_type": "stream",
     "text": [
      "1.262312409348508\n",
      "1.0265777931321105\n"
     ]
    },
    {
     "name": "stderr",
     "output_type": "stream",
     "text": [
      "[I 2023-07-30 13:06:21,056] Trial 6 finished with value: -1.0646918003043868 and parameters: {'max_depth': 3, 'num_leaves': 31, 'subsample': 0.8, 'colsample_bytree': 0.8, 'reg_alpha': 1.5017554968685114, 'reg_lambda': 0.001938870291202754}. Best is trial 0 with value: -1.1001405668578783.\n",
      "[I 2023-07-30 13:06:21,076] Trial 3 pruned. Trial was pruned at iteration 37.\n",
      "[I 2023-07-30 13:06:21,116] Trial 8 pruned. Trial was pruned at iteration 15.\n"
     ]
    },
    {
     "name": "stdout",
     "output_type": "stream",
     "text": [
      "1.2204519186162703\n"
     ]
    },
    {
     "name": "stderr",
     "output_type": "stream",
     "text": [
      "[I 2023-07-30 13:06:22,665] Trial 1 finished with value: -1.1160951364233125 and parameters: {'max_depth': 5, 'num_leaves': 7, 'subsample': 0.8, 'colsample_bytree': 0.8, 'reg_alpha': 0.00405463525891502, 'reg_lambda': 0.00610016670261558}. Best is trial 1 with value: -1.1160951364233125.\n"
     ]
    },
    {
     "name": "stdout",
     "output_type": "stream",
     "text": [
      "1.3066490464517186\n"
     ]
    },
    {
     "name": "stderr",
     "output_type": "stream",
     "text": [
      "[I 2023-07-30 13:06:26,383] Trial 5 finished with value: -1.1301990384399563 and parameters: {'max_depth': 5, 'num_leaves': 7, 'subsample': 0.8, 'colsample_bytree': 0.8, 'reg_alpha': 0.1841504775369826, 'reg_lambda': 8.977482771664762}. Best is trial 5 with value: -1.1301990384399563.\n"
     ]
    },
    {
     "name": "stdout",
     "output_type": "stream",
     "text": [
      "1.2329907044914532\n"
     ]
    },
    {
     "name": "stderr",
     "output_type": "stream",
     "text": [
      "[I 2023-07-30 13:06:26,690] Trial 7 finished with value: -1.1444420164746654 and parameters: {'max_depth': 5, 'num_leaves': 63, 'subsample': 0.8, 'colsample_bytree': 0.8, 'reg_alpha': 0.09133910203706717, 'reg_lambda': 0.017014311985645195}. Best is trial 7 with value: -1.1444420164746654.\n",
      "[I 2023-07-30 13:06:26,690] A new study created in memory with name: no-name-8b8a73a9-795b-440a-a08e-5d8af03cc454\n"
     ]
    },
    {
     "name": "stdout",
     "output_type": "stream",
     "text": [
      "1.2584111085812646\n",
      "1.0233511843505678\n",
      "0.9527620946504162\n",
      "1.114074677679278\n",
      "0.95276209465041620.9527620946504162\n",
      "\n",
      "0.9527620946504162\n",
      "1.0237356599729954\n",
      "1.0845908029073843\n",
      "1.0985016352304942\n",
      "0.9761381725611795\n",
      "1.0558053501534301\n",
      "1.0558053501534301\n",
      "1.0558053501534301\n",
      "1.1448237912062127\n",
      "1.1472161313046998\n",
      "1.0558053501534301\n",
      "1.1499438333797392\n",
      "0.9953475773425948\n",
      "1.166027737670648\n",
      "1.1194396141074754\n",
      "0.9953475773425948\n",
      "1.1339307363496502\n",
      "1.0816612719251677\n",
      "1.0717467297412637\n",
      "1.1400709365369743\n",
      "1.1259933866093712\n",
      "1.1093727493182604\n",
      "0.9753586068911392\n",
      "1.1031969638104329\n",
      "1.1253713146144042\n",
      "0.9987412541354835\n",
      "1.0026745089228197\n",
      "0.9756073399356572\n",
      "0.9753586068911392\n",
      "0.9754958665336596\n"
     ]
    },
    {
     "name": "stderr",
     "output_type": "stream",
     "text": [
      "[I 2023-07-30 13:06:58,230] Trial 0 finished with value: -1.0089168819802123 and parameters: {'max_depth': 5, 'num_leaves': 7, 'subsample': 0.8, 'colsample_bytree': 0.8, 'reg_alpha': 4.062359822793846, 'reg_lambda': 0.7496920675077645}. Best is trial 0 with value: -1.0089168819802123.\n"
     ]
    },
    {
     "name": "stdout",
     "output_type": "stream",
     "text": [
      "1.0653107808634814\n",
      "1.1464477123722452\n",
      "0.9764714974061395\n",
      "0.9753586068911392\n",
      "0.9993172604672547\n"
     ]
    },
    {
     "name": "stderr",
     "output_type": "stream",
     "text": [
      "[I 2023-07-30 13:07:02,920] Trial 1 finished with value: -1.063244419362172 and parameters: {'max_depth': 5, 'num_leaves': 127, 'subsample': 0.8, 'colsample_bytree': 0.8, 'reg_alpha': 1.2108452018411642, 'reg_lambda': 0.015587019383179091}. Best is trial 1 with value: -1.063244419362172.\n"
     ]
    },
    {
     "name": "stdout",
     "output_type": "stream",
     "text": [
      "1.2272521259463622\n"
     ]
    },
    {
     "name": "stderr",
     "output_type": "stream",
     "text": [
      "[I 2023-07-30 13:07:04,256] Trial 7 finished with value: -1.0567858176521348 and parameters: {'max_depth': 3, 'num_leaves': 31, 'subsample': 0.8, 'colsample_bytree': 0.8, 'reg_alpha': 1.3667961899736372, 'reg_lambda': 5.302428328197747}. Best is trial 1 with value: -1.063244419362172.\n"
     ]
    },
    {
     "name": "stdout",
     "output_type": "stream",
     "text": [
      "1.2009404047927439\n"
     ]
    },
    {
     "name": "stderr",
     "output_type": "stream",
     "text": [
      "[I 2023-07-30 13:07:07,105] Trial 2 finished with value: -1.1123546929772208 and parameters: {'max_depth': 3, 'num_leaves': 63, 'subsample': 0.8, 'colsample_bytree': 0.8, 'reg_alpha': 0.0028291062418028525, 'reg_lambda': 9.876996989856968}. Best is trial 2 with value: -1.1123546929772208.\n"
     ]
    },
    {
     "name": "stdout",
     "output_type": "stream",
     "text": [
      "1.2779202128566918\n"
     ]
    },
    {
     "name": "stderr",
     "output_type": "stream",
     "text": [
      "[I 2023-07-30 13:07:11,208] Trial 3 finished with value: -1.117605974959607 and parameters: {'max_depth': 3, 'num_leaves': 31, 'subsample': 0.8, 'colsample_bytree': 0.8, 'reg_alpha': 0.16677505370075324, 'reg_lambda': 0.42188502669955374}. Best is trial 3 with value: -1.117605974959607.\n",
      "[I 2023-07-30 13:07:11,213] Trial 6 pruned. Trial was pruned at iteration 81.\n"
     ]
    },
    {
     "name": "stdout",
     "output_type": "stream",
     "text": [
      "1.2253870723135476\n",
      "1.0016379103273003\n"
     ]
    },
    {
     "name": "stderr",
     "output_type": "stream",
     "text": [
      "[I 2023-07-30 13:07:12,573] Trial 4 finished with value: -1.1062623258541033 and parameters: {'max_depth': 3, 'num_leaves': 127, 'subsample': 0.8, 'colsample_bytree': 0.8, 'reg_alpha': 0.003054134720115536, 'reg_lambda': 0.04562695741482807}. Best is trial 3 with value: -1.117605974959607.\n"
     ]
    },
    {
     "name": "stdout",
     "output_type": "stream",
     "text": [
      "1.2727635200658622\n"
     ]
    },
    {
     "name": "stderr",
     "output_type": "stream",
     "text": [
      "[I 2023-07-30 13:07:14,490] Trial 5 pruned. Trial was pruned at iteration 109.\n",
      "[I 2023-07-30 13:07:14,844] Trial 8 finished with value: -1.025675993908213 and parameters: {'max_depth': 3, 'num_leaves': 31, 'subsample': 0.8, 'colsample_bytree': 0.8, 'reg_alpha': 1.993276079851838, 'reg_lambda': 2.829850767824852}. Best is trial 3 with value: -1.117605974959607.\n"
     ]
    },
    {
     "name": "stdout",
     "output_type": "stream",
     "text": [
      "1.1491063405034851\n"
     ]
    },
    {
     "name": "stderr",
     "output_type": "stream",
     "text": [
      "[I 2023-07-30 13:07:16,355] Trial 9 finished with value: -1.106838929069089 and parameters: {'max_depth': 7, 'num_leaves': 31, 'subsample': 0.8, 'colsample_bytree': 0.8, 'reg_alpha': 0.0018925324975987718, 'reg_lambda': 0.015786337088318694}. Best is trial 3 with value: -1.117605974959607.\n",
      "[I 2023-07-30 13:07:16,357] A new study created in memory with name: no-name-431e3683-8bd7-4105-be11-3bc8328bacee\n"
     ]
    },
    {
     "name": "stdout",
     "output_type": "stream",
     "text": [
      "1.2760401137350696\n",
      "0.952992784817419\n",
      "1.050197531642034\n",
      "0.952992784817419\n",
      "1.102756147418992\n",
      "1.068002218127295\n",
      "1.0542154530900536\n",
      "1.0614560661098227\n",
      "1.0973085578107866\n",
      "1.0542154530900536\n",
      "1.0571535628324509\n",
      "1.1228374265954222\n",
      "1.0444116001021124\n",
      "1.126156535952161\n",
      "1.0462344019966063\n",
      "1.1403915997465406\n",
      "0.994846211063123\n",
      "1.129157583270797\n",
      "1.1002770360262295\n",
      "1.096470224396459\n",
      "0.994846211063123\n",
      "1.1221848868883524\n",
      "1.1105246014372765\n",
      "1.0990495580575952\n",
      "1.0937636152340757\n",
      "1.0857830629362102\n",
      "0.9754646646600589\n",
      "1.07456223782676\n",
      "0.9754646646600589\n",
      "1.1125711863974954\n",
      "0.9754646646600589\n",
      "0.9754646646600589\n",
      "1.062235332687604\n",
      "0.9754646646600589\n"
     ]
    },
    {
     "name": "stderr",
     "output_type": "stream",
     "text": [
      "[I 2023-07-30 13:07:47,188] Trial 5 finished with value: -1.0082774900123443 and parameters: {'max_depth': 7, 'num_leaves': 31, 'subsample': 0.8, 'colsample_bytree': 0.8, 'reg_alpha': 4.094893101083929, 'reg_lambda': 0.19276198532845998}. Best is trial 5 with value: -1.0082774900123443.\n"
     ]
    },
    {
     "name": "stdout",
     "output_type": "stream",
     "text": [
      "1.0638683364310675\n",
      "0.9852590192100178\n",
      "1.0728442219396235\n",
      "1.0815316385401574\n"
     ]
    },
    {
     "name": "stderr",
     "output_type": "stream",
     "text": [
      "[I 2023-07-30 13:07:51,429] Trial 3 finished with value: -1.1060377533926644 and parameters: {'max_depth': 3, 'num_leaves': 7, 'subsample': 0.8, 'colsample_bytree': 0.8, 'reg_alpha': 0.0038835373273615474, 'reg_lambda': 0.1216629882518931}. Best is trial 3 with value: -1.1060377533926644.\n"
     ]
    },
    {
     "name": "stdout",
     "output_type": "stream",
     "text": [
      "1.2595042571774546\n",
      "0.9754646646600589\n",
      "1.0066087855596255\n"
     ]
    },
    {
     "name": "stderr",
     "output_type": "stream",
     "text": [
      "[I 2023-07-30 13:07:56,670] Trial 9 finished with value: -1.102590766361726 and parameters: {'max_depth': 3, 'num_leaves': 31, 'subsample': 0.8, 'colsample_bytree': 0.8, 'reg_alpha': 0.020838581501497817, 'reg_lambda': 0.003238021127745882}. Best is trial 3 with value: -1.1060377533926644.\n"
     ]
    },
    {
     "name": "stdout",
     "output_type": "stream",
     "text": [
      "1.235331734040661\n"
     ]
    },
    {
     "name": "stderr",
     "output_type": "stream",
     "text": [
      "[I 2023-07-30 13:07:58,565] Trial 1 finished with value: -1.1043144331886614 and parameters: {'max_depth': 3, 'num_leaves': 7, 'subsample': 0.8, 'colsample_bytree': 0.8, 'reg_alpha': 0.11322902075802589, 'reg_lambda': 0.0016261240352939614}. Best is trial 3 with value: -1.1060377533926644.\n"
     ]
    },
    {
     "name": "stdout",
     "output_type": "stream",
     "text": [
      "1.231411754975885\n",
      "1.0049974625522684\n",
      "0.9990785772373812\n"
     ]
    },
    {
     "name": "stderr",
     "output_type": "stream",
     "text": [
      "[I 2023-07-30 13:08:04,441] Trial 0 finished with value: -1.0214584962379814 and parameters: {'max_depth': 3, 'num_leaves': 127, 'subsample': 0.8, 'colsample_bytree': 0.8, 'reg_alpha': 2.077068049023014, 'reg_lambda': 0.7581810122418058}. Best is trial 3 with value: -1.1060377533926644.\n"
     ]
    },
    {
     "name": "stdout",
     "output_type": "stream",
     "text": [
      "1.129773367559253\n"
     ]
    },
    {
     "name": "stderr",
     "output_type": "stream",
     "text": [
      "[I 2023-07-30 13:08:05,453] Trial 4 finished with value: -1.0997337932314397 and parameters: {'max_depth': 5, 'num_leaves': 7, 'subsample': 0.8, 'colsample_bytree': 0.8, 'reg_alpha': 0.08328500182847562, 'reg_lambda': 1.159921877545482}. Best is trial 3 with value: -1.1060377533926644.\n"
     ]
    },
    {
     "name": "stdout",
     "output_type": "stream",
     "text": [
      "1.2123815680388375\n"
     ]
    },
    {
     "name": "stderr",
     "output_type": "stream",
     "text": [
      "[I 2023-07-30 13:08:09,573] Trial 2 finished with value: -1.0889429305345284 and parameters: {'max_depth': 7, 'num_leaves': 31, 'subsample': 0.8, 'colsample_bytree': 0.8, 'reg_alpha': 0.013112998038352358, 'reg_lambda': 0.8949026947037799}. Best is trial 3 with value: -1.1060377533926644.\n"
     ]
    },
    {
     "name": "stdout",
     "output_type": "stream",
     "text": [
      "1.222246747196503\n"
     ]
    },
    {
     "name": "stderr",
     "output_type": "stream",
     "text": [
      "[I 2023-07-30 13:08:10,133] Trial 8 finished with value: -1.0846361816805512 and parameters: {'max_depth': 5, 'num_leaves': 31, 'subsample': 0.8, 'colsample_bytree': 0.8, 'reg_alpha': 0.30492036995226346, 'reg_lambda': 2.4832430213974863}. Best is trial 3 with value: -1.1060377533926644.\n"
     ]
    },
    {
     "name": "stdout",
     "output_type": "stream",
     "text": [
      "1.1734119552091489\n"
     ]
    },
    {
     "name": "stderr",
     "output_type": "stream",
     "text": [
      "[I 2023-07-30 13:08:10,481] Trial 6 finished with value: -1.094595932515016 and parameters: {'max_depth': 7, 'num_leaves': 31, 'subsample': 0.8, 'colsample_bytree': 0.8, 'reg_alpha': 0.01532131984596079, 'reg_lambda': 3.6224759986077233}. Best is trial 3 with value: -1.1060377533926644.\n"
     ]
    },
    {
     "name": "stdout",
     "output_type": "stream",
     "text": [
      "1.2402017765438\n"
     ]
    },
    {
     "name": "stderr",
     "output_type": "stream",
     "text": [
      "[I 2023-07-30 13:08:11,280] Trial 7 finished with value: -1.0771811339983577 and parameters: {'max_depth': 7, 'num_leaves': 31, 'subsample': 0.8, 'colsample_bytree': 0.8, 'reg_alpha': 0.11215374801141054, 'reg_lambda': 0.08493852538459272}. Best is trial 3 with value: -1.1060377533926644.\n"
     ]
    },
    {
     "name": "stdout",
     "output_type": "stream",
     "text": [
      "1.1600114941600477\n",
      ">>>Done with 8 processes, and time taken is 604.2571709156036\n",
      "Time taken:  607.3591442108154 seconds\n"
     ]
    },
    {
     "name": "stderr",
     "output_type": "stream",
     "text": [
      "[I 2023-07-30 13:08:17,306] A new study created in memory with name: no-name-f1a8e0d8-6e7d-4301-859e-c42bd20a91b9\n"
     ]
    },
    {
     "name": "stdout",
     "output_type": "stream",
     "text": [
      "1.0740118341617766\n",
      "2.577837612798433\n",
      "1.0740118341617766\n",
      "1.0740118341617766\n",
      "1.0740118341617766\n",
      "1.7321510929704154\n",
      "1.0477995078254132\n",
      "2.567280225406787\n",
      "1.0477995078254132\n",
      "1.0477995078254132\n",
      "1.0477995078254132\n",
      "1.0740118341617766\n",
      "2.6206934368715977\n",
      "1.0255718392971556\n",
      "2.599008532078585\n",
      "1.0255718392971556\n",
      "1.0255718392971556\n",
      "2.3273816695066714\n",
      "1.425283259664619\n",
      "2.377958965804396\n",
      "0.9349189920835173\n",
      "2.297207366760368\n",
      "0.9349189920835173\n",
      "0.9349189920835173\n",
      "1.7556697896105113\n",
      "2.082790856926451\n",
      "2.363183764095595\n",
      "2.339220414421874\n"
     ]
    },
    {
     "name": "stderr",
     "output_type": "stream",
     "text": [
      "[I 2023-07-30 13:08:46,919] Trial 2 finished with value: -1.0052059035627607 and parameters: {'max_depth': 7, 'num_leaves': 127, 'subsample': 0.8, 'colsample_bytree': 0.8, 'reg_alpha': 3.0523205730652827, 'reg_lambda': 0.0025002053051126484}. Best is trial 2 with value: -1.0052059035627607.\n"
     ]
    },
    {
     "name": "stdout",
     "output_type": "stream",
     "text": [
      "0.9437273444459411\n"
     ]
    },
    {
     "name": "stderr",
     "output_type": "stream",
     "text": [
      "[I 2023-07-30 13:08:48,394] Trial 7 finished with value: -1.0052059035627607 and parameters: {'max_depth': 3, 'num_leaves': 63, 'subsample': 0.8, 'colsample_bytree': 0.8, 'reg_alpha': 1.9054973014001144, 'reg_lambda': 0.0016978330115342641}. Best is trial 2 with value: -1.0052059035627607.\n"
     ]
    },
    {
     "name": "stdout",
     "output_type": "stream",
     "text": [
      "0.9437273444459411\n"
     ]
    },
    {
     "name": "stderr",
     "output_type": "stream",
     "text": [
      "[I 2023-07-30 13:08:49,085] Trial 0 finished with value: -1.0052059035627607 and parameters: {'max_depth': 3, 'num_leaves': 63, 'subsample': 0.8, 'colsample_bytree': 0.8, 'reg_alpha': 3.819903466448159, 'reg_lambda': 0.06553266840628082}. Best is trial 2 with value: -1.0052059035627607.\n"
     ]
    },
    {
     "name": "stdout",
     "output_type": "stream",
     "text": [
      "0.9437273444459411\n",
      "2.167139048025204\n",
      "2.2136746668593137\n"
     ]
    },
    {
     "name": "stderr",
     "output_type": "stream",
     "text": [
      "[I 2023-07-30 13:08:53,743] Trial 6 finished with value: -1.4621838319744775 and parameters: {'max_depth': 5, 'num_leaves': 7, 'subsample': 0.8, 'colsample_bytree': 0.8, 'reg_alpha': 0.7740634049411036, 'reg_lambda': 0.7717277836829903}. Best is trial 6 with value: -1.4621838319744775.\n"
     ]
    },
    {
     "name": "stdout",
     "output_type": "stream",
     "text": [
      "2.0081547686100674\n",
      "2.080180187501517\n",
      "2.1848106304538693\n",
      "2.175923656090996\n",
      "2.1619310109276704\n",
      "2.1374724458171066\n",
      "2.2188443573947954\n",
      "2.211422690718468\n",
      "2.1997239883660633\n"
     ]
    },
    {
     "name": "stderr",
     "output_type": "stream",
     "text": [
      "[I 2023-07-30 13:09:11,579] Trial 9 finished with value: -2.399566886020503 and parameters: {'max_depth': 3, 'num_leaves': 31, 'subsample': 0.8, 'colsample_bytree': 0.8, 'reg_alpha': 0.0019466774367098533, 'reg_lambda': 0.006147857481414997}. Best is trial 9 with value: -2.399566886020503.\n"
     ]
    },
    {
     "name": "stdout",
     "output_type": "stream",
     "text": [
      "2.7235251799384574\n",
      "2.1892680037614056\n"
     ]
    },
    {
     "name": "stderr",
     "output_type": "stream",
     "text": [
      "[I 2023-07-30 13:09:18,088] Trial 1 finished with value: -2.0313363292269173 and parameters: {'max_depth': 3, 'num_leaves': 63, 'subsample': 0.8, 'colsample_bytree': 0.8, 'reg_alpha': 0.2970612514344565, 'reg_lambda': 3.802133795267859}. Best is trial 9 with value: -2.399566886020503.\n"
     ]
    },
    {
     "name": "stdout",
     "output_type": "stream",
     "text": [
      "2.7822263217277357\n",
      "2.2330934510054945\n"
     ]
    },
    {
     "name": "stderr",
     "output_type": "stream",
     "text": [
      "[I 2023-07-30 13:09:22,634] Trial 3 finished with value: -2.271094469877057 and parameters: {'max_depth': 5, 'num_leaves': 127, 'subsample': 0.8, 'colsample_bytree': 0.8, 'reg_alpha': 0.15419398876938326, 'reg_lambda': 1.2836941756186948}. Best is trial 9 with value: -2.399566886020503.\n",
      "[I 2023-07-30 13:09:22,639] Trial 8 pruned. Trial was pruned at iteration 279.\n",
      "[I 2023-07-30 13:09:22,640] Trial 4 pruned. Trial was pruned at iteration 206.\n",
      "[I 2023-07-30 13:09:22,641] Trial 5 pruned. Trial was pruned at iteration 6.\n",
      "[I 2023-07-30 13:09:22,645] A new study created in memory with name: no-name-103498bb-eff4-44f7-992f-209543f3bd87\n"
     ]
    },
    {
     "name": "stdout",
     "output_type": "stream",
     "text": [
      "2.941579270834568\n",
      "1.0709053284869716\n",
      "1.0709053284869716\n",
      "1.0470402062368178\n",
      "1.4828195647638358\n",
      "1.739380370891987\n",
      "1.0321453829518354\n",
      "2.0948134417089443\n",
      "0.9355806171160443\n",
      "1.0470402062368178\n",
      "2.0527952954034268\n",
      "2.0896084559825256\n",
      "2.085355036135888\n"
     ]
    },
    {
     "name": "stderr",
     "output_type": "stream",
     "text": [
      "[I 2023-07-30 13:09:41,879] Trial 2 finished with value: -1.0063747061934145 and parameters: {'max_depth': 5, 'num_leaves': 127, 'subsample': 0.8, 'colsample_bytree': 0.8, 'reg_alpha': 4.547014206530723, 'reg_lambda': 0.002047022840460401}. Best is trial 2 with value: -1.0063747061934145.\n"
     ]
    },
    {
     "name": "stdout",
     "output_type": "stream",
     "text": [
      "0.9462019961754029\n",
      "1.7773813005422374\n",
      "2.048516213238506\n",
      "2.073913498210122\n",
      "2.0387376447819756\n",
      "1.7639680728020615\n",
      "2.1014909631981693\n",
      "1.4062523115589425\n",
      "2.0921538711270733\n",
      "2.04180311926165\n",
      "1.5816840526182796\n",
      "2.0476893221565637\n",
      "2.09804357384085\n",
      "1.8696715129395525\n",
      "1.8587793586039307\n",
      "1.8249095633956562\n",
      "1.8965504208928916\n",
      "2.020711981570053\n",
      "1.8922877392958029\n",
      "1.848855189679612\n"
     ]
    },
    {
     "name": "stderr",
     "output_type": "stream",
     "text": [
      "[I 2023-07-30 13:10:15,868] Trial 1 finished with value: -1.3476797531412121 and parameters: {'max_depth': 7, 'num_leaves': 127, 'subsample': 0.8, 'colsample_bytree': 0.8, 'reg_alpha': 1.058302424805998, 'reg_lambda': 2.243065383172083}. Best is trial 1 with value: -1.3476797531412121.\n"
     ]
    },
    {
     "name": "stdout",
     "output_type": "stream",
     "text": [
      "1.632516866805049\n",
      "1.878314532216999\n",
      "1.879973235888568\n",
      "1.8440923930485225\n"
     ]
    },
    {
     "name": "stderr",
     "output_type": "stream",
     "text": [
      "[I 2023-07-30 13:10:24,541] Trial 4 finished with value: -1.8154517539869388 and parameters: {'max_depth': 3, 'num_leaves': 31, 'subsample': 0.8, 'colsample_bytree': 0.8, 'reg_alpha': 0.4720629976695351, 'reg_lambda': 2.5285486137152153}. Best is trial 4 with value: -1.8154517539869388.\n"
     ]
    },
    {
     "name": "stdout",
     "output_type": "stream",
     "text": [
      "2.2281802684309033\n",
      "1.878293755500139\n",
      "1.8968909009131618\n",
      "1.8736224201047493\n"
     ]
    },
    {
     "name": "stderr",
     "output_type": "stream",
     "text": [
      "[I 2023-07-30 13:10:32,734] Trial 0 finished with value: -2.038247186113869 and parameters: {'max_depth': 7, 'num_leaves': 7, 'subsample': 0.8, 'colsample_bytree': 0.8, 'reg_alpha': 0.01792906656809977, 'reg_lambda': 0.7908013725316034}. Best is trial 0 with value: -2.038247186113869.\n"
     ]
    },
    {
     "name": "stdout",
     "output_type": "stream",
     "text": [
      "2.276404823043067\n",
      "1.88814250126741\n"
     ]
    },
    {
     "name": "stderr",
     "output_type": "stream",
     "text": [
      "[I 2023-07-30 13:10:41,322] Trial 9 finished with value: -1.964247957027414 and parameters: {'max_depth': 3, 'num_leaves': 127, 'subsample': 0.8, 'colsample_bytree': 0.8, 'reg_alpha': 0.17528993023844144, 'reg_lambda': 0.003539934771800603}. Best is trial 0 with value: -2.038247186113869.\n",
      "[I 2023-07-30 13:10:41,328] Trial 8 pruned. Trial was pruned at iteration 311.\n"
     ]
    },
    {
     "name": "stdout",
     "output_type": "stream",
     "text": [
      "2.304369174970609\n"
     ]
    },
    {
     "name": "stderr",
     "output_type": "stream",
     "text": [
      "[I 2023-07-30 13:10:42,802] Trial 7 finished with value: -2.0436413850783572 and parameters: {'max_depth': 5, 'num_leaves': 63, 'subsample': 0.8, 'colsample_bytree': 0.8, 'reg_alpha': 0.003745146139467771, 'reg_lambda': 0.10642858849732319}. Best is trial 7 with value: -2.0436413850783572.\n"
     ]
    },
    {
     "name": "stdout",
     "output_type": "stream",
     "text": [
      "2.3000552041874114\n"
     ]
    },
    {
     "name": "stderr",
     "output_type": "stream",
     "text": [
      "[I 2023-07-30 13:10:43,244] Trial 5 finished with value: -2.0436072375452072 and parameters: {'max_depth': 5, 'num_leaves': 127, 'subsample': 0.8, 'colsample_bytree': 0.8, 'reg_alpha': 0.0016207894089155452, 'reg_lambda': 3.482521798571551}. Best is trial 7 with value: -2.0436413850783572.\n"
     ]
    },
    {
     "name": "stdout",
     "output_type": "stream",
     "text": [
      "2.3160431176859175\n",
      "1.8532928515925873\n",
      "1.8364489247928715\n"
     ]
    },
    {
     "name": "stderr",
     "output_type": "stream",
     "text": [
      "[I 2023-07-30 13:10:52,029] Trial 3 finished with value: -2.030034416845162 and parameters: {'max_depth': 7, 'num_leaves': 127, 'subsample': 0.8, 'colsample_bytree': 0.8, 'reg_alpha': 0.0025131468316011594, 'reg_lambda': 0.04113415237079572}. Best is trial 7 with value: -2.0436413850783572.\n"
     ]
    },
    {
     "name": "stdout",
     "output_type": "stream",
     "text": [
      "2.249149462475784\n"
     ]
    },
    {
     "name": "stderr",
     "output_type": "stream",
     "text": [
      "[I 2023-07-30 13:10:53,872] Trial 6 finished with value: -2.023338835588922 and parameters: {'max_depth': 7, 'num_leaves': 127, 'subsample': 0.8, 'colsample_bytree': 0.8, 'reg_alpha': 0.00858152030963193, 'reg_lambda': 0.13384585902383875}. Best is trial 7 with value: -2.0436413850783572.\n",
      "[I 2023-07-30 13:10:53,874] A new study created in memory with name: no-name-05213a48-06b1-4f4c-bb32-ae24baf18453\n"
     ]
    },
    {
     "name": "stdout",
     "output_type": "stream",
     "text": [
      "2.2974772721041523\n",
      "1.0732624677130722\n",
      "1.6936262162294042\n",
      "1.0732624677130722\n",
      "1.0732624677130722\n",
      "1.8782171965171697\n",
      "1.0477537515807278\n",
      "1.0477537515807278\n",
      "1.0477537515807278\n",
      "1.8612847846399125\n",
      "1.0343245582926788\n",
      "1.0343245582926788\n",
      "1.0343245582926788\n",
      "1.9482502959120818\n",
      "1.9034971269542198\n",
      "1.8868714193311669\n",
      "0.9343524100113841\n",
      "0.9343524100113841\n",
      "0.9343524100113841\n"
     ]
    },
    {
     "name": "stderr",
     "output_type": "stream",
     "text": [
      "[I 2023-07-30 13:11:14,947] Trial 0 finished with value: -1.0073403677464308 and parameters: {'max_depth': 5, 'num_leaves': 63, 'subsample': 0.8, 'colsample_bytree': 0.8, 'reg_alpha': 6.279167531170688, 'reg_lambda': 0.0010794051627543847}. Best is trial 0 with value: -1.0073403677464308.\n"
     ]
    },
    {
     "name": "stdout",
     "output_type": "stream",
     "text": [
      "0.9470086511342911\n",
      "1.9179249770530622\n"
     ]
    },
    {
     "name": "stderr",
     "output_type": "stream",
     "text": [
      "[I 2023-07-30 13:11:17,404] Trial 6 finished with value: -1.0073403677464308 and parameters: {'max_depth': 3, 'num_leaves': 63, 'subsample': 0.8, 'colsample_bytree': 0.8, 'reg_alpha': 7.54461702053185, 'reg_lambda': 0.02380295212581386}. Best is trial 0 with value: -1.0073403677464308.\n"
     ]
    },
    {
     "name": "stdout",
     "output_type": "stream",
     "text": [
      "0.9470086511342911\n",
      "1.908831486191199\n",
      "1.9107683444705932\n"
     ]
    },
    {
     "name": "stderr",
     "output_type": "stream",
     "text": [
      "[I 2023-07-30 13:11:24,038] Trial 2 finished with value: -1.0073403677464308 and parameters: {'max_depth': 5, 'num_leaves': 63, 'subsample': 0.8, 'colsample_bytree': 0.8, 'reg_alpha': 3.4243649259000923, 'reg_lambda': 0.003424391920911634}. Best is trial 0 with value: -1.0073403677464308.\n"
     ]
    },
    {
     "name": "stdout",
     "output_type": "stream",
     "text": [
      "1.9328247786773938\n",
      "0.9470086511342911\n",
      "1.9323749637745375\n",
      "1.9324665511390118\n",
      "1.9192872215351646\n",
      "1.7282249090953576\n",
      "1.7270350466629456\n",
      "1.7411364755504433\n",
      "1.7270137493076043\n",
      "1.9057589353866693\n",
      "1.7742421464851343\n",
      "1.7496740365652284\n",
      "1.7196567368781972\n",
      "1.7586199121735029\n",
      "1.7164680601947189\n",
      "1.7818392199964497\n",
      "1.698429685690849\n",
      "1.737224080706095\n",
      "1.7623231265400043\n"
     ]
    },
    {
     "name": "stderr",
     "output_type": "stream",
     "text": [
      "[I 2023-07-30 13:12:05,301] Trial 9 finished with value: -1.8544046212501712 and parameters: {'max_depth': 7, 'num_leaves': 7, 'subsample': 0.8, 'colsample_bytree': 0.8, 'reg_alpha': 0.00674223269144992, 'reg_lambda': 0.5772743116801256}. Best is trial 9 with value: -1.8544046212501712.\n"
     ]
    },
    {
     "name": "stdout",
     "output_type": "stream",
     "text": [
      "2.017120330504908\n"
     ]
    },
    {
     "name": "stderr",
     "output_type": "stream",
     "text": [
      "[I 2023-07-30 13:12:09,506] Trial 8 finished with value: -1.869810453140237 and parameters: {'max_depth': 3, 'num_leaves': 127, 'subsample': 0.8, 'colsample_bytree': 0.8, 'reg_alpha': 0.020622279278051315, 'reg_lambda': 0.0016149224415526247}. Best is trial 8 with value: -1.869810453140237.\n"
     ]
    },
    {
     "name": "stdout",
     "output_type": "stream",
     "text": [
      "2.0249451965122445\n"
     ]
    },
    {
     "name": "stderr",
     "output_type": "stream",
     "text": [
      "[I 2023-07-30 13:12:12,286] Trial 1 finished with value: -1.8630444568972244 and parameters: {'max_depth': 3, 'num_leaves': 7, 'subsample': 0.8, 'colsample_bytree': 0.8, 'reg_alpha': 0.10499332628719052, 'reg_lambda': 0.45077680203911086}. Best is trial 8 with value: -1.869810453140237.\n"
     ]
    },
    {
     "name": "stdout",
     "output_type": "stream",
     "text": [
      "2.0393919222294983\n"
     ]
    },
    {
     "name": "stderr",
     "output_type": "stream",
     "text": [
      "[I 2023-07-30 13:12:13,654] Trial 7 finished with value: -1.8607415063259236 and parameters: {'max_depth': 5, 'num_leaves': 63, 'subsample': 0.8, 'colsample_bytree': 0.8, 'reg_alpha': 0.014024372600557158, 'reg_lambda': 0.01260869816646621}. Best is trial 8 with value: -1.869810453140237.\n",
      "[I 2023-07-30 13:12:13,688] Trial 5 finished with value: -1.8640944757985465 and parameters: {'max_depth': 5, 'num_leaves': 31, 'subsample': 0.8, 'colsample_bytree': 0.8, 'reg_alpha': 0.0011563475678605345, 'reg_lambda': 0.11987209011605561}. Best is trial 8 with value: -1.869810453140237.\n"
     ]
    },
    {
     "name": "stdout",
     "output_type": "stream",
     "text": [
      "1.9940250658689094\n",
      "2.0284625763465716\n"
     ]
    },
    {
     "name": "stderr",
     "output_type": "stream",
     "text": [
      "[I 2023-07-30 13:12:13,940] Trial 3 finished with value: -1.8294811824998647 and parameters: {'max_depth': 3, 'num_leaves': 63, 'subsample': 0.8, 'colsample_bytree': 0.8, 'reg_alpha': 0.19149311704643163, 'reg_lambda': 0.04880723742205669}. Best is trial 8 with value: -1.869810453140237.\n"
     ]
    },
    {
     "name": "stdout",
     "output_type": "stream",
     "text": [
      "2.036073943419326\n",
      "1.7391755319436326\n"
     ]
    },
    {
     "name": "stderr",
     "output_type": "stream",
     "text": [
      "[I 2023-07-30 13:12:19,663] Trial 4 finished with value: -1.8593711166365339 and parameters: {'max_depth': 7, 'num_leaves': 63, 'subsample': 0.8, 'colsample_bytree': 0.8, 'reg_alpha': 0.003433533849749596, 'reg_lambda': 0.44054822904983687}. Best is trial 8 with value: -1.869810453140237.\n",
      "[I 2023-07-30 13:12:19,665] A new study created in memory with name: no-name-401d2f6b-f2da-447b-97ab-f42b023454ba\n"
     ]
    },
    {
     "name": "stdout",
     "output_type": "stream",
     "text": [
      "1.9716730122592994\n",
      "1.7939275540453878\n",
      "1.0752059646371932\n",
      "1.0481254833196858\n",
      "1.7922657763748089\n",
      "1.6438706758884378\n",
      "1.0365083333689311\n",
      "1.8123327168789527\n",
      "1.8039786980374157\n",
      "1.7938897642532505\n",
      "1.7653075932510203\n",
      "0.9351764505690348\n",
      "1.6257997010509473\n"
     ]
    },
    {
     "name": "stderr",
     "output_type": "stream",
     "text": [
      "[I 2023-07-30 13:12:38,929] Trial 7 finished with value: -1.0082999372423518 and parameters: {'max_depth': 5, 'num_leaves': 63, 'subsample': 0.8, 'colsample_bytree': 0.8, 'reg_alpha': 6.502867079016879, 'reg_lambda': 2.2110005628107445}. Best is trial 7 with value: -1.0082999372423518.\n"
     ]
    },
    {
     "name": "stdout",
     "output_type": "stream",
     "text": [
      "0.946483454316914\n",
      "1.863049528250302\n",
      "1.8088606254323083\n",
      "1.8439496340104884\n",
      "1.803867864574093\n",
      "1.8021969625936642\n",
      "1.8081303711332226\n",
      "1.8142292277171523\n",
      "1.8076296308829751\n",
      "1.6337785022446516\n",
      "1.6715899058467798\n",
      "1.8603798965946443\n",
      "1.6444709526871044\n",
      "1.642835528411947\n",
      "1.6533645842009097\n",
      "1.6371610880311875\n",
      "1.6221279538266735\n",
      "1.6536537516600065\n",
      "1.6538726671376978\n",
      "1.638494317329359\n",
      "1.6316808264661296\n",
      "1.6667818289777738\n"
     ]
    },
    {
     "name": "stderr",
     "output_type": "stream",
     "text": [
      "[I 2023-07-30 13:13:16,420] Trial 9 finished with value: -1.7604746197168655 and parameters: {'max_depth': 3, 'num_leaves': 127, 'subsample': 0.8, 'colsample_bytree': 0.8, 'reg_alpha': 0.015444806927198854, 'reg_lambda': 0.06413869873653996}. Best is trial 9 with value: -1.7604746197168655.\n"
     ]
    },
    {
     "name": "stdout",
     "output_type": "stream",
     "text": [
      "1.8807827812366358\n",
      "1.8202998143824387\n",
      "1.7002899375405915\n"
     ]
    },
    {
     "name": "stderr",
     "output_type": "stream",
     "text": [
      "[I 2023-07-30 13:13:23,121] Trial 1 finished with value: -1.7595375719537905 and parameters: {'max_depth': 7, 'num_leaves': 7, 'subsample': 0.8, 'colsample_bytree': 0.8, 'reg_alpha': 0.0020216890423194285, 'reg_lambda': 0.058943278940713384}. Best is trial 9 with value: -1.7604746197168655.\n"
     ]
    },
    {
     "name": "stdout",
     "output_type": "stream",
     "text": [
      "1.898522008299444\n",
      "1.639248078119584\n",
      "1.6880038968480475\n"
     ]
    },
    {
     "name": "stderr",
     "output_type": "stream",
     "text": [
      "[I 2023-07-30 13:13:26,127] Trial 0 finished with value: -1.773951362469525 and parameters: {'max_depth': 5, 'num_leaves': 7, 'subsample': 0.8, 'colsample_bytree': 0.8, 'reg_alpha': 0.07855947186303323, 'reg_lambda': 6.333333254635833}. Best is trial 0 with value: -1.773951362469525.\n"
     ]
    },
    {
     "name": "stdout",
     "output_type": "stream",
     "text": [
      "1.9251285606695858\n"
     ]
    },
    {
     "name": "stderr",
     "output_type": "stream",
     "text": [
      "[I 2023-07-30 13:13:27,468] Trial 8 finished with value: -1.761783452374246 and parameters: {'max_depth': 3, 'num_leaves': 31, 'subsample': 0.8, 'colsample_bytree': 0.8, 'reg_alpha': 0.03144348565916504, 'reg_lambda': 0.23425204385384993}. Best is trial 0 with value: -1.773951362469525.\n"
     ]
    },
    {
     "name": "stdout",
     "output_type": "stream",
     "text": [
      "1.8806518567221437\n",
      "1.665907063503771\n",
      "1.644418306125698\n"
     ]
    },
    {
     "name": "stderr",
     "output_type": "stream",
     "text": [
      "[I 2023-07-30 13:13:37,744] Trial 6 finished with value: -1.7358349644696005 and parameters: {'max_depth': 3, 'num_leaves': 127, 'subsample': 0.8, 'colsample_bytree': 0.8, 'reg_alpha': 0.21691368158171268, 'reg_lambda': 0.08074645029243475}. Best is trial 0 with value: -1.773951362469525.\n"
     ]
    },
    {
     "name": "stdout",
     "output_type": "stream",
     "text": [
      "1.9233275990468157\n"
     ]
    },
    {
     "name": "stderr",
     "output_type": "stream",
     "text": [
      "[I 2023-07-30 13:13:39,606] Trial 2 pruned. Trial was pruned at iteration 190.\n",
      "[I 2023-07-30 13:13:42,197] Trial 3 finished with value: -1.7533858988713937 and parameters: {'max_depth': 5, 'num_leaves': 63, 'subsample': 0.8, 'colsample_bytree': 0.8, 'reg_alpha': 0.23329428663501367, 'reg_lambda': 0.031497250060044724}. Best is trial 0 with value: -1.773951362469525.\n"
     ]
    },
    {
     "name": "stdout",
     "output_type": "stream",
     "text": [
      "1.9482697591980478\n"
     ]
    },
    {
     "name": "stderr",
     "output_type": "stream",
     "text": [
      "[I 2023-07-30 13:13:43,699] Trial 4 finished with value: -1.7763112125624143 and parameters: {'max_depth': 5, 'num_leaves': 31, 'subsample': 0.8, 'colsample_bytree': 0.8, 'reg_alpha': 0.16677386558738033, 'reg_lambda': 0.05010692973019939}. Best is trial 4 with value: -1.7763112125624143.\n"
     ]
    },
    {
     "name": "stdout",
     "output_type": "stream",
     "text": [
      "1.9582806829965071\n",
      "1.675714371868593\n"
     ]
    },
    {
     "name": "stderr",
     "output_type": "stream",
     "text": [
      "[I 2023-07-30 13:13:49,150] Trial 5 finished with value: -1.763061673304668 and parameters: {'max_depth': 7, 'num_leaves': 63, 'subsample': 0.8, 'colsample_bytree': 0.8, 'reg_alpha': 0.042603381062003814, 'reg_lambda': 0.001220338796359683}. Best is trial 4 with value: -1.7763112125624143.\n",
      "[I 2023-07-30 13:13:49,153] A new study created in memory with name: no-name-1143f8bc-9671-431c-92e8-a70866692719\n"
     ]
    },
    {
     "name": "stdout",
     "output_type": "stream",
     "text": [
      "1.8726789115529452\n",
      "1.6838925073252313\n",
      "1.0758972240186393\n",
      "1.0758972240186393\n",
      "1.0758972240186393\n",
      "1.0486508041775797\n",
      "1.0486508041775797\n",
      "1.3978597932717378\n",
      "1.0375465103559092\n",
      "1.0375465103559092\n",
      "1.6922769753170557\n",
      "0.9353841365032555\n",
      "1.0758972240186393\n",
      "0.9353841365032555\n",
      "1.7924285874625605\n",
      "1.0486508041775797\n",
      "1.7662049507954227\n"
     ]
    },
    {
     "name": "stderr",
     "output_type": "stream",
     "text": [
      "[I 2023-07-30 13:14:12,450] Trial 0 finished with value: -1.0089315861476629 and parameters: {'max_depth': 5, 'num_leaves': 7, 'subsample': 0.8, 'colsample_bytree': 0.8, 'reg_alpha': 6.7416370950499, 'reg_lambda': 8.947673119599223}. Best is trial 0 with value: -1.0089315861476629.\n"
     ]
    },
    {
     "name": "stdout",
     "output_type": "stream",
     "text": [
      "0.9471792556829297\n",
      "1.6558773968180485\n"
     ]
    },
    {
     "name": "stderr",
     "output_type": "stream",
     "text": [
      "[I 2023-07-30 13:14:13,939] Trial 6 finished with value: -1.0089315861476629 and parameters: {'max_depth': 7, 'num_leaves': 63, 'subsample': 0.8, 'colsample_bytree': 0.8, 'reg_alpha': 7.795384467151804, 'reg_lambda': 0.0027352540147109624}. Best is trial 0 with value: -1.0089315861476629.\n"
     ]
    },
    {
     "name": "stdout",
     "output_type": "stream",
     "text": [
      "0.9471792556829297\n",
      "1.6448739697403252\n",
      "1.6995033946186178\n",
      "1.3008514547109808\n",
      "1.5739988845748423\n",
      "1.5166334197487998\n",
      "1.512273277995232\n",
      "1.4682882165313829\n",
      "1.5645726016458634\n",
      "1.3272388751746953\n",
      "1.7963958623334912\n",
      "1.774510840419416\n",
      "1.6013189025427463\n"
     ]
    },
    {
     "name": "stderr",
     "output_type": "stream",
     "text": [
      "[I 2023-07-30 13:14:36,912] Trial 2 finished with value: -1.2170400249224607 and parameters: {'max_depth': 7, 'num_leaves': 31, 'subsample': 0.8, 'colsample_bytree': 0.8, 'reg_alpha': 2.0156513741642885, 'reg_lambda': 6.602593156018019}. Best is trial 2 with value: -1.2170400249224607.\n"
     ]
    },
    {
     "name": "stdout",
     "output_type": "stream",
     "text": [
      "1.3325617665304073\n",
      "1.7634658539492691\n",
      "1.6250514212105993\n",
      "1.7402879407832896\n"
     ]
    },
    {
     "name": "stderr",
     "output_type": "stream",
     "text": [
      "[I 2023-07-30 13:14:42,843] Trial 3 finished with value: -1.6884201260257008 and parameters: {'max_depth': 3, 'num_leaves': 63, 'subsample': 0.8, 'colsample_bytree': 0.8, 'reg_alpha': 0.009706432988083684, 'reg_lambda': 0.023065389681580055}. Best is trial 3 with value: -1.6884201260257008.\n"
     ]
    },
    {
     "name": "stdout",
     "output_type": "stream",
     "text": [
      "1.8272080491200073\n",
      "1.5858240107307862\n"
     ]
    },
    {
     "name": "stderr",
     "output_type": "stream",
     "text": [
      "[I 2023-07-30 13:14:48,926] Trial 5 finished with value: -1.478168298349321 and parameters: {'max_depth': 7, 'num_leaves': 7, 'subsample': 0.8, 'colsample_bytree': 0.8, 'reg_alpha': 0.8088575650422428, 'reg_lambda': 0.4628080191801826}. Best is trial 3 with value: -1.6884201260257008.\n"
     ]
    },
    {
     "name": "stdout",
     "output_type": "stream",
     "text": [
      "1.7287037289050373\n",
      "1.588290545878253\n",
      "1.5524952885063277\n",
      "1.6083315452118678\n",
      "1.572904585528306\n"
     ]
    },
    {
     "name": "stderr",
     "output_type": "stream",
     "text": [
      "[I 2023-07-30 13:14:57,027] Trial 8 finished with value: -1.6210329888094386 and parameters: {'max_depth': 7, 'num_leaves': 7, 'subsample': 0.8, 'colsample_bytree': 0.8, 'reg_alpha': 0.40802101966820836, 'reg_lambda': 0.0015024372323309786}. Best is trial 3 with value: -1.6884201260257008.\n",
      "[I 2023-07-30 13:14:57,033] Trial 1 pruned. Trial was pruned at iteration 57.\n"
     ]
    },
    {
     "name": "stdout",
     "output_type": "stream",
     "text": [
      "1.8037755007742002\n",
      "1.5606389160367016\n"
     ]
    },
    {
     "name": "stderr",
     "output_type": "stream",
     "text": [
      "[I 2023-07-30 13:15:04,304] Trial 9 finished with value: -1.6939356482680856 and parameters: {'max_depth': 5, 'num_leaves': 63, 'subsample': 0.8, 'colsample_bytree': 0.8, 'reg_alpha': 0.10888439293207731, 'reg_lambda': 0.35364453431114623}. Best is trial 9 with value: -1.6939356482680856.\n"
     ]
    },
    {
     "name": "stdout",
     "output_type": "stream",
     "text": [
      "1.8451344481603105\n",
      "1.5679697012355442\n"
     ]
    },
    {
     "name": "stderr",
     "output_type": "stream",
     "text": [
      "[I 2023-07-30 13:15:08,123] Trial 4 finished with value: -1.6623627816271505 and parameters: {'max_depth': 7, 'num_leaves': 63, 'subsample': 0.8, 'colsample_bytree': 0.8, 'reg_alpha': 0.0054556013498787805, 'reg_lambda': 0.05849223053173462}. Best is trial 9 with value: -1.6939356482680856.\n"
     ]
    },
    {
     "name": "stdout",
     "output_type": "stream",
     "text": [
      "1.790339879903129\n"
     ]
    },
    {
     "name": "stderr",
     "output_type": "stream",
     "text": [
      "[I 2023-07-30 13:15:11,129] Trial 7 finished with value: -1.6681472054538404 and parameters: {'max_depth': 7, 'num_leaves': 127, 'subsample': 0.8, 'colsample_bytree': 0.8, 'reg_alpha': 0.005527817369977809, 'reg_lambda': 2.4494979916473714}. Best is trial 9 with value: -1.6939356482680856.\n",
      "[I 2023-07-30 13:15:11,131] A new study created in memory with name: no-name-f96a7dcb-51ea-4979-be83-f6bba61a9f75\n"
     ]
    },
    {
     "name": "stdout",
     "output_type": "stream",
     "text": [
      "1.7600704051034444\n",
      "1.36371309512473\n",
      "1.0777784303683309\n",
      "1.5932689757915637\n",
      "1.3119249265353248\n",
      "1.6322633886106988\n",
      "1.0777784303683309\n",
      "1.5858796179140264\n",
      "1.0497460775751286\n",
      "1.5695171230134588\n",
      "1.280310530366703\n",
      "1.60392600709632841.619032544424091\n",
      "\n",
      "1.6167314563898745\n",
      "1.592077661608049\n",
      "1.4283684803300187\n",
      "1.363715174150571\n",
      "1.4579021297862123\n",
      "1.6856072408728253\n",
      "1.6817190002986422\n",
      "1.280237685672737\n",
      "1.444136500551462\n"
     ]
    },
    {
     "name": "stderr",
     "output_type": "stream",
     "text": [
      "[I 2023-07-30 13:15:48,479] Trial 4 finished with value: -1.2452449232247833 and parameters: {'max_depth': 3, 'num_leaves': 31, 'subsample': 0.8, 'colsample_bytree': 0.8, 'reg_alpha': 1.6098697361569088, 'reg_lambda': 0.08641392831117654}. Best is trial 4 with value: -1.2452449232247833.\n"
     ]
    },
    {
     "name": "stdout",
     "output_type": "stream",
     "text": [
      "1.4546744036631831\n",
      "1.7089391242758327\n",
      "1.4262853187556122\n",
      "1.718128778555565\n",
      "1.532138268509565\n",
      "1.5762687013128063\n",
      "1.6665289735158573\n",
      "1.6976278111923784\n"
     ]
    },
    {
     "name": "stderr",
     "output_type": "stream",
     "text": [
      "[I 2023-07-30 13:16:04,638] Trial 9 finished with value: -1.3613853429469613 and parameters: {'max_depth': 7, 'num_leaves': 7, 'subsample': 0.8, 'colsample_bytree': 0.8, 'reg_alpha': 1.2790830209126238, 'reg_lambda': 0.8102398678758909}. Best is trial 9 with value: -1.3613853429469613.\n"
     ]
    },
    {
     "name": "stdout",
     "output_type": "stream",
     "text": [
      "1.5942567996081078\n",
      "1.5178930841198846\n",
      "1.5627629307816915\n",
      "1.5129806458053683\n",
      "1.5161208240020616\n",
      "1.5373419568466713\n",
      "1.5056689130722576\n"
     ]
    },
    {
     "name": "stderr",
     "output_type": "stream",
     "text": [
      "[I 2023-07-30 13:16:14,390] Trial 1 finished with value: -1.554310796038549 and parameters: {'max_depth': 3, 'num_leaves': 7, 'subsample': 0.8, 'colsample_bytree': 0.8, 'reg_alpha': 0.4879420901667894, 'reg_lambda': 0.44803181613407994}. Best is trial 1 with value: -1.554310796038549.\n"
     ]
    },
    {
     "name": "stdout",
     "output_type": "stream",
     "text": [
      "1.741406665358297\n",
      "1.5218653873070198\n"
     ]
    },
    {
     "name": "stderr",
     "output_type": "stream",
     "text": [
      "[I 2023-07-30 13:16:21,368] Trial 2 finished with value: -1.5294202940580053 and parameters: {'max_depth': 5, 'num_leaves': 31, 'subsample': 0.8, 'colsample_bytree': 0.8, 'reg_alpha': 0.6738607832272098, 'reg_lambda': 1.774797632760303}. Best is trial 1 with value: -1.554310796038549.\n"
     ]
    },
    {
     "name": "stdout",
     "output_type": "stream",
     "text": [
      "1.7092445679974566\n",
      "1.5047738780539106\n",
      "1.5301877379287268\n",
      "1.5481492409884385\n",
      "1.5537217295717947\n"
     ]
    },
    {
     "name": "stderr",
     "output_type": "stream",
     "text": [
      "[I 2023-07-30 13:16:27,723] Trial 5 finished with value: -1.6093128379803923 and parameters: {'max_depth': 5, 'num_leaves': 63, 'subsample': 0.8, 'colsample_bytree': 0.8, 'reg_alpha': 0.002241206891964043, 'reg_lambda': 0.4212491200702489}. Best is trial 5 with value: -1.6093128379803923.\n"
     ]
    },
    {
     "name": "stdout",
     "output_type": "stream",
     "text": [
      "1.7338466573743583\n",
      "1.4955403601303048\n"
     ]
    },
    {
     "name": "stderr",
     "output_type": "stream",
     "text": [
      "[I 2023-07-30 13:16:38,373] Trial 0 finished with value: -1.6010914732590293 and parameters: {'max_depth': 7, 'num_leaves': 63, 'subsample': 0.8, 'colsample_bytree': 0.8, 'reg_alpha': 0.0021835616268888213, 'reg_lambda': 1.8824654212789451}. Best is trial 5 with value: -1.6093128379803923.\n"
     ]
    },
    {
     "name": "stdout",
     "output_type": "stream",
     "text": [
      "1.7039141874569637\n"
     ]
    },
    {
     "name": "stderr",
     "output_type": "stream",
     "text": [
      "[I 2023-07-30 13:16:39,578] Trial 7 finished with value: -1.6281401386745884 and parameters: {'max_depth': 5, 'num_leaves': 63, 'subsample': 0.8, 'colsample_bytree': 0.8, 'reg_alpha': 0.0548790296928769, 'reg_lambda': 0.12005560610969016}. Best is trial 7 with value: -1.6281401386745884.\n"
     ]
    },
    {
     "name": "stdout",
     "output_type": "stream",
     "text": [
      "1.7383107636521036\n"
     ]
    },
    {
     "name": "stderr",
     "output_type": "stream",
     "text": [
      "[I 2023-07-30 13:16:40,288] Trial 3 finished with value: -1.6165865943115922 and parameters: {'max_depth': 5, 'num_leaves': 31, 'subsample': 0.8, 'colsample_bytree': 0.8, 'reg_alpha': 0.08167902993566893, 'reg_lambda': 8.339036396194185}. Best is trial 7 with value: -1.6281401386745884.\n"
     ]
    },
    {
     "name": "stdout",
     "output_type": "stream",
     "text": [
      "1.739409344696837\n"
     ]
    },
    {
     "name": "stderr",
     "output_type": "stream",
     "text": [
      "[I 2023-07-30 13:16:41,378] Trial 6 finished with value: -1.6166641998765805 and parameters: {'max_depth': 5, 'num_leaves': 31, 'subsample': 0.8, 'colsample_bytree': 0.8, 'reg_alpha': 0.0964336771962518, 'reg_lambda': 0.008854049611119859}. Best is trial 7 with value: -1.6281401386745884.\n"
     ]
    },
    {
     "name": "stdout",
     "output_type": "stream",
     "text": [
      "1.7350221985197543\n"
     ]
    },
    {
     "name": "stderr",
     "output_type": "stream",
     "text": [
      "[I 2023-07-30 13:16:42,972] Trial 8 finished with value: -1.5995582441195275 and parameters: {'max_depth': 7, 'num_leaves': 127, 'subsample': 0.8, 'colsample_bytree': 0.8, 'reg_alpha': 0.003012035089832601, 'reg_lambda': 0.4711437521190092}. Best is trial 7 with value: -1.6281401386745884.\n",
      "[I 2023-07-30 13:16:42,973] A new study created in memory with name: no-name-ecf5b849-ad54-41d9-bc2c-f8822dd6082a\n"
     ]
    },
    {
     "name": "stdout",
     "output_type": "stream",
     "text": [
      "1.7099304925481267\n",
      "1.0786126871269799\n",
      "1.0786126871269799\n",
      "1.5178294454548291.4000335880393258\n",
      "\n",
      "1.0786126871269799\n",
      "1.5192641696969953\n",
      "1.0494595233756785\n",
      "1.0494595233756785\n",
      "1.040199920722505\n",
      "1.040199920722505\n",
      "1.4788485600913421\n",
      "1.2483446327608225\n",
      "0.9346966023425783\n",
      "1.4334187033734558\n",
      "1.5163931637464105\n",
      "0.9346966023425783\n",
      "1.0494595233756785\n"
     ]
    },
    {
     "name": "stderr",
     "output_type": "stream",
     "text": [
      "[I 2023-07-30 13:17:05,698] Trial 1 finished with value: -1.010268884568081 and parameters: {'max_depth': 5, 'num_leaves': 31, 'subsample': 0.8, 'colsample_bytree': 0.8, 'reg_alpha': 9.651315572581451, 'reg_lambda': 3.099910552125354}. Best is trial 1 with value: -1.010268884568081.\n"
     ]
    },
    {
     "name": "stdout",
     "output_type": "stream",
     "text": [
      "0.9483756892726636\n",
      "1.4522523745447757\n"
     ]
    },
    {
     "name": "stderr",
     "output_type": "stream",
     "text": [
      "[I 2023-07-30 13:17:08,091] Trial 9 finished with value: -1.010268884568081 and parameters: {'max_depth': 5, 'num_leaves': 31, 'subsample': 0.8, 'colsample_bytree': 0.8, 'reg_alpha': 5.977442106289237, 'reg_lambda': 0.23627913273831086}. Best is trial 1 with value: -1.010268884568081.\n"
     ]
    },
    {
     "name": "stdout",
     "output_type": "stream",
     "text": [
      "0.9483756892726636\n",
      "1.6362287646955134\n",
      "1.2307021315821982\n",
      "1.6317961287951852\n",
      "1.6172143993153574\n",
      "1.613296876595193\n",
      "1.4061789645143106\n",
      "1.6067498662420827\n",
      "1.4403012295502875\n",
      "1.3104569996563216\n",
      "1.6347759953922743\n",
      "1.4480290844119899\n",
      "1.4233897422592925\n",
      "1.4452004385071375\n",
      "1.4632505351827367\n"
     ]
    },
    {
     "name": "stderr",
     "output_type": "stream",
     "text": [
      "[I 2023-07-30 13:17:31,204] Trial 0 finished with value: -1.200435923857724 and parameters: {'max_depth': 5, 'num_leaves': 7, 'subsample': 0.8, 'colsample_bytree': 0.8, 'reg_alpha': 1.9607989327051079, 'reg_lambda': 0.009137739554805771}. Best is trial 0 with value: -1.200435923857724.\n"
     ]
    },
    {
     "name": "stdout",
     "output_type": "stream",
     "text": [
      "1.3329482775474422\n",
      "1.4587921639040209\n",
      "1.4626543421007656\n",
      "1.474910271646873\n",
      "1.4399868203113613\n",
      "1.462396406455286\n",
      "1.531318534061152\n"
     ]
    },
    {
     "name": "stderr",
     "output_type": "stream",
     "text": [
      "[I 2023-07-30 13:17:44,802] Trial 6 finished with value: -1.5384497897053406 and parameters: {'max_depth': 3, 'num_leaves': 127, 'subsample': 0.8, 'colsample_bytree': 0.8, 'reg_alpha': 0.002073020612031998, 'reg_lambda': 0.0030095370104169243}. Best is trial 6 with value: -1.5384497897053406.\n"
     ]
    },
    {
     "name": "stdout",
     "output_type": "stream",
     "text": [
      "1.6332042494011696\n"
     ]
    },
    {
     "name": "stderr",
     "output_type": "stream",
     "text": [
      "[I 2023-07-30 13:17:47,043] Trial 5 finished with value: -1.4497491090343435 and parameters: {'max_depth': 7, 'num_leaves': 63, 'subsample': 0.8, 'colsample_bytree': 0.8, 'reg_alpha': 0.8758865230222078, 'reg_lambda': 0.0337998393736812}. Best is trial 6 with value: -1.5384497897053406.\n"
     ]
    },
    {
     "name": "stdout",
     "output_type": "stream",
     "text": [
      "1.683177409447788\n",
      "1.4569228950305628\n"
     ]
    },
    {
     "name": "stderr",
     "output_type": "stream",
     "text": [
      "[I 2023-07-30 13:17:52,528] Trial 8 finished with value: -1.5300730427645803 and parameters: {'max_depth': 5, 'num_leaves': 127, 'subsample': 0.8, 'colsample_bytree': 0.8, 'reg_alpha': 0.001746528245729345, 'reg_lambda': 0.04916677870932427}. Best is trial 6 with value: -1.5384497897053406.\n"
     ]
    },
    {
     "name": "stdout",
     "output_type": "stream",
     "text": [
      "1.6467054094537779\n",
      "1.496362302076225\n"
     ]
    },
    {
     "name": "stderr",
     "output_type": "stream",
     "text": [
      "[I 2023-07-30 13:17:54,303] Trial 4 finished with value: -1.549295313247368 and parameters: {'max_depth': 5, 'num_leaves': 63, 'subsample': 0.8, 'colsample_bytree': 0.8, 'reg_alpha': 0.012539206933457073, 'reg_lambda': 0.0024645695041411683}. Best is trial 4 with value: -1.549295313247368.\n"
     ]
    },
    {
     "name": "stdout",
     "output_type": "stream",
     "text": [
      "1.6739116359279624\n"
     ]
    },
    {
     "name": "stderr",
     "output_type": "stream",
     "text": [
      "[I 2023-07-30 13:17:56,498] Trial 2 finished with value: -1.5235037384687842 and parameters: {'max_depth': 3, 'num_leaves': 31, 'subsample': 0.8, 'colsample_bytree': 0.8, 'reg_alpha': 0.2294543594241699, 'reg_lambda': 0.0030882165453213176}. Best is trial 4 with value: -1.549295313247368.\n"
     ]
    },
    {
     "name": "stdout",
     "output_type": "stream",
     "text": [
      "1.6494799513889573\n"
     ]
    },
    {
     "name": "stderr",
     "output_type": "stream",
     "text": [
      "[I 2023-07-30 13:17:57,331] Trial 7 finished with value: -1.539723354828335 and parameters: {'max_depth': 7, 'num_leaves': 31, 'subsample': 0.8, 'colsample_bytree': 0.8, 'reg_alpha': 0.0023261359473494975, 'reg_lambda': 0.9334047850736034}. Best is trial 4 with value: -1.549295313247368.\n"
     ]
    },
    {
     "name": "stdout",
     "output_type": "stream",
     "text": [
      "1.655896507021853\n"
     ]
    },
    {
     "name": "stderr",
     "output_type": "stream",
     "text": [
      "[I 2023-07-30 13:18:00,163] Trial 3 finished with value: -1.5392338124502851 and parameters: {'max_depth': 5, 'num_leaves': 127, 'subsample': 0.8, 'colsample_bytree': 0.8, 'reg_alpha': 0.1993723842396024, 'reg_lambda': 4.690281996358859}. Best is trial 4 with value: -1.549295313247368.\n",
      "[I 2023-07-30 13:18:00,165] A new study created in memory with name: no-name-b16fe8d3-d667-4966-b259-8d370cf5545f\n"
     ]
    },
    {
     "name": "stdout",
     "output_type": "stream",
     "text": [
      "1.6916252410981096\n",
      "1.3170387694383592\n",
      "1.269141261430098\n",
      "1.0780863968415033\n",
      "1.4353606486172732\n",
      "1.0498034051474572\n",
      "1.4631717986396533\n",
      "1.425215509029213\n",
      "1.041670995462186\n",
      "1.427007352181518\n",
      "1.3609662630729364\n",
      "1.5623233906717533\n",
      "1.564011946197966\n",
      "0.9339059403916292\n",
      "1.4048086382739193\n",
      "1.5773766526598463\n",
      "1.402602607830483\n"
     ]
    },
    {
     "name": "stderr",
     "output_type": "stream",
     "text": [
      "[I 2023-07-30 13:18:22,696] Trial 6 finished with value: -1.010801262315262 and parameters: {'max_depth': 5, 'num_leaves': 31, 'subsample': 0.8, 'colsample_bytree': 0.8, 'reg_alpha': 8.46646999282633, 'reg_lambda': 0.6330097591333378}. Best is trial 6 with value: -1.010801262315262.\n"
     ]
    },
    {
     "name": "stdout",
     "output_type": "stream",
     "text": [
      "0.9505395737335345\n",
      "1.5706027035257226\n",
      "1.5860477575625573\n",
      "1.5959301233575132\n",
      "1.5957405832302425\n",
      "1.3764009928061944\n",
      "1.3642893441533532\n",
      "1.3833889105713713\n",
      "1.3890712183842724\n",
      "1.3927613351105474\n",
      "1.3492098518427955\n",
      "1.3859754946701268\n",
      "1.450444430370705\n",
      "1.4504823280730545\n",
      "1.5659896729214724\n",
      "1.5545796266677683\n",
      "1.4518431345200882\n",
      "1.4767581437395854\n",
      "1.4766692339609548\n",
      "1.4817097437090991\n"
     ]
    },
    {
     "name": "stderr",
     "output_type": "stream",
     "text": [
      "[I 2023-07-30 13:18:54,229] Trial 8 finished with value: -1.4764319830077652 and parameters: {'max_depth': 7, 'num_leaves': 7, 'subsample': 0.8, 'colsample_bytree': 0.8, 'reg_alpha': 0.010022684697308633, 'reg_lambda': 1.16950148215229}. Best is trial 8 with value: -1.4764319830077652.\n"
     ]
    },
    {
     "name": "stdout",
     "output_type": "stream",
     "text": [
      "1.5425771905848085\n"
     ]
    },
    {
     "name": "stderr",
     "output_type": "stream",
     "text": [
      "[I 2023-07-30 13:18:57,835] Trial 7 finished with value: -1.4799765895515677 and parameters: {'max_depth': 7, 'num_leaves': 7, 'subsample': 0.8, 'colsample_bytree': 0.8, 'reg_alpha': 0.012156826648628728, 'reg_lambda': 0.04486729167808028}. Best is trial 7 with value: -1.4799765895515677.\n"
     ]
    },
    {
     "name": "stdout",
     "output_type": "stream",
     "text": [
      "1.5322372069480354\n",
      "1.4580303311372784\n"
     ]
    },
    {
     "name": "stderr",
     "output_type": "stream",
     "text": [
      "[I 2023-07-30 13:19:02,022] Trial 2 finished with value: -1.482788778002051 and parameters: {'max_depth': 7, 'num_leaves': 7, 'subsample': 0.8, 'colsample_bytree': 0.8, 'reg_alpha': 0.001292461041635895, 'reg_lambda': 5.532806206807976}. Best is trial 2 with value: -1.482788778002051.\n"
     ]
    },
    {
     "name": "stdout",
     "output_type": "stream",
     "text": [
      "1.5617662705141244\n"
     ]
    },
    {
     "name": "stderr",
     "output_type": "stream",
     "text": [
      "[I 2023-07-30 13:19:05,055] Trial 5 finished with value: -1.4940012975876047 and parameters: {'max_depth': 3, 'num_leaves': 7, 'subsample': 0.8, 'colsample_bytree': 0.8, 'reg_alpha': 0.08191794256517947, 'reg_lambda': 0.5283693868541027}. Best is trial 5 with value: -1.4940012975876047.\n"
     ]
    },
    {
     "name": "stdout",
     "output_type": "stream",
     "text": [
      "1.388659325726716\n",
      "1.5776384433274897\n",
      "1.383859166011339\n"
     ]
    },
    {
     "name": "stderr",
     "output_type": "stream",
     "text": [
      "[I 2023-07-30 13:19:07,482] Trial 9 finished with value: -1.4833625126475858 and parameters: {'max_depth': 3, 'num_leaves': 63, 'subsample': 0.8, 'colsample_bytree': 0.8, 'reg_alpha': 0.15548840914386555, 'reg_lambda': 0.018471259247506415}. Best is trial 5 with value: -1.4940012975876047.\n"
     ]
    },
    {
     "name": "stdout",
     "output_type": "stream",
     "text": [
      "1.592420478555523\n"
     ]
    },
    {
     "name": "stderr",
     "output_type": "stream",
     "text": [
      "[I 2023-07-30 13:19:08,117] Trial 1 finished with value: -1.466129393191871 and parameters: {'max_depth': 5, 'num_leaves': 127, 'subsample': 0.8, 'colsample_bytree': 0.8, 'reg_alpha': 0.4687871705131223, 'reg_lambda': 0.019071614938377685}. Best is trial 5 with value: -1.4940012975876047.\n"
     ]
    },
    {
     "name": "stdout",
     "output_type": "stream",
     "text": [
      "1.6085487624300914\n"
     ]
    },
    {
     "name": "stderr",
     "output_type": "stream",
     "text": [
      "[I 2023-07-30 13:19:10,095] Trial 0 finished with value: -1.449905891543367 and parameters: {'max_depth': 7, 'num_leaves': 127, 'subsample': 0.8, 'colsample_bytree': 0.8, 'reg_alpha': 0.6157524928647189, 'reg_lambda': 0.5629287905332756}. Best is trial 5 with value: -1.4940012975876047.\n"
     ]
    },
    {
     "name": "stdout",
     "output_type": "stream",
     "text": [
      "1.6108246226349094\n",
      "1.4387625937373945\n",
      "1.424992856944363\n"
     ]
    },
    {
     "name": "stderr",
     "output_type": "stream",
     "text": [
      "[I 2023-07-30 13:19:19,880] Trial 3 finished with value: -1.472747550516311 and parameters: {'max_depth': 7, 'num_leaves': 63, 'subsample': 0.8, 'colsample_bytree': 0.8, 'reg_alpha': 0.004512771333952599, 'reg_lambda': 1.8885471482893628}. Best is trial 5 with value: -1.4940012975876047.\n"
     ]
    },
    {
     "name": "stdout",
     "output_type": "stream",
     "text": [
      "1.5655175219220543\n"
     ]
    },
    {
     "name": "stderr",
     "output_type": "stream",
     "text": [
      "[I 2023-07-30 13:19:20,597] Trial 4 finished with value: -1.468300225742507 and parameters: {'max_depth': 7, 'num_leaves': 63, 'subsample': 0.8, 'colsample_bytree': 0.8, 'reg_alpha': 0.012626640186738381, 'reg_lambda': 0.004860336085700373}. Best is trial 5 with value: -1.4940012975876047.\n",
      "[I 2023-07-30 13:19:20,599] A new study created in memory with name: no-name-56c591a5-8171-46b2-811e-f11ab78b158c\n"
     ]
    },
    {
     "name": "stdout",
     "output_type": "stream",
     "text": [
      "1.5754668712585813\n",
      "1.3170180538486882\n",
      "1.0785178452099196\n",
      "1.3625834265230201\n",
      "1.3097215262313717\n",
      "1.0785178452099196\n",
      "1.0785178452099196\n",
      "1.3494195276396266\n",
      "1.3565926826367223\n",
      "1.0505702498417786\n",
      "1.0785178452099196\n",
      "1.0505702498417786\n",
      "1.3506939884519522\n",
      "1.0424877252679543\n",
      "0.9328125669599752\n",
      "1.0505702498417786\n",
      "1.5411216884146097\n"
     ]
    },
    {
     "name": "stderr",
     "output_type": "stream",
     "text": [
      "[I 2023-07-30 13:19:48,172] Trial 9 finished with value: -1.0114839176023458 and parameters: {'max_depth': 7, 'num_leaves': 127, 'subsample': 0.8, 'colsample_bytree': 0.8, 'reg_alpha': 7.303638179622177, 'reg_lambda': 0.0038896939516853708}. Best is trial 9 with value: -1.0114839176023458.\n"
     ]
    },
    {
     "name": "stdout",
     "output_type": "stream",
     "text": [
      "0.9530312007321007\n",
      "1.5246927105707173\n",
      "1.0424877252679543\n",
      "1.4003166676239112\n",
      "1.2022052635832396\n",
      "1.5444628557146098\n",
      "1.5352229052249449\n",
      "1.5305731478487437\n",
      "1.3543459945993055\n",
      "1.5523609798890616\n",
      "1.2648895166596508\n",
      "1.2500135288747622\n",
      "1.3412936589056543\n",
      "1.2715737247873728\n",
      "1.4001515805574958\n",
      "1.3345001030830703\n"
     ]
    },
    {
     "name": "stderr",
     "output_type": "stream",
     "text": [
      "[I 2023-07-30 13:20:10,516] Trial 2 finished with value: -1.1726207021006494 and parameters: {'max_depth': 5, 'num_leaves': 7, 'subsample': 0.8, 'colsample_bytree': 0.8, 'reg_alpha': 2.0702409094934846, 'reg_lambda': 0.009489804976054542}. Best is trial 2 with value: -1.1726207021006494.\n"
     ]
    },
    {
     "name": "stdout",
     "output_type": "stream",
     "text": [
      "1.2669206352086575\n",
      "1.3555984812166837\n",
      "1.354826559297284\n"
     ]
    },
    {
     "name": "stderr",
     "output_type": "stream",
     "text": [
      "[I 2023-07-30 13:20:14,486] Trial 4 finished with value: -1.1345165058348639 and parameters: {'max_depth': 5, 'num_leaves': 31, 'subsample': 0.8, 'colsample_bytree': 0.8, 'reg_alpha': 4.636893294607147, 'reg_lambda': 0.0023475833593378528}. Best is trial 2 with value: -1.1726207021006494.\n"
     ]
    },
    {
     "name": "stdout",
     "output_type": "stream",
     "text": [
      "1.2294329840672928\n",
      "1.3843611687362007\n",
      "1.4152937531817191\n",
      "1.3865997344996697\n"
     ]
    },
    {
     "name": "stderr",
     "output_type": "stream",
     "text": [
      "[I 2023-07-30 13:20:22,850] Trial 5 finished with value: -1.4298288889818282 and parameters: {'max_depth': 5, 'num_leaves': 7, 'subsample': 0.8, 'colsample_bytree': 0.8, 'reg_alpha': 0.0023686975195481427, 'reg_lambda': 0.0019132387940940369}. Best is trial 5 with value: -1.4298288889818282.\n"
     ]
    },
    {
     "name": "stdout",
     "output_type": "stream",
     "text": [
      "1.5041056536981035\n",
      "1.446524769943653\n",
      "1.4212270419128827\n",
      "1.4262620635004757\n",
      "1.4204979825710826\n"
     ]
    },
    {
     "name": "stderr",
     "output_type": "stream",
     "text": [
      "[I 2023-07-30 13:20:29,556] Trial 8 finished with value: -1.4357881130405659 and parameters: {'max_depth': 5, 'num_leaves': 7, 'subsample': 0.8, 'colsample_bytree': 0.8, 'reg_alpha': 0.029927254867020824, 'reg_lambda': 0.003398948264270477}. Best is trial 8 with value: -1.4357881130405659.\n",
      "[I 2023-07-30 13:20:29,570] Trial 7 pruned. Trial was pruned at iteration 202.\n"
     ]
    },
    {
     "name": "stdout",
     "output_type": "stream",
     "text": [
      "1.5410677599080165\n"
     ]
    },
    {
     "name": "stderr",
     "output_type": "stream",
     "text": [
      "[I 2023-07-30 13:20:38,666] Trial 0 finished with value: -1.4426516002193046 and parameters: {'max_depth': 5, 'num_leaves': 7, 'subsample': 0.8, 'colsample_bytree': 0.8, 'reg_alpha': 0.26317118465106953, 'reg_lambda': 0.00284163282317884}. Best is trial 0 with value: -1.4426516002193046.\n"
     ]
    },
    {
     "name": "stdout",
     "output_type": "stream",
     "text": [
      "1.579992168996167\n"
     ]
    },
    {
     "name": "stderr",
     "output_type": "stream",
     "text": [
      "[I 2023-07-30 13:20:39,965] Trial 6 finished with value: -1.4526687699001646 and parameters: {'max_depth': 5, 'num_leaves': 31, 'subsample': 0.8, 'colsample_bytree': 0.8, 'reg_alpha': 0.013765291258864863, 'reg_lambda': 0.08560687057667528}. Best is trial 6 with value: -1.4526687699001646.\n"
     ]
    },
    {
     "name": "stdout",
     "output_type": "stream",
     "text": [
      "1.5496656489231342\n"
     ]
    },
    {
     "name": "stderr",
     "output_type": "stream",
     "text": [
      "[I 2023-07-30 13:20:41,705] Trial 1 finished with value: -1.4448455365581516 and parameters: {'max_depth': 7, 'num_leaves': 31, 'subsample': 0.8, 'colsample_bytree': 0.8, 'reg_alpha': 0.06854216845697872, 'reg_lambda': 0.2205146046834883}. Best is trial 6 with value: -1.4526687699001646.\n"
     ]
    },
    {
     "name": "stdout",
     "output_type": "stream",
     "text": [
      "1.5410849367653616\n"
     ]
    },
    {
     "name": "stderr",
     "output_type": "stream",
     "text": [
      "[I 2023-07-30 13:20:42,611] Trial 3 finished with value: -1.4370224194981571 and parameters: {'max_depth': 5, 'num_leaves': 127, 'subsample': 0.8, 'colsample_bytree': 0.8, 'reg_alpha': 0.22954579345369513, 'reg_lambda': 0.006622568049299431}. Best is trial 6 with value: -1.4526687699001646.\n",
      "[I 2023-07-30 13:20:42,613] A new study created in memory with name: no-name-933dd863-d3b3-4d28-9d21-899dfe8f8e42\n"
     ]
    },
    {
     "name": "stdout",
     "output_type": "stream",
     "text": [
      "1.5687638222005027\n",
      "1.23315937715682\n",
      "1.0783990904690384\n",
      "1.0783990904690384\n",
      "1.323748936189783\n",
      "1.2222090866823052\n",
      "1.0783990904690384\n",
      "1.2415275901101703\n",
      "1.0508854321070948\n",
      "1.0508854321070948\n",
      "1.2683289756045952\n",
      "1.2612913057592674\n",
      "1.0783990904690384\n",
      "1.3699666603008387\n",
      "1.043141183499728\n",
      "1.043141183499728\n",
      "1.4201266293398003\n",
      "0.9316473319533215\n",
      "1.5056256323423192\n",
      "1.5257808221759457\n",
      "1.362839599504643\n",
      "0.9316473319533215\n",
      "1.2120109801637002\n",
      "1.506402775240593\n",
      "1.4962945687785354\n"
     ]
    },
    {
     "name": "stderr",
     "output_type": "stream",
     "text": [
      "[I 2023-07-30 13:21:09,190] Trial 9 finished with value: -1.0118443991766717 and parameters: {'max_depth': 3, 'num_leaves': 31, 'subsample': 0.8, 'colsample_bytree': 0.8, 'reg_alpha': 6.633067785809112, 'reg_lambda': 2.8570372400594124}. Best is trial 9 with value: -1.0118443991766717.\n"
     ]
    },
    {
     "name": "stdout",
     "output_type": "stream",
     "text": [
      "0.9551489578541746\n",
      "1.275863446381827\n",
      "1.501511458153969\n",
      "1.3088703082728048\n"
     ]
    },
    {
     "name": "stderr",
     "output_type": "stream",
     "text": [
      "[I 2023-07-30 13:21:14,706] Trial 5 finished with value: -1.0118443991766717 and parameters: {'max_depth': 7, 'num_leaves': 7, 'subsample': 0.8, 'colsample_bytree': 0.8, 'reg_alpha': 6.863162580259712, 'reg_lambda': 9.160257281219529}. Best is trial 9 with value: -1.0118443991766717.\n"
     ]
    },
    {
     "name": "stdout",
     "output_type": "stream",
     "text": [
      "0.9551489578541746\n",
      "1.2889897336423966\n",
      "1.3367741522232413\n",
      "1.3234590293055595\n",
      "1.3133863737598253\n",
      "1.2598840292460194\n",
      "1.3803036013237744\n"
     ]
    },
    {
     "name": "stderr",
     "output_type": "stream",
     "text": [
      "[I 2023-07-30 13:21:27,295] Trial 2 finished with value: -1.293275360992413 and parameters: {'max_depth': 3, 'num_leaves': 127, 'subsample': 0.8, 'colsample_bytree': 0.8, 'reg_alpha': 1.226111191882112, 'reg_lambda': 2.318357908779625}. Best is trial 2 with value: -1.293275360992413.\n"
     ]
    },
    {
     "name": "stdout",
     "output_type": "stream",
     "text": [
      "1.4692259218052466\n",
      "1.3048769424615325\n",
      "1.3813427782394418\n",
      "1.4109501782888036\n",
      "1.3189352207786134\n",
      "1.4023833204722995\n"
     ]
    },
    {
     "name": "stderr",
     "output_type": "stream",
     "text": [
      "[I 2023-07-30 13:21:34,541] Trial 0 finished with value: -1.4036666619088343 and parameters: {'max_depth': 7, 'num_leaves': 7, 'subsample': 0.8, 'colsample_bytree': 0.8, 'reg_alpha': 0.004043017836809091, 'reg_lambda': 0.004240364554538193}. Best is trial 0 with value: -1.4036666619088343.\n"
     ]
    },
    {
     "name": "stdout",
     "output_type": "stream",
     "text": [
      "1.4796296415818644\n",
      "1.4058304465551565\n",
      "1.4050275197291882\n"
     ]
    },
    {
     "name": "stderr",
     "output_type": "stream",
     "text": [
      "[I 2023-07-30 13:21:44,246] Trial 6 finished with value: -1.3662475807941745 and parameters: {'max_depth': 7, 'num_leaves': 127, 'subsample': 0.8, 'colsample_bytree': 0.8, 'reg_alpha': 0.769967575110535, 'reg_lambda': 0.0012708387671345233}. Best is trial 0 with value: -1.4036666619088343.\n"
     ]
    },
    {
     "name": "stdout",
     "output_type": "stream",
     "text": [
      "1.5316959633274978\n"
     ]
    },
    {
     "name": "stderr",
     "output_type": "stream",
     "text": [
      "[I 2023-07-30 13:21:44,890] Trial 4 finished with value: -1.404340256055171 and parameters: {'max_depth': 3, 'num_leaves': 127, 'subsample': 0.8, 'colsample_bytree': 0.8, 'reg_alpha': 0.09425242358840781, 'reg_lambda': 0.21619831185932503}. Best is trial 4 with value: -1.404340256055171.\n"
     ]
    },
    {
     "name": "stdout",
     "output_type": "stream",
     "text": [
      "1.512560321836303\n"
     ]
    },
    {
     "name": "stderr",
     "output_type": "stream",
     "text": [
      "[I 2023-07-30 13:21:49,501] Trial 8 finished with value: -1.4041408337976944 and parameters: {'max_depth': 3, 'num_leaves': 7, 'subsample': 0.8, 'colsample_bytree': 0.8, 'reg_alpha': 0.1726547298565036, 'reg_lambda': 0.07102230225733214}. Best is trial 4 with value: -1.404340256055171.\n"
     ]
    },
    {
     "name": "stdout",
     "output_type": "stream",
     "text": [
      "1.5671123158676408\n"
     ]
    },
    {
     "name": "stderr",
     "output_type": "stream",
     "text": [
      "[I 2023-07-30 13:21:49,968] Trial 3 finished with value: -1.3043887072069944 and parameters: {'max_depth': 7, 'num_leaves': 31, 'subsample': 0.8, 'colsample_bytree': 0.8, 'reg_alpha': 1.1919320725900828, 'reg_lambda': 0.00909600548751942}. Best is trial 4 with value: -1.404340256055171.\n"
     ]
    },
    {
     "name": "stdout",
     "output_type": "stream",
     "text": [
      "1.5018855960366588\n"
     ]
    },
    {
     "name": "stderr",
     "output_type": "stream",
     "text": [
      "[I 2023-07-30 13:21:50,802] Trial 1 finished with value: -1.395423926227983 and parameters: {'max_depth': 7, 'num_leaves': 63, 'subsample': 0.8, 'colsample_bytree': 0.8, 'reg_alpha': 0.5192231772851268, 'reg_lambda': 0.009132480295607114}. Best is trial 4 with value: -1.404340256055171.\n"
     ]
    },
    {
     "name": "stdout",
     "output_type": "stream",
     "text": [
      "1.5435144414432238\n"
     ]
    },
    {
     "name": "stderr",
     "output_type": "stream",
     "text": [
      "[I 2023-07-30 13:21:52,553] Trial 7 finished with value: -1.4042796955556844 and parameters: {'max_depth': 5, 'num_leaves': 31, 'subsample': 0.8, 'colsample_bytree': 0.8, 'reg_alpha': 0.3088375448253957, 'reg_lambda': 0.1205664583326113}. Best is trial 4 with value: -1.404340256055171.\n"
     ]
    },
    {
     "name": "stdout",
     "output_type": "stream",
     "text": [
      "1.5486912516744664\n",
      ">>>Done with 8 processes, and time taken is 817.9961624145508\n",
      "Time taken:  821.2108387947083 seconds\n"
     ]
    },
    {
     "name": "stderr",
     "output_type": "stream",
     "text": [
      "[I 2023-07-30 13:21:58,480] A new study created in memory with name: no-name-37508af1-4806-4ceb-8f14-5c3e52b582a3\n"
     ]
    },
    {
     "name": "stdout",
     "output_type": "stream",
     "text": [
      "2.171976405676718\n",
      "2.1524494662865177\n",
      "1.9820191163601866\n",
      "0.8169739408036509\n",
      "0.8169739408036509\n",
      "0.8169739408036509\n",
      "2.140068057098139\n",
      "2.142660587880533\n",
      "1.0097332561428125\n",
      "2.1126807728390187\n",
      "1.0097332561428125\n",
      "1.0112225330074853\n",
      "1.9403859114695123\n",
      "2.1500542122605086\n",
      "2.1674468154434905\n",
      "1.0191988502183857\n",
      "2.179154135451139\n",
      "1.5471491334320966\n"
     ]
    },
    {
     "name": "stderr",
     "output_type": "stream",
     "text": [
      "[I 2023-07-30 13:22:22,589] Trial 5 finished with value: -0.9919018464864436 and parameters: {'max_depth': 3, 'num_leaves': 7, 'subsample': 0.8, 'colsample_bytree': 0.8, 'reg_alpha': 4.350299796630069, 'reg_lambda': 0.38200162128506715}. Best is trial 5 with value: -0.9919018464864436.\n"
     ]
    },
    {
     "name": "stdout",
     "output_type": "stream",
     "text": [
      "1.1023806522598836\n",
      "1.4958941538545698\n",
      "1.7584261838296715\n",
      "2.1718729435052957\n",
      "2.1819442299967875\n",
      "2.1873109313817203\n",
      "2.252172525295192\n",
      "2.2493511587242967\n",
      "1.7598096052009833\n",
      "2.2340968724243684\n",
      "1.4300239012726355\n",
      "2.2279833204124433\n"
     ]
    },
    {
     "name": "stderr",
     "output_type": "stream",
     "text": [
      "[I 2023-07-30 13:22:46,423] Trial 7 finished with value: -1.5350641140950358 and parameters: {'max_depth': 3, 'num_leaves': 63, 'subsample': 0.8, 'colsample_bytree': 0.8, 'reg_alpha': 0.37290676057297145, 'reg_lambda': 0.00594700341146821}. Best is trial 7 with value: -1.5350641140950358.\n"
     ]
    },
    {
     "name": "stdout",
     "output_type": "stream",
     "text": [
      "1.792961707208777\n"
     ]
    },
    {
     "name": "stderr",
     "output_type": "stream",
     "text": [
      "[I 2023-07-30 13:22:47,716] Trial 9 finished with value: -1.2235889725305775 and parameters: {'max_depth': 3, 'num_leaves': 127, 'subsample': 0.8, 'colsample_bytree': 0.8, 'reg_alpha': 0.8388458147143988, 'reg_lambda': 1.9741408179435762}. Best is trial 7 with value: -1.5350641140950358.\n"
     ]
    },
    {
     "name": "stdout",
     "output_type": "stream",
     "text": [
      "1.3653196105792187\n",
      "1.992732317899419\n",
      "2.2763915141528326\n",
      "2.128021340868095\n",
      "2.3010792214942075\n",
      "2.0319841984842757\n",
      "2.027399227424164\n",
      "1.9746256584045074\n",
      "2.010158645017258\n"
     ]
    },
    {
     "name": "stderr",
     "output_type": "stream",
     "text": [
      "[I 2023-07-30 13:23:06,529] Trial 1 finished with value: -2.103510332392542 and parameters: {'max_depth': 3, 'num_leaves': 7, 'subsample': 0.8, 'colsample_bytree': 0.8, 'reg_alpha': 0.013927023586073254, 'reg_lambda': 0.007916585818726835}. Best is trial 1 with value: -2.103510332392542.\n"
     ]
    },
    {
     "name": "stdout",
     "output_type": "stream",
     "text": [
      "1.9360449642187856\n"
     ]
    },
    {
     "name": "stderr",
     "output_type": "stream",
     "text": [
      "[I 2023-07-30 13:23:08,538] Trial 8 finished with value: -2.1055858201792312 and parameters: {'max_depth': 3, 'num_leaves': 7, 'subsample': 0.8, 'colsample_bytree': 0.8, 'reg_alpha': 0.012793274139950852, 'reg_lambda': 0.04340118679484418}. Best is trial 8 with value: -2.1055858201792312.\n"
     ]
    },
    {
     "name": "stdout",
     "output_type": "stream",
     "text": [
      "1.934829399309967\n",
      "1.9834786246196234\n"
     ]
    },
    {
     "name": "stderr",
     "output_type": "stream",
     "text": [
      "[I 2023-07-30 13:23:12,160] Trial 4 finished with value: -2.0776330857433356 and parameters: {'max_depth': 7, 'num_leaves': 7, 'subsample': 0.8, 'colsample_bytree': 0.8, 'reg_alpha': 0.0010185919629168132, 'reg_lambda': 1.5921855802800646}. Best is trial 8 with value: -2.1055858201792312.\n"
     ]
    },
    {
     "name": "stdout",
     "output_type": "stream",
     "text": [
      "1.9010027335554138\n"
     ]
    },
    {
     "name": "stderr",
     "output_type": "stream",
     "text": [
      "[I 2023-07-30 13:23:12,973] Trial 0 finished with value: -2.016313874559154 and parameters: {'max_depth': 5, 'num_leaves': 63, 'subsample': 0.8, 'colsample_bytree': 0.8, 'reg_alpha': 0.1395447453606358, 'reg_lambda': 0.008938474502688653}. Best is trial 8 with value: -2.1055858201792312.\n"
     ]
    },
    {
     "name": "stdout",
     "output_type": "stream",
     "text": [
      "1.8750076211866027\n",
      "2.259749376176954\n"
     ]
    },
    {
     "name": "stderr",
     "output_type": "stream",
     "text": [
      "[I 2023-07-30 13:23:18,061] Trial 2 finished with value: -2.1084594356054147 and parameters: {'max_depth': 5, 'num_leaves': 31, 'subsample': 0.8, 'colsample_bytree': 0.8, 'reg_alpha': 0.0033429780290002375, 'reg_lambda': 1.4547724447751793}. Best is trial 2 with value: -2.1084594356054147.\n"
     ]
    },
    {
     "name": "stdout",
     "output_type": "stream",
     "text": [
      "1.9303603434333834\n"
     ]
    },
    {
     "name": "stderr",
     "output_type": "stream",
     "text": [
      "[I 2023-07-30 13:23:18,542] Trial 3 finished with value: -2.1127729277631957 and parameters: {'max_depth': 3, 'num_leaves': 63, 'subsample': 0.8, 'colsample_bytree': 0.8, 'reg_alpha': 0.027830043288831912, 'reg_lambda': 1.5587017005005002}. Best is trial 3 with value: -2.1127729277631957.\n"
     ]
    },
    {
     "name": "stdout",
     "output_type": "stream",
     "text": [
      "1.9527096617685675\n",
      "1.9734430793223314\n"
     ]
    },
    {
     "name": "stderr",
     "output_type": "stream",
     "text": [
      "[I 2023-07-30 13:23:26,852] Trial 6 finished with value: -2.0773662663556003 and parameters: {'max_depth': 7, 'num_leaves': 127, 'subsample': 0.8, 'colsample_bytree': 0.8, 'reg_alpha': 0.0027086104651601953, 'reg_lambda': 7.446638687502936}. Best is trial 3 with value: -2.1127729277631957.\n",
      "[I 2023-07-30 13:23:26,854] A new study created in memory with name: no-name-21f0ebb4-44fe-4d53-91c0-0dda16e56f35\n"
     ]
    },
    {
     "name": "stdout",
     "output_type": "stream",
     "text": [
      "1.8755633231501125\n",
      "1.1875309972464265\n",
      "1.1875309972464265\n",
      "1.1875309972464265\n",
      "1.1875309972464265\n",
      "1.1875309972464265\n",
      "1.1875309972464265\n",
      "1.0129005876074642\n",
      "1.0129005876074642\n",
      "1.0129005876074642\n",
      "1.0129005876074642\n",
      "1.0129005876074642\n",
      "1.4730552475554157\n",
      "1.8929482248040337\n",
      "1.013446394675766\n",
      "1.013446394675766\n",
      "1.878618972735401\n",
      "1.8807639549483213\n",
      "1.0208629659747226\n",
      "1.0208629659747226\n",
      "1.6329250166047142\n",
      "1.013446394675766\n"
     ]
    },
    {
     "name": "stderr",
     "output_type": "stream",
     "text": [
      "[I 2023-07-30 13:23:53,859] Trial 8 finished with value: -1.0679850390815062 and parameters: {'max_depth': 7, 'num_leaves': 127, 'subsample': 0.8, 'colsample_bytree': 0.8, 'reg_alpha': 3.8185274094129813, 'reg_lambda': 0.019899047819676205}. Best is trial 8 with value: -1.0679850390815062.\n"
     ]
    },
    {
     "name": "stdout",
     "output_type": "stream",
     "text": [
      "1.8510294665359481\n",
      "1.105184249903152\n",
      "1.4203252390828869\n",
      "1.8415853911987723\n",
      "1.105184249903152\n"
     ]
    },
    {
     "name": "stderr",
     "output_type": "stream",
     "text": [
      "[I 2023-07-30 13:23:55,260] Trial 9 finished with value: -1.0679850390815062 and parameters: {'max_depth': 7, 'num_leaves': 31, 'subsample': 0.8, 'colsample_bytree': 0.8, 'reg_alpha': 4.391643233354923, 'reg_lambda': 6.250488053140611}. Best is trial 8 with value: -1.0679850390815062.\n"
     ]
    },
    {
     "name": "stdout",
     "output_type": "stream",
     "text": [
      "1.013446394675766\n",
      "1.889413363170111\n",
      "1.8706914605223242\n",
      "1.3439031416725902\n",
      "1.5481566525085428\n",
      "1.3320324753477726\n",
      "1.3440553330847207\n",
      "1.920897612120795\n"
     ]
    },
    {
     "name": "stderr",
     "output_type": "stream",
     "text": [
      "[I 2023-07-30 13:24:14,840] Trial 3 finished with value: -1.1753623441414878 and parameters: {'max_depth': 5, 'num_leaves': 63, 'subsample': 0.8, 'colsample_bytree': 0.8, 'reg_alpha': 1.803385710165747, 'reg_lambda': 0.1206751418164429}. Best is trial 3 with value: -1.1753623441414878.\n"
     ]
    },
    {
     "name": "stdout",
     "output_type": "stream",
     "text": [
      "1.3309012658300095\n",
      "1.8473866147534919\n",
      "1.9325093097158135\n",
      "1.9452700147694664\n"
     ]
    },
    {
     "name": "stderr",
     "output_type": "stream",
     "text": [
      "[I 2023-07-30 13:24:19,776] Trial 2 finished with value: -1.2589963709429726 and parameters: {'max_depth': 7, 'num_leaves': 127, 'subsample': 0.8, 'colsample_bytree': 0.8, 'reg_alpha': 1.5615167617581547, 'reg_lambda': 0.515314086460336}. Best is trial 2 with value: -1.2589963709429726.\n",
      "[I 2023-07-30 13:24:19,881] Trial 0 finished with value: -1.484668657722903 and parameters: {'max_depth': 7, 'num_leaves': 127, 'subsample': 0.8, 'colsample_bytree': 0.8, 'reg_alpha': 0.6213698707658193, 'reg_lambda': 0.009215219781791198}. Best is trial 0 with value: -1.484668657722903.\n",
      "[I 2023-07-30 13:24:19,890] Trial 5 pruned. Trial was pruned at iteration 85.\n"
     ]
    },
    {
     "name": "stdout",
     "output_type": "stream",
     "text": [
      "1.3303218891054946\n",
      "1.5816753746994152\n",
      "1.766358221539181\n",
      "1.7914544640359464\n",
      "1.8308159801573742\n",
      "1.9464679601966477\n"
     ]
    },
    {
     "name": "stderr",
     "output_type": "stream",
     "text": [
      "[I 2023-07-30 13:24:32,569] Trial 6 finished with value: -1.8262649611772122 and parameters: {'max_depth': 3, 'num_leaves': 7, 'subsample': 0.8, 'colsample_bytree': 0.8, 'reg_alpha': 0.004244481529418951, 'reg_lambda': 2.001848442726149}. Best is trial 6 with value: -1.8262649611772122.\n"
     ]
    },
    {
     "name": "stdout",
     "output_type": "stream",
     "text": [
      "1.7095353562232791\n"
     ]
    },
    {
     "name": "stderr",
     "output_type": "stream",
     "text": [
      "[I 2023-07-30 13:24:33,847] Trial 4 finished with value: -1.839858794954809 and parameters: {'max_depth': 3, 'num_leaves': 63, 'subsample': 0.8, 'colsample_bytree': 0.8, 'reg_alpha': 0.012755125424680724, 'reg_lambda': 0.8746068096546912}. Best is trial 4 with value: -1.839858794954809.\n"
     ]
    },
    {
     "name": "stdout",
     "output_type": "stream",
     "text": [
      "1.7051528829038531\n"
     ]
    },
    {
     "name": "stderr",
     "output_type": "stream",
     "text": [
      "[I 2023-07-30 13:24:37,329] Trial 1 finished with value: -1.8459364517880714 and parameters: {'max_depth': 3, 'num_leaves': 31, 'subsample': 0.8, 'colsample_bytree': 0.8, 'reg_alpha': 0.03537824295398844, 'reg_lambda': 1.7071876995242758}. Best is trial 1 with value: -1.8459364517880714.\n"
     ]
    },
    {
     "name": "stdout",
     "output_type": "stream",
     "text": [
      "1.7042858307557918\n",
      "1.8317805771278435\n"
     ]
    },
    {
     "name": "stderr",
     "output_type": "stream",
     "text": [
      "[I 2023-07-30 13:24:42,246] Trial 7 finished with value: -1.8310810409725362 and parameters: {'max_depth': 5, 'num_leaves': 63, 'subsample': 0.8, 'colsample_bytree': 0.8, 'reg_alpha': 0.0473267514479047, 'reg_lambda': 0.28253188171916216}. Best is trial 1 with value: -1.8459364517880714.\n",
      "[I 2023-07-30 13:24:42,248] A new study created in memory with name: no-name-ca852e48-d9fb-4ac5-ae7b-b59b1f572059\n"
     ]
    },
    {
     "name": "stdout",
     "output_type": "stream",
     "text": [
      "1.6787405862487503\n",
      "1.186786787371699\n",
      "1.7475883221980846\n",
      "1.7506862929098723\n",
      "1.186786787371699\n",
      "1.619635518361302\n",
      "1.7557398994838058\n",
      "1.3285389283115623\n",
      "1.7175418966878646\n",
      "1.4651737773288613\n",
      "1.7663416499916003\n",
      "1.3300540297307548\n",
      "1.4963384421573545\n",
      "1.7157514382317256\n",
      "1.7155303661262176\n",
      "1.7348070244414853\n",
      "1.7187591056353018\n",
      "1.562107205809293\n",
      "1.444647397652846\n",
      "1.7196400013803461\n",
      "1.3515346029295743\n",
      "1.6805091719622174\n",
      "1.3023091730317344\n",
      "1.7654574377655128\n",
      "1.7155031641093417\n",
      "1.7734239994702894\n",
      "1.7579525464025856\n"
     ]
    },
    {
     "name": "stderr",
     "output_type": "stream",
     "text": [
      "[I 2023-07-30 13:25:18,176] Trial 2 finished with value: -1.3191126120574608 and parameters: {'max_depth': 3, 'num_leaves': 127, 'subsample': 0.8, 'colsample_bytree': 0.8, 'reg_alpha': 1.5766818257335897, 'reg_lambda': 0.21109898958747686}. Best is trial 2 with value: -1.3191126120574608.\n"
     ]
    },
    {
     "name": "stdout",
     "output_type": "stream",
     "text": [
      "1.3317656725002684\n",
      "1.5564787018704473\n"
     ]
    },
    {
     "name": "stderr",
     "output_type": "stream",
     "text": [
      "[I 2023-07-30 13:25:23,094] Trial 9 finished with value: -1.3483238095637 and parameters: {'max_depth': 5, 'num_leaves': 7, 'subsample': 0.8, 'colsample_bytree': 0.8, 'reg_alpha': 1.1916319143754404, 'reg_lambda': 0.006850254017909113}. Best is trial 9 with value: -1.3483238095637.\n"
     ]
    },
    {
     "name": "stdout",
     "output_type": "stream",
     "text": [
      "1.37842028704831\n",
      "1.7604452153136818\n",
      "1.7388450138786213\n",
      "1.6270686413027473\n",
      "1.7346636432287244\n",
      "1.6190180491007924\n",
      "1.7370716407600655\n",
      "1.6123371676420797\n"
     ]
    },
    {
     "name": "stderr",
     "output_type": "stream",
     "text": [
      "[I 2023-07-30 13:25:32,849] Trial 7 finished with value: -1.5471575801834931 and parameters: {'max_depth': 5, 'num_leaves': 7, 'subsample': 0.8, 'colsample_bytree': 0.8, 'reg_alpha': 0.577303881347643, 'reg_lambda': 2.434082349715819}. Best is trial 7 with value: -1.5471575801834931.\n"
     ]
    },
    {
     "name": "stdout",
     "output_type": "stream",
     "text": [
      "1.5323926975475626\n"
     ]
    },
    {
     "name": "stderr",
     "output_type": "stream",
     "text": [
      "[I 2023-07-30 13:25:38,925] Trial 3 finished with value: -1.6959517837145346 and parameters: {'max_depth': 3, 'num_leaves': 63, 'subsample': 0.8, 'colsample_bytree': 0.8, 'reg_alpha': 0.0075031202894499365, 'reg_lambda': 0.0020127350869121705}. Best is trial 3 with value: -1.6959517837145346.\n"
     ]
    },
    {
     "name": "stdout",
     "output_type": "stream",
     "text": [
      "1.6017395221530553\n",
      "1.7671023592204032\n",
      "1.6178626256885407\n"
     ]
    },
    {
     "name": "stderr",
     "output_type": "stream",
     "text": [
      "[I 2023-07-30 13:25:43,987] Trial 4 finished with value: -1.6847999503465254 and parameters: {'max_depth': 3, 'num_leaves': 63, 'subsample': 0.8, 'colsample_bytree': 0.8, 'reg_alpha': 0.004195379479685332, 'reg_lambda': 0.16400649511518708}. Best is trial 3 with value: -1.6959517837145346.\n"
     ]
    },
    {
     "name": "stdout",
     "output_type": "stream",
     "text": [
      "1.7349392393411005\n",
      "1.5716492553650971\n"
     ]
    },
    {
     "name": "stderr",
     "output_type": "stream",
     "text": [
      "[I 2023-07-30 13:25:43,998] Trial 0 pruned. Trial was pruned at iteration 241.\n",
      "[I 2023-07-30 13:25:43,999] Trial 6 pruned. Trial was pruned at iteration 136.\n",
      "[I 2023-07-30 13:25:45,508] Trial 8 pruned. Trial was pruned at iteration 0.\n"
     ]
    },
    {
     "name": "stdout",
     "output_type": "stream",
     "text": [
      "1.6285613672124395\n",
      "1.6264804763861986\n"
     ]
    },
    {
     "name": "stderr",
     "output_type": "stream",
     "text": [
      "[I 2023-07-30 13:25:53,389] Trial 1 finished with value: -1.6907454403484365 and parameters: {'max_depth': 5, 'num_leaves': 127, 'subsample': 0.8, 'colsample_bytree': 0.8, 'reg_alpha': 0.030898238707668984, 'reg_lambda': 7.875874125407471}. Best is trial 3 with value: -1.6959517837145346.\n"
     ]
    },
    {
     "name": "stdout",
     "output_type": "stream",
     "text": [
      "1.5820878938694403\n"
     ]
    },
    {
     "name": "stderr",
     "output_type": "stream",
     "text": [
      "[I 2023-07-30 13:25:54,959] Trial 5 finished with value: -1.6747599687127384 and parameters: {'max_depth': 7, 'num_leaves': 31, 'subsample': 0.8, 'colsample_bytree': 0.8, 'reg_alpha': 0.01210193888454771, 'reg_lambda': 0.02486481328454226}. Best is trial 3 with value: -1.6959517837145346.\n",
      "[I 2023-07-30 13:25:54,961] A new study created in memory with name: no-name-2ca529f1-5d26-4cae-a8c3-c18c1de8296b\n"
     ]
    },
    {
     "name": "stdout",
     "output_type": "stream",
     "text": [
      "1.5577836757260448\n",
      "1.1836626829396035\n",
      "1.1836626829396035\n",
      "1.622016432758186\n",
      "1.6479079087037158\n",
      "1.0176822373426755\n",
      "1.6079527140316614\n",
      "1.6515898062364602\n",
      "1.24465585796271\n",
      "1.6259351366441557\n",
      "1.0161460958212079\n",
      "1.6494269889538549\n",
      "1.6271894994238556\n",
      "1.0259716506404026\n"
     ]
    },
    {
     "name": "stderr",
     "output_type": "stream",
     "text": [
      "[I 2023-07-30 13:26:14,341] Trial 0 finished with value: -1.0711012620516223 and parameters: {'max_depth': 3, 'num_leaves': 127, 'subsample': 0.8, 'colsample_bytree': 0.8, 'reg_alpha': 7.382372702214023, 'reg_lambda': 5.283508600185012}. Best is trial 0 with value: -1.0711012620516223.\n"
     ]
    },
    {
     "name": "stdout",
     "output_type": "stream",
     "text": [
      "1.1120436435142222\n",
      "1.5536604136092138\n",
      "1.6010072828217319\n",
      "1.6135894464970897\n",
      "1.6598435987660052\n",
      "1.6033649887898664\n",
      "1.3659974288627126\n",
      "1.5303162133267407\n",
      "1.5358140274266163\n",
      "1.6011844740781527\n",
      "1.6044461670270302\n",
      "1.5756457396283405\n",
      "1.2405861116098822\n",
      "1.5912051840801693\n",
      "1.6036867948615727\n",
      "1.5820311271869016\n"
     ]
    },
    {
     "name": "stderr",
     "output_type": "stream",
     "text": [
      "[I 2023-07-30 13:26:37,731] Trial 1 finished with value: -1.2739147735681944 and parameters: {'max_depth': 5, 'num_leaves': 31, 'subsample': 0.8, 'colsample_bytree': 0.8, 'reg_alpha': 1.843294852639721, 'reg_lambda': 9.947795763516439}. Best is trial 1 with value: -1.2739147735681944.\n"
     ]
    },
    {
     "name": "stdout",
     "output_type": "stream",
     "text": [
      "1.334671786466063\n",
      "1.568480945902036\n",
      "1.504526813975183\n",
      "1.5724989342851998\n",
      "1.5276847360617434\n",
      "1.50419289856818\n",
      "1.5194752813156795\n",
      "1.615991401080176\n"
     ]
    },
    {
     "name": "stderr",
     "output_type": "stream",
     "text": [
      "[I 2023-07-30 13:26:56,240] Trial 9 finished with value: -1.5588472223319776 and parameters: {'max_depth': 3, 'num_leaves': 127, 'subsample': 0.8, 'colsample_bytree': 0.8, 'reg_alpha': 0.013705382910676373, 'reg_lambda': 0.0011500334777597918}. Best is trial 9 with value: -1.5588472223319776.\n"
     ]
    },
    {
     "name": "stdout",
     "output_type": "stream",
     "text": [
      "1.5135561806339202\n",
      "1.5051035612029722\n"
     ]
    },
    {
     "name": "stderr",
     "output_type": "stream",
     "text": [
      "[I 2023-07-30 13:26:59,691] Trial 3 finished with value: -1.5763705883001315 and parameters: {'max_depth': 3, 'num_leaves': 127, 'subsample': 0.8, 'colsample_bytree': 0.8, 'reg_alpha': 0.053503373111133894, 'reg_lambda': 0.0857174180528995}. Best is trial 3 with value: -1.5763705883001315.\n"
     ]
    },
    {
     "name": "stdout",
     "output_type": "stream",
     "text": [
      "1.50146566615794\n"
     ]
    },
    {
     "name": "stderr",
     "output_type": "stream",
     "text": [
      "[I 2023-07-30 13:27:02,259] Trial 2 finished with value: -1.557956131428623 and parameters: {'max_depth': 5, 'num_leaves': 127, 'subsample': 0.8, 'colsample_bytree': 0.8, 'reg_alpha': 0.0013182670958046597, 'reg_lambda': 0.02987314395442184}. Best is trial 3 with value: -1.5763705883001315.\n"
     ]
    },
    {
     "name": "stdout",
     "output_type": "stream",
     "text": [
      "1.5087264381293828\n",
      "1.5085264026679135\n"
     ]
    },
    {
     "name": "stderr",
     "output_type": "stream",
     "text": [
      "[I 2023-07-30 13:27:02,818] Trial 5 finished with value: -1.5783763200664738 and parameters: {'max_depth': 3, 'num_leaves': 127, 'subsample': 0.8, 'colsample_bytree': 0.8, 'reg_alpha': 0.028744228691545973, 'reg_lambda': 0.032712485380976944}. Best is trial 5 with value: -1.5783763200664738.\n"
     ]
    },
    {
     "name": "stdout",
     "output_type": "stream",
     "text": [
      "1.5137647291287903\n",
      "1.5278510799715774\n"
     ]
    },
    {
     "name": "stderr",
     "output_type": "stream",
     "text": [
      "[I 2023-07-30 13:27:05,453] Trial 4 finished with value: -1.5565910431275227 and parameters: {'max_depth': 5, 'num_leaves': 31, 'subsample': 0.8, 'colsample_bytree': 0.8, 'reg_alpha': 0.003253542347033453, 'reg_lambda': 0.0951059135980707}. Best is trial 5 with value: -1.5783763200664738.\n"
     ]
    },
    {
     "name": "stdout",
     "output_type": "stream",
     "text": [
      "1.5021268914363208\n",
      "1.580932455862917\n"
     ]
    },
    {
     "name": "stderr",
     "output_type": "stream",
     "text": [
      "[I 2023-07-30 13:27:10,886] Trial 7 finished with value: -1.5620109144253613 and parameters: {'max_depth': 5, 'num_leaves': 63, 'subsample': 0.8, 'colsample_bytree': 0.8, 'reg_alpha': 0.051738027702198514, 'reg_lambda': 1.2079157602351562}. Best is trial 5 with value: -1.5783763200664738.\n"
     ]
    },
    {
     "name": "stdout",
     "output_type": "stream",
     "text": [
      "1.4973935687228073\n"
     ]
    },
    {
     "name": "stderr",
     "output_type": "stream",
     "text": [
      "[I 2023-07-30 13:27:12,680] Trial 6 finished with value: -1.548837802440787 and parameters: {'max_depth': 7, 'num_leaves': 7, 'subsample': 0.8, 'colsample_bytree': 0.8, 'reg_alpha': 0.2539531613121505, 'reg_lambda': 9.72381016122597}. Best is trial 5 with value: -1.5783763200664738.\n"
     ]
    },
    {
     "name": "stdout",
     "output_type": "stream",
     "text": [
      "1.4916056363594237\n",
      "1.5051803054394584\n"
     ]
    },
    {
     "name": "stderr",
     "output_type": "stream",
     "text": [
      "[I 2023-07-30 13:27:18,513] Trial 8 finished with value: -1.5727804069903883 and parameters: {'max_depth': 7, 'num_leaves': 63, 'subsample': 0.8, 'colsample_bytree': 0.8, 'reg_alpha': 0.04059825774849729, 'reg_lambda': 6.636415210276819}. Best is trial 5 with value: -1.5783763200664738.\n",
      "[I 2023-07-30 13:27:18,515] A new study created in memory with name: no-name-43b3e808-8070-44ff-867d-4c9c61934d84\n"
     ]
    },
    {
     "name": "stdout",
     "output_type": "stream",
     "text": [
      "1.5019542738033858\n",
      "1.1826337680512495\n",
      "1.1826337680512495\n",
      "1.1826337680512495\n",
      "1.1826337680512495\n",
      "1.0191679243635179\n",
      "1.0191679243635179\n",
      "1.5659114958081373\n",
      "1.0191679243635179\n",
      "1.0163007738855945\n",
      "1.0163007738855945\n",
      "1.2106784699693502\n",
      "1.0163007738855945\n",
      "1.6091379571124609\n",
      "1.0266319436276767\n",
      "1.0266319436276767\n",
      "1.0266319436276767\n",
      "1.3573726919132887\n"
     ]
    },
    {
     "name": "stderr",
     "output_type": "stream",
     "text": [
      "[I 2023-07-30 13:27:44,921] Trial 6 finished with value: -1.071409863430628 and parameters: {'max_depth': 3, 'num_leaves': 63, 'subsample': 0.8, 'colsample_bytree': 0.8, 'reg_alpha': 5.083897408283143, 'reg_lambda': 1.91449292969155}. Best is trial 6 with value: -1.071409863430628.\n"
     ]
    },
    {
     "name": "stdout",
     "output_type": "stream",
     "text": [
      "1.1123149072251017\n",
      "1.5758197763689226\n",
      "1.536776032715146\n",
      "1.548084747986795\n"
     ]
    },
    {
     "name": "stderr",
     "output_type": "stream",
     "text": [
      "[I 2023-07-30 13:27:48,371] Trial 1 finished with value: -1.1047897166913105 and parameters: {'max_depth': 3, 'num_leaves': 63, 'subsample': 0.8, 'colsample_bytree': 0.8, 'reg_alpha': 3.3675013799658498, 'reg_lambda': 0.10806920217340857}. Best is trial 1 with value: -1.1047897166913105.\n"
     ]
    },
    {
     "name": "stdout",
     "output_type": "stream",
     "text": [
      "1.2792141735285139\n",
      "1.5837131737996368\n",
      "1.5750279602702326\n",
      "1.2369613763931306\n"
     ]
    },
    {
     "name": "stderr",
     "output_type": "stream",
     "text": [
      "[I 2023-07-30 13:27:54,528] Trial 7 finished with value: -1.071409863430628 and parameters: {'max_depth': 7, 'num_leaves': 31, 'subsample': 0.8, 'colsample_bytree': 0.8, 'reg_alpha': 3.7027495134665998, 'reg_lambda': 2.517073564281472}. Best is trial 1 with value: -1.1047897166913105.\n"
     ]
    },
    {
     "name": "stdout",
     "output_type": "stream",
     "text": [
      "1.1123149072251017\n",
      "1.5213715965768928\n",
      "1.5134778492785896\n"
     ]
    },
    {
     "name": "stderr",
     "output_type": "stream",
     "text": [
      "[I 2023-07-30 13:27:57,121] Trial 8 finished with value: -1.2636217787685846 and parameters: {'max_depth': 7, 'num_leaves': 63, 'subsample': 0.8, 'colsample_bytree': 0.8, 'reg_alpha': 1.7767234648611743, 'reg_lambda': 0.0019837156444214143}. Best is trial 8 with value: -1.2636217787685846.\n"
     ]
    },
    {
     "name": "stdout",
     "output_type": "stream",
     "text": [
      "1.3304625875159044\n",
      "1.472430620595075\n",
      "1.5409063905377718\n",
      "1.5054468570876076\n",
      "1.4418765695601623\n",
      "1.5303551434197304\n",
      "1.5302178337383103\n",
      "1.5041707086904668\n"
     ]
    },
    {
     "name": "stderr",
     "output_type": "stream",
     "text": [
      "[I 2023-07-30 13:28:14,923] Trial 2 finished with value: -1.5027779287410161 and parameters: {'max_depth': 3, 'num_leaves': 127, 'subsample': 0.8, 'colsample_bytree': 0.8, 'reg_alpha': 0.01396983524053291, 'reg_lambda': 0.0032222418546610787}. Best is trial 2 with value: -1.5027779287410161.\n",
      "[I 2023-07-30 13:28:14,926] Trial 9 pruned. Trial was pruned at iteration 139.\n",
      "[I 2023-07-30 13:28:14,939] Trial 4 pruned. Trial was pruned at iteration 45.\n",
      "[I 2023-07-30 13:28:14,943] Trial 5 pruned. Trial was pruned at iteration 57.\n",
      "[I 2023-07-30 13:28:14,950] Trial 3 pruned. Trial was pruned at iteration 30.\n"
     ]
    },
    {
     "name": "stdout",
     "output_type": "stream",
     "text": [
      "1.4558476963430462\n"
     ]
    },
    {
     "name": "stderr",
     "output_type": "stream",
     "text": [
      "[I 2023-07-30 13:28:15,868] Trial 0 pruned. Trial was pruned at iteration 0.\n",
      "[I 2023-07-30 13:28:15,870] A new study created in memory with name: no-name-a0b87b21-c5a5-4398-9110-b1636cc05e3a\n"
     ]
    },
    {
     "name": "stdout",
     "output_type": "stream",
     "text": [
      "1.181260360183778\n",
      "1.5201978032798413\n",
      "1.5388170237066134\n",
      "1.5093416441345304\n",
      "1.5470887898065548\n",
      "1.505532128531448\n",
      "1.510829053264429\n",
      "1.501912554123364\n",
      "1.2079930953091187\n",
      "1.5392494831551586\n",
      "1.383344983701537\n",
      "1.4923541267941827\n",
      "1.3116087269291485\n",
      "1.3847332602966282\n",
      "1.4424524652022872\n",
      "1.4358566110875104\n",
      "1.4469018001362146\n",
      "1.392315757141283\n",
      "1.4463532793275453\n",
      "1.2060355077419254\n",
      "1.4468983781948537\n",
      "1.4164629677851543\n",
      "1.401568555605861\n",
      "1.399641338753962\n",
      "1.4136050246557037\n",
      "1.4212842699687196\n"
     ]
    },
    {
     "name": "stderr",
     "output_type": "stream",
     "text": [
      "[I 2023-07-30 13:28:47,936] Trial 1 finished with value: -1.2380691792990592 and parameters: {'max_depth': 3, 'num_leaves': 7, 'subsample': 0.8, 'colsample_bytree': 0.8, 'reg_alpha': 1.8230187189179952, 'reg_lambda': 1.6183484268951833}. Best is trial 1 with value: -1.2380691792990592.\n"
     ]
    },
    {
     "name": "stdout",
     "output_type": "stream",
     "text": [
      "1.2834482063313248\n",
      "1.457546927810161\n",
      "1.428777600769034\n",
      "1.3722098242163459\n",
      "1.4476619262336377\n",
      "1.41926069750712\n",
      "1.377797568950681\n",
      "1.3815527918814228\n",
      "1.4272863584000854\n",
      "1.3785784804785102\n",
      "1.3842264934239856\n",
      "1.381198136750568\n"
     ]
    },
    {
     "name": "stderr",
     "output_type": "stream",
     "text": [
      "[I 2023-07-30 13:29:14,772] Trial 7 finished with value: -1.425575893535901 and parameters: {'max_depth': 7, 'num_leaves': 7, 'subsample': 0.8, 'colsample_bytree': 0.8, 'reg_alpha': 0.0010687367992385935, 'reg_lambda': 0.015206994087326814}. Best is trial 7 with value: -1.425575893535901.\n"
     ]
    },
    {
     "name": "stdout",
     "output_type": "stream",
     "text": [
      "1.4182591394983244\n",
      "1.4034662340435191\n"
     ]
    },
    {
     "name": "stderr",
     "output_type": "stream",
     "text": [
      "[I 2023-07-30 13:29:23,554] Trial 5 finished with value: -1.4308922320094652 and parameters: {'max_depth': 7, 'num_leaves': 7, 'subsample': 0.8, 'colsample_bytree': 0.8, 'reg_alpha': 0.0021786149774058222, 'reg_lambda': 0.6665860451834577}. Best is trial 5 with value: -1.4308922320094652.\n"
     ]
    },
    {
     "name": "stdout",
     "output_type": "stream",
     "text": [
      "1.4084065139746742\n"
     ]
    },
    {
     "name": "stderr",
     "output_type": "stream",
     "text": [
      "[I 2023-07-30 13:29:27,650] Trial 3 finished with value: -1.4346044377478924 and parameters: {'max_depth': 7, 'num_leaves': 7, 'subsample': 0.8, 'colsample_bytree': 0.8, 'reg_alpha': 0.004391624234199078, 'reg_lambda': 3.706476693790038}. Best is trial 3 with value: -1.4346044377478924.\n"
     ]
    },
    {
     "name": "stdout",
     "output_type": "stream",
     "text": [
      "1.4108063882300117\n"
     ]
    },
    {
     "name": "stderr",
     "output_type": "stream",
     "text": [
      "[I 2023-07-30 13:29:28,386] Trial 4 finished with value: -1.444285383351102 and parameters: {'max_depth': 7, 'num_leaves': 7, 'subsample': 0.8, 'colsample_bytree': 0.8, 'reg_alpha': 0.015607682283404103, 'reg_lambda': 0.15819323239307534}. Best is trial 4 with value: -1.444285383351102.\n",
      "[I 2023-07-30 13:29:28,393] Trial 2 pruned. Trial was pruned at iteration 178.\n"
     ]
    },
    {
     "name": "stdout",
     "output_type": "stream",
     "text": [
      "1.4275706550661948\n",
      "1.3642682347104285\n"
     ]
    },
    {
     "name": "stderr",
     "output_type": "stream",
     "text": [
      "[I 2023-07-30 13:29:31,123] Trial 0 finished with value: -1.4222954405385846 and parameters: {'max_depth': 3, 'num_leaves': 127, 'subsample': 0.8, 'colsample_bytree': 0.8, 'reg_alpha': 0.49309577709884633, 'reg_lambda': 3.04384846803614}. Best is trial 4 with value: -1.444285383351102.\n"
     ]
    },
    {
     "name": "stdout",
     "output_type": "stream",
     "text": [
      "1.3838044318920661\n"
     ]
    },
    {
     "name": "stderr",
     "output_type": "stream",
     "text": [
      "[I 2023-07-30 13:29:32,034] Trial 9 finished with value: -1.4244979422035688 and parameters: {'max_depth': 5, 'num_leaves': 127, 'subsample': 0.8, 'colsample_bytree': 0.8, 'reg_alpha': 0.5015370496640266, 'reg_lambda': 0.20447194108254413}. Best is trial 4 with value: -1.444285383351102.\n"
     ]
    },
    {
     "name": "stdout",
     "output_type": "stream",
     "text": [
      "1.3958644995083895\n"
     ]
    },
    {
     "name": "stderr",
     "output_type": "stream",
     "text": [
      "[I 2023-07-30 13:29:32,565] Trial 8 finished with value: -1.4477216801962205 and parameters: {'max_depth': 3, 'num_leaves': 63, 'subsample': 0.8, 'colsample_bytree': 0.8, 'reg_alpha': 0.26950677170515897, 'reg_lambda': 0.011962795634908157}. Best is trial 8 with value: -1.4477216801962205.\n"
     ]
    },
    {
     "name": "stdout",
     "output_type": "stream",
     "text": [
      "1.4013323793539343\n"
     ]
    },
    {
     "name": "stderr",
     "output_type": "stream",
     "text": [
      "[I 2023-07-30 13:29:35,461] Trial 6 finished with value: -1.421010506605572 and parameters: {'max_depth': 7, 'num_leaves': 31, 'subsample': 0.8, 'colsample_bytree': 0.8, 'reg_alpha': 0.0019032909664969278, 'reg_lambda': 4.4345902513655}. Best is trial 8 with value: -1.4477216801962205.\n",
      "[I 2023-07-30 13:29:35,463] A new study created in memory with name: no-name-d01610fe-047e-4a59-9afe-22a268749aea\n"
     ]
    },
    {
     "name": "stdout",
     "output_type": "stream",
     "text": [
      "1.4195752575173035\n",
      "1.4851847300497178\n",
      "1.4583930182488238\n",
      "1.4566479867683229\n",
      "1.1791641217051967\n",
      "1.4663800952017654\n",
      "1.4437097046455305\n",
      "1.34250426431189451.316919114469777\n",
      "\n",
      "1.4772269833262222\n",
      "1.3994306301520947\n",
      "1.338974281201854\n",
      "1.4820632360286021\n",
      "1.3693611422297365\n",
      "1.4878081458229002\n",
      "1.4137113809868993\n",
      "1.4308788174636562\n",
      "1.2872090224902475\n",
      "1.3087514245298948\n",
      "1.3929514509769454\n",
      "1.4102147685492605\n",
      "1.332011844537255\n",
      "1.3522174845249226\n",
      "1.3001481719479964\n",
      "1.3696681765897942\n",
      "1.4040582622465536\n",
      "1.2858281371030256\n",
      "1.2720118725031777\n",
      "1.3329430080688152\n",
      "1.3471777636132283\n",
      "1.3872778247436606\n",
      "1.2956639533521486\n",
      "1.3173413367616322\n",
      "1.3993702375120312\n",
      "1.29652668550804\n"
     ]
    },
    {
     "name": "stderr",
     "output_type": "stream",
     "text": [
      "[I 2023-07-30 13:30:28,974] Trial 3 finished with value: -1.2783993980586583 and parameters: {'max_depth': 7, 'num_leaves': 127, 'subsample': 0.8, 'colsample_bytree': 0.8, 'reg_alpha': 1.1706749867401351, 'reg_lambda': 0.20983357340911835}. Best is trial 3 with value: -1.2783993980586583.\n"
     ]
    },
    {
     "name": "stdout",
     "output_type": "stream",
     "text": [
      "1.3366928591248928\n",
      "1.3077921396568912\n"
     ]
    },
    {
     "name": "stderr",
     "output_type": "stream",
     "text": [
      "[I 2023-07-30 13:30:31,287] Trial 5 finished with value: -1.394873157390338 and parameters: {'max_depth': 3, 'num_leaves': 127, 'subsample': 0.8, 'colsample_bytree': 0.8, 'reg_alpha': 0.011186996741121322, 'reg_lambda': 0.17120671415502398}. Best is trial 5 with value: -1.394873157390338.\n"
     ]
    },
    {
     "name": "stdout",
     "output_type": "stream",
     "text": [
      "1.3906476795050102\n",
      "1.3895333634434106\n"
     ]
    },
    {
     "name": "stderr",
     "output_type": "stream",
     "text": [
      "[I 2023-07-30 13:30:35,186] Trial 0 finished with value: -1.3873951526227337 and parameters: {'max_depth': 3, 'num_leaves': 127, 'subsample': 0.8, 'colsample_bytree': 0.8, 'reg_alpha': 0.001388813235422281, 'reg_lambda': 0.3668131934443829}. Best is trial 5 with value: -1.394873157390338.\n"
     ]
    },
    {
     "name": "stdout",
     "output_type": "stream",
     "text": [
      "1.3801594293430886\n",
      "1.3567488011374167\n"
     ]
    },
    {
     "name": "stderr",
     "output_type": "stream",
     "text": [
      "[I 2023-07-30 13:30:38,845] Trial 2 finished with value: -1.375794291491425 and parameters: {'max_depth': 5, 'num_leaves': 63, 'subsample': 0.8, 'colsample_bytree': 0.8, 'reg_alpha': 0.0011434223401400885, 'reg_lambda': 0.011222843249418416}. Best is trial 5 with value: -1.394873157390338.\n"
     ]
    },
    {
     "name": "stdout",
     "output_type": "stream",
     "text": [
      "1.387630198517122\n"
     ]
    },
    {
     "name": "stderr",
     "output_type": "stream",
     "text": [
      "[I 2023-07-30 13:30:40,658] Trial 6 finished with value: -1.3514219123657085 and parameters: {'max_depth': 7, 'num_leaves': 63, 'subsample': 0.8, 'colsample_bytree': 0.8, 'reg_alpha': 0.9256413025080565, 'reg_lambda': 0.08483724597132064}. Best is trial 5 with value: -1.394873157390338.\n",
      "[I 2023-07-30 13:30:40,673] Trial 7 pruned. Trial was pruned at iteration 162.\n",
      "[I 2023-07-30 13:30:40,837] Trial 1 finished with value: -1.3615161708110863 and parameters: {'max_depth': 7, 'num_leaves': 127, 'subsample': 0.8, 'colsample_bytree': 0.8, 'reg_alpha': 0.7691042237496398, 'reg_lambda': 8.313640936984271}. Best is trial 5 with value: -1.394873157390338.\n"
     ]
    },
    {
     "name": "stdout",
     "output_type": "stream",
     "text": [
      "1.3606796586516205\n",
      "1.3537990984022923\n"
     ]
    },
    {
     "name": "stderr",
     "output_type": "stream",
     "text": [
      "[I 2023-07-30 13:30:42,197] Trial 8 finished with value: -1.3547867349104579 and parameters: {'max_depth': 7, 'num_leaves': 31, 'subsample': 0.8, 'colsample_bytree': 0.8, 'reg_alpha': 0.8348271846237109, 'reg_lambda': 0.0645543445143895}. Best is trial 5 with value: -1.394873157390338.\n",
      "[I 2023-07-30 13:30:42,227] Trial 4 pruned. Trial was pruned at iteration 98.\n"
     ]
    },
    {
     "name": "stdout",
     "output_type": "stream",
     "text": [
      "1.3606389865437816\n",
      "1.3295587409716803\n"
     ]
    },
    {
     "name": "stderr",
     "output_type": "stream",
     "text": [
      "[I 2023-07-30 13:30:48,223] Trial 9 finished with value: -1.3814373858034756 and parameters: {'max_depth': 7, 'num_leaves': 63, 'subsample': 0.8, 'colsample_bytree': 0.8, 'reg_alpha': 0.015519013978091823, 'reg_lambda': 0.16768136771264952}. Best is trial 5 with value: -1.394873157390338.\n",
      "[I 2023-07-30 13:30:48,224] A new study created in memory with name: no-name-29eb216b-8ef8-4b17-863b-dc8ff19bd944\n"
     ]
    },
    {
     "name": "stdout",
     "output_type": "stream",
     "text": [
      "1.4027227447009645\n",
      "1.4132883318132359\n",
      "1.1776638607016807\n",
      "1.1776638607016807\n",
      "1.1776638607016807\n",
      "1.1776638607016807\n",
      "1.1776638607016807\n",
      "1.1776638607016807\n",
      "1.4343999716669569\n",
      "1.0185484043451167\n",
      "1.0185484043451167\n",
      "1.2337738934266207\n",
      "1.4038931691308478\n",
      "1.0185484043451167\n",
      "1.417518833735962\n",
      "1.1517233539721434\n",
      "1.2366947458294149\n",
      "1.3458375780421308\n",
      "1.0138397965940462\n",
      "1.0138397965940462\n",
      "1.3896689365436331.2423541368148752\n",
      "\n",
      "1.0138397965940462\n",
      "1.2376720872295044\n",
      "1.3089665405367799\n",
      "1.3799943039417266\n",
      "1.0252011858125996\n",
      "1.2448345815207364\n",
      "1.0252011858125996\n",
      "1.3520987200219379\n",
      "1.1872702544717484\n",
      "1.0252011858125996\n",
      "1.3861477285920003\n",
      "1.177126104363008\n",
      "1.3193740747563485\n"
     ]
    },
    {
     "name": "stderr",
     "output_type": "stream",
     "text": [
      "[I 2023-07-30 13:31:20,365] Trial 3 finished with value: -1.0691839044558726 and parameters: {'max_depth': 3, 'num_leaves': 63, 'subsample': 0.8, 'colsample_bytree': 0.8, 'reg_alpha': 9.989688045228757, 'reg_lambda': 0.0029401937918426594}. Best is trial 3 with value: -1.0691839044558726.\n"
     ]
    },
    {
     "name": "stdout",
     "output_type": "stream",
     "text": [
      "1.1106662748259204\n",
      "1.3363538251509728\n",
      "1.1970226548084937\n"
     ]
    },
    {
     "name": "stderr",
     "output_type": "stream",
     "text": [
      "[I 2023-07-30 13:31:24,959] Trial 9 finished with value: -1.0958347264617976 and parameters: {'max_depth': 7, 'num_leaves': 127, 'subsample': 0.8, 'colsample_bytree': 0.8, 'reg_alpha': 3.8823064095077195, 'reg_lambda': 0.04162864287170898}. Best is trial 9 with value: -1.0958347264617976.\n"
     ]
    },
    {
     "name": "stdout",
     "output_type": "stream",
     "text": [
      "1.243920384855545\n"
     ]
    },
    {
     "name": "stderr",
     "output_type": "stream",
     "text": [
      "[I 2023-07-30 13:31:26,964] Trial 1 finished with value: -1.0691839044558726 and parameters: {'max_depth': 7, 'num_leaves': 31, 'subsample': 0.8, 'colsample_bytree': 0.8, 'reg_alpha': 9.220391590446233, 'reg_lambda': 0.0032974057629709735}. Best is trial 9 with value: -1.0958347264617976.\n"
     ]
    },
    {
     "name": "stdout",
     "output_type": "stream",
     "text": [
      "1.1106662748259204\n"
     ]
    },
    {
     "name": "stderr",
     "output_type": "stream",
     "text": [
      "[I 2023-07-30 13:31:29,120] Trial 2 finished with value: -1.2224213966405055 and parameters: {'max_depth': 3, 'num_leaves': 7, 'subsample': 0.8, 'colsample_bytree': 0.8, 'reg_alpha': 1.6311374290629148, 'reg_lambda': 0.023159051534888824}. Best is trial 2 with value: -1.2224213966405055.\n"
     ]
    },
    {
     "name": "stdout",
     "output_type": "stream",
     "text": [
      "1.2710448377876031\n"
     ]
    },
    {
     "name": "stderr",
     "output_type": "stream",
     "text": [
      "[I 2023-07-30 13:31:30,642] Trial 7 finished with value: -1.200835068441148 and parameters: {'max_depth': 3, 'num_leaves': 63, 'subsample': 0.8, 'colsample_bytree': 0.8, 'reg_alpha': 1.9826988850580285, 'reg_lambda': 0.46533704196834796}. Best is trial 2 with value: -1.2224213966405055.\n",
      "[I 2023-07-30 13:31:30,730] Trial 0 pruned. Trial was pruned at iteration 149.\n"
     ]
    },
    {
     "name": "stdout",
     "output_type": "stream",
     "text": [
      "1.2599899359394038\n"
     ]
    },
    {
     "name": "stderr",
     "output_type": "stream",
     "text": [
      "[I 2023-07-30 13:31:31,044] Trial 8 pruned. Trial was pruned at iteration 0.\n"
     ]
    },
    {
     "name": "stdout",
     "output_type": "stream",
     "text": [
      "1.2992375273990207\n",
      "1.2994223810605083\n",
      "1.3032402190068875\n"
     ]
    },
    {
     "name": "stderr",
     "output_type": "stream",
     "text": [
      "[I 2023-07-30 13:31:40,880] Trial 4 finished with value: -1.3722972891497305 and parameters: {'max_depth': 3, 'num_leaves': 63, 'subsample': 0.8, 'colsample_bytree': 0.8, 'reg_alpha': 0.08206923941693739, 'reg_lambda': 0.2776480875108597}. Best is trial 4 with value: -1.3722972891497305.\n"
     ]
    },
    {
     "name": "stdout",
     "output_type": "stream",
     "text": [
      "1.352032281547042\n"
     ]
    },
    {
     "name": "stderr",
     "output_type": "stream",
     "text": [
      "[I 2023-07-30 13:31:42,374] Trial 5 finished with value: -1.3404835925624443 and parameters: {'max_depth': 5, 'num_leaves': 127, 'subsample': 0.8, 'colsample_bytree': 0.8, 'reg_alpha': 0.0031134636296649113, 'reg_lambda': 0.3298049727053478}. Best is trial 4 with value: -1.3722972891497305.\n"
     ]
    },
    {
     "name": "stdout",
     "output_type": "stream",
     "text": [
      "1.3571361327226223\n"
     ]
    },
    {
     "name": "stderr",
     "output_type": "stream",
     "text": [
      "[I 2023-07-30 13:31:43,179] Trial 6 finished with value: -1.3560322409059515 and parameters: {'max_depth': 5, 'num_leaves': 31, 'subsample': 0.8, 'colsample_bytree': 0.8, 'reg_alpha': 0.022647998749314394, 'reg_lambda': 0.0016450168807534788}. Best is trial 4 with value: -1.3722972891497305.\n",
      "[I 2023-07-30 13:31:43,182] A new study created in memory with name: no-name-4beec3e7-03f0-4511-aa47-2ed14590a220\n"
     ]
    },
    {
     "name": "stdout",
     "output_type": "stream",
     "text": [
      "1.356679687299323\n",
      "1.406222372848676\n",
      "1.1767068737927264\n",
      "1.393859833559653\n",
      "1.410227935388133\n",
      "1.1767068737927264\n",
      "1.3974097866762707\n",
      "1.3927479714816224\n",
      "1.414975525365458\n",
      "1.018688661055637\n",
      "1.018688661055637\n",
      "1.277146598486906\n",
      "1.3740054942808748\n",
      "1.2720657035525096\n",
      "1.4257603404715484\n",
      "1.3004294859881445\n",
      "1.013131887112659\n",
      "1.3093789435687937\n",
      "1.2261533753934446\n",
      "1.3382555726944363\n",
      "1.3128394719691436\n",
      "1.2420259378781051\n",
      "1.309087963392803\n",
      "1.0239441574315873\n",
      "1.2455638507936042\n",
      "1.2832863475628604\n",
      "1.277352447097047\n",
      "1.1656495593966907\n",
      "1.3179796641754504\n",
      "1.2972230434430534\n",
      "1.3062447816345424\n",
      "1.2456639526716318\n",
      "1.2428135634902087\n",
      "1.260867503374286\n",
      "1.2581604303663831\n"
     ]
    },
    {
     "name": "stderr",
     "output_type": "stream",
     "text": [
      "[I 2023-07-30 13:32:27,162] Trial 0 finished with value: -1.0686465065276114 and parameters: {'max_depth': 7, 'num_leaves': 127, 'subsample': 0.8, 'colsample_bytree': 0.8, 'reg_alpha': 4.635529480175599, 'reg_lambda': 0.35444674788952235}. Best is trial 0 with value: -1.0686465065276114.\n",
      "[I 2023-07-30 13:32:27,202] Trial 9 finished with value: -1.1638631657065737 and parameters: {'max_depth': 5, 'num_leaves': 7, 'subsample': 0.8, 'colsample_bytree': 0.8, 'reg_alpha': 2.3324403359644186, 'reg_lambda': 0.017966182481897193}. Best is trial 9 with value: -1.1638631657065737.\n"
     ]
    },
    {
     "name": "stdout",
     "output_type": "stream",
     "text": [
      "1.1107609532454472\n",
      "1.2321173588943697\n",
      "1.269680841876501\n",
      "1.2708180573187429\n",
      "1.2953234615951716\n"
     ]
    },
    {
     "name": "stderr",
     "output_type": "stream",
     "text": [
      "[I 2023-07-30 13:32:36,788] Trial 7 finished with value: -1.3096057507130308 and parameters: {'max_depth': 3, 'num_leaves': 127, 'subsample': 0.8, 'colsample_bytree': 0.8, 'reg_alpha': 0.004129649511411785, 'reg_lambda': 0.01372314032735552}. Best is trial 7 with value: -1.3096057507130308.\n"
     ]
    },
    {
     "name": "stdout",
     "output_type": "stream",
     "text": [
      "1.3060356299635925\n",
      "1.2606781742346054\n"
     ]
    },
    {
     "name": "stderr",
     "output_type": "stream",
     "text": [
      "[I 2023-07-30 13:32:38,308] Trial 1 finished with value: -1.2947629206419617 and parameters: {'max_depth': 5, 'num_leaves': 63, 'subsample': 0.8, 'colsample_bytree': 0.8, 'reg_alpha': 0.8205149028223245, 'reg_lambda': 0.3580315096757579}. Best is trial 7 with value: -1.3096057507130308.\n"
     ]
    },
    {
     "name": "stdout",
     "output_type": "stream",
     "text": [
      "1.3027557413244895\n"
     ]
    },
    {
     "name": "stderr",
     "output_type": "stream",
     "text": [
      "[I 2023-07-30 13:32:40,072] Trial 4 finished with value: -1.3125326790701783 and parameters: {'max_depth': 3, 'num_leaves': 31, 'subsample': 0.8, 'colsample_bytree': 0.8, 'reg_alpha': 0.007982249875478123, 'reg_lambda': 1.9267303970366703}. Best is trial 4 with value: -1.3125326790701783.\n",
      "[I 2023-07-30 13:32:40,074] Trial 6 pruned. Trial was pruned at iteration 16.\n",
      "[I 2023-07-30 13:32:40,076] Trial 2 pruned. Trial was pruned at iteration 97.\n",
      "[I 2023-07-30 13:32:40,079] Trial 5 pruned. Trial was pruned at iteration 160.\n"
     ]
    },
    {
     "name": "stdout",
     "output_type": "stream",
     "text": [
      "1.3135031913269282\n",
      "1.2647940594376568\n"
     ]
    },
    {
     "name": "stderr",
     "output_type": "stream",
     "text": [
      "[I 2023-07-30 13:32:45,336] Trial 8 finished with value: -1.312941426338171 and parameters: {'max_depth': 5, 'num_leaves': 127, 'subsample': 0.8, 'colsample_bytree': 0.8, 'reg_alpha': 0.008929126667388262, 'reg_lambda': 0.06159196591371937}. Best is trial 8 with value: -1.312941426338171.\n"
     ]
    },
    {
     "name": "stdout",
     "output_type": "stream",
     "text": [
      "1.314690718148029\n"
     ]
    },
    {
     "name": "stderr",
     "output_type": "stream",
     "text": [
      "[I 2023-07-30 13:32:47,310] Trial 3 finished with value: -1.306562893193293 and parameters: {'max_depth': 7, 'num_leaves': 63, 'subsample': 0.8, 'colsample_bytree': 0.8, 'reg_alpha': 0.002555749700255677, 'reg_lambda': 5.866599261831321}. Best is trial 8 with value: -1.312941426338171.\n",
      "[I 2023-07-30 13:32:47,310] A new study created in memory with name: no-name-29e08845-d7d2-4bd2-bf09-132470fd3601\n"
     ]
    },
    {
     "name": "stdout",
     "output_type": "stream",
     "text": [
      "1.3185075375098043\n",
      "1.353629269006777\n",
      "1.3800161458100866\n",
      "1.1755666793173964\n",
      "1.1755666793173964\n",
      "1.3788009716615046\n",
      "1.3727000774995701\n",
      "1.3742522701084727\n",
      "1.3772737786691729\n",
      "1.0186738426519704\n",
      "1.1694504874296532\n",
      "1.0112050091033056\n",
      "1.349761334992312\n",
      "1.2574773891091242\n",
      "1.2527162333122865\n",
      "1.2958280632716939\n",
      "1.3586108612505976\n",
      "1.1919754366245\n",
      "1.2735874670552321.022429940156044\n",
      "\n",
      "1.229681322273041\n",
      "1.2722163952917862\n"
     ]
    },
    {
     "name": "stderr",
     "output_type": "stream",
     "text": [
      "[I 2023-07-30 13:33:16,787] Trial 3 finished with value: -1.067679293942083 and parameters: {'max_depth': 5, 'num_leaves': 31, 'subsample': 0.8, 'colsample_bytree': 0.8, 'reg_alpha': 6.865128596568033, 'reg_lambda': 0.003999641853351093}. Best is trial 3 with value: -1.067679293942083.\n"
     ]
    },
    {
     "name": "stdout",
     "output_type": "stream",
     "text": [
      "1.1105209984816984\n",
      "1.2569243638687067\n",
      "1.254129552471635\n",
      "1.163565531237976\n",
      "1.2729845566740123\n",
      "1.2099749901586414\n",
      "1.228649058137671\n",
      "1.2370352963294697\n"
     ]
    },
    {
     "name": "stderr",
     "output_type": "stream",
     "text": [
      "[I 2023-07-30 13:33:31,811] Trial 7 finished with value: -1.1844927806426282 and parameters: {'max_depth': 5, 'num_leaves': 31, 'subsample': 0.8, 'colsample_bytree': 0.8, 'reg_alpha': 1.7610586645252309, 'reg_lambda': 0.0010013583491625439}. Best is trial 7 with value: -1.1844927806426282.\n"
     ]
    },
    {
     "name": "stdout",
     "output_type": "stream",
     "text": [
      "1.221905768603616\n",
      "1.270006690578908\n",
      "1.283712996937593\n",
      "1.2524129632590533\n",
      "1.2235511913934327\n",
      "1.2440987856849783\n",
      "1.2403619250416984\n",
      "1.2261908892389535\n"
     ]
    },
    {
     "name": "stderr",
     "output_type": "stream",
     "text": [
      "[I 2023-07-30 13:33:46,585] Trial 5 finished with value: -1.2833810673763595 and parameters: {'max_depth': 5, 'num_leaves': 7, 'subsample': 0.8, 'colsample_bytree': 0.8, 'reg_alpha': 0.017249382323919687, 'reg_lambda': 0.009335907007685799}. Best is trial 5 with value: -1.2833810673763595.\n"
     ]
    },
    {
     "name": "stdout",
     "output_type": "stream",
     "text": [
      "1.2927682100749256\n"
     ]
    },
    {
     "name": "stderr",
     "output_type": "stream",
     "text": [
      "[I 2023-07-30 13:33:52,278] Trial 1 finished with value: -1.2655220596895234 and parameters: {'max_depth': 7, 'num_leaves': 7, 'subsample': 0.8, 'colsample_bytree': 0.8, 'reg_alpha': 0.9919494977319878, 'reg_lambda': 0.8581838669383937}. Best is trial 5 with value: -1.2833810673763595.\n"
     ]
    },
    {
     "name": "stdout",
     "output_type": "stream",
     "text": [
      "1.2856018229609973\n",
      "1.2341761062149248\n"
     ]
    },
    {
     "name": "stderr",
     "output_type": "stream",
     "text": [
      "[I 2023-07-30 13:33:54,608] Trial 2 finished with value: -1.289625592831475 and parameters: {'max_depth': 5, 'num_leaves': 7, 'subsample': 0.8, 'colsample_bytree': 0.8, 'reg_alpha': 0.05469173086462629, 'reg_lambda': 1.8058404939776125}. Best is trial 2 with value: -1.289625592831475.\n"
     ]
    },
    {
     "name": "stdout",
     "output_type": "stream",
     "text": [
      "1.3004422937222904\n"
     ]
    },
    {
     "name": "stderr",
     "output_type": "stream",
     "text": [
      "[I 2023-07-30 13:33:55,695] Trial 8 finished with value: -1.2885897400139315 and parameters: {'max_depth': 5, 'num_leaves': 7, 'subsample': 0.8, 'colsample_bytree': 0.8, 'reg_alpha': 0.1167409794966795, 'reg_lambda': 9.675792862968885}. Best is trial 2 with value: -1.289625592831475.\n"
     ]
    },
    {
     "name": "stdout",
     "output_type": "stream",
     "text": [
      "1.2642278366802164\n",
      "1.3026337149331861\n"
     ]
    },
    {
     "name": "stderr",
     "output_type": "stream",
     "text": [
      "[I 2023-07-30 13:33:56,641] Trial 4 pruned. Trial was pruned at iteration 0.\n",
      "[I 2023-07-30 13:33:56,959] Trial 6 finished with value: -1.281618341473571 and parameters: {'max_depth': 7, 'num_leaves': 31, 'subsample': 0.8, 'colsample_bytree': 0.8, 'reg_alpha': 0.0016572736681604399, 'reg_lambda': 0.007272483935985676}. Best is trial 2 with value: -1.289625592831475.\n"
     ]
    },
    {
     "name": "stdout",
     "output_type": "stream",
     "text": [
      "1.26910771510062\n",
      "1.303761586030271\n"
     ]
    },
    {
     "name": "stderr",
     "output_type": "stream",
     "text": [
      "[I 2023-07-30 13:33:58,626] Trial 0 pruned. Trial was pruned at iteration 0.\n"
     ]
    },
    {
     "name": "stdout",
     "output_type": "stream",
     "text": [
      "1.2283734550844458\n"
     ]
    },
    {
     "name": "stderr",
     "output_type": "stream",
     "text": [
      "[I 2023-07-30 13:34:04,801] Trial 9 finished with value: -1.2798942169156238 and parameters: {'max_depth': 7, 'num_leaves': 127, 'subsample': 0.8, 'colsample_bytree': 0.8, 'reg_alpha': 0.13901338039197056, 'reg_lambda': 0.03696495880299181}. Best is trial 2 with value: -1.289625592831475.\n"
     ]
    },
    {
     "name": "stdout",
     "output_type": "stream",
     "text": [
      "1.2909660898834026\n",
      ">>>Done with 8 processes, and time taken is 729.1895444393158\n",
      "Time taken:  732.4424004554749 seconds\n"
     ]
    },
    {
     "name": "stderr",
     "output_type": "stream",
     "text": [
      "[I 2023-07-30 13:34:10,922] A new study created in memory with name: no-name-0b5db9a6-6512-462a-9831-6001d6857800\n"
     ]
    },
    {
     "name": "stdout",
     "output_type": "stream",
     "text": [
      "1.1351086095580207\n",
      "1.1351086095580207\n",
      "1.1351086095580207\n",
      "1.1351086095580207\n",
      "1.1351086095580207\n",
      "1.1351086095580207\n",
      "1.1351086095580207\n",
      "0.9900194033257304\n",
      "0.9900194033257304\n",
      "1.4704352681063924\n",
      "1.7535003239168354\n",
      "1.7791317015134531\n",
      "0.9900194033257304\n",
      "0.9900194033257304\n",
      "0.9900194033257304\n",
      "0.9900194033257304\n",
      "1.0351296165986899\n",
      "1.0351296165986899\n",
      "0.9900194033257304\n",
      "1.6571757814736738\n",
      "1.0351296165986899\n",
      "1.0351296165986899\n",
      "1.0351296165986899\n",
      "1.7004534008055519\n",
      "1.642428415987526\n",
      "1.0351296165986899\n",
      "0.9943332744082198\n",
      "0.9943332744082198\n",
      "1.0351296165986899\n",
      "0.9943332744082198\n",
      "0.9943332744082198\n",
      "0.9943332744082198\n",
      "1.654574148861835\n"
     ]
    },
    {
     "name": "stderr",
     "output_type": "stream",
     "text": [
      "[I 2023-07-30 13:34:46,370] Trial 9 finished with value: -1.0495014852917297 and parameters: {'max_depth': 7, 'num_leaves': 31, 'subsample': 0.8, 'colsample_bytree': 0.8, 'reg_alpha': 4.676720229814096, 'reg_lambda': 0.05950383216757271}. Best is trial 9 with value: -1.0495014852917297.\n"
     ]
    },
    {
     "name": "stdout",
     "output_type": "stream",
     "text": [
      "1.0929165225679878\n",
      "1.373807086980264\n",
      "1.659369610387282\n",
      "1.6679896547479967\n"
     ]
    },
    {
     "name": "stderr",
     "output_type": "stream",
     "text": [
      "[I 2023-07-30 13:34:48,499] Trial 0 finished with value: -1.0495014852917297 and parameters: {'max_depth': 3, 'num_leaves': 31, 'subsample': 0.8, 'colsample_bytree': 0.8, 'reg_alpha': 9.560093987994499, 'reg_lambda': 0.016297757692696594}. Best is trial 9 with value: -1.0495014852917297.\n"
     ]
    },
    {
     "name": "stdout",
     "output_type": "stream",
     "text": [
      "1.0929165225679878\n"
     ]
    },
    {
     "name": "stderr",
     "output_type": "stream",
     "text": [
      "[I 2023-07-30 13:34:51,614] Trial 1 finished with value: -1.0495014852917297 and parameters: {'max_depth': 7, 'num_leaves': 31, 'subsample': 0.8, 'colsample_bytree': 0.8, 'reg_alpha': 3.30231899168156, 'reg_lambda': 2.8124365497371002}. Best is trial 9 with value: -1.0495014852917297.\n"
     ]
    },
    {
     "name": "stdout",
     "output_type": "stream",
     "text": [
      "1.0929165225679878\n"
     ]
    },
    {
     "name": "stderr",
     "output_type": "stream",
     "text": [
      "[I 2023-07-30 13:34:52,377] Trial 7 finished with value: -1.0495014852917297 and parameters: {'max_depth': 3, 'num_leaves': 63, 'subsample': 0.8, 'colsample_bytree': 0.8, 'reg_alpha': 3.260978803634503, 'reg_lambda': 0.004649974866223762}. Best is trial 9 with value: -1.0495014852917297.\n"
     ]
    },
    {
     "name": "stdout",
     "output_type": "stream",
     "text": [
      "1.0929165225679878\n"
     ]
    },
    {
     "name": "stderr",
     "output_type": "stream",
     "text": [
      "[I 2023-07-30 13:34:56,194] Trial 4 finished with value: -1.0495014852917297 and parameters: {'max_depth': 7, 'num_leaves': 7, 'subsample': 0.8, 'colsample_bytree': 0.8, 'reg_alpha': 0.7341785897924952, 'reg_lambda': 3.5058689984458873}. Best is trial 9 with value: -1.0495014852917297.\n",
      "[I 2023-07-30 13:34:56,198] Trial 3 pruned. Trial was pruned at iteration 47.\n",
      "[I 2023-07-30 13:34:56,199] Trial 8 pruned. Trial was pruned at iteration 13.\n"
     ]
    },
    {
     "name": "stdout",
     "output_type": "stream",
     "text": [
      "1.0929165225679878\n",
      "1.368555365315494\n",
      "1.7194470308286292\n"
     ]
    },
    {
     "name": "stderr",
     "output_type": "stream",
     "text": [
      "[I 2023-07-30 13:35:01,071] Trial 2 finished with value: -1.2013489663516208 and parameters: {'max_depth': 3, 'num_leaves': 31, 'subsample': 0.8, 'colsample_bytree': 0.8, 'reg_alpha': 0.41468510614333465, 'reg_lambda': 0.13326984221649799}. Best is trial 2 with value: -1.2013489663516208.\n",
      "[I 2023-07-30 13:35:01,074] Trial 5 pruned. Trial was pruned at iteration 469.\n"
     ]
    },
    {
     "name": "stdout",
     "output_type": "stream",
     "text": [
      "1.4779318369601686\n"
     ]
    },
    {
     "name": "stderr",
     "output_type": "stream",
     "text": [
      "[I 2023-07-30 13:35:01,601] Trial 6 pruned. Trial was pruned at iteration 0.\n",
      "[I 2023-07-30 13:35:01,604] A new study created in memory with name: no-name-348844d8-60e6-4319-90d6-ee9033ac2456\n"
     ]
    },
    {
     "name": "stdout",
     "output_type": "stream",
     "text": [
      "1.1307636859762056\n",
      "1.4039650694621884\n",
      "1.1307636859762056\n",
      "1.5123979245949126\n",
      "1.1307636859762056\n",
      "1.1307636859762056\n",
      "1.1307636859762056\n",
      "1.1307636859762056\n",
      "0.9921412750060146\n",
      "0.9921412750060146\n",
      "0.9921412750060146\n",
      "0.9921412750060146\n",
      "1.0334713917255502\n",
      "1.0334713917255502\n",
      "1.0334713917255502\n",
      "1.0334713917255502\n",
      "0.9898997685646655\n",
      "0.9898997685646655\n",
      "1.5586497537084547\n",
      "0.9898997685646655\n",
      "0.9898997685646655\n"
     ]
    },
    {
     "name": "stderr",
     "output_type": "stream",
     "text": [
      "[I 2023-07-30 13:35:28,327] Trial 0 finished with value: -1.047240890494392 and parameters: {'max_depth': 3, 'num_leaves': 31, 'subsample': 0.8, 'colsample_bytree': 0.8, 'reg_alpha': 8.85458533905807, 'reg_lambda': 0.9188285395713844}. Best is trial 0 with value: -1.047240890494392.\n"
     ]
    },
    {
     "name": "stdout",
     "output_type": "stream",
     "text": [
      "1.0899283311995243\n"
     ]
    },
    {
     "name": "stderr",
     "output_type": "stream",
     "text": [
      "[I 2023-07-30 13:35:29,105] Trial 2 finished with value: -1.047240890494392 and parameters: {'max_depth': 5, 'num_leaves': 7, 'subsample': 0.8, 'colsample_bytree': 0.8, 'reg_alpha': 4.538867224990025, 'reg_lambda': 4.392501030222255}. Best is trial 0 with value: -1.047240890494392.\n"
     ]
    },
    {
     "name": "stdout",
     "output_type": "stream",
     "text": [
      "1.0899283311995243\n"
     ]
    },
    {
     "name": "stderr",
     "output_type": "stream",
     "text": [
      "[I 2023-07-30 13:35:31,719] Trial 4 finished with value: -1.047240890494392 and parameters: {'max_depth': 3, 'num_leaves': 31, 'subsample': 0.8, 'colsample_bytree': 0.8, 'reg_alpha': 3.139165239762458, 'reg_lambda': 0.04813540814831022}. Best is trial 0 with value: -1.047240890494392.\n"
     ]
    },
    {
     "name": "stdout",
     "output_type": "stream",
     "text": [
      "1.0899283311995243\n"
     ]
    },
    {
     "name": "stderr",
     "output_type": "stream",
     "text": [
      "[I 2023-07-30 13:35:32,211] Trial 1 finished with value: -1.047240890494392 and parameters: {'max_depth': 7, 'num_leaves': 127, 'subsample': 0.8, 'colsample_bytree': 0.8, 'reg_alpha': 5.715770176500038, 'reg_lambda': 0.024989152039111444}. Best is trial 0 with value: -1.047240890494392.\n"
     ]
    },
    {
     "name": "stdout",
     "output_type": "stream",
     "text": [
      "1.5147652605743822\n",
      "1.0899283311995243\n",
      "0.9921412750060146\n",
      "1.5037662945432366\n",
      "0.9921412750060146\n",
      "1.5006306406465715\n",
      "1.5205997602681194\n",
      "1.5049931545990063\n",
      "1.3583478611699196\n",
      "1.2866767249118798\n",
      "1.5217644725902026\n",
      "1.4895537118297835\n",
      "1.4883833022375033\n",
      "1.4907726938130015\n",
      "1.5805965091984113\n",
      "1.2927287551146218\n"
     ]
    },
    {
     "name": "stderr",
     "output_type": "stream",
     "text": [
      "[I 2023-07-30 13:35:55,912] Trial 9 finished with value: -1.2830918533572708 and parameters: {'max_depth': 5, 'num_leaves': 7, 'subsample': 0.8, 'colsample_bytree': 0.8, 'reg_alpha': 0.47557915686927504, 'reg_lambda': 0.0716616421720487}. Best is trial 9 with value: -1.2830918533572708.\n",
      "[I 2023-07-30 13:35:55,918] Trial 5 pruned. Trial was pruned at iteration 153.\n",
      "[I 2023-07-30 13:35:55,920] Trial 6 pruned. Trial was pruned at iteration 34.\n"
     ]
    },
    {
     "name": "stdout",
     "output_type": "stream",
     "text": [
      "1.444652732804431\n",
      "1.5829972192402266\n"
     ]
    },
    {
     "name": "stderr",
     "output_type": "stream",
     "text": [
      "[I 2023-07-30 13:35:58,276] Trial 8 pruned. Trial was pruned at iteration 0.\n",
      "[I 2023-07-30 13:36:03,367] Trial 3 finished with value: -1.5114917227857025 and parameters: {'max_depth': 3, 'num_leaves': 7, 'subsample': 0.8, 'colsample_bytree': 0.8, 'reg_alpha': 0.10047765310936245, 'reg_lambda': 0.009936690311268006}. Best is trial 3 with value: -1.5114917227857025.\n"
     ]
    },
    {
     "name": "stdout",
     "output_type": "stream",
     "text": [
      "1.5531386200945247\n"
     ]
    },
    {
     "name": "stderr",
     "output_type": "stream",
     "text": [
      "[I 2023-07-30 13:36:03,881] Trial 7 finished with value: -1.5340399559590028 and parameters: {'max_depth': 3, 'num_leaves': 7, 'subsample': 0.8, 'colsample_bytree': 0.8, 'reg_alpha': 0.013794817136367954, 'reg_lambda': 0.002711032323036555}. Best is trial 7 with value: -1.5340399559590028.\n",
      "[I 2023-07-30 13:36:03,883] A new study created in memory with name: no-name-679ef564-0754-4cd3-a429-15297759dca3\n"
     ]
    },
    {
     "name": "stdout",
     "output_type": "stream",
     "text": [
      "1.5195697443407097\n",
      "1.130089067895436\n",
      "1.130089067895436\n",
      "1.4116473974287467\n",
      "1.130089067895436\n",
      "1.130089067895436\n",
      "1.130089067895436\n",
      "1.130089067895436\n",
      "1.130089067895436\n",
      "0.9925801427008203\n",
      "1.4301155204094333\n",
      "0.9925801427008203\n",
      "0.9925801427008203\n",
      "0.99258014270082030.9925801427008203\n",
      "\n",
      "0.9925801427008203\n",
      "0.9925801427008203\n",
      "1.0312402711666995\n",
      "1.0312402711666995\n",
      "1.130089067895436\n",
      "1.0312402711666995\n",
      "1.0312402711666995\n",
      "1.0312402711666995\n",
      "1.4471149515541766\n",
      "1.0312402711666995\n",
      "0.9878962265249278\n",
      "1.4133419783983074\n",
      "0.9878962265249278\n",
      "1.273915692571596\n",
      "0.9878962265249278\n",
      "0.9878962265249278\n",
      "0.9878962265249278\n",
      "1.0312402711666995\n",
      "1.4153407320210134\n"
     ]
    },
    {
     "name": "stderr",
     "output_type": "stream",
     "text": [
      "[I 2023-07-30 13:36:31,960] Trial 3 finished with value: -1.0461512042860788 and parameters: {'max_depth': 3, 'num_leaves': 127, 'subsample': 0.8, 'colsample_bytree': 0.8, 'reg_alpha': 4.159969353848481, 'reg_lambda': 0.01278084319902873}. Best is trial 3 with value: -1.0461512042860788.\n"
     ]
    },
    {
     "name": "stdout",
     "output_type": "stream",
     "text": [
      "1.0889503131425105\n",
      "1.398963556285025\n"
     ]
    },
    {
     "name": "stderr",
     "output_type": "stream",
     "text": [
      "[I 2023-07-30 13:36:36,328] Trial 0 finished with value: -1.0461512042860788 and parameters: {'max_depth': 7, 'num_leaves': 31, 'subsample': 0.8, 'colsample_bytree': 0.8, 'reg_alpha': 4.537198089718843, 'reg_lambda': 7.4721499212795015}. Best is trial 3 with value: -1.0461512042860788.\n"
     ]
    },
    {
     "name": "stdout",
     "output_type": "stream",
     "text": [
      "1.0889503131425105\n",
      "1.4101980251439667\n"
     ]
    },
    {
     "name": "stderr",
     "output_type": "stream",
     "text": [
      "[I 2023-07-30 13:36:37,422] Trial 2 finished with value: -1.0461512042860788 and parameters: {'max_depth': 7, 'num_leaves': 63, 'subsample': 0.8, 'colsample_bytree': 0.8, 'reg_alpha': 3.816222928835802, 'reg_lambda': 0.09301754687458497}. Best is trial 3 with value: -1.0461512042860788.\n"
     ]
    },
    {
     "name": "stdout",
     "output_type": "stream",
     "text": [
      "1.0889503131425105\n",
      "0.9878962265249278\n"
     ]
    },
    {
     "name": "stderr",
     "output_type": "stream",
     "text": [
      "[I 2023-07-30 13:36:39,187] Trial 5 finished with value: -1.0461512042860788 and parameters: {'max_depth': 7, 'num_leaves': 63, 'subsample': 0.8, 'colsample_bytree': 0.8, 'reg_alpha': 3.5674052314517626, 'reg_lambda': 2.228150633917929}. Best is trial 3 with value: -1.0461512042860788.\n"
     ]
    },
    {
     "name": "stdout",
     "output_type": "stream",
     "text": [
      "1.0889503131425105\n"
     ]
    },
    {
     "name": "stderr",
     "output_type": "stream",
     "text": [
      "[I 2023-07-30 13:36:39,421] Trial 6 finished with value: -1.0461512042860788 and parameters: {'max_depth': 5, 'num_leaves': 7, 'subsample': 0.8, 'colsample_bytree': 0.8, 'reg_alpha': 3.576083231069627, 'reg_lambda': 0.2616037025127236}. Best is trial 3 with value: -1.0461512042860788.\n"
     ]
    },
    {
     "name": "stdout",
     "output_type": "stream",
     "text": [
      "1.0889503131425105\n",
      "0.9878962265249278\n",
      "1.4988652631960255\n",
      "1.516215051602872\n"
     ]
    },
    {
     "name": "stderr",
     "output_type": "stream",
     "text": [
      "[I 2023-07-30 13:36:50,535] Trial 8 finished with value: -1.0733453300990847 and parameters: {'max_depth': 5, 'num_leaves': 63, 'subsample': 0.8, 'colsample_bytree': 0.8, 'reg_alpha': 1.3660315926797906, 'reg_lambda': 0.017183744548087788}. Best is trial 8 with value: -1.0733453300990847.\n",
      "[I 2023-07-30 13:36:50,538] Trial 4 pruned. Trial was pruned at iteration 25.\n"
     ]
    },
    {
     "name": "stdout",
     "output_type": "stream",
     "text": [
      "1.2249209422075407\n",
      "1.5152808797204336\n"
     ]
    },
    {
     "name": "stderr",
     "output_type": "stream",
     "text": [
      "[I 2023-07-30 13:36:55,084] Trial 7 finished with value: -1.4541467520250906 and parameters: {'max_depth': 3, 'num_leaves': 63, 'subsample': 0.8, 'colsample_bytree': 0.8, 'reg_alpha': 0.0012807849268690308, 'reg_lambda': 0.0017570035576364548}. Best is trial 7 with value: -1.4541467520250906.\n"
     ]
    },
    {
     "name": "stdout",
     "output_type": "stream",
     "text": [
      "1.4619475045379575\n"
     ]
    },
    {
     "name": "stderr",
     "output_type": "stream",
     "text": [
      "[I 2023-07-30 13:36:55,430] Trial 9 finished with value: -1.0729167323689512 and parameters: {'max_depth': 7, 'num_leaves': 127, 'subsample': 0.8, 'colsample_bytree': 0.8, 'reg_alpha': 1.2575548067357074, 'reg_lambda': 0.04949093139563307}. Best is trial 7 with value: -1.4541467520250906.\n"
     ]
    },
    {
     "name": "stdout",
     "output_type": "stream",
     "text": [
      "1.2227779535568737\n"
     ]
    },
    {
     "name": "stderr",
     "output_type": "stream",
     "text": [
      "[I 2023-07-30 13:36:56,374] Trial 1 finished with value: -1.4354108810101873 and parameters: {'max_depth': 5, 'num_leaves': 31, 'subsample': 0.8, 'colsample_bytree': 0.8, 'reg_alpha': 0.002094739313155859, 'reg_lambda': 0.015270920610733528}. Best is trial 7 with value: -1.4541467520250906.\n",
      "[I 2023-07-30 13:36:56,375] A new study created in memory with name: no-name-bb779779-0d11-4701-b0bf-c4cb52b32c5e\n"
     ]
    },
    {
     "name": "stdout",
     "output_type": "stream",
     "text": [
      "1.4265861243594817\n",
      "1.3269568904084386\n",
      "1.12975803993878631.1297580399387863\n",
      "\n",
      "1.1297580399387863\n",
      "1.1297580399387863\n",
      "1.1297580399387863\n",
      "1.1297580399387863\n",
      "0.9940592901723901\n",
      "1.33439474128701\n",
      "1.377580687560072\n",
      "1.1479369748832289\n",
      "1.3329380178101253\n",
      "0.9940592901723901\n",
      "0.9940592901723901\n",
      "1.316252657980935\n",
      "0.9940592901723901\n",
      "1.0303273119073357\n",
      "1.1468721865427165\n",
      "1.0303273119073357\n",
      "1.0303273119073357\n",
      "1.3159272533024189\n",
      "1.33252549583767\n",
      "1.2888166330642168\n",
      "0.9862891898995882\n",
      "1.2929557844946915\n",
      "1.1759653452291663\n",
      "0.9862891898995882\n",
      "1.3568123659642883\n",
      "1.423579973348231\n",
      "1.1975304040487766\n"
     ]
    },
    {
     "name": "stderr",
     "output_type": "stream",
     "text": [
      "[I 2023-07-30 13:37:29,300] Trial 6 finished with value: -1.0459359956602339 and parameters: {'max_depth': 3, 'num_leaves': 127, 'subsample': 0.8, 'colsample_bytree': 0.8, 'reg_alpha': 6.8886789092558995, 'reg_lambda': 5.869058694706693}. Best is trial 6 with value: -1.0459359956602339.\n"
     ]
    },
    {
     "name": "stdout",
     "output_type": "stream",
     "text": [
      "1.089246146383069\n",
      "1.3701755880419344\n",
      "1.275005173072945\n",
      "0.9862891898995882\n"
     ]
    },
    {
     "name": "stderr",
     "output_type": "stream",
     "text": [
      "[I 2023-07-30 13:37:38,866] Trial 4 finished with value: -1.0459359956602339 and parameters: {'max_depth': 7, 'num_leaves': 63, 'subsample': 0.8, 'colsample_bytree': 0.8, 'reg_alpha': 2.218276512116438, 'reg_lambda': 0.6957590181007628}. Best is trial 6 with value: -1.0459359956602339.\n"
     ]
    },
    {
     "name": "stdout",
     "output_type": "stream",
     "text": [
      "1.089246146383069\n",
      "1.3661893898126016\n"
     ]
    },
    {
     "name": "stderr",
     "output_type": "stream",
     "text": [
      "[I 2023-07-30 13:37:42,140] Trial 0 finished with value: -1.2011460644328515 and parameters: {'max_depth': 3, 'num_leaves': 31, 'subsample': 0.8, 'colsample_bytree': 0.8, 'reg_alpha': 0.905513840917723, 'reg_lambda': 0.06209958951140116}. Best is trial 0 with value: -1.2011460644328515.\n"
     ]
    },
    {
     "name": "stdout",
     "output_type": "stream",
     "text": [
      "1.278129577380644\n",
      "1.4323407875524308\n",
      "1.1936478611597967\n"
     ]
    },
    {
     "name": "stderr",
     "output_type": "stream",
     "text": [
      "[I 2023-07-30 13:37:49,377] Trial 3 finished with value: -1.2683486103210462 and parameters: {'max_depth': 7, 'num_leaves': 31, 'subsample': 0.8, 'colsample_bytree': 0.8, 'reg_alpha': 0.5668964215662208, 'reg_lambda': 0.1726421734613607}. Best is trial 3 with value: -1.2683486103210462.\n"
     ]
    },
    {
     "name": "stdout",
     "output_type": "stream",
     "text": [
      "1.3245408101325657\n",
      "1.3475085706756729\n"
     ]
    },
    {
     "name": "stderr",
     "output_type": "stream",
     "text": [
      "[I 2023-07-30 13:37:50,238] Trial 5 finished with value: -1.0728346126321864 and parameters: {'max_depth': 7, 'num_leaves': 63, 'subsample': 0.8, 'colsample_bytree': 0.8, 'reg_alpha': 1.674531469197896, 'reg_lambda': 0.0018989839835859934}. Best is trial 3 with value: -1.2683486103210462.\n"
     ]
    },
    {
     "name": "stdout",
     "output_type": "stream",
     "text": [
      "1.2237392312428308\n",
      "1.4408413528272113\n",
      "1.454448635566465\n"
     ]
    },
    {
     "name": "stderr",
     "output_type": "stream",
     "text": [
      "[I 2023-07-30 13:37:56,973] Trial 9 finished with value: -1.3799418907172611 and parameters: {'max_depth': 5, 'num_leaves': 7, 'subsample': 0.8, 'colsample_bytree': 0.8, 'reg_alpha': 0.001691919378484379, 'reg_lambda': 0.0043148594401289505}. Best is trial 9 with value: -1.3799418907172611.\n"
     ]
    },
    {
     "name": "stdout",
     "output_type": "stream",
     "text": [
      "1.3870868945941992\n"
     ]
    },
    {
     "name": "stderr",
     "output_type": "stream",
     "text": [
      "[I 2023-07-30 13:37:59,448] Trial 2 finished with value: -1.1486383349786897 and parameters: {'max_depth': 5, 'num_leaves': 127, 'subsample': 0.8, 'colsample_bytree': 0.8, 'reg_alpha': 1.1756360573575526, 'reg_lambda': 4.905457831966042}. Best is trial 9 with value: -1.3799418907172611.\n"
     ]
    },
    {
     "name": "stdout",
     "output_type": "stream",
     "text": [
      "1.2281960795736997\n",
      "1.437363029763603\n"
     ]
    },
    {
     "name": "stderr",
     "output_type": "stream",
     "text": [
      "[I 2023-07-30 13:38:05,338] Trial 1 finished with value: -1.3576541764336973 and parameters: {'max_depth': 7, 'num_leaves': 127, 'subsample': 0.8, 'colsample_bytree': 0.8, 'reg_alpha': 0.17432887893989857, 'reg_lambda': 1.234710208359217}. Best is trial 9 with value: -1.3799418907172611.\n"
     ]
    },
    {
     "name": "stdout",
     "output_type": "stream",
     "text": [
      "1.3474076149876137\n",
      "1.3568458733300726\n"
     ]
    },
    {
     "name": "stderr",
     "output_type": "stream",
     "text": [
      "[I 2023-07-30 13:38:05,600] Trial 7 finished with value: -1.3601390546120733 and parameters: {'max_depth': 7, 'num_leaves': 7, 'subsample': 0.8, 'colsample_bytree': 0.8, 'reg_alpha': 0.2031482989113967, 'reg_lambda': 0.030078258709117314}. Best is trial 9 with value: -1.3799418907172611.\n",
      "[I 2023-07-30 13:38:07,651] Trial 8 finished with value: -1.353222795000794 and parameters: {'max_depth': 7, 'num_leaves': 127, 'subsample': 0.8, 'colsample_bytree': 0.8, 'reg_alpha': 0.19676747823662882, 'reg_lambda': 0.0018118570424048041}. Best is trial 9 with value: -1.3799418907172611.\n",
      "[I 2023-07-30 13:38:07,660] A new study created in memory with name: no-name-6f4c57a3-8828-4648-808e-8ea7724342ee\n"
     ]
    },
    {
     "name": "stdout",
     "output_type": "stream",
     "text": [
      "1.3553485722598766\n",
      "1.3043605791774089\n",
      "1.1286488690709828\n",
      "1.1286488690709828\n",
      "1.263793366709519\n",
      "0.9957511006626972\n",
      "0.9957511006626972\n",
      "1.2984962357369834\n",
      "1.029097192568522\n",
      "1.3075701356060911\n",
      "1.029097192568522\n",
      "1.311554280748577\n",
      "1.290267914219281\n",
      "1.3090635427199555\n",
      "0.9851610532833953\n",
      "0.9851610532833953\n",
      "1.2740706334033836\n",
      "1.3078601511511465\n",
      "1.1286488690709828\n",
      "1.3071033883232008\n",
      "1.3014753927436917\n"
     ]
    },
    {
     "name": "stderr",
     "output_type": "stream",
     "text": [
      "[I 2023-07-30 13:38:26,143] Trial 2 finished with value: -1.0451223369562987 and parameters: {'max_depth': 7, 'num_leaves': 31, 'subsample': 0.8, 'colsample_bytree': 0.8, 'reg_alpha': 6.434835050472423, 'reg_lambda': 0.003594017311684083}. Best is trial 2 with value: -1.0451223369562987.\n"
     ]
    },
    {
     "name": "stdout",
     "output_type": "stream",
     "text": [
      "1.0869534691958966\n",
      "1.2988157863194167\n",
      "1.297360432766221\n",
      "1.3163748012311345\n"
     ]
    },
    {
     "name": "stderr",
     "output_type": "stream",
     "text": [
      "[I 2023-07-30 13:38:29,546] Trial 5 finished with value: -1.0451223369562987 and parameters: {'max_depth': 7, 'num_leaves': 63, 'subsample': 0.8, 'colsample_bytree': 0.8, 'reg_alpha': 4.1595861446784825, 'reg_lambda': 7.558027470741038}. Best is trial 2 with value: -1.0451223369562987.\n"
     ]
    },
    {
     "name": "stdout",
     "output_type": "stream",
     "text": [
      "1.0869534691958966\n",
      "1.1480315859115204\n",
      "1.325244714615029\n",
      "1.3034305881654613\n",
      "1.2961412387446922\n",
      "1.3333497290533527\n",
      "1.332665273005404\n",
      "1.405739669130798\n",
      "1.3042974066838653\n",
      "1.313972704956075\n",
      "1.4223472826799077\n",
      "1.410577298578912\n",
      "1.415169090562132\n"
     ]
    },
    {
     "name": "stderr",
     "output_type": "stream",
     "text": [
      "[I 2023-07-30 13:38:58,202] Trial 3 finished with value: -1.3326851688588843 and parameters: {'max_depth': 3, 'num_leaves': 31, 'subsample': 0.8, 'colsample_bytree': 0.8, 'reg_alpha': 0.001209612645930524, 'reg_lambda': 0.05973428497991279}. Best is trial 3 with value: -1.3326851688588843.\n"
     ]
    },
    {
     "name": "stdout",
     "output_type": "stream",
     "text": [
      "1.3466828805357993\n",
      "1.3985419185437808\n",
      "1.4153552157111977\n",
      "1.3321091040842048\n"
     ]
    },
    {
     "name": "stderr",
     "output_type": "stream",
     "text": [
      "[I 2023-07-30 13:39:06,794] Trial 0 finished with value: -1.3327204850652763 and parameters: {'max_depth': 7, 'num_leaves': 7, 'subsample': 0.8, 'colsample_bytree': 0.8, 'reg_alpha': 0.030855609060840127, 'reg_lambda': 0.2922465686706057}. Best is trial 0 with value: -1.3327204850652763.\n"
     ]
    },
    {
     "name": "stdout",
     "output_type": "stream",
     "text": [
      "1.3214240252443101\n"
     ]
    },
    {
     "name": "stderr",
     "output_type": "stream",
     "text": [
      "[I 2023-07-30 13:39:07,396] Trial 1 finished with value: -1.3202973945929843 and parameters: {'max_depth': 5, 'num_leaves': 127, 'subsample': 0.8, 'colsample_bytree': 0.8, 'reg_alpha': 0.0022616293650520084, 'reg_lambda': 0.04154675774588971}. Best is trial 0 with value: -1.3327204850652763.\n",
      "[I 2023-07-30 13:39:07,406] Trial 8 pruned. Trial was pruned at iteration 17.\n"
     ]
    },
    {
     "name": "stdout",
     "output_type": "stream",
     "text": [
      "1.3378451020066497\n",
      "1.4181187100397339\n"
     ]
    },
    {
     "name": "stderr",
     "output_type": "stream",
     "text": [
      "[I 2023-07-30 13:39:09,678] Trial 7 finished with value: -1.3415383296816763 and parameters: {'max_depth': 3, 'num_leaves': 63, 'subsample': 0.8, 'colsample_bytree': 0.8, 'reg_alpha': 0.004402576227061362, 'reg_lambda': 0.014310504913827808}. Best is trial 7 with value: -1.3415383296816763.\n"
     ]
    },
    {
     "name": "stdout",
     "output_type": "stream",
     "text": [
      "1.349487217772852\n"
     ]
    },
    {
     "name": "stderr",
     "output_type": "stream",
     "text": [
      "[I 2023-07-30 13:39:09,946] Trial 9 finished with value: -1.2538102550482866 and parameters: {'max_depth': 5, 'num_leaves': 63, 'subsample': 0.8, 'colsample_bytree': 0.8, 'reg_alpha': 0.5326965312178141, 'reg_lambda': 0.07050312883757939}. Best is trial 7 with value: -1.3415383296816763.\n"
     ]
    },
    {
     "name": "stdout",
     "output_type": "stream",
     "text": [
      "1.2895314950312848\n"
     ]
    },
    {
     "name": "stderr",
     "output_type": "stream",
     "text": [
      "[I 2023-07-30 13:39:10,546] Trial 6 finished with value: -1.3416056623680692 and parameters: {'max_depth': 3, 'num_leaves': 127, 'subsample': 0.8, 'colsample_bytree': 0.8, 'reg_alpha': 0.0070238529879761155, 'reg_lambda': 0.30101560021008106}. Best is trial 6 with value: -1.3416056623680692.\n"
     ]
    },
    {
     "name": "stdout",
     "output_type": "stream",
     "text": [
      "1.3446498431465042\n"
     ]
    },
    {
     "name": "stderr",
     "output_type": "stream",
     "text": [
      "[I 2023-07-30 13:39:12,406] Trial 4 finished with value: -1.3340773965260175 and parameters: {'max_depth': 5, 'num_leaves': 31, 'subsample': 0.8, 'colsample_bytree': 0.8, 'reg_alpha': 0.04534440781830194, 'reg_lambda': 0.0026063162283280813}. Best is trial 6 with value: -1.3416056623680692.\n",
      "[I 2023-07-30 13:39:12,408] A new study created in memory with name: no-name-b461c9dc-eda3-48f4-aa96-7deaee310183\n"
     ]
    },
    {
     "name": "stdout",
     "output_type": "stream",
     "text": [
      "1.331871592148103\n",
      "1.2606513591257882\n",
      "1.1277476301597045\n",
      "1.2733528141973636\n",
      "1.1277476301597045\n",
      "0.9961803182529751\n",
      "0.9961803182529751\n",
      "1.2411999196737837\n",
      "1.027021086591511\n",
      "1.027021086591511\n",
      "0.98374746355812\n",
      "1.2594527233053343\n",
      "1.2602026692367687\n",
      "1.2529426228961558\n"
     ]
    },
    {
     "name": "stderr",
     "output_type": "stream",
     "text": [
      "[I 2023-07-30 13:39:38,912] Trial 2 finished with value: -1.0439922172401273 and parameters: {'max_depth': 3, 'num_leaves': 7, 'subsample': 0.8, 'colsample_bytree': 0.8, 'reg_alpha': 4.239129470257518, 'reg_lambda': 0.0202256342261858}. Best is trial 2 with value: -1.0439922172401273.\n"
     ]
    },
    {
     "name": "stdout",
     "output_type": "stream",
     "text": [
      "1.1277476301597045\n",
      "1.085264587638326\n",
      "1.2581031134285976\n",
      "1.2279394990785573\n",
      "1.2942244035177422\n",
      "1.1454142021338498\n",
      "1.2426721556221219\n",
      "1.1829645707490026\n"
     ]
    },
    {
     "name": "stderr",
     "output_type": "stream",
     "text": [
      "[I 2023-07-30 13:39:49,374] Trial 1 finished with value: -1.115371069757082 and parameters: {'max_depth': 3, 'num_leaves': 7, 'subsample': 0.8, 'colsample_bytree': 0.8, 'reg_alpha': 1.303260703287999, 'reg_lambda': 0.032154215156924945}. Best is trial 1 with value: -1.115371069757082.\n"
     ]
    },
    {
     "name": "stdout",
     "output_type": "stream",
     "text": [
      "1.1979668147026614\n",
      "1.2413747482247743\n",
      "1.2535437471637494\n",
      "1.2758721477341566\n",
      "1.301083983624512\n",
      "1.2856303164810776\n",
      "1.2994624173691807\n",
      "1.2701397488324417\n",
      "1.2719603420328438\n",
      "1.223150807258038\n",
      "1.3027372973590514\n",
      "1.2994350515874593\n",
      "1.3928929067465023\n",
      "1.3981155344940221\n",
      "1.3444690358205942\n",
      "1.3916495096855481\n"
     ]
    },
    {
     "name": "stderr",
     "output_type": "stream",
     "text": [
      "[I 2023-07-30 13:40:20,890] Trial 9 finished with value: -1.304958817680809 and parameters: {'max_depth': 3, 'num_leaves': 7, 'subsample': 0.8, 'colsample_bytree': 0.8, 'reg_alpha': 0.04170646680653875, 'reg_lambda': 0.1715732090320175}. Best is trial 9 with value: -1.304958817680809.\n"
     ]
    },
    {
     "name": "stdout",
     "output_type": "stream",
     "text": [
      "1.2953928748415042\n",
      "1.3891099949474905\n",
      "1.3732731391453488\n",
      "1.2885042794177564\n",
      "1.3841099608122964\n"
     ]
    },
    {
     "name": "stderr",
     "output_type": "stream",
     "text": [
      "[I 2023-07-30 13:40:26,559] Trial 6 finished with value: -1.232585048382455 and parameters: {'max_depth': 5, 'num_leaves': 63, 'subsample': 0.8, 'colsample_bytree': 0.8, 'reg_alpha': 0.5952285618356938, 'reg_lambda': 0.4090910563179194}. Best is trial 9 with value: -1.304958817680809.\n"
     ]
    },
    {
     "name": "stdout",
     "output_type": "stream",
     "text": [
      "1.259664057317049\n"
     ]
    },
    {
     "name": "stderr",
     "output_type": "stream",
     "text": [
      "[I 2023-07-30 13:40:26,851] Trial 7 finished with value: -1.2805022982603185 and parameters: {'max_depth': 5, 'num_leaves': 127, 'subsample': 0.8, 'colsample_bytree': 0.8, 'reg_alpha': 0.002686915818430388, 'reg_lambda': 0.025694448177470523}. Best is trial 9 with value: -1.304958817680809.\n"
     ]
    },
    {
     "name": "stdout",
     "output_type": "stream",
     "text": [
      "1.298304938729265\n"
     ]
    },
    {
     "name": "stderr",
     "output_type": "stream",
     "text": [
      "[I 2023-07-30 13:40:27,213] Trial 4 finished with value: -1.305417122016598 and parameters: {'max_depth': 5, 'num_leaves': 63, 'subsample': 0.8, 'colsample_bytree': 0.8, 'reg_alpha': 0.09403943800973187, 'reg_lambda': 0.002534728995220366}. Best is trial 4 with value: -1.305417122016598.\n"
     ]
    },
    {
     "name": "stdout",
     "output_type": "stream",
     "text": [
      "1.2980517305938268\n"
     ]
    },
    {
     "name": "stderr",
     "output_type": "stream",
     "text": [
      "[I 2023-07-30 13:40:29,983] Trial 8 finished with value: -1.296717067202437 and parameters: {'max_depth': 5, 'num_leaves': 127, 'subsample': 0.8, 'colsample_bytree': 0.8, 'reg_alpha': 0.012137138994474767, 'reg_lambda': 1.5382089778434536}. Best is trial 4 with value: -1.305417122016598.\n"
     ]
    },
    {
     "name": "stdout",
     "output_type": "stream",
     "text": [
      "1.2885539194173306\n"
     ]
    },
    {
     "name": "stderr",
     "output_type": "stream",
     "text": [
      "[I 2023-07-30 13:40:34,750] Trial 3 finished with value: -1.3066968627701954 and parameters: {'max_depth': 5, 'num_leaves': 127, 'subsample': 0.8, 'colsample_bytree': 0.8, 'reg_alpha': 0.11093030668357164, 'reg_lambda': 0.0504630173274195}. Best is trial 3 with value: -1.3066968627701954.\n"
     ]
    },
    {
     "name": "stdout",
     "output_type": "stream",
     "text": [
      "1.310562238708703\n"
     ]
    },
    {
     "name": "stderr",
     "output_type": "stream",
     "text": [
      "[I 2023-07-30 13:40:35,351] Trial 0 finished with value: -1.2861035958969753 and parameters: {'max_depth': 7, 'num_leaves': 127, 'subsample': 0.8, 'colsample_bytree': 0.8, 'reg_alpha': 0.2897395914805222, 'reg_lambda': 0.009317809625295574}. Best is trial 3 with value: -1.3066968627701954.\n"
     ]
    },
    {
     "name": "stdout",
     "output_type": "stream",
     "text": [
      "1.4013519958973844\n",
      "1.2819609835587735\n"
     ]
    },
    {
     "name": "stderr",
     "output_type": "stream",
     "text": [
      "[I 2023-07-30 13:40:39,329] Trial 5 finished with value: -1.2897561106606708 and parameters: {'max_depth': 7, 'num_leaves': 63, 'subsample': 0.8, 'colsample_bytree': 0.8, 'reg_alpha': 0.014260989199814465, 'reg_lambda': 0.0048763703847624}. Best is trial 3 with value: -1.3066968627701954.\n",
      "[I 2023-07-30 13:40:39,331] A new study created in memory with name: no-name-0c41165c-cf74-4bad-b459-28b2ef89574a\n"
     ]
    },
    {
     "name": "stdout",
     "output_type": "stream",
     "text": [
      "1.2943987225054006\n",
      "1.12553914584031031.218240150476379\n",
      "\n",
      "1.2134319872890102\n",
      "1.1255391458403103\n",
      "1.1255391458403103\n",
      "1.2143823744724749\n",
      "0.9962428131906564\n",
      "0.9962428131906564\n",
      "1.251984276453575\n",
      "0.9962428131906564\n",
      "1.024945470343171\n",
      "1.252650806581633\n",
      "1.2165449373929034\n",
      "1.024945470343171\n",
      "1.2405122847469505\n",
      "1.2658781457070543\n",
      "0.9829615040808913\n",
      "1.1410790009654108\n",
      "1.2214636223362259\n",
      "1.2214849874892284\n"
     ]
    },
    {
     "name": "stderr",
     "output_type": "stream",
     "text": [
      "[I 2023-07-30 13:40:59,742] Trial 3 finished with value: -1.0429616075116743 and parameters: {'max_depth': 3, 'num_leaves': 31, 'subsample': 0.8, 'colsample_bytree': 0.8, 'reg_alpha': 5.718195218029642, 'reg_lambda': 0.007654032654059463}. Best is trial 3 with value: -1.0429616075116743.\n"
     ]
    },
    {
     "name": "stdout",
     "output_type": "stream",
     "text": [
      "1.0851191041033426\n",
      "1.2670303669073955\n",
      "1.2079363702054293\n",
      "1.2374194593707277\n",
      "1.2753510091709446\n",
      "1.2639091605274766\n",
      "0.9829615040808913\n",
      "1.2580440581922152\n",
      "1.2415798607791841\n",
      "1.1858631773009884\n",
      "1.3757275083215093\n",
      "1.358539824048408\n",
      "1.2699496988394872\n"
     ]
    },
    {
     "name": "stderr",
     "output_type": "stream",
     "text": [
      "[I 2023-07-30 13:41:20,285] Trial 5 finished with value: -1.1457675181199032 and parameters: {'max_depth': 5, 'num_leaves': 127, 'subsample': 0.8, 'colsample_bytree': 0.8, 'reg_alpha': 1.0870638881861998, 'reg_lambda': 0.001639774409484829}. Best is trial 5 with value: -1.1457675181199032.\n"
     ]
    },
    {
     "name": "stdout",
     "output_type": "stream",
     "text": [
      "1.207932572410923\n",
      "1.2687674999894154\n"
     ]
    },
    {
     "name": "stderr",
     "output_type": "stream",
     "text": [
      "[I 2023-07-30 13:41:23,017] Trial 6 finished with value: -1.0429616075116743 and parameters: {'max_depth': 5, 'num_leaves': 127, 'subsample': 0.8, 'colsample_bytree': 0.8, 'reg_alpha': 2.528798716313042, 'reg_lambda': 1.0497852980405022}. Best is trial 5 with value: -1.1457675181199032.\n"
     ]
    },
    {
     "name": "stdout",
     "output_type": "stream",
     "text": [
      "1.0851191041033426\n",
      "1.2404940269474847\n"
     ]
    },
    {
     "name": "stderr",
     "output_type": "stream",
     "text": [
      "[I 2023-07-30 13:41:26,135] Trial 0 finished with value: -1.2767677048398471 and parameters: {'max_depth': 3, 'num_leaves': 63, 'subsample': 0.8, 'colsample_bytree': 0.8, 'reg_alpha': 0.011927428807304984, 'reg_lambda': 0.17619258235302812}. Best is trial 0 with value: -1.2767677048398471.\n"
     ]
    },
    {
     "name": "stdout",
     "output_type": "stream",
     "text": [
      "1.2701896919123195\n",
      "1.345490334464299\n"
     ]
    },
    {
     "name": "stderr",
     "output_type": "stream",
     "text": [
      "[I 2023-07-30 13:41:29,586] Trial 2 finished with value: -1.2768654169724938 and parameters: {'max_depth': 5, 'num_leaves': 7, 'subsample': 0.8, 'colsample_bytree': 0.8, 'reg_alpha': 0.040986062248389514, 'reg_lambda': 0.10331679899579249}. Best is trial 2 with value: -1.2768654169724938.\n"
     ]
    },
    {
     "name": "stdout",
     "output_type": "stream",
     "text": [
      "1.2701757314635878\n",
      "1.2309305204672156\n",
      "1.3621629852349795\n",
      "1.3713165683377093\n",
      "1.327486901688539\n"
     ]
    },
    {
     "name": "stderr",
     "output_type": "stream",
     "text": [
      "[I 2023-07-30 13:41:37,149] Trial 1 finished with value: -1.2591839416529074 and parameters: {'max_depth': 5, 'num_leaves': 127, 'subsample': 0.8, 'colsample_bytree': 0.8, 'reg_alpha': 0.002255542662553212, 'reg_lambda': 0.0939709586486963}. Best is trial 2 with value: -1.2768654169724938.\n"
     ]
    },
    {
     "name": "stdout",
     "output_type": "stream",
     "text": [
      "1.2739539033958183\n"
     ]
    },
    {
     "name": "stderr",
     "output_type": "stream",
     "text": [
      "[I 2023-07-30 13:41:41,648] Trial 8 finished with value: -1.2784793779678387 and parameters: {'max_depth': 5, 'num_leaves': 31, 'subsample': 0.8, 'colsample_bytree': 0.8, 'reg_alpha': 0.10381096656810881, 'reg_lambda': 0.002317811457424601}. Best is trial 8 with value: -1.2784793779678387.\n"
     ]
    },
    {
     "name": "stdout",
     "output_type": "stream",
     "text": [
      "1.2570449593403723\n"
     ]
    },
    {
     "name": "stderr",
     "output_type": "stream",
     "text": [
      "[I 2023-07-30 13:41:42,501] Trial 7 finished with value: -1.2659664508906618 and parameters: {'max_depth': 5, 'num_leaves': 127, 'subsample': 0.8, 'colsample_bytree': 0.8, 'reg_alpha': 0.024710881244173144, 'reg_lambda': 0.1166924452112453}. Best is trial 8 with value: -1.2784793779678387.\n"
     ]
    },
    {
     "name": "stdout",
     "output_type": "stream",
     "text": [
      "1.2640846796777794\n"
     ]
    },
    {
     "name": "stderr",
     "output_type": "stream",
     "text": [
      "[I 2023-07-30 13:41:43,165] Trial 9 pruned. Trial was pruned at iteration 109.\n",
      "[I 2023-07-30 13:41:44,271] Trial 4 finished with value: -1.2627121047340644 and parameters: {'max_depth': 7, 'num_leaves': 127, 'subsample': 0.8, 'colsample_bytree': 0.8, 'reg_alpha': 0.3447929978027904, 'reg_lambda': 8.670584491097229}. Best is trial 8 with value: -1.2784793779678387.\n",
      "[I 2023-07-30 13:41:44,272] A new study created in memory with name: no-name-5a47ad3c-7083-433e-b97b-e57b52478f98\n"
     ]
    },
    {
     "name": "stdout",
     "output_type": "stream",
     "text": [
      "1.2561758592099963\n",
      "1.1729914171249405\n",
      "1.1721060126479608\n",
      "1.1231957034476112\n",
      "1.1882695654331306\n",
      "0.9956610698280053\n",
      "1.0239104587252987\n",
      "1.1801085718527076\n",
      "1.2357520937040922\n",
      "1.2314324126303875\n",
      "1.186720768555277\n",
      "0.9819698143869258\n",
      "1.1996940545237402\n",
      "1.1811031705620247\n"
     ]
    },
    {
     "name": "stderr",
     "output_type": "stream",
     "text": [
      "[I 2023-07-30 13:42:03,119] Trial 9 finished with value: -1.041925926597101 and parameters: {'max_depth': 7, 'num_leaves': 127, 'subsample': 0.8, 'colsample_bytree': 0.8, 'reg_alpha': 4.7733874486703245, 'reg_lambda': 1.433661179924911}. Best is trial 9 with value: -1.041925926597101.\n"
     ]
    },
    {
     "name": "stdout",
     "output_type": "stream",
     "text": [
      "1.084892586597665\n",
      "1.1670042095300523\n",
      "1.1795761978991273\n",
      "1.1097427427310738\n",
      "1.2413386895726577\n",
      "1.2520618692358043\n",
      "1.1228366501668012\n",
      "1.1575715838048186\n",
      "1.1969183358077302\n",
      "1.1511312612974303\n",
      "1.218671088603484\n",
      "1.0689335902209467\n",
      "1.16475302189315\n",
      "1.326691804358589\n",
      "1.3267573270075608\n",
      "1.2607694048398723\n",
      "1.2371121502482498\n",
      "1.1913812729147064\n"
     ]
    },
    {
     "name": "stderr",
     "output_type": "stream",
     "text": [
      "[I 2023-07-30 13:42:31,334] Trial 1 finished with value: -1.2441298597797978 and parameters: {'max_depth': 3, 'num_leaves': 63, 'subsample': 0.8, 'colsample_bytree': 0.8, 'reg_alpha': 0.01543696374269791, 'reg_lambda': 0.06273132309087773}. Best is trial 1 with value: -1.2441298597797978.\n"
     ]
    },
    {
     "name": "stdout",
     "output_type": "stream",
     "text": [
      "1.24387529413871\n",
      "1.325795677406016\n"
     ]
    },
    {
     "name": "stderr",
     "output_type": "stream",
     "text": [
      "[I 2023-07-30 13:42:34,407] Trial 5 finished with value: -1.247325006165299 and parameters: {'max_depth': 3, 'num_leaves': 63, 'subsample': 0.8, 'colsample_bytree': 0.8, 'reg_alpha': 0.020192478960916, 'reg_lambda': 0.8356479326330267}. Best is trial 5 with value: -1.247325006165299.\n"
     ]
    },
    {
     "name": "stdout",
     "output_type": "stream",
     "text": [
      "1.2381038565196119\n",
      "1.2156508388300165\n",
      "1.2043468603060703\n",
      "1.2369743695612387\n",
      "1.3394536456207167\n"
     ]
    },
    {
     "name": "stderr",
     "output_type": "stream",
     "text": [
      "[I 2023-07-30 13:42:44,250] Trial 2 finished with value: -1.2163218190945906 and parameters: {'max_depth': 5, 'num_leaves': 63, 'subsample': 0.8, 'colsample_bytree': 0.8, 'reg_alpha': 0.006715054503678034, 'reg_lambda': 0.09351730467397106}. Best is trial 5 with value: -1.247325006165299.\n"
     ]
    },
    {
     "name": "stdout",
     "output_type": "stream",
     "text": [
      "1.2472910148796719\n",
      "1.3497037946958486\n",
      "1.3405099678469532\n"
     ]
    },
    {
     "name": "stderr",
     "output_type": "stream",
     "text": [
      "[I 2023-07-30 13:42:50,926] Trial 6 finished with value: -1.2370283193562397 and parameters: {'max_depth': 5, 'num_leaves': 63, 'subsample': 0.8, 'colsample_bytree': 0.8, 'reg_alpha': 0.018333602007494138, 'reg_lambda': 0.018512678447964337}. Best is trial 5 with value: -1.247325006165299.\n"
     ]
    },
    {
     "name": "stdout",
     "output_type": "stream",
     "text": [
      "1.2406261939605145\n"
     ]
    },
    {
     "name": "stderr",
     "output_type": "stream",
     "text": [
      "[I 2023-07-30 13:42:52,651] Trial 4 pruned. Trial was pruned at iteration 94.\n",
      "[I 2023-07-30 13:42:53,873] Trial 0 pruned. Trial was pruned at iteration 0.\n",
      "[I 2023-07-30 13:42:54,084] Trial 7 pruned. Trial was pruned at iteration 94.\n",
      "[I 2023-07-30 13:42:54,397] Trial 3 pruned. Trial was pruned at iteration 94.\n",
      "[I 2023-07-30 13:42:54,603] Trial 8 finished with value: -1.24251533250411 and parameters: {'max_depth': 5, 'num_leaves': 31, 'subsample': 0.8, 'colsample_bytree': 0.8, 'reg_alpha': 0.036569172670076325, 'reg_lambda': 0.0022581278133200987}. Best is trial 5 with value: -1.247325006165299.\n",
      "[I 2023-07-30 13:42:54,605] A new study created in memory with name: no-name-86ab6beb-8e63-4e48-8634-c86b8a9cca8d\n"
     ]
    },
    {
     "name": "stdout",
     "output_type": "stream",
     "text": [
      "1.2291483272449821\n",
      "1.1220633790511976\n",
      "1.1961632708367127\n",
      "1.1752065692517215\n",
      "1.1220633790511976\n",
      "1.1220633790511976\n",
      "1.1545675243198048\n",
      "1.1714409077114303\n",
      "1.1595274448387454\n",
      "0.99446942469248\n",
      "1.167958468156034\n",
      "0.99446942469248\n",
      "1.1756370493308475\n",
      "0.99446942469248\n",
      "1.023571222328467\n",
      "1.1958197856323443\n",
      "1.2041428377130625\n",
      "1.2023573668642897\n",
      "1.1220633790511976\n",
      "1.1880013329496726\n",
      "1.212549532328001\n",
      "1.023571222328467\n",
      "1.1209692618126919\n",
      "1.2005451066484074\n",
      "0.981282155583919\n",
      "1.216368986368873\n",
      "1.103523623378567\n",
      "1.1972454119575595\n",
      "1.2222819812869965\n",
      "1.207885478237306\n",
      "0.981282155583919\n",
      "1.1893921454772607\n",
      "1.2883980012894083\n"
     ]
    },
    {
     "name": "stderr",
     "output_type": "stream",
     "text": [
      "[I 2023-07-30 13:43:27,079] Trial 1 finished with value: -1.0413120915436502 and parameters: {'max_depth': 7, 'num_leaves': 31, 'subsample': 0.8, 'colsample_bytree': 0.8, 'reg_alpha': 4.489669932885423, 'reg_lambda': 0.0019176744083234396}. Best is trial 1 with value: -1.0413120915436502.\n"
     ]
    },
    {
     "name": "stdout",
     "output_type": "stream",
     "text": [
      "1.0851742760621874\n",
      "1.178484268678795\n",
      "0.981282155583919\n"
     ]
    },
    {
     "name": "stderr",
     "output_type": "stream",
     "text": [
      "[I 2023-07-30 13:43:35,862] Trial 9 finished with value: -1.0413120915436502 and parameters: {'max_depth': 5, 'num_leaves': 127, 'subsample': 0.8, 'colsample_bytree': 0.8, 'reg_alpha': 7.052714093198553, 'reg_lambda': 0.0013084203159791964}. Best is trial 1 with value: -1.0413120915436502.\n"
     ]
    },
    {
     "name": "stdout",
     "output_type": "stream",
     "text": [
      "1.0851742760621874\n"
     ]
    },
    {
     "name": "stderr",
     "output_type": "stream",
     "text": [
      "[I 2023-07-30 13:43:41,709] Trial 8 finished with value: -1.0742185686905728 and parameters: {'max_depth': 7, 'num_leaves': 7, 'subsample': 0.8, 'colsample_bytree': 0.8, 'reg_alpha': 1.9416802517087044, 'reg_lambda': 0.002200729028500136}. Best is trial 8 with value: -1.0742185686905728.\n"
     ]
    },
    {
     "name": "stdout",
     "output_type": "stream",
     "text": [
      "1.1523086223125756\n",
      "1.3114662458555517\n",
      "1.3121195918225186\n",
      "1.3104062181630398\n",
      "1.3171575822331207\n",
      "1.286128182282503\n"
     ]
    },
    {
     "name": "stderr",
     "output_type": "stream",
     "text": [
      "[I 2023-07-30 13:43:46,796] Trial 2 finished with value: -1.2044767734903261 and parameters: {'max_depth': 3, 'num_leaves': 127, 'subsample': 0.8, 'colsample_bytree': 0.8, 'reg_alpha': 0.6291645287122145, 'reg_lambda': 0.0021216881789096406}. Best is trial 2 with value: -1.2044767734903261.\n"
     ]
    },
    {
     "name": "stdout",
     "output_type": "stream",
     "text": [
      "1.1825971409312455\n",
      "1.3037332752311164\n"
     ]
    },
    {
     "name": "stderr",
     "output_type": "stream",
     "text": [
      "[I 2023-07-30 13:43:51,099] Trial 3 finished with value: -1.2215010244770623 and parameters: {'max_depth': 3, 'num_leaves': 127, 'subsample': 0.8, 'colsample_bytree': 0.8, 'reg_alpha': 0.13604840372045096, 'reg_lambda': 0.031243925913992974}. Best is trial 3 with value: -1.2215010244770623.\n"
     ]
    },
    {
     "name": "stdout",
     "output_type": "stream",
     "text": [
      "1.199958620667043\n"
     ]
    },
    {
     "name": "stderr",
     "output_type": "stream",
     "text": [
      "[I 2023-07-30 13:43:52,555] Trial 6 finished with value: -1.2227019026960693 and parameters: {'max_depth': 3, 'num_leaves': 31, 'subsample': 0.8, 'colsample_bytree': 0.8, 'reg_alpha': 0.0040268655241204, 'reg_lambda': 0.24081146769399783}. Best is trial 6 with value: -1.2227019026960693.\n"
     ]
    },
    {
     "name": "stdout",
     "output_type": "stream",
     "text": [
      "1.2129964429364875\n"
     ]
    },
    {
     "name": "stderr",
     "output_type": "stream",
     "text": [
      "[I 2023-07-30 13:43:53,088] Trial 7 pruned. Trial was pruned at iteration 0.\n",
      "[I 2023-07-30 13:43:53,636] Trial 4 finished with value: -1.216827639337517 and parameters: {'max_depth': 3, 'num_leaves': 31, 'subsample': 0.8, 'colsample_bytree': 0.8, 'reg_alpha': 0.06827068039492763, 'reg_lambda': 0.0011291175159546492}. Best is trial 6 with value: -1.2227019026960693.\n"
     ]
    },
    {
     "name": "stdout",
     "output_type": "stream",
     "text": [
      "1.2069756822035231\n"
     ]
    },
    {
     "name": "stderr",
     "output_type": "stream",
     "text": [
      "[I 2023-07-30 13:43:54,907] Trial 5 finished with value: -1.2188126983224234 and parameters: {'max_depth': 3, 'num_leaves': 63, 'subsample': 0.8, 'colsample_bytree': 0.8, 'reg_alpha': 0.0015338205627282613, 'reg_lambda': 4.1795064137057105}. Best is trial 6 with value: -1.2227019026960693.\n"
     ]
    },
    {
     "name": "stdout",
     "output_type": "stream",
     "text": [
      "1.2159902148696302\n"
     ]
    },
    {
     "name": "stderr",
     "output_type": "stream",
     "text": [
      "[I 2023-07-30 13:43:56,583] Trial 0 finished with value: -1.216132235092768 and parameters: {'max_depth': 7, 'num_leaves': 63, 'subsample': 0.8, 'colsample_bytree': 0.8, 'reg_alpha': 0.3381357652104625, 'reg_lambda': 7.4008890374727825}. Best is trial 6 with value: -1.2227019026960693.\n",
      "[I 2023-07-30 13:43:56,585] A new study created in memory with name: no-name-cbc0c42a-9758-4242-8a97-2f2a6cab31e4\n"
     ]
    },
    {
     "name": "stdout",
     "output_type": "stream",
     "text": [
      "1.2033711509690774\n",
      "1.1512658450146473\n",
      "1.1508685207944935\n",
      "1.1207718367148853\n",
      "1.1758689050718214\n",
      "0.99393810877505951.1689392212166747\n",
      "\n",
      "0.9939381087750595\n",
      "1.1385111390363072\n",
      "1.1643140087125445\n",
      "1.15467868156685\n",
      "1.1777734293977307\n",
      "1.0231336471506856\n",
      "1.169548423292117\n",
      "1.1522972924520605\n",
      "1.174679871618922\n",
      "1.1432681367419777\n",
      "0.9811604847541882\n",
      "1.0225205236601578\n",
      "1.1890418151092905\n",
      "1.0361551305039367\n",
      "1.1702393486348583\n"
     ]
    },
    {
     "name": "stderr",
     "output_type": "stream",
     "text": [
      "[I 2023-07-30 13:44:23,616] Trial 2 finished with value: -1.040997129147041 and parameters: {'max_depth': 7, 'num_leaves': 31, 'subsample': 0.8, 'colsample_bytree': 0.8, 'reg_alpha': 7.6866075675642165, 'reg_lambda': 0.07834233377399462}. Best is trial 2 with value: -1.040997129147041.\n"
     ]
    },
    {
     "name": "stdout",
     "output_type": "stream",
     "text": [
      "1.0859815683403855\n",
      "1.2085245196827625\n",
      "1.1547609008893915\n",
      "1.1917371348074224\n",
      "1.1969156340977871\n",
      "1.2054658931688345\n",
      "1.060498239597118\n",
      "1.3000707862518415\n",
      "1.2059521942123366\n",
      "1.2076467409958958\n",
      "1.2809754559698465\n",
      "1.2643225106338893\n",
      "1.2168110193724464\n"
     ]
    },
    {
     "name": "stderr",
     "output_type": "stream",
     "text": [
      "[I 2023-07-30 13:44:53,166] Trial 0 finished with value: -1.1662578658443299 and parameters: {'max_depth': 7, 'num_leaves': 7, 'subsample': 0.8, 'colsample_bytree': 0.8, 'reg_alpha': 0.0017946109875116591, 'reg_lambda': 1.7658323970750736}. Best is trial 0 with value: -1.1662578658443299.\n"
     ]
    },
    {
     "name": "stdout",
     "output_type": "stream",
     "text": [
      "1.1969727740708116\n",
      "1.2962888296583845\n"
     ]
    },
    {
     "name": "stderr",
     "output_type": "stream",
     "text": [
      "[I 2023-07-30 13:44:54,680] Trial 8 finished with value: -1.204242873674552 and parameters: {'max_depth': 3, 'num_leaves': 31, 'subsample': 0.8, 'colsample_bytree': 0.8, 'reg_alpha': 0.08582847119833054, 'reg_lambda': 0.0018229042380692962}. Best is trial 8 with value: -1.204242873674552.\n"
     ]
    },
    {
     "name": "stdout",
     "output_type": "stream",
     "text": [
      "1.1932267482113592\n"
     ]
    },
    {
     "name": "stderr",
     "output_type": "stream",
     "text": [
      "[I 2023-07-30 13:44:57,279] Trial 9 finished with value: -1.197060398691303 and parameters: {'max_depth': 3, 'num_leaves': 31, 'subsample': 0.8, 'colsample_bytree': 0.8, 'reg_alpha': 0.3862337570916323, 'reg_lambda': 0.3181196976494814}. Best is trial 8 with value: -1.204242873674552.\n"
     ]
    },
    {
     "name": "stdout",
     "output_type": "stream",
     "text": [
      "1.1786935713244593\n",
      "1.2866505505148507\n",
      "1.2782329483684598\n",
      "1.2901864410039698\n",
      "1.1696222897860165\n"
     ]
    },
    {
     "name": "stderr",
     "output_type": "stream",
     "text": [
      "[I 2023-07-30 13:45:02,157] Trial 4 finished with value: -1.1688880030514763 and parameters: {'max_depth': 5, 'num_leaves': 127, 'subsample': 0.8, 'colsample_bytree': 0.8, 'reg_alpha': 0.003025638449376261, 'reg_lambda': 0.6246051530635679}. Best is trial 8 with value: -1.204242873674552.\n"
     ]
    },
    {
     "name": "stdout",
     "output_type": "stream",
     "text": [
      "1.1902038888047448\n",
      "1.270409613066399\n"
     ]
    },
    {
     "name": "stderr",
     "output_type": "stream",
     "text": [
      "[I 2023-07-30 13:45:06,105] Trial 6 finished with value: -1.1758677816940069 and parameters: {'max_depth': 5, 'num_leaves': 127, 'subsample': 0.8, 'colsample_bytree': 0.8, 'reg_alpha': 0.001771981557215602, 'reg_lambda': 4.435839911522827}. Best is trial 8 with value: -1.204242873674552.\n"
     ]
    },
    {
     "name": "stdout",
     "output_type": "stream",
     "text": [
      "1.194207804888501\n"
     ]
    },
    {
     "name": "stderr",
     "output_type": "stream",
     "text": [
      "[I 2023-07-30 13:45:09,650] Trial 7 finished with value: -1.2059125013912824 and parameters: {'max_depth': 5, 'num_leaves': 63, 'subsample': 0.8, 'colsample_bytree': 0.8, 'reg_alpha': 0.21218643452746677, 'reg_lambda': 7.501669167194648}. Best is trial 7 with value: -1.2059125013912824.\n"
     ]
    },
    {
     "name": "stdout",
     "output_type": "stream",
     "text": [
      "1.1973645863430258\n"
     ]
    },
    {
     "name": "stderr",
     "output_type": "stream",
     "text": [
      "[I 2023-07-30 13:45:10,827] Trial 1 finished with value: -1.200023554156592 and parameters: {'max_depth': 7, 'num_leaves': 31, 'subsample': 0.8, 'colsample_bytree': 0.8, 'reg_alpha': 0.09294204180701124, 'reg_lambda': 7.325197236163803}. Best is trial 7 with value: -1.2059125013912824.\n"
     ]
    },
    {
     "name": "stdout",
     "output_type": "stream",
     "text": [
      "1.2012996233636026\n"
     ]
    },
    {
     "name": "stderr",
     "output_type": "stream",
     "text": [
      "[I 2023-07-30 13:45:11,798] Trial 3 pruned. Trial was pruned at iteration 76.\n",
      "[I 2023-07-30 13:45:12,215] Trial 5 finished with value: -1.2041911400497614 and parameters: {'max_depth': 7, 'num_leaves': 63, 'subsample': 0.8, 'colsample_bytree': 0.8, 'reg_alpha': 0.08234688774236573, 'reg_lambda': 0.00585276803978409}. Best is trial 7 with value: -1.2059125013912824.\n"
     ]
    },
    {
     "name": "stdout",
     "output_type": "stream",
     "text": [
      "1.2146601582080256\n",
      ">>>Done with 8 processes, and time taken is 664.5876989364624\n",
      "Time taken:  667.7686340808868 seconds\n"
     ]
    },
    {
     "name": "stderr",
     "output_type": "stream",
     "text": [
      "[I 2023-07-30 13:45:18,750] A new study created in memory with name: no-name-9395eef5-7be1-4965-9697-e878e40ed28d\n"
     ]
    },
    {
     "name": "stdout",
     "output_type": "stream",
     "text": [
      "1.0733116911307832\n",
      "1.152839006774446\n",
      "1.0538356301284217\n",
      "1.0733116911307832\n",
      "1.0733116911307832\n",
      "1.1749796899887563\n",
      "1.0510535235858747\n",
      "1.1686016675168673\n",
      "1.0364924401562057\n",
      "1.0364924401562057\n",
      "1.0364924401562057\n",
      "1.8611404691449565\n",
      "1.753118401345862\n",
      "1.3175266424481364\n",
      "1.252168202765386\n",
      "1.873231176679809\n",
      "0.9844559395340067\n",
      "0.9844559395340067\n",
      "0.9844559395340067\n",
      "1.8588019582207842\n",
      "1.8939213149600462\n",
      "1.6500317317853934\n",
      "0.9859348840346627\n",
      "0.9859348840346627\n",
      "0.9859348840346627\n",
      "1.7828577096630003\n",
      "1.5663561366989995\n"
     ]
    },
    {
     "name": "stderr",
     "output_type": "stream",
     "text": [
      "[I 2023-07-30 13:45:49,691] Trial 5 finished with value: -1.026548920984118 and parameters: {'max_depth': 3, 'num_leaves': 7, 'subsample': 0.8, 'colsample_bytree': 0.8, 'reg_alpha': 6.090887300450247, 'reg_lambda': 0.0022500999398143355}. Best is trial 5 with value: -1.026548920984118.\n"
     ]
    },
    {
     "name": "stdout",
     "output_type": "stream",
     "text": [
      "1.0525496500649325\n",
      "1.674028583469882\n",
      "1.753540054247134\n"
     ]
    },
    {
     "name": "stderr",
     "output_type": "stream",
     "text": [
      "[I 2023-07-30 13:45:50,913] Trial 3 finished with value: -1.026548920984118 and parameters: {'max_depth': 3, 'num_leaves': 63, 'subsample': 0.8, 'colsample_bytree': 0.8, 'reg_alpha': 2.92989391697677, 'reg_lambda': 2.692745617429408}. Best is trial 5 with value: -1.026548920984118.\n"
     ]
    },
    {
     "name": "stdout",
     "output_type": "stream",
     "text": [
      "1.0525496500649325\n"
     ]
    },
    {
     "name": "stderr",
     "output_type": "stream",
     "text": [
      "[I 2023-07-30 13:45:51,907] Trial 6 finished with value: -1.026548920984118 and parameters: {'max_depth': 5, 'num_leaves': 7, 'subsample': 0.8, 'colsample_bytree': 0.8, 'reg_alpha': 3.533597607501575, 'reg_lambda': 1.6194094909404728}. Best is trial 5 with value: -1.026548920984118.\n"
     ]
    },
    {
     "name": "stdout",
     "output_type": "stream",
     "text": [
      "1.82800133680801661.0525496500649325\n",
      "\n",
      "1.6362009853754476\n",
      "1.796319630419342\n",
      "1.8070769608868407\n",
      "1.98547009993273\n",
      "1.9260926763331732\n",
      "1.9395025095616916\n",
      "1.9564008071346457\n"
     ]
    },
    {
     "name": "stderr",
     "output_type": "stream",
     "text": [
      "[I 2023-07-30 13:46:14,486] Trial 9 finished with value: -1.7359094260037213 and parameters: {'max_depth': 3, 'num_leaves': 7, 'subsample': 0.8, 'colsample_bytree': 0.8, 'reg_alpha': 0.15302938213346579, 'reg_lambda': 0.011876612509461154}. Best is trial 9 with value: -1.7359094260037213.\n"
     ]
    },
    {
     "name": "stdout",
     "output_type": "stream",
     "text": [
      "1.8972398445034742\n",
      "2.01538124249171\n",
      "2.0466750848071165\n"
     ]
    },
    {
     "name": "stderr",
     "output_type": "stream",
     "text": [
      "[I 2023-07-30 13:46:16,981] Trial 4 finished with value: -1.6761208353899728 and parameters: {'max_depth': 5, 'num_leaves': 127, 'subsample': 0.8, 'colsample_bytree': 0.8, 'reg_alpha': 0.2838250871561626, 'reg_lambda': 0.781283314761746}. Best is trial 9 with value: -1.7359094260037213.\n",
      "[I 2023-07-30 13:46:16,988] Trial 0 pruned. Trial was pruned at iteration 127.\n"
     ]
    },
    {
     "name": "stdout",
     "output_type": "stream",
     "text": [
      "1.8782829825960299\n",
      "2.0142824751995896\n"
     ]
    },
    {
     "name": "stderr",
     "output_type": "stream",
     "text": [
      "[I 2023-07-30 13:46:22,902] Trial 1 finished with value: -1.699635800244079 and parameters: {'max_depth': 5, 'num_leaves': 127, 'subsample': 0.8, 'colsample_bytree': 0.8, 'reg_alpha': 0.2542082189920299, 'reg_lambda': 0.854212926903289}. Best is trial 9 with value: -1.7359094260037213.\n"
     ]
    },
    {
     "name": "stdout",
     "output_type": "stream",
     "text": [
      "1.8770383460769509\n"
     ]
    },
    {
     "name": "stderr",
     "output_type": "stream",
     "text": [
      "[I 2023-07-30 13:46:34,437] Trial 7 finished with value: -1.7630836939412293 and parameters: {'max_depth': 5, 'num_leaves': 63, 'subsample': 0.8, 'colsample_bytree': 0.8, 'reg_alpha': 0.02295029349626852, 'reg_lambda': 0.1737764800217023}. Best is trial 7 with value: -1.7630836939412293.\n"
     ]
    },
    {
     "name": "stdout",
     "output_type": "stream",
     "text": [
      "1.8991434415352764\n"
     ]
    },
    {
     "name": "stderr",
     "output_type": "stream",
     "text": [
      "[I 2023-07-30 13:46:41,192] Trial 2 finished with value: -1.724854281937667 and parameters: {'max_depth': 5, 'num_leaves': 63, 'subsample': 0.8, 'colsample_bytree': 0.8, 'reg_alpha': 0.05453398221269558, 'reg_lambda': 0.218892053897666}. Best is trial 7 with value: -1.7630836939412293.\n"
     ]
    },
    {
     "name": "stdout",
     "output_type": "stream",
     "text": [
      "1.9038138222627445\n"
     ]
    },
    {
     "name": "stderr",
     "output_type": "stream",
     "text": [
      "[I 2023-07-30 13:46:57,674] Trial 8 finished with value: -1.7313592194552103 and parameters: {'max_depth': 5, 'num_leaves': 63, 'subsample': 0.8, 'colsample_bytree': 0.8, 'reg_alpha': 0.07415242042383502, 'reg_lambda': 0.057987602498582064}. Best is trial 7 with value: -1.7630836939412293.\n",
      "[I 2023-07-30 13:46:57,674] A new study created in memory with name: no-name-78f4c810-8ac3-4fc8-b547-be7c8a94d4e0\n"
     ]
    },
    {
     "name": "stdout",
     "output_type": "stream",
     "text": [
      "1.8863467111680947\n",
      "1.076703654480399\n",
      "1.2840074621968718\n",
      "1.24384002110361\n",
      "1.076703654480399\n",
      "1.2840074621968718\n",
      "1.2840074621968718\n",
      "1.29327849679548021.2932784967954802\n",
      "\n",
      "1.2567481825456603\n",
      "1.0422379867119131\n",
      "1.2678428210211212\n",
      "1.0422379867119131\n",
      "1.690805661449203\n",
      "0.9863646354017872\n",
      "0.9863646354017872\n",
      "1.7166645674138872\n",
      "1.7298614484020574\n",
      "1.7045069311617977\n",
      "1.7132242664764599\n",
      "1.7294663202763987\n",
      "0.9867334308519187\n",
      "0.9867334308519187\n",
      "1.6128880260135157\n",
      "1.7167039329367713\n",
      "1.6828162093137289\n"
     ]
    },
    {
     "name": "stderr",
     "output_type": "stream",
     "text": [
      "[I 2023-07-30 13:47:32,300] Trial 1 finished with value: -1.0294737354921135 and parameters: {'max_depth': 5, 'num_leaves': 127, 'subsample': 0.8, 'colsample_bytree': 0.8, 'reg_alpha': 3.4420279312955553, 'reg_lambda': 0.03884502518196877}. Best is trial 1 with value: -1.0294737354921135.\n"
     ]
    },
    {
     "name": "stdout",
     "output_type": "stream",
     "text": [
      "1.0553289700145498\n",
      "1.638883167603507\n"
     ]
    },
    {
     "name": "stderr",
     "output_type": "stream",
     "text": [
      "[I 2023-07-30 13:47:34,199] Trial 8 finished with value: -1.0294737354921135 and parameters: {'max_depth': 7, 'num_leaves': 63, 'subsample': 0.8, 'colsample_bytree': 0.8, 'reg_alpha': 8.880694095504008, 'reg_lambda': 0.05949864963794657}. Best is trial 1 with value: -1.0294737354921135.\n"
     ]
    },
    {
     "name": "stdout",
     "output_type": "stream",
     "text": [
      "1.0553289700145498\n",
      "1.626458248060806\n",
      "1.6064847128705368\n",
      "1.6212967087526922\n",
      "1.6278801626977666\n",
      "1.7329227166507568\n",
      "1.7598585346997027\n",
      "1.7217228395158095\n",
      "1.7355657957289718\n",
      "1.6577233121135384\n",
      "1.7376396937743959\n"
     ]
    },
    {
     "name": "stderr",
     "output_type": "stream",
     "text": [
      "[I 2023-07-30 13:47:56,517] Trial 0 finished with value: -1.5883752422999542 and parameters: {'max_depth': 3, 'num_leaves': 127, 'subsample': 0.8, 'colsample_bytree': 0.8, 'reg_alpha': 0.0012312013182636577, 'reg_lambda': 0.006867690725073996}. Best is trial 0 with value: -1.5883752422999542.\n"
     ]
    },
    {
     "name": "stdout",
     "output_type": "stream",
     "text": [
      "1.6212523451894238\n",
      "1.6241497578162738\n"
     ]
    },
    {
     "name": "stderr",
     "output_type": "stream",
     "text": [
      "[I 2023-07-30 13:47:59,410] Trial 3 finished with value: -1.6121339761384152 and parameters: {'max_depth': 3, 'num_leaves': 31, 'subsample': 0.8, 'colsample_bytree': 0.8, 'reg_alpha': 0.0012440805120392754, 'reg_lambda': 0.4601106536749843}. Best is trial 3 with value: -1.6121339761384152.\n"
     ]
    },
    {
     "name": "stdout",
     "output_type": "stream",
     "text": [
      "1.6480592677899377\n",
      "1.6179868900996706\n"
     ]
    },
    {
     "name": "stderr",
     "output_type": "stream",
     "text": [
      "[I 2023-07-30 13:47:59,598] Trial 4 finished with value: -1.5909364742069911 and parameters: {'max_depth': 3, 'num_leaves': 31, 'subsample': 0.8, 'colsample_bytree': 0.8, 'reg_alpha': 0.0033467521534235817, 'reg_lambda': 0.005507029064106136}. Best is trial 3 with value: -1.6121339761384152.\n",
      "[I 2023-07-30 13:47:59,598] Trial 5 pruned. Trial was pruned at iteration 105.\n",
      "[I 2023-07-30 13:48:02,989] Trial 7 finished with value: -1.5980206189406156 and parameters: {'max_depth': 3, 'num_leaves': 7, 'subsample': 0.8, 'colsample_bytree': 0.8, 'reg_alpha': 0.0047630162448035335, 'reg_lambda': 0.03649918267670812}. Best is trial 3 with value: -1.6121339761384152.\n"
     ]
    },
    {
     "name": "stdout",
     "output_type": "stream",
     "text": [
      "1.6180804749589761\n",
      "1.8191807707448646\n",
      "1.726825926989962\n"
     ]
    },
    {
     "name": "stderr",
     "output_type": "stream",
     "text": [
      "[I 2023-07-30 13:48:06,174] Trial 9 pruned. Trial was pruned at iteration 216.\n",
      "[I 2023-07-30 13:48:10,272] Trial 6 finished with value: -1.5907214871198658 and parameters: {'max_depth': 5, 'num_leaves': 127, 'subsample': 0.8, 'colsample_bytree': 0.8, 'reg_alpha': 0.004352128454761223, 'reg_lambda': 0.010058642793381877}. Best is trial 3 with value: -1.6121339761384152.\n"
     ]
    },
    {
     "name": "stdout",
     "output_type": "stream",
     "text": [
      "1.595606081013397\n"
     ]
    },
    {
     "name": "stderr",
     "output_type": "stream",
     "text": [
      "[I 2023-07-30 13:48:11,872] Trial 2 finished with value: -1.6086759961303319 and parameters: {'max_depth': 7, 'num_leaves': 7, 'subsample': 0.8, 'colsample_bytree': 0.8, 'reg_alpha': 0.06508700164503507, 'reg_lambda': 0.3566303385756416}. Best is trial 3 with value: -1.6121339761384152.\n",
      "[I 2023-07-30 13:48:11,872] A new study created in memory with name: no-name-9088ffaf-2326-44a2-8214-db7c9f3ff515\n"
     ]
    },
    {
     "name": "stdout",
     "output_type": "stream",
     "text": [
      "1.6423979126366053\n",
      "1.2264574204745684\n",
      "1.0788569298067092\n",
      "1.0788569298067092\n",
      "1.1866067426391647\n",
      "1.044348549737882\n",
      "1.148388298832046\n",
      "1.2123749669790111\n",
      "1.2467749239609094\n",
      "1.2054947180848035\n",
      "1.044348549737882\n",
      "1.2195956956111584\n",
      "0.9877299627739363\n",
      "1.1858102902640981\n",
      "0.9877299627739363\n",
      "1.547420744176446\n",
      "0.9873513862516005\n",
      "0.9873513862516005\n",
      "1.5375040614365096\n",
      "1.5555012490215416\n",
      "1.553639071858782\n"
     ]
    },
    {
     "name": "stderr",
     "output_type": "stream",
     "text": [
      "[I 2023-07-30 13:48:33,543] Trial 6 finished with value: -1.0314256367267272 and parameters: {'max_depth': 3, 'num_leaves': 31, 'subsample': 0.8, 'colsample_bytree': 0.8, 'reg_alpha': 3.419865045299754, 'reg_lambda': 0.021819332767539494}. Best is trial 6 with value: -1.0314256367267272.\n"
     ]
    },
    {
     "name": "stdout",
     "output_type": "stream",
     "text": [
      "1.0588413550635074\n",
      "1.5388015733255096\n",
      "1.5618960963529243\n",
      "1.5382568052443668\n",
      "1.5577956457795725\n",
      "1.5236874754554228\n",
      "1.5530823242147225\n",
      "1.5451290865321066\n",
      "1.5479538025744097\n"
     ]
    },
    {
     "name": "stderr",
     "output_type": "stream",
     "text": [
      "[I 2023-07-30 13:48:45,501] Trial 8 finished with value: -1.0743211058540578 and parameters: {'max_depth': 3, 'num_leaves': 63, 'subsample': 0.8, 'colsample_bytree': 0.8, 'reg_alpha': 2.2428449389025342, 'reg_lambda': 0.20888679454248096}. Best is trial 8 with value: -1.0743211058540578.\n"
     ]
    },
    {
     "name": "stdout",
     "output_type": "stream",
     "text": [
      "1.2733187007001616\n",
      "1.6032674557534068\n",
      "1.6266838626644566\n",
      "1.5435373230845144\n",
      "1.5472297438450233\n",
      "1.6295582283894028\n",
      "1.5545902460823213\n"
     ]
    },
    {
     "name": "stderr",
     "output_type": "stream",
     "text": [
      "[I 2023-07-30 13:49:00,346] Trial 9 finished with value: -1.4803291827150726 and parameters: {'max_depth': 3, 'num_leaves': 31, 'subsample': 0.8, 'colsample_bytree': 0.8, 'reg_alpha': 0.002148254335011585, 'reg_lambda': 0.014830239791713258}. Best is trial 9 with value: -1.4803291827150726.\n"
     ]
    },
    {
     "name": "stdout",
     "output_type": "stream",
     "text": [
      "1.5102505917685352\n"
     ]
    },
    {
     "name": "stderr",
     "output_type": "stream",
     "text": [
      "[I 2023-07-30 13:49:01,633] Trial 7 finished with value: -1.487170458558315 and parameters: {'max_depth': 3, 'num_leaves': 127, 'subsample': 0.8, 'colsample_bytree': 0.8, 'reg_alpha': 0.0034809511374058644, 'reg_lambda': 0.0012333908235036663}. Best is trial 7 with value: -1.487170458558315.\n"
     ]
    },
    {
     "name": "stdout",
     "output_type": "stream",
     "text": [
      "1.490072067074602\n",
      "1.5421068301372056\n",
      "1.6667717025088735\n",
      "1.6541840526629894\n",
      "1.6486261293055238\n"
     ]
    },
    {
     "name": "stderr",
     "output_type": "stream",
     "text": [
      "[I 2023-07-30 13:49:13,687] Trial 3 finished with value: -1.4822124861572061 and parameters: {'max_depth': 3, 'num_leaves': 31, 'subsample': 0.8, 'colsample_bytree': 0.8, 'reg_alpha': 0.18445896238372317, 'reg_lambda': 0.06242799643388118}. Best is trial 7 with value: -1.487170458558315.\n"
     ]
    },
    {
     "name": "stdout",
     "output_type": "stream",
     "text": [
      "1.5468935860626265\n",
      "1.7058500870047264\n"
     ]
    },
    {
     "name": "stderr",
     "output_type": "stream",
     "text": [
      "[I 2023-07-30 13:49:16,811] Trial 5 finished with value: -1.4817933122517772 and parameters: {'max_depth': 5, 'num_leaves': 63, 'subsample': 0.8, 'colsample_bytree': 0.8, 'reg_alpha': 0.0041691238029806475, 'reg_lambda': 0.12083883613112847}. Best is trial 7 with value: -1.487170458558315.\n"
     ]
    },
    {
     "name": "stdout",
     "output_type": "stream",
     "text": [
      "1.4890435925998733\n"
     ]
    },
    {
     "name": "stderr",
     "output_type": "stream",
     "text": [
      "[I 2023-07-30 13:49:17,534] Trial 1 finished with value: -1.4990337938383336 and parameters: {'max_depth': 5, 'num_leaves': 63, 'subsample': 0.8, 'colsample_bytree': 0.8, 'reg_alpha': 0.020004931681460784, 'reg_lambda': 0.04675861870326063}. Best is trial 1 with value: -1.4990337938383336.\n"
     ]
    },
    {
     "name": "stdout",
     "output_type": "stream",
     "text": [
      "1.5159558014800814\n"
     ]
    },
    {
     "name": "stderr",
     "output_type": "stream",
     "text": [
      "[I 2023-07-30 13:49:18,318] Trial 0 finished with value: -1.5066207850680517 and parameters: {'max_depth': 5, 'num_leaves': 31, 'subsample': 0.8, 'colsample_bytree': 0.8, 'reg_alpha': 0.09031038627867755, 'reg_lambda': 0.0025121650022695515}. Best is trial 0 with value: -1.5066207850680517.\n"
     ]
    },
    {
     "name": "stdout",
     "output_type": "stream",
     "text": [
      "1.536419750760866\n",
      "1.608286256154374\n"
     ]
    },
    {
     "name": "stderr",
     "output_type": "stream",
     "text": [
      "[I 2023-07-30 13:49:24,832] Trial 4 finished with value: -1.5216322442694257 and parameters: {'max_depth': 7, 'num_leaves': 127, 'subsample': 0.8, 'colsample_bytree': 0.8, 'reg_alpha': 0.10107407589185251, 'reg_lambda': 2.7597123718906658}. Best is trial 4 with value: -1.5216322442694257.\n"
     ]
    },
    {
     "name": "stdout",
     "output_type": "stream",
     "text": [
      "1.5431503185195994\n"
     ]
    },
    {
     "name": "stderr",
     "output_type": "stream",
     "text": [
      "[I 2023-07-30 13:49:25,993] Trial 2 finished with value: -1.4762862076337868 and parameters: {'max_depth': 7, 'num_leaves': 63, 'subsample': 0.8, 'colsample_bytree': 0.8, 'reg_alpha': 0.05030512111029925, 'reg_lambda': 9.798419798091627}. Best is trial 4 with value: -1.5216322442694257.\n",
      "[I 2023-07-30 13:49:25,993] A new study created in memory with name: no-name-b1e9048b-9cbc-4470-b7ac-315831149ed5\n"
     ]
    },
    {
     "name": "stdout",
     "output_type": "stream",
     "text": [
      "1.520743733782767\n",
      "1.175108084021419\n",
      "1.1635355987140725\n",
      "1.0805535406611373\n",
      "1.0805535406611373\n",
      "1.0805535406611373\n",
      "1.188959659092168\n",
      "1.1660833448572197\n",
      "1.169115379503852\n",
      "1.1439299245084262\n",
      "1.1963033167659125\n",
      "1.045547777027636\n",
      "1.045547777027636\n",
      "1.4710046666090664\n",
      "0.9891900620654059\n",
      "0.9891900620654059\n",
      "1.045547777027636\n",
      "1.4809800939314561\n",
      "0.9885817042267662\n",
      "1.4553291576526393\n",
      "1.3473048586585659\n",
      "1.2846569350030475\n",
      "1.481058821969917\n",
      "1.496984078909147\n",
      "0.9885817042267662\n",
      "1.4422520766062616\n",
      "1.4512523777307784\n",
      "1.4408881480570201\n",
      "1.4583318505955676\n"
     ]
    },
    {
     "name": "stderr",
     "output_type": "stream",
     "text": [
      "[I 2023-07-30 13:50:07,018] Trial 4 finished with value: -1.0744426744613995 and parameters: {'max_depth': 7, 'num_leaves': 127, 'subsample': 0.8, 'colsample_bytree': 0.8, 'reg_alpha': 2.849070709307294, 'reg_lambda': 0.569518163648743}. Best is trial 4 with value: -1.0744426744613995.\n"
     ]
    },
    {
     "name": "stdout",
     "output_type": "stream",
     "text": [
      "1.2683402883260522\n",
      "1.4501566467545688\n"
     ]
    },
    {
     "name": "stderr",
     "output_type": "stream",
     "text": [
      "[I 2023-07-30 13:50:08,022] Trial 5 finished with value: -1.0328679915061874 and parameters: {'max_depth': 7, 'num_leaves': 63, 'subsample': 0.8, 'colsample_bytree': 0.8, 'reg_alpha': 2.6538687926482365, 'reg_lambda': 0.16520296224223663}. Best is trial 4 with value: -1.0744426744613995.\n"
     ]
    },
    {
     "name": "stdout",
     "output_type": "stream",
     "text": [
      "1.0604668735499914\n",
      "1.483670726419585\n",
      "1.4377377453877953\n",
      "1.5088127564896223\n",
      "1.4342743900957844\n",
      "1.5656233311281507\n",
      "1.5643190029002443\n",
      "1.545324531519379\n",
      "1.5525256004580146\n"
     ]
    },
    {
     "name": "stderr",
     "output_type": "stream",
     "text": [
      "[I 2023-07-30 13:50:26,402] Trial 3 finished with value: -1.4183039220545226 and parameters: {'max_depth': 3, 'num_leaves': 127, 'subsample': 0.8, 'colsample_bytree': 0.8, 'reg_alpha': 0.04467433286208857, 'reg_lambda': 0.04502793169310395}. Best is trial 3 with value: -1.4183039220545226.\n"
     ]
    },
    {
     "name": "stdout",
     "output_type": "stream",
     "text": [
      "1.446151926039036\n",
      "1.5691166643803585\n",
      "1.5715143110817036\n"
     ]
    },
    {
     "name": "stderr",
     "output_type": "stream",
     "text": [
      "[I 2023-07-30 13:50:30,947] Trial 7 finished with value: -1.4305272271807215 and parameters: {'max_depth': 3, 'num_leaves': 63, 'subsample': 0.8, 'colsample_bytree': 0.8, 'reg_alpha': 0.07053566653087041, 'reg_lambda': 0.7126065053875685}. Best is trial 7 with value: -1.4305272271807215.\n"
     ]
    },
    {
     "name": "stdout",
     "output_type": "stream",
     "text": [
      "1.4671250022489604\n",
      "1.5573390427769644\n"
     ]
    },
    {
     "name": "stderr",
     "output_type": "stream",
     "text": [
      "[I 2023-07-30 13:50:31,414] Trial 2 finished with value: -1.2547987013173922 and parameters: {'max_depth': 7, 'num_leaves': 127, 'subsample': 0.8, 'colsample_bytree': 0.8, 'reg_alpha': 1.4753107242169525, 'reg_lambda': 6.518834569849956}. Best is trial 7 with value: -1.4305272271807215.\n"
     ]
    },
    {
     "name": "stdout",
     "output_type": "stream",
     "text": [
      "1.354422497405519\n"
     ]
    },
    {
     "name": "stderr",
     "output_type": "stream",
     "text": [
      "[I 2023-07-30 13:50:37,350] Trial 1 finished with value: -1.3800503830845394 and parameters: {'max_depth': 3, 'num_leaves': 7, 'subsample': 0.8, 'colsample_bytree': 0.8, 'reg_alpha': 0.6217014083217339, 'reg_lambda': 0.18804081558801855}. Best is trial 7 with value: -1.4305272271807215.\n"
     ]
    },
    {
     "name": "stdout",
     "output_type": "stream",
     "text": [
      "1.4063491811428852\n"
     ]
    },
    {
     "name": "stderr",
     "output_type": "stream",
     "text": [
      "[I 2023-07-30 13:50:39,907] Trial 8 finished with value: -1.4103536786281663 and parameters: {'max_depth': 5, 'num_leaves': 127, 'subsample': 0.8, 'colsample_bytree': 0.8, 'reg_alpha': 0.4580903273197935, 'reg_lambda': 0.0013204303940395755}. Best is trial 7 with value: -1.4305272271807215.\n"
     ]
    },
    {
     "name": "stdout",
     "output_type": "stream",
     "text": [
      "1.4597976908486547\n"
     ]
    },
    {
     "name": "stderr",
     "output_type": "stream",
     "text": [
      "[I 2023-07-30 13:50:41,979] Trial 0 finished with value: -1.4160901143945779 and parameters: {'max_depth': 7, 'num_leaves': 31, 'subsample': 0.8, 'colsample_bytree': 0.8, 'reg_alpha': 0.3897565810062427, 'reg_lambda': 0.02940843666187278}. Best is trial 7 with value: -1.4305272271807215.\n"
     ]
    },
    {
     "name": "stdout",
     "output_type": "stream",
     "text": [
      "1.4409240728273698\n"
     ]
    },
    {
     "name": "stderr",
     "output_type": "stream",
     "text": [
      "[I 2023-07-30 13:50:42,716] Trial 6 finished with value: -1.4255929130029261 and parameters: {'max_depth': 3, 'num_leaves': 7, 'subsample': 0.8, 'colsample_bytree': 0.8, 'reg_alpha': 0.2536285060416923, 'reg_lambda': 0.06373177271006622}. Best is trial 7 with value: -1.4305272271807215.\n",
      "[I 2023-07-30 13:50:42,763] Trial 9 finished with value: -1.4369174349408382 and parameters: {'max_depth': 5, 'num_leaves': 31, 'subsample': 0.8, 'colsample_bytree': 0.8, 'reg_alpha': 0.18357906289078868, 'reg_lambda': 0.00583668639172713}. Best is trial 9 with value: -1.4369174349408382.\n",
      "[I 2023-07-30 13:50:42,763] A new study created in memory with name: no-name-655a6539-91ae-403d-bf54-675e66621afd\n"
     ]
    },
    {
     "name": "stdout",
     "output_type": "stream",
     "text": [
      "1.4585170524059343\n",
      "1.4502900098325817\n",
      "1.0802573138774143\n",
      "1.1503825756348616\n",
      "1.0802573138774143\n",
      "1.0802573138774143\n",
      "1.1853840335203378\n",
      "1.1742893173715603\n",
      "1.0802573138774143\n",
      "1.112631108596306\n",
      "1.174617884691289\n",
      "1.0472524401109087\n",
      "1.0472524401109087\n",
      "1.0472524401109087\n",
      "1.1275594419635322\n",
      "0.9907175687475601\n",
      "0.9907175687475601\n",
      "1.4220304464684292\n",
      "0.9907175687475601\n",
      "1.3073897871543991\n",
      "0.99032728751488011.1586140225974622\n",
      "\n",
      "1.0472524401109087\n",
      "0.9903272875148801\n",
      "1.396066532170223\n",
      "0.9903272875148801\n",
      "1.3982929399610786\n",
      "1.3964098600845172\n",
      "1.3987664518769778\n",
      "1.3705308809906152\n",
      "0.9907175687475601\n"
     ]
    },
    {
     "name": "stderr",
     "output_type": "stream",
     "text": [
      "[I 2023-07-30 13:51:12,468] Trial 5 finished with value: -1.03316342397268 and parameters: {'max_depth': 3, 'num_leaves': 7, 'subsample': 0.8, 'colsample_bytree': 0.8, 'reg_alpha': 3.9051609592581755, 'reg_lambda': 0.1264268813205526}. Best is trial 5 with value: -1.03316342397268.\n"
     ]
    },
    {
     "name": "stdout",
     "output_type": "stream",
     "text": [
      "1.0572625096126358\n",
      "1.31906025685532\n",
      "1.4130835771253336\n"
     ]
    },
    {
     "name": "stderr",
     "output_type": "stream",
     "text": [
      "[I 2023-07-30 13:51:18,478] Trial 1 finished with value: -1.03316342397268 and parameters: {'max_depth': 5, 'num_leaves': 31, 'subsample': 0.8, 'colsample_bytree': 0.8, 'reg_alpha': 3.3259022838560206, 'reg_lambda': 0.012587165189602952}. Best is trial 5 with value: -1.03316342397268.\n"
     ]
    },
    {
     "name": "stdout",
     "output_type": "stream",
     "text": [
      "1.0572625096126358\n",
      "1.4754677462235857\n",
      "1.4069869126710273\n",
      "1.5262293590571616\n",
      "1.393642897923517\n"
     ]
    },
    {
     "name": "stderr",
     "output_type": "stream",
     "text": [
      "[I 2023-07-30 13:51:26,402] Trial 9 finished with value: -1.03316342397268 and parameters: {'max_depth': 5, 'num_leaves': 31, 'subsample': 0.8, 'colsample_bytree': 0.8, 'reg_alpha': 3.4459091993545705, 'reg_lambda': 0.3622205045325453}. Best is trial 5 with value: -1.03316342397268.\n"
     ]
    },
    {
     "name": "stdout",
     "output_type": "stream",
     "text": [
      "1.0572625096126358\n",
      "1.4518747232604485\n",
      "1.4874705151761631\n"
     ]
    },
    {
     "name": "stderr",
     "output_type": "stream",
     "text": [
      "[I 2023-07-30 13:51:35,833] Trial 2 finished with value: -1.176158760797914 and parameters: {'max_depth': 5, 'num_leaves': 127, 'subsample': 0.8, 'colsample_bytree': 0.8, 'reg_alpha': 1.9009501335297296, 'reg_lambda': 0.28785097111940283}. Best is trial 2 with value: -1.176158760797914.\n"
     ]
    },
    {
     "name": "stdout",
     "output_type": "stream",
     "text": [
      "1.3106917579932384\n"
     ]
    },
    {
     "name": "stderr",
     "output_type": "stream",
     "text": [
      "[I 2023-07-30 13:51:36,335] Trial 0 finished with value: -1.3758492188530718 and parameters: {'max_depth': 3, 'num_leaves': 127, 'subsample': 0.8, 'colsample_bytree': 0.8, 'reg_alpha': 0.06491945229600375, 'reg_lambda': 0.2416992883269991}. Best is trial 0 with value: -1.3758492188530718.\n"
     ]
    },
    {
     "name": "stdout",
     "output_type": "stream",
     "text": [
      "1.3818372612279288\n",
      "1.5107276150416742\n"
     ]
    },
    {
     "name": "stderr",
     "output_type": "stream",
     "text": [
      "[I 2023-07-30 13:51:37,497] Trial 7 finished with value: -1.279612967686082 and parameters: {'max_depth': 5, 'num_leaves': 7, 'subsample': 0.8, 'colsample_bytree': 0.8, 'reg_alpha': 1.3529753984913242, 'reg_lambda': 9.739686012479073}. Best is trial 0 with value: -1.3758492188530718.\n"
     ]
    },
    {
     "name": "stdout",
     "output_type": "stream",
     "text": [
      "1.3173633707905097\n",
      "1.5211688234741958\n",
      "1.54166232204261\n"
     ]
    },
    {
     "name": "stderr",
     "output_type": "stream",
     "text": [
      "[I 2023-07-30 13:51:39,803] Trial 6 finished with value: -1.32365067116611 and parameters: {'max_depth': 5, 'num_leaves': 31, 'subsample': 0.8, 'colsample_bytree': 0.8, 'reg_alpha': 0.8751642504805501, 'reg_lambda': 0.0022317821870151745}. Best is trial 0 with value: -1.3758492188530718.\n"
     ]
    },
    {
     "name": "stdout",
     "output_type": "stream",
     "text": [
      "1.3402310639130657\n"
     ]
    },
    {
     "name": "stderr",
     "output_type": "stream",
     "text": [
      "[I 2023-07-30 13:51:44,040] Trial 3 finished with value: -1.3778686894185044 and parameters: {'max_depth': 5, 'num_leaves': 63, 'subsample': 0.8, 'colsample_bytree': 0.8, 'reg_alpha': 0.13574466165968407, 'reg_lambda': 0.0025137979344841965}. Best is trial 3 with value: -1.3778686894185044.\n"
     ]
    },
    {
     "name": "stdout",
     "output_type": "stream",
     "text": [
      "1.3951764053837303\n"
     ]
    },
    {
     "name": "stderr",
     "output_type": "stream",
     "text": [
      "[I 2023-07-30 13:51:46,881] Trial 8 finished with value: -1.3806309461206858 and parameters: {'max_depth': 5, 'num_leaves': 127, 'subsample': 0.8, 'colsample_bytree': 0.8, 'reg_alpha': 0.07384711259741916, 'reg_lambda': 0.8869288177728757}. Best is trial 8 with value: -1.3806309461206858.\n"
     ]
    },
    {
     "name": "stdout",
     "output_type": "stream",
     "text": [
      "1.3968217658614965\n"
     ]
    },
    {
     "name": "stderr",
     "output_type": "stream",
     "text": [
      "[I 2023-07-30 13:51:47,430] Trial 4 finished with value: -1.3806076622591097 and parameters: {'max_depth': 5, 'num_leaves': 63, 'subsample': 0.8, 'colsample_bytree': 0.8, 'reg_alpha': 0.14138943500844964, 'reg_lambda': 0.02399695371368183}. Best is trial 8 with value: -1.3806309461206858.\n",
      "[I 2023-07-30 13:51:47,430] A new study created in memory with name: no-name-b907eebb-c1cb-4432-8b42-32b61a8ee202\n"
     ]
    },
    {
     "name": "stdout",
     "output_type": "stream",
     "text": [
      "1.3912056016689083\n",
      "1.0880427473921508\n",
      "1.0797979387306584\n",
      "1.0797979387306584\n",
      "1.120067798469937\n",
      "1.1547950386661914\n",
      "1.0994214933717896\n",
      "1.1150966537961053\n",
      "1.0469444383162516\n",
      "1.0469444383162516\n",
      "1.1692530087895732\n",
      "0.9915578787571654\n",
      "0.9915578787571654\n",
      "1.3357199798865032\n",
      "1.037887311097904\n",
      "1.0344784372935785\n",
      "1.3774477195722827\n",
      "1.345374067435318\n",
      "1.3753115502432254\n",
      "1.3504722254353663\n",
      "0.990290570154356\n",
      "1.2756643432423\n",
      "1.3293948345451017\n"
     ]
    },
    {
     "name": "stderr",
     "output_type": "stream",
     "text": [
      "[I 2023-07-30 13:52:19,010] Trial 6 finished with value: -1.032979055669274 and parameters: {'max_depth': 3, 'num_leaves': 127, 'subsample': 0.8, 'colsample_bytree': 0.8, 'reg_alpha': 4.7393639306122495, 'reg_lambda': 3.1261108414994068}. Best is trial 6 with value: -1.032979055669274.\n"
     ]
    },
    {
     "name": "stdout",
     "output_type": "stream",
     "text": [
      "1.0563044523879377\n",
      "1.3474762751160507\n",
      "1.334724086005258\n",
      "0.990290570154356\n",
      "1.3197152506890546\n",
      "1.3318244200061125\n",
      "1.4701001451168652\n",
      "1.3476128840252908\n"
     ]
    },
    {
     "name": "stderr",
     "output_type": "stream",
     "text": [
      "[I 2023-07-30 13:52:30,955] Trial 4 finished with value: -1.0634862474850828 and parameters: {'max_depth': 3, 'num_leaves': 127, 'subsample': 0.8, 'colsample_bytree': 0.8, 'reg_alpha': 3.165099604948981, 'reg_lambda': 3.358357162198583}. Best is trial 4 with value: -1.0634862474850828.\n"
     ]
    },
    {
     "name": "stdout",
     "output_type": "stream",
     "text": [
      "1.2088404114669815\n",
      "1.4646868067462704\n",
      "1.48454392922647\n",
      "1.3450755574120463\n",
      "1.4099721318403853\n"
     ]
    },
    {
     "name": "stderr",
     "output_type": "stream",
     "text": [
      "[I 2023-07-30 13:52:38,944] Trial 0 finished with value: -1.3268514555398105 and parameters: {'max_depth': 3, 'num_leaves': 127, 'subsample': 0.8, 'colsample_bytree': 0.8, 'reg_alpha': 0.01901208153824392, 'reg_lambda': 2.228619802210539}. Best is trial 0 with value: -1.3268514555398105.\n"
     ]
    },
    {
     "name": "stdout",
     "output_type": "stream",
     "text": [
      "1.3398116445220647\n"
     ]
    },
    {
     "name": "stderr",
     "output_type": "stream",
     "text": [
      "[I 2023-07-30 13:52:40,434] Trial 8 finished with value: -1.3258559135856793 and parameters: {'max_depth': 3, 'num_leaves': 63, 'subsample': 0.8, 'colsample_bytree': 0.8, 'reg_alpha': 0.02604973374594596, 'reg_lambda': 8.850630392788393}. Best is trial 0 with value: -1.3268514555398105.\n"
     ]
    },
    {
     "name": "stdout",
     "output_type": "stream",
     "text": [
      "1.3394604711375377\n",
      "1.4514364173596777\n",
      "1.359032930330006\n"
     ]
    },
    {
     "name": "stderr",
     "output_type": "stream",
     "text": [
      "[I 2023-07-30 13:52:45,913] Trial 1 finished with value: -1.3070362585082376 and parameters: {'max_depth': 5, 'num_leaves': 31, 'subsample': 0.8, 'colsample_bytree': 0.8, 'reg_alpha': 0.001199560813491716, 'reg_lambda': 0.32350949251302585}. Best is trial 0 with value: -1.3268514555398105.\n",
      "[I 2023-07-30 13:52:45,945] Trial 9 pruned. Trial was pruned at iteration 53.\n"
     ]
    },
    {
     "name": "stdout",
     "output_type": "stream",
     "text": [
      "1.3599679258672208\n"
     ]
    },
    {
     "name": "stderr",
     "output_type": "stream",
     "text": [
      "[I 2023-07-30 13:52:46,289] Trial 5 pruned. Trial was pruned at iteration 0.\n",
      "[I 2023-07-30 13:52:46,462] Trial 7 finished with value: -1.3315149971197213 and parameters: {'max_depth': 3, 'num_leaves': 31, 'subsample': 0.8, 'colsample_bytree': 0.8, 'reg_alpha': 0.5159121758208501, 'reg_lambda': 0.014045772690389013}. Best is trial 7 with value: -1.3315149971197213.\n"
     ]
    },
    {
     "name": "stdout",
     "output_type": "stream",
     "text": [
      "1.3531212032743403\n",
      "1.4555856660008055\n"
     ]
    },
    {
     "name": "stderr",
     "output_type": "stream",
     "text": [
      "[I 2023-07-30 13:52:47,812] Trial 2 finished with value: -1.2903548829162137 and parameters: {'max_depth': 5, 'num_leaves': 31, 'subsample': 0.8, 'colsample_bytree': 0.8, 'reg_alpha': 0.9992709456120772, 'reg_lambda': 0.3142339468937587}. Best is trial 7 with value: -1.3315149971197213.\n"
     ]
    },
    {
     "name": "stdout",
     "output_type": "stream",
     "text": [
      "1.2848906048200983\n"
     ]
    },
    {
     "name": "stderr",
     "output_type": "stream",
     "text": [
      "[I 2023-07-30 13:52:51,390] Trial 3 finished with value: -1.3372429564378756 and parameters: {'max_depth': 5, 'num_leaves': 31, 'subsample': 0.8, 'colsample_bytree': 0.8, 'reg_alpha': 0.14197114156699087, 'reg_lambda': 0.040906690927602955}. Best is trial 3 with value: -1.3372429564378756.\n",
      "[I 2023-07-30 13:52:51,390] A new study created in memory with name: no-name-e47a77d5-a8b7-47d5-9f8c-8fa4297dfe0e\n"
     ]
    },
    {
     "name": "stdout",
     "output_type": "stream",
     "text": [
      "1.3632909979383416\n",
      "1.1015235012556044\n",
      "1.069783499268264\n",
      "1.1599225597041194\n",
      "1.0580287955452572\n",
      "1.0789283752842187\n",
      "1.0789283752842187\n",
      "1.1252856653610535\n",
      "1.1123029689248005\n",
      "1.041823774595751\n",
      "1.0470982017034671\n",
      "1.0375834049480164\n",
      "1.3509539878199397\n",
      "0.9916239870817518\n",
      "1.3356561284602764\n",
      "1.339626281019936\n",
      "1.3455845676336438\n",
      "0.9903264917296545\n",
      "1.302485927533295\n",
      "1.3055220557281793\n",
      "1.3354236682404972\n",
      "1.3297978954651006\n",
      "1.0470982017034671\n",
      "1.3173212803320193\n",
      "1.3184437911658275\n",
      "1.3110467816092255\n",
      "1.3374816076097455\n",
      "1.3014639119014049\n",
      "1.4300526266168263\n",
      "1.3022442594266974\n",
      "0.9916239870817518\n",
      "1.3000057101967435\n"
     ]
    },
    {
     "name": "stderr",
     "output_type": "stream",
     "text": [
      "[I 2023-07-30 13:53:29,729] Trial 4 finished with value: -1.0325173231305262 and parameters: {'max_depth': 7, 'num_leaves': 127, 'subsample': 0.8, 'colsample_bytree': 0.8, 'reg_alpha': 4.27353220556039, 'reg_lambda': 0.028557111414217455}. Best is trial 4 with value: -1.0325173231305262.\n"
     ]
    },
    {
     "name": "stdout",
     "output_type": "stream",
     "text": [
      "1.0546095598535388\n",
      "1.4353404721252057\n",
      "1.4272683829540542\n"
     ]
    },
    {
     "name": "stderr",
     "output_type": "stream",
     "text": [
      "[I 2023-07-30 13:53:38,692] Trial 1 finished with value: -1.2974246015848776 and parameters: {'max_depth': 3, 'num_leaves': 63, 'subsample': 0.8, 'colsample_bytree': 0.8, 'reg_alpha': 0.0016804805959675629, 'reg_lambda': 0.25489323368157973}. Best is trial 1 with value: -1.2974246015848776.\n"
     ]
    },
    {
     "name": "stdout",
     "output_type": "stream",
     "text": [
      "1.2990708365038384\n",
      "1.427079333227045\n",
      "1.4316950857011275\n",
      "1.3969744538090176\n",
      "1.44335244732371\n",
      "1.4502748674338044\n"
     ]
    },
    {
     "name": "stderr",
     "output_type": "stream",
     "text": [
      "[I 2023-07-30 13:53:50,308] Trial 2 finished with value: -1.29805163485011 and parameters: {'max_depth': 3, 'num_leaves': 63, 'subsample': 0.8, 'colsample_bytree': 0.8, 'reg_alpha': 0.14789431340473758, 'reg_lambda': 0.0070204753550402905}. Best is trial 2 with value: -1.29805163485011.\n",
      "[I 2023-07-30 13:53:50,386] Trial 9 finished with value: -1.3007959982422932 and parameters: {'max_depth': 5, 'num_leaves': 7, 'subsample': 0.8, 'colsample_bytree': 0.8, 'reg_alpha': 0.023101930684148272, 'reg_lambda': 0.984903750132096}. Best is trial 9 with value: -1.3007959982422932.\n"
     ]
    },
    {
     "name": "stdout",
     "output_type": "stream",
     "text": [
      "1.3439114977877922\n",
      "1.3139470649561722\n"
     ]
    },
    {
     "name": "stderr",
     "output_type": "stream",
     "text": [
      "[I 2023-07-30 13:53:51,940] Trial 0 finished with value: -1.2938565804649766 and parameters: {'max_depth': 5, 'num_leaves': 31, 'subsample': 0.8, 'colsample_bytree': 0.8, 'reg_alpha': 0.003034897001352636, 'reg_lambda': 0.3784540041281966}. Best is trial 9 with value: -1.3007959982422932.\n"
     ]
    },
    {
     "name": "stdout",
     "output_type": "stream",
     "text": [
      "1.3155996708596953\n",
      "1.281926256569981\n"
     ]
    },
    {
     "name": "stderr",
     "output_type": "stream",
     "text": [
      "[I 2023-07-30 13:53:53,211] Trial 5 finished with value: -1.15520466794248 and parameters: {'max_depth': 5, 'num_leaves': 127, 'subsample': 0.8, 'colsample_bytree': 0.8, 'reg_alpha': 2.3066079460394335, 'reg_lambda': 0.07401066543267415}. Best is trial 9 with value: -1.3007959982422932.\n"
     ]
    },
    {
     "name": "stdout",
     "output_type": "stream",
     "text": [
      "1.261398321833945\n"
     ]
    },
    {
     "name": "stderr",
     "output_type": "stream",
     "text": [
      "[I 2023-07-30 13:53:56,930] Trial 6 finished with value: -1.294432982616047 and parameters: {'max_depth': 3, 'num_leaves': 127, 'subsample': 0.8, 'colsample_bytree': 0.8, 'reg_alpha': 0.5776577918664613, 'reg_lambda': 0.1655495768692636}. Best is trial 9 with value: -1.3007959982422932.\n"
     ]
    },
    {
     "name": "stdout",
     "output_type": "stream",
     "text": [
      "1.324217019019607\n"
     ]
    },
    {
     "name": "stderr",
     "output_type": "stream",
     "text": [
      "[I 2023-07-30 13:53:57,871] Trial 3 finished with value: -1.3160963679277313 and parameters: {'max_depth': 5, 'num_leaves': 127, 'subsample': 0.8, 'colsample_bytree': 0.8, 'reg_alpha': 0.09901497125201873, 'reg_lambda': 0.004263672505642267}. Best is trial 3 with value: -1.3160963679277313.\n"
     ]
    },
    {
     "name": "stdout",
     "output_type": "stream",
     "text": [
      "1.3191367604250634\n"
     ]
    },
    {
     "name": "stderr",
     "output_type": "stream",
     "text": [
      "[I 2023-07-30 13:53:58,295] Trial 7 finished with value: -1.292087879930288 and parameters: {'max_depth': 7, 'num_leaves': 7, 'subsample': 0.8, 'colsample_bytree': 0.8, 'reg_alpha': 0.1802352522277264, 'reg_lambda': 9.42396471096234}. Best is trial 3 with value: -1.3160963679277313.\n"
     ]
    },
    {
     "name": "stdout",
     "output_type": "stream",
     "text": [
      "1.3385371519600402\n",
      "1.3932669198879943\n"
     ]
    },
    {
     "name": "stderr",
     "output_type": "stream",
     "text": [
      "[I 2023-07-30 13:54:02,746] Trial 8 finished with value: -1.2711262576185818 and parameters: {'max_depth': 7, 'num_leaves': 63, 'subsample': 0.8, 'colsample_bytree': 0.8, 'reg_alpha': 0.019617379338960367, 'reg_lambda': 2.715360446053442}. Best is trial 3 with value: -1.3160963679277313.\n",
      "[I 2023-07-30 13:54:02,762] A new study created in memory with name: no-name-a599d919-bc67-4ef2-8829-7ed3389c6505\n"
     ]
    },
    {
     "name": "stdout",
     "output_type": "stream",
     "text": [
      "1.3053730990771706\n",
      "1.1052129759869282\n",
      "1.1116120781782206\n",
      "1.077596712367314\n",
      "1.1129715286587054\n",
      "1.0787697424719005\n",
      "1.077596712367314\n",
      "1.0986804880718648\n",
      "1.0849777544993484\n",
      "1.0701983420772885\n",
      "1.0676908928249154\n",
      "1.04776005752648\n",
      "1.2995923991666445\n",
      "1.3092665714385945\n",
      "1.284268546588608\n",
      "1.04776005752648\n",
      "1.3141434945911177\n",
      "1.3012986642598252\n",
      "0.9916811983629676\n",
      "1.3056693156840862\n",
      "1.3121068986273847\n",
      "1.3243458966817292\n",
      "0.9916811983629676\n",
      "1.2828627332949534\n",
      "1.282336906064638\n",
      "1.272430397543951\n",
      "0.989815477892426\n",
      "1.2793166033883705\n",
      "1.2890617945920342\n",
      "1.2800705958176777\n",
      "0.989815477892426\n",
      "1.2706816509012926\n",
      "1.2910352121254904\n",
      "1.3902260276949077\n",
      "1.4365403717994714\n",
      "1.4158599493550306\n",
      "1.3923629329647962\n"
     ]
    },
    {
     "name": "stderr",
     "output_type": "stream",
     "text": [
      "[I 2023-07-30 13:54:44,612] Trial 9 finished with value: -1.0322417912503894 and parameters: {'max_depth': 7, 'num_leaves': 63, 'subsample': 0.8, 'colsample_bytree': 0.8, 'reg_alpha': 5.231506449793914, 'reg_lambda': 2.5449123135120733}. Best is trial 9 with value: -1.0322417912503894.\n"
     ]
    },
    {
     "name": "stdout",
     "output_type": "stream",
     "text": [
      "1.054355510102759\n",
      "1.4067858717656796\n",
      "1.3827935617314904\n",
      "1.392611338715054\n"
     ]
    },
    {
     "name": "stderr",
     "output_type": "stream",
     "text": [
      "[I 2023-07-30 13:54:50,953] Trial 4 finished with value: -1.0588493877192386 and parameters: {'max_depth': 7, 'num_leaves': 63, 'subsample': 0.8, 'colsample_bytree': 0.8, 'reg_alpha': 4.090106339046211, 'reg_lambda': 0.042177507477867415}. Best is trial 4 with value: -1.0588493877192386.\n"
     ]
    },
    {
     "name": "stdout",
     "output_type": "stream",
     "text": [
      "1.1873934924470049\n"
     ]
    },
    {
     "name": "stderr",
     "output_type": "stream",
     "text": [
      "[I 2023-07-30 13:55:01,787] Trial 8 finished with value: -1.277247007491742 and parameters: {'max_depth': 3, 'num_leaves': 127, 'subsample': 0.8, 'colsample_bytree': 0.8, 'reg_alpha': 0.024172109198089504, 'reg_lambda': 0.0023858628227235493}. Best is trial 8 with value: -1.277247007491742.\n"
     ]
    },
    {
     "name": "stdout",
     "output_type": "stream",
     "text": [
      "1.314576348773852\n"
     ]
    },
    {
     "name": "stderr",
     "output_type": "stream",
     "text": [
      "[I 2023-07-30 13:55:03,136] Trial 0 finished with value: -1.2792765284618497 and parameters: {'max_depth': 7, 'num_leaves': 7, 'subsample': 0.8, 'colsample_bytree': 0.8, 'reg_alpha': 0.13866944099100367, 'reg_lambda': 0.00706479345012066}. Best is trial 0 with value: -1.2792765284618497.\n"
     ]
    },
    {
     "name": "stdout",
     "output_type": "stream",
     "text": [
      "1.3093401611241802\n",
      "1.3927085470184368\n"
     ]
    },
    {
     "name": "stderr",
     "output_type": "stream",
     "text": [
      "[I 2023-07-30 13:55:05,176] Trial 3 finished with value: -1.2791404296903301 and parameters: {'max_depth': 3, 'num_leaves': 127, 'subsample': 0.8, 'colsample_bytree': 0.8, 'reg_alpha': 0.09044391489196206, 'reg_lambda': 0.0037077441438878836}. Best is trial 0 with value: -1.2792765284618497.\n",
      "[I 2023-07-30 13:55:05,286] Trial 6 pruned. Trial was pruned at iteration 47.\n",
      "[I 2023-07-30 13:55:05,295] Trial 7 pruned. Trial was pruned at iteration 52.\n"
     ]
    },
    {
     "name": "stdout",
     "output_type": "stream",
     "text": [
      "1.306941245030919\n"
     ]
    },
    {
     "name": "stderr",
     "output_type": "stream",
     "text": [
      "[I 2023-07-30 13:55:06,009] Trial 2 finished with value: -1.2873185193757202 and parameters: {'max_depth': 5, 'num_leaves': 7, 'subsample': 0.8, 'colsample_bytree': 0.8, 'reg_alpha': 0.253320844143667, 'reg_lambda': 0.03213335804266646}. Best is trial 2 with value: -1.2873185193757202.\n"
     ]
    },
    {
     "name": "stdout",
     "output_type": "stream",
     "text": [
      "1.305985014439311\n"
     ]
    },
    {
     "name": "stderr",
     "output_type": "stream",
     "text": [
      "[I 2023-07-30 13:55:06,668] Trial 1 finished with value: -1.2781800224109832 and parameters: {'max_depth': 3, 'num_leaves': 127, 'subsample': 0.8, 'colsample_bytree': 0.8, 'reg_alpha': 0.6585429971682151, 'reg_lambda': 0.07291367580858389}. Best is trial 2 with value: -1.2873185193757202.\n"
     ]
    },
    {
     "name": "stdout",
     "output_type": "stream",
     "text": [
      "1.305369689908621\n"
     ]
    },
    {
     "name": "stderr",
     "output_type": "stream",
     "text": [
      "[I 2023-07-30 13:55:09,651] Trial 5 finished with value: -1.2780328484550696 and parameters: {'max_depth': 5, 'num_leaves': 127, 'subsample': 0.8, 'colsample_bytree': 0.8, 'reg_alpha': 0.10692564762822808, 'reg_lambda': 5.610374717659919}. Best is trial 2 with value: -1.2873185193757202.\n",
      "[I 2023-07-30 13:55:09,651] A new study created in memory with name: no-name-a30b0e75-eb32-43ca-8fc6-23cbb61d9daa\n"
     ]
    },
    {
     "name": "stdout",
     "output_type": "stream",
     "text": [
      "1.309335830004687\n",
      "1.0772823874749167\n",
      "1.0754661646005974\n",
      "1.0772823874749167\n",
      "1.0854065101027268\n",
      "1.0772823874749167\n",
      "1.0434865516031604\n",
      "1.1026134051879302\n",
      "1.1026134051879302\n",
      "1.0478432209422084\n",
      "1.0368513839180304\n",
      "1.0577287496956158\n",
      "1.099452203614743\n",
      "0.991670133378528\n",
      "1.2826080487875011\n",
      "1.0478432209422084\n",
      "1.2808119240131888\n",
      "1.2955636906361585\n",
      "1.2556584344443076\n",
      "0.9889495993822068\n",
      "1.04784322094220841.295708378029863\n",
      "\n",
      "1.1589447369499049\n",
      "1.2383210192194791\n",
      "1.2876305925835372\n",
      "1.280921609828739\n",
      "1.2415967744723253\n",
      "1.2425465989596303\n"
     ]
    },
    {
     "name": "stderr",
     "output_type": "stream",
     "text": [
      "[I 2023-07-30 13:55:38,338] Trial 1 finished with value: -1.0321485387575842 and parameters: {'max_depth': 5, 'num_leaves': 7, 'subsample': 0.8, 'colsample_bytree': 0.8, 'reg_alpha': 5.94458719799626, 'reg_lambda': 0.249023065865314}. Best is trial 1 with value: -1.0321485387575842.\n"
     ]
    },
    {
     "name": "stdout",
     "output_type": "stream",
     "text": [
      "1.054997352610061\n",
      "1.160015411291293\n",
      "1.3825271370275098\n",
      "1.2405816159283205\n",
      "1.352458519429408\n",
      "1.3507514042895647\n",
      "1.2464464148840504\n",
      "1.3692572257969\n"
     ]
    },
    {
     "name": "stderr",
     "output_type": "stream",
     "text": [
      "[I 2023-07-30 13:55:55,068] Trial 2 finished with value: -1.2090751233308388 and parameters: {'max_depth': 5, 'num_leaves': 31, 'subsample': 0.8, 'colsample_bytree': 0.8, 'reg_alpha': 1.5366223788984659, 'reg_lambda': 5.070189530601949}. Best is trial 2 with value: -1.2090751233308388.\n"
     ]
    },
    {
     "name": "stdout",
     "output_type": "stream",
     "text": [
      "1.2223313314649067\n",
      "1.381892700908923\n"
     ]
    },
    {
     "name": "stderr",
     "output_type": "stream",
     "text": [
      "[I 2023-07-30 13:55:58,427] Trial 9 finished with value: -1.2519389656505164 and parameters: {'max_depth': 3, 'num_leaves': 31, 'subsample': 0.8, 'colsample_bytree': 0.8, 'reg_alpha': 0.01314630930577917, 'reg_lambda': 0.43388995721808604}. Best is trial 9 with value: -1.2519389656505164.\n"
     ]
    },
    {
     "name": "stdout",
     "output_type": "stream",
     "text": [
      "1.2812643806624253\n",
      "1.267523863236899\n"
     ]
    },
    {
     "name": "stderr",
     "output_type": "stream",
     "text": [
      "[I 2023-07-30 13:55:58,741] Trial 8 finished with value: -1.25228218599311 and parameters: {'max_depth': 3, 'num_leaves': 63, 'subsample': 0.8, 'colsample_bytree': 0.8, 'reg_alpha': 0.013740954818979495, 'reg_lambda': 0.002650928311495594}. Best is trial 8 with value: -1.25228218599311.\n"
     ]
    },
    {
     "name": "stdout",
     "output_type": "stream",
     "text": [
      "1.2708856553795707\n",
      "1.2169532682355775\n",
      "1.2129048800983613\n"
     ]
    },
    {
     "name": "stderr",
     "output_type": "stream",
     "text": [
      "[I 2023-07-30 13:56:03,811] Trial 0 finished with value: -1.247030059112118 and parameters: {'max_depth': 5, 'num_leaves': 63, 'subsample': 0.8, 'colsample_bytree': 0.8, 'reg_alpha': 0.01466685347865654, 'reg_lambda': 0.003868615418003191}. Best is trial 8 with value: -1.25228218599311.\n",
      "[I 2023-07-30 13:56:03,826] Trial 7 pruned. Trial was pruned at iteration 52.\n"
     ]
    },
    {
     "name": "stdout",
     "output_type": "stream",
     "text": [
      "1.2694978371561132\n"
     ]
    },
    {
     "name": "stderr",
     "output_type": "stream",
     "text": [
      "[I 2023-07-30 13:56:05,129] Trial 6 finished with value: -1.1486252947182625 and parameters: {'max_depth': 5, 'num_leaves': 127, 'subsample': 0.8, 'colsample_bytree': 0.8, 'reg_alpha': 2.976415779513349, 'reg_lambda': 0.15232739905031767}. Best is trial 8 with value: -1.25228218599311.\n"
     ]
    },
    {
     "name": "stdout",
     "output_type": "stream",
     "text": [
      "1.1904615906459954\n"
     ]
    },
    {
     "name": "stderr",
     "output_type": "stream",
     "text": [
      "[I 2023-07-30 13:56:06,526] Trial 4 pruned. Trial was pruned at iteration 498.\n"
     ]
    },
    {
     "name": "stdout",
     "output_type": "stream",
     "text": [
      "1.3500996360577955\n",
      "1.3713675787434618\n"
     ]
    },
    {
     "name": "stderr",
     "output_type": "stream",
     "text": [
      "[I 2023-07-30 13:56:15,047] Trial 3 finished with value: -1.230429722219472 and parameters: {'max_depth': 7, 'num_leaves': 127, 'subsample': 0.8, 'colsample_bytree': 0.8, 'reg_alpha': 0.012822724715214277, 'reg_lambda': 0.8293392919984539}. Best is trial 8 with value: -1.25228218599311.\n"
     ]
    },
    {
     "name": "stdout",
     "output_type": "stream",
     "text": [
      "1.2539785626172897\n"
     ]
    },
    {
     "name": "stderr",
     "output_type": "stream",
     "text": [
      "[I 2023-07-30 13:56:15,298] Trial 5 finished with value: -1.2366106063143127 and parameters: {'max_depth': 7, 'num_leaves': 63, 'subsample': 0.8, 'colsample_bytree': 0.8, 'reg_alpha': 0.05900491013203711, 'reg_lambda': 0.3563328653955807}. Best is trial 8 with value: -1.25228218599311.\n",
      "[I 2023-07-30 13:56:15,298] A new study created in memory with name: no-name-dfb02232-b3f0-4172-ac12-5bb34848f50d\n"
     ]
    },
    {
     "name": "stdout",
     "output_type": "stream",
     "text": [
      "1.260130213205385\n",
      "1.0956388378107027\n",
      "1.0204425418047796\n",
      "1.0768136420111534\n",
      "1.040461703743314\n",
      "1.091767348902732\n",
      "1.091164736489572\n",
      "1.1032508742563885\n",
      "1.0973234695861582\n",
      "1.1124182259284658\n",
      "1.263940813490012\n",
      "1.2662303349307444\n",
      "1.2547113714678604\n",
      "1.0332458874528718\n",
      "1.048782275192688\n",
      "1.2398220353601994\n",
      "1.1080615445099726\n",
      "1.2371568763663883\n",
      "1.222100581276024\n",
      "1.2598897506012496\n",
      "1.2375538040160552\n",
      "1.077395308595268\n",
      "1.219878243569959\n",
      "1.3380093632781576\n",
      "1.249516297986902\n",
      "0.9914915677048871\n",
      "1.3495296673996966\n",
      "1.2379711842922017\n",
      "1.2406516391753022\n"
     ]
    },
    {
     "name": "stderr",
     "output_type": "stream",
     "text": [
      "[I 2023-07-30 13:56:53,672] Trial 1 finished with value: -1.2388328355235347 and parameters: {'max_depth': 3, 'num_leaves': 31, 'subsample': 0.8, 'colsample_bytree': 0.8, 'reg_alpha': 0.01528648455992562, 'reg_lambda': 0.0015155897906991727}. Best is trial 1 with value: -1.2388328355235347.\n"
     ]
    },
    {
     "name": "stdout",
     "output_type": "stream",
     "text": [
      "1.259418286672414\n",
      "1.35769100711155\n",
      "1.34780195538045\n",
      "1.256009951830734\n"
     ]
    },
    {
     "name": "stderr",
     "output_type": "stream",
     "text": [
      "[I 2023-07-30 13:56:58,146] Trial 5 finished with value: -1.2381714653940525 and parameters: {'max_depth': 3, 'num_leaves': 31, 'subsample': 0.8, 'colsample_bytree': 0.8, 'reg_alpha': 0.05515218447702354, 'reg_lambda': 0.6825340208873873}. Best is trial 1 with value: -1.2388328355235347.\n"
     ]
    },
    {
     "name": "stdout",
     "output_type": "stream",
     "text": [
      "1.2457761717210352\n",
      "1.2162942851331437\n",
      "1.2828709606186444\n",
      "1.2325891483287195\n"
     ]
    },
    {
     "name": "stderr",
     "output_type": "stream",
     "text": [
      "[I 2023-07-30 13:57:04,565] Trial 6 finished with value: -1.1890296858649185 and parameters: {'max_depth': 7, 'num_leaves': 63, 'subsample': 0.8, 'colsample_bytree': 0.8, 'reg_alpha': 1.6326057601593795, 'reg_lambda': 0.02790355178410015}. Best is trial 1 with value: -1.2388328355235347.\n"
     ]
    },
    {
     "name": "stdout",
     "output_type": "stream",
     "text": [
      "1.2098502135233709\n"
     ]
    },
    {
     "name": "stderr",
     "output_type": "stream",
     "text": [
      "[I 2023-07-30 13:57:06,983] Trial 0 finished with value: -1.2168007649080423 and parameters: {'max_depth': 5, 'num_leaves': 63, 'subsample': 0.8, 'colsample_bytree': 0.8, 'reg_alpha': 0.0038779624960368787, 'reg_lambda': 0.03271068748579111}. Best is trial 1 with value: -1.2388328355235347.\n"
     ]
    },
    {
     "name": "stdout",
     "output_type": "stream",
     "text": [
      "1.3424321424509673\n",
      "1.2411697123171623\n"
     ]
    },
    {
     "name": "stderr",
     "output_type": "stream",
     "text": [
      "[I 2023-07-30 13:57:07,729] Trial 3 finished with value: -1.1147004899284525 and parameters: {'max_depth': 3, 'num_leaves': 31, 'subsample': 0.8, 'colsample_bytree': 0.8, 'reg_alpha': 2.9548042594730273, 'reg_lambda': 0.01006007794059604}. Best is trial 1 with value: -1.2388328355235347.\n",
      "[I 2023-07-30 13:57:07,729] Trial 7 pruned. Trial was pruned at iteration 24.\n"
     ]
    },
    {
     "name": "stdout",
     "output_type": "stream",
     "text": [
      "1.17354400411489\n",
      "1.372612929592917\n"
     ]
    },
    {
     "name": "stderr",
     "output_type": "stream",
     "text": [
      "[I 2023-07-30 13:57:10,438] Trial 4 pruned. Trial was pruned at iteration 0.\n"
     ]
    },
    {
     "name": "stdout",
     "output_type": "stream",
     "text": [
      "1.2053582768056308\n",
      "1.3761110154020768\n",
      "1.3511670853765478\n"
     ]
    },
    {
     "name": "stderr",
     "output_type": "stream",
     "text": [
      "[I 2023-07-30 13:57:22,652] Trial 8 finished with value: -1.2442254573580964 and parameters: {'max_depth': 5, 'num_leaves': 63, 'subsample': 0.8, 'colsample_bytree': 0.8, 'reg_alpha': 0.4191416424081151, 'reg_lambda': 0.001256035573013174}. Best is trial 8 with value: -1.2442254573580964.\n"
     ]
    },
    {
     "name": "stdout",
     "output_type": "stream",
     "text": [
      "1.2533101451222812\n"
     ]
    },
    {
     "name": "stderr",
     "output_type": "stream",
     "text": [
      "[I 2023-07-30 13:57:26,796] Trial 2 finished with value: -1.2400965507712938 and parameters: {'max_depth': 5, 'num_leaves': 31, 'subsample': 0.8, 'colsample_bytree': 0.8, 'reg_alpha': 0.26928362357460545, 'reg_lambda': 0.06371080155801112}. Best is trial 8 with value: -1.2442254573580964.\n"
     ]
    },
    {
     "name": "stdout",
     "output_type": "stream",
     "text": [
      "1.2645471844389382\n"
     ]
    },
    {
     "name": "stderr",
     "output_type": "stream",
     "text": [
      "[I 2023-07-30 13:57:28,303] Trial 9 finished with value: -1.2181234177017701 and parameters: {'max_depth': 7, 'num_leaves': 127, 'subsample': 0.8, 'colsample_bytree': 0.8, 'reg_alpha': 0.002375066302648225, 'reg_lambda': 9.10985399107876}. Best is trial 8 with value: -1.2442254573580964.\n"
     ]
    },
    {
     "name": "stdout",
     "output_type": "stream",
     "text": [
      "1.2448358870430658\n",
      ">>>Done with 8 processes, and time taken is 732.7849180698395\n",
      "Time taken:  736.0843110084534 seconds\n"
     ]
    },
    {
     "name": "stderr",
     "output_type": "stream",
     "text": [
      "[I 2023-07-30 13:57:34,804] A new study created in memory with name: no-name-5c4100de-dc3a-4e13-80fc-7d24cb72bc09\n"
     ]
    },
    {
     "name": "stdout",
     "output_type": "stream",
     "text": [
      "1.057103067558817\n",
      "1.057103067558817\n",
      "1.0571030675588172.056153865193874\n",
      "\n",
      "1.057103067558817\n",
      "1.057103067558817\n",
      "1.057103067558817\n",
      "1.1458623447861598\n",
      "2.058873027564676\n",
      "1.1458623447861598\n",
      "1.9927245910346763\n",
      "1.8773491728150127\n",
      "1.1458623447861598\n",
      "1.4491418131984695\n",
      "1.1458623447861598\n",
      "1.1458623447861598\n",
      "1.1458623447861598\n",
      "1.4491418131984695\n",
      "1.0052819311755297\n",
      "1.0052819311755297\n",
      "1.6089605651254928\n",
      "1.2047880857007929\n",
      "1.6175213198073912\n",
      "1.0052819311755297\n",
      "1.0052819311755297\n",
      "1.0052819311755297\n",
      "1.0052819311755297\n",
      "1.2047880857007929\n",
      "0.9136850006961961\n",
      "0.9136850006961961\n",
      "1.87245505627852\n",
      "0.9136850006961961\n",
      "1.8123652672905894\n",
      "0.9136850006961961\n",
      "0.9136850006961961\n",
      "0.9136850006961961\n",
      "1.867855373263124\n"
     ]
    },
    {
     "name": "stderr",
     "output_type": "stream",
     "text": [
      "[I 2023-07-30 13:58:12,428] Trial 8 finished with value: -1.0435780146674822 and parameters: {'max_depth': 3, 'num_leaves': 31, 'subsample': 0.8, 'colsample_bytree': 0.8, 'reg_alpha': 5.217914544878577, 'reg_lambda': 0.005191873599129216}. Best is trial 8 with value: -1.0435780146674822.\n",
      "[I 2023-07-30 13:58:12,494] Trial 0 finished with value: -1.0435780146674822 and parameters: {'max_depth': 7, 'num_leaves': 31, 'subsample': 0.8, 'colsample_bytree': 0.8, 'reg_alpha': 4.211978626020765, 'reg_lambda': 1.7446328824156654}. Best is trial 8 with value: -1.0435780146674822.\n"
     ]
    },
    {
     "name": "stdout",
     "output_type": "stream",
     "text": [
      "1.095957729120709\n",
      "1.095957729120709\n",
      "1.8736166272109909\n",
      "1.8440174500595763\n"
     ]
    },
    {
     "name": "stderr",
     "output_type": "stream",
     "text": [
      "[I 2023-07-30 13:58:15,079] Trial 5 finished with value: -1.0435780146674822 and parameters: {'max_depth': 5, 'num_leaves': 31, 'subsample': 0.8, 'colsample_bytree': 0.8, 'reg_alpha': 3.9941753241569455, 'reg_lambda': 8.496286275526893}. Best is trial 8 with value: -1.0435780146674822.\n"
     ]
    },
    {
     "name": "stdout",
     "output_type": "stream",
     "text": [
      "1.095957729120709\n"
     ]
    },
    {
     "name": "stderr",
     "output_type": "stream",
     "text": [
      "[I 2023-07-30 13:58:19,221] Trial 1 finished with value: -1.0435780146674822 and parameters: {'max_depth': 3, 'num_leaves': 7, 'subsample': 0.8, 'colsample_bytree': 0.8, 'reg_alpha': 1.832702646279883, 'reg_lambda': 1.4011408017182452}. Best is trial 8 with value: -1.0435780146674822.\n"
     ]
    },
    {
     "name": "stdout",
     "output_type": "stream",
     "text": [
      "1.095957729120709\n"
     ]
    },
    {
     "name": "stderr",
     "output_type": "stream",
     "text": [
      "[I 2023-07-30 13:58:20,022] Trial 7 finished with value: -1.649368686091094 and parameters: {'max_depth': 3, 'num_leaves': 63, 'subsample': 0.8, 'colsample_bytree': 0.8, 'reg_alpha': 0.0013237831243538979, 'reg_lambda': 0.8414392272748353}. Best is trial 7 with value: -1.649368686091094.\n",
      "[I 2023-07-30 13:58:20,037] Trial 9 finished with value: -1.0435780146674822 and parameters: {'max_depth': 7, 'num_leaves': 63, 'subsample': 0.8, 'colsample_bytree': 0.8, 'reg_alpha': 1.5023130328804901, 'reg_lambda': 4.803028365399685}. Best is trial 7 with value: -1.649368686091094.\n"
     ]
    },
    {
     "name": "stdout",
     "output_type": "stream",
     "text": [
      "1.7243943990717447\n",
      "1.095957729120709\n"
     ]
    },
    {
     "name": "stderr",
     "output_type": "stream",
     "text": [
      "[I 2023-07-30 13:58:20,461] Trial 4 finished with value: -1.0435780146674822 and parameters: {'max_depth': 5, 'num_leaves': 7, 'subsample': 0.8, 'colsample_bytree': 0.8, 'reg_alpha': 5.915992724134181, 'reg_lambda': 0.1975134693869119}. Best is trial 7 with value: -1.649368686091094.\n"
     ]
    },
    {
     "name": "stdout",
     "output_type": "stream",
     "text": [
      "1.095957729120709\n",
      "1.784229279019785\n"
     ]
    },
    {
     "name": "stderr",
     "output_type": "stream",
     "text": [
      "[I 2023-07-30 13:58:25,592] Trial 3 finished with value: -1.6706588855898645 and parameters: {'max_depth': 3, 'num_leaves': 127, 'subsample': 0.8, 'colsample_bytree': 0.8, 'reg_alpha': 0.0025782799272489726, 'reg_lambda': 0.009287552227552833}. Best is trial 3 with value: -1.6706588855898645.\n"
     ]
    },
    {
     "name": "stdout",
     "output_type": "stream",
     "text": [
      "1.766874874274393\n"
     ]
    },
    {
     "name": "stderr",
     "output_type": "stream",
     "text": [
      "[I 2023-07-30 13:58:26,660] Trial 2 finished with value: -1.8112535066192195 and parameters: {'max_depth': 7, 'num_leaves': 7, 'subsample': 0.8, 'colsample_bytree': 0.8, 'reg_alpha': 0.050322217216010996, 'reg_lambda': 0.057633546632207336}. Best is trial 2 with value: -1.8112535066192195.\n"
     ]
    },
    {
     "name": "stdout",
     "output_type": "stream",
     "text": [
      "1.7381098705978317\n"
     ]
    },
    {
     "name": "stderr",
     "output_type": "stream",
     "text": [
      "[I 2023-07-30 13:58:28,041] Trial 6 finished with value: -1.773504440158581 and parameters: {'max_depth': 7, 'num_leaves': 31, 'subsample': 0.8, 'colsample_bytree': 0.8, 'reg_alpha': 0.006546519290983577, 'reg_lambda': 0.01107825663426062}. Best is trial 2 with value: -1.8112535066192195.\n",
      "[I 2023-07-30 13:58:28,041] A new study created in memory with name: no-name-a3647944-d1f8-4ce4-8ec2-9a825e6a448b\n"
     ]
    },
    {
     "name": "stdout",
     "output_type": "stream",
     "text": [
      "1.7205670558875923\n",
      "1.8913988523198597\n",
      "1.8361813758111758\n",
      "1.3432024030931764\n",
      "1.4734541317668892\n",
      "1.8467763716070156\n",
      "1.8896651478734174\n",
      "1.513973702609638\n",
      "1.8345619403939626\n",
      "1.4340574969525086\n",
      "1.7719773947547601\n",
      "1.5057812871719118\n",
      "1.8124157404296177\n",
      "1.352314088630548\n",
      "1.7099723227805796\n",
      "1.4154656679750701\n",
      "1.645563110575016\n",
      "1.7623563133636377\n",
      "1.0299912746194009\n",
      "1.4905717250143695\n",
      "1.69920905182141\n",
      "1.4718988873208634\n",
      "1.5341064443606918\n",
      "1.614654807307315\n",
      "1.6765912658688622\n",
      "1.4565521522746376\n"
     ]
    },
    {
     "name": "stderr",
     "output_type": "stream",
     "text": [
      "[I 2023-07-30 13:59:01,729] Trial 1 finished with value: -1.52248913278636 and parameters: {'max_depth': 3, 'num_leaves': 31, 'subsample': 0.8, 'colsample_bytree': 0.8, 'reg_alpha': 0.0010455214871799281, 'reg_lambda': 0.001234025656690353}. Best is trial 1 with value: -1.52248913278636.\n"
     ]
    },
    {
     "name": "stdout",
     "output_type": "stream",
     "text": [
      "1.5720382946506346\n",
      "1.7419929115911694\n",
      "1.6602096836358387\n",
      "1.0299912746194009\n",
      "1.2592509396998652\n",
      "1.6458768599613949\n",
      "1.7101979507625886\n",
      "1.5089774838334025\n",
      "1.6615054432216203\n",
      "1.2903155659436907\n",
      "1.266701461266579\n",
      "1.7166153380571325\n"
     ]
    },
    {
     "name": "stderr",
     "output_type": "stream",
     "text": [
      "[I 2023-07-30 13:59:14,881] Trial 7 finished with value: -1.5420600988536395 and parameters: {'max_depth': 3, 'num_leaves': 63, 'subsample': 0.8, 'colsample_bytree': 0.8, 'reg_alpha': 0.002698244059271483, 'reg_lambda': 0.0031133496612527614}. Best is trial 7 with value: -1.5420600988536395.\n"
     ]
    },
    {
     "name": "stdout",
     "output_type": "stream",
     "text": [
      "1.6082715187346048\n",
      "1.266701461266579\n",
      "1.5694001897227716\n"
     ]
    },
    {
     "name": "stderr",
     "output_type": "stream",
     "text": [
      "[I 2023-07-30 13:59:18,051] Trial 6 finished with value: -1.5283365534396791 and parameters: {'max_depth': 5, 'num_leaves': 63, 'subsample': 0.8, 'colsample_bytree': 0.8, 'reg_alpha': 0.009290492106445409, 'reg_lambda': 0.11419559318110102}. Best is trial 7 with value: -1.5420600988536395.\n"
     ]
    },
    {
     "name": "stdout",
     "output_type": "stream",
     "text": [
      "1.568686559953652\n"
     ]
    },
    {
     "name": "stderr",
     "output_type": "stream",
     "text": [
      "[I 2023-07-30 13:59:22,368] Trial 9 finished with value: -1.571450022759484 and parameters: {'max_depth': 3, 'num_leaves': 127, 'subsample': 0.8, 'colsample_bytree': 0.8, 'reg_alpha': 0.01254375845096357, 'reg_lambda': 0.0010517011505184754}. Best is trial 9 with value: -1.571450022759484.\n"
     ]
    },
    {
     "name": "stdout",
     "output_type": "stream",
     "text": [
      "1.574914027893528\n",
      "1.643205282117468\n"
     ]
    },
    {
     "name": "stderr",
     "output_type": "stream",
     "text": [
      "[I 2023-07-30 13:59:25,978] Trial 3 finished with value: -1.5582795226407318 and parameters: {'max_depth': 5, 'num_leaves': 63, 'subsample': 0.8, 'colsample_bytree': 0.8, 'reg_alpha': 0.0051200316365226355, 'reg_lambda': 2.504393400173212}. Best is trial 9 with value: -1.571450022759484.\n",
      "[I 2023-07-30 13:59:25,994] Trial 4 pruned. Trial was pruned at iteration 56.\n"
     ]
    },
    {
     "name": "stdout",
     "output_type": "stream",
     "text": [
      "1.601937348532112\n"
     ]
    },
    {
     "name": "stderr",
     "output_type": "stream",
     "text": [
      "[I 2023-07-30 13:59:26,229] Trial 0 finished with value: -1.6345223053010152 and parameters: {'max_depth': 7, 'num_leaves': 31, 'subsample': 0.8, 'colsample_bytree': 0.8, 'reg_alpha': 0.0010951219500067398, 'reg_lambda': 3.4702398174985154}. Best is trial 0 with value: -1.6345223053010152.\n"
     ]
    },
    {
     "name": "stdout",
     "output_type": "stream",
     "text": [
      "1.6142699124294486\n",
      "1.6728544882150187\n"
     ]
    },
    {
     "name": "stderr",
     "output_type": "stream",
     "text": [
      "[I 2023-07-30 13:59:27,124] Trial 5 finished with value: -1.6273794099387295 and parameters: {'max_depth': 7, 'num_leaves': 7, 'subsample': 0.8, 'colsample_bytree': 0.8, 'reg_alpha': 0.018170656202741907, 'reg_lambda': 0.05706505041065044}. Best is trial 0 with value: -1.6345223053010152.\n"
     ]
    },
    {
     "name": "stdout",
     "output_type": "stream",
     "text": [
      "1.6095286590249254\n"
     ]
    },
    {
     "name": "stderr",
     "output_type": "stream",
     "text": [
      "[I 2023-07-30 13:59:31,548] Trial 8 finished with value: -1.6273597933675397 and parameters: {'max_depth': 5, 'num_leaves': 31, 'subsample': 0.8, 'colsample_bytree': 0.8, 'reg_alpha': 0.09768676058044409, 'reg_lambda': 1.8293825096696803}. Best is trial 0 with value: -1.6345223053010152.\n"
     ]
    },
    {
     "name": "stdout",
     "output_type": "stream",
     "text": [
      "1.6104538716078798\n"
     ]
    },
    {
     "name": "stderr",
     "output_type": "stream",
     "text": [
      "[I 2023-07-30 13:59:33,090] Trial 2 finished with value: -1.558109019832694 and parameters: {'max_depth': 7, 'num_leaves': 63, 'subsample': 0.8, 'colsample_bytree': 0.8, 'reg_alpha': 0.22278659359200703, 'reg_lambda': 0.9219188838035264}. Best is trial 0 with value: -1.6345223053010152.\n",
      "[I 2023-07-30 13:59:33,090] A new study created in memory with name: no-name-9b063c9f-894e-4e59-af50-8bb941eed1c6\n"
     ]
    },
    {
     "name": "stdout",
     "output_type": "stream",
     "text": [
      "1.630232760140177\n",
      "1.0534358767556289\n",
      "1.6961429520737532\n",
      "1.0534358767556289\n",
      "1.0534358767556289\n",
      "1.141179340470302\n",
      "1.141179340470302\n",
      "1.288871899150677\n",
      "1.0046834705309144\n",
      "1.4485996363508908\n",
      "1.647491963772668\n",
      "1.6857801273636661\n",
      "1.5577243933190177\n",
      "1.6255066714078859\n",
      "0.9127705665032829\n",
      "1.3583663749162402\n",
      "1.5031861481967765\n",
      "1.468568057331252\n",
      "1.0046834705309144\n",
      "1.6429185157933586\n"
     ]
    },
    {
     "name": "stderr",
     "output_type": "stream",
     "text": [
      "[I 2023-07-30 13:59:53,486] Trial 8 finished with value: -1.0409746640770616 and parameters: {'max_depth': 3, 'num_leaves': 127, 'subsample': 0.8, 'colsample_bytree': 0.8, 'reg_alpha': 5.411456037148769, 'reg_lambda': 3.8230590054320572}. Best is trial 8 with value: -1.0409746640770616.\n"
     ]
    },
    {
     "name": "stdout",
     "output_type": "stream",
     "text": [
      "1.0928040661251799\n",
      "1.4659086187679398\n",
      "1.5966680232527701\n",
      "1.228639834918245\n",
      "1.371916300920494\n",
      "1.3442650693065972\n",
      "1.112611326892151\n",
      "1.5724752132842106\n",
      "1.4492902577109557\n",
      "1.427210094097448\n"
     ]
    },
    {
     "name": "stderr",
     "output_type": "stream",
     "text": [
      "[I 2023-07-30 14:00:05,962] Trial 2 finished with value: -1.1642816370834417 and parameters: {'max_depth': 3, 'num_leaves': 127, 'subsample': 0.8, 'colsample_bytree': 0.8, 'reg_alpha': 1.7029858575752672, 'reg_lambda': 0.20625724431015025}. Best is trial 2 with value: -1.1642816370834417.\n"
     ]
    },
    {
     "name": "stdout",
     "output_type": "stream",
     "text": [
      "1.2778444283537667\n"
     ]
    },
    {
     "name": "stderr",
     "output_type": "stream",
     "text": [
      "[I 2023-07-30 14:00:07,437] Trial 7 finished with value: -1.3036228742262723 and parameters: {'max_depth': 3, 'num_leaves': 127, 'subsample': 0.8, 'colsample_bytree': 0.8, 'reg_alpha': 0.7998909416271306, 'reg_lambda': 0.1292332307723821}. Best is trial 7 with value: -1.3036228742262723.\n"
     ]
    },
    {
     "name": "stdout",
     "output_type": "stream",
     "text": [
      "1.4455239193883225\n",
      "1.442121939086776\n",
      "1.0630224174478204\n",
      "1.6077426051912234\n",
      "1.6389963907396274\n"
     ]
    },
    {
     "name": "stderr",
     "output_type": "stream",
     "text": [
      "[I 2023-07-30 14:00:12,321] Trial 0 finished with value: -1.4760724308986135 and parameters: {'max_depth': 7, 'num_leaves': 7, 'subsample': 0.8, 'colsample_bytree': 0.8, 'reg_alpha': 0.010879928256848812, 'reg_lambda': 3.2040437441557112}. Best is trial 0 with value: -1.4760724308986135.\n"
     ]
    },
    {
     "name": "stdout",
     "output_type": "stream",
     "text": [
      "1.5263402159235024\n",
      "1.5819273789550872\n",
      "1.504251056065032\n"
     ]
    },
    {
     "name": "stderr",
     "output_type": "stream",
     "text": [
      "[I 2023-07-30 14:00:17,720] Trial 6 finished with value: -1.461291338247053 and parameters: {'max_depth': 3, 'num_leaves': 63, 'subsample': 0.8, 'colsample_bytree': 0.8, 'reg_alpha': 0.024582141483116576, 'reg_lambda': 0.03445227490463882}. Best is trial 0 with value: -1.4760724308986135.\n",
      "[I 2023-07-30 14:00:17,720] Trial 5 pruned. Trial was pruned at iteration 107.\n",
      "[I 2023-07-30 14:00:17,720] Trial 1 pruned. Trial was pruned at iteration 50.\n",
      "[I 2023-07-30 14:00:17,720] Trial 4 pruned. Trial was pruned at iteration 18.\n"
     ]
    },
    {
     "name": "stdout",
     "output_type": "stream",
     "text": [
      "1.5166108758083157\n",
      "1.599355254601482\n"
     ]
    },
    {
     "name": "stderr",
     "output_type": "stream",
     "text": [
      "[I 2023-07-30 14:00:23,369] Trial 9 finished with value: -1.5492217705300462 and parameters: {'max_depth': 7, 'num_leaves': 7, 'subsample': 0.8, 'colsample_bytree': 0.8, 'reg_alpha': 0.11548193570176202, 'reg_lambda': 0.04644461988605039}. Best is trial 9 with value: -1.5492217705300462.\n"
     ]
    },
    {
     "name": "stdout",
     "output_type": "stream",
     "text": [
      "1.5426999012181493\n",
      "1.5602375101449222\n"
     ]
    },
    {
     "name": "stderr",
     "output_type": "stream",
     "text": [
      "[I 2023-07-30 14:00:28,250] Trial 3 finished with value: -1.5254547038762336 and parameters: {'max_depth': 7, 'num_leaves': 63, 'subsample': 0.8, 'colsample_bytree': 0.8, 'reg_alpha': 0.2064477146238455, 'reg_lambda': 1.219563021385748}. Best is trial 9 with value: -1.5492217705300462.\n",
      "[I 2023-07-30 14:00:28,266] A new study created in memory with name: no-name-0c9d1f83-8ed7-4aee-a8c7-866358513f5e\n"
     ]
    },
    {
     "name": "stdout",
     "output_type": "stream",
     "text": [
      "1.522372667351211\n",
      "1.0586918076472451\n",
      "1.5149644664191801\n",
      "1.0586918076472451\n",
      "1.32408841231408\n",
      "1.5621251374515022\n",
      "1.138084421942691\n",
      "1.425978891902281\n",
      "1.4864560351244935\n",
      "1.5342030005982736\n",
      "1.0742006583781216\n",
      "1.3946280814382983\n",
      "1.3955157925279509\n",
      "1.138084421942691\n",
      "1.3869543964801836\n",
      "1.367862504978572\n",
      "1.392241183501596\n",
      "1.3481765470568319\n",
      "1.4562026963279568\n",
      "1.4930548951983735\n",
      "1.3875496729565842\n",
      "1.466060029992256\n",
      "0.9234940496317638\n",
      "0.9173766995440196\n",
      "1.4966387246943529\n",
      "1.2196105765229226\n",
      "1.3182832571001541\n",
      "1.396722621848618\n",
      "1.3856240099834989\n",
      "1.3586890877678708\n",
      "1.5270541316765853\n"
     ]
    },
    {
     "name": "stderr",
     "output_type": "stream",
     "text": [
      "[I 2023-07-30 14:01:09,083] Trial 3 finished with value: -1.2071671911684125 and parameters: {'max_depth': 7, 'num_leaves': 127, 'subsample': 0.8, 'colsample_bytree': 0.8, 'reg_alpha': 1.6204616502707354, 'reg_lambda': 0.20475881944553165}. Best is trial 3 with value: -1.2071671911684125.\n"
     ]
    },
    {
     "name": "stdout",
     "output_type": "stream",
     "text": [
      "1.2712726026723722\n",
      "1.2513323808906311\n"
     ]
    },
    {
     "name": "stderr",
     "output_type": "stream",
     "text": [
      "[I 2023-07-30 14:01:14,499] Trial 2 finished with value: -1.2971521389747094 and parameters: {'max_depth': 3, 'num_leaves': 7, 'subsample': 0.8, 'colsample_bytree': 0.8, 'reg_alpha': 0.005601477288063222, 'reg_lambda': 0.0282893465009245}. Best is trial 2 with value: -1.2971521389747094.\n"
     ]
    },
    {
     "name": "stdout",
     "output_type": "stream",
     "text": [
      "1.4608080910670145\n",
      "1.4201122134175939\n"
     ]
    },
    {
     "name": "stderr",
     "output_type": "stream",
     "text": [
      "[I 2023-07-30 14:01:17,152] Trial 4 finished with value: -1.35877797798635 and parameters: {'max_depth': 7, 'num_leaves': 7, 'subsample': 0.8, 'colsample_bytree': 0.8, 'reg_alpha': 0.0023255659403588857, 'reg_lambda': 3.263411855387649}. Best is trial 4 with value: -1.35877797798635.\n"
     ]
    },
    {
     "name": "stdout",
     "output_type": "stream",
     "text": [
      "1.4536999415056737\n",
      "1.508991230422668\n",
      "1.5124700981371038\n"
     ]
    },
    {
     "name": "stderr",
     "output_type": "stream",
     "text": [
      "[I 2023-07-30 14:01:21,263] Trial 7 finished with value: -1.2234556089030353 and parameters: {'max_depth': 5, 'num_leaves': 31, 'subsample': 0.8, 'colsample_bytree': 0.8, 'reg_alpha': 1.3374172185475177, 'reg_lambda': 0.019909848001681076}. Best is trial 4 with value: -1.35877797798635.\n"
     ]
    },
    {
     "name": "stdout",
     "output_type": "stream",
     "text": [
      "1.3508861769344547\n",
      "1.535189454711492\n"
     ]
    },
    {
     "name": "stderr",
     "output_type": "stream",
     "text": [
      "[I 2023-07-30 14:01:25,658] Trial 1 finished with value: -1.4471386303795253 and parameters: {'max_depth': 3, 'num_leaves': 63, 'subsample': 0.8, 'colsample_bytree': 0.8, 'reg_alpha': 0.11280508092934699, 'reg_lambda': 0.9806370609905688}. Best is trial 1 with value: -1.4471386303795253.\n",
      "[I 2023-07-30 14:01:25,673] Trial 6 pruned. Trial was pruned at iteration 42.\n",
      "[I 2023-07-30 14:01:25,673] Trial 9 pruned. Trial was pruned at iteration 36.\n",
      "[I 2023-07-30 14:01:25,673] Trial 0 pruned. Trial was pruned at iteration 35.\n",
      "[I 2023-07-30 14:01:25,673] Trial 5 pruned. Trial was pruned at iteration 133.\n"
     ]
    },
    {
     "name": "stdout",
     "output_type": "stream",
     "text": [
      "1.4983935117829574\n"
     ]
    },
    {
     "name": "stderr",
     "output_type": "stream",
     "text": [
      "[I 2023-07-30 14:01:27,603] Trial 8 finished with value: -1.4439446959913953 and parameters: {'max_depth': 5, 'num_leaves': 7, 'subsample': 0.8, 'colsample_bytree': 0.8, 'reg_alpha': 0.20169149407378922, 'reg_lambda': 0.1037976728744432}. Best is trial 1 with value: -1.4471386303795253.\n",
      "[I 2023-07-30 14:01:27,607] A new study created in memory with name: no-name-758e1c4f-44b5-4bdb-b434-d18b0784d2b1\n"
     ]
    },
    {
     "name": "stdout",
     "output_type": "stream",
     "text": [
      "1.4787157379819442\n",
      "1.0596862158072797\n",
      "1.4666865444180452\n",
      "1.4355192224392932\n",
      "1.0596862158072797\n",
      "1.4821696352890927\n",
      "1.2587740641138214\n",
      "1.2981427933389706\n",
      "1.1349864885881342\n",
      "1.1522009104818753\n",
      "1.3864804575111478\n",
      "1.0039073653220147\n",
      "1.270521863503478\n",
      "1.3765681509663963\n",
      "1.2442345979825893\n",
      "1.4368199741060441\n",
      "1.358554666379498\n",
      "1.30468783005859\n",
      "0.9166359777433046\n",
      "1.3360352783836187\n",
      "1.4389692977052837\n"
     ]
    },
    {
     "name": "stderr",
     "output_type": "stream",
     "text": [
      "[I 2023-07-30 14:01:50,688] Trial 1 finished with value: -1.0409823242872718 and parameters: {'max_depth': 7, 'num_leaves': 127, 'subsample': 0.8, 'colsample_bytree': 0.8, 'reg_alpha': 4.079982247222451, 'reg_lambda': 0.6451011203881162}. Best is trial 1 with value: -1.0409823242872718.\n"
     ]
    },
    {
     "name": "stdout",
     "output_type": "stream",
     "text": [
      "1.0896955739756264\n",
      "1.3620384337319171\n",
      "1.293608766535542\n",
      "1.445208731981622\n",
      "0.9172086335318798\n",
      "1.470617593982293\n",
      "1.4612882186372538\n",
      "1.444031939173501\n",
      "1.3149019896270118\n",
      "1.4116944190269756\n",
      "1.2414383465333851\n",
      "1.4452688798711653\n",
      "1.437107719270215\n",
      "0.9166359777433046\n",
      "1.146680913555918\n",
      "1.3770540855732754\n",
      "1.007398644596348\n"
     ]
    },
    {
     "name": "stderr",
     "output_type": "stream",
     "text": [
      "[I 2023-07-30 14:02:19,920] Trial 9 finished with value: -1.268699649516582 and parameters: {'max_depth': 5, 'num_leaves': 7, 'subsample': 0.8, 'colsample_bytree': 0.8, 'reg_alpha': 0.9009934987917895, 'reg_lambda': 0.7893160398398711}. Best is trial 9 with value: -1.268699649516582.\n"
     ]
    },
    {
     "name": "stdout",
     "output_type": "stream",
     "text": [
      "1.3623529002615231\n",
      "1.4036590930953026\n",
      "1.4051542188117114\n"
     ]
    },
    {
     "name": "stderr",
     "output_type": "stream",
     "text": [
      "[I 2023-07-30 14:02:22,855] Trial 2 finished with value: -1.2718290797037128 and parameters: {'max_depth': 7, 'num_leaves': 7, 'subsample': 0.8, 'colsample_bytree': 0.8, 'reg_alpha': 0.005053706801547691, 'reg_lambda': 0.04990632093047936}. Best is trial 2 with value: -1.2718290797037128.\n"
     ]
    },
    {
     "name": "stdout",
     "output_type": "stream",
     "text": [
      "1.4152473343602323\n"
     ]
    },
    {
     "name": "stderr",
     "output_type": "stream",
     "text": [
      "[I 2023-07-30 14:02:23,781] Trial 8 finished with value: -1.3911605904534836 and parameters: {'max_depth': 3, 'num_leaves': 63, 'subsample': 0.8, 'colsample_bytree': 0.8, 'reg_alpha': 0.037630041012256234, 'reg_lambda': 1.4517822821688355}. Best is trial 8 with value: -1.3911605904534836.\n"
     ]
    },
    {
     "name": "stdout",
     "output_type": "stream",
     "text": [
      "1.428431572083819\n"
     ]
    },
    {
     "name": "stderr",
     "output_type": "stream",
     "text": [
      "[I 2023-07-30 14:02:28,725] Trial 0 finished with value: -1.323186283015741 and parameters: {'max_depth': 3, 'num_leaves': 63, 'subsample': 0.8, 'colsample_bytree': 0.8, 'reg_alpha': 0.06007311861982132, 'reg_lambda': 0.03831889436474859}. Best is trial 8 with value: -1.3911605904534836.\n",
      "[I 2023-07-30 14:02:28,725] Trial 6 pruned. Trial was pruned at iteration 153.\n",
      "[I 2023-07-30 14:02:28,725] Trial 4 pruned. Trial was pruned at iteration 68.\n",
      "[I 2023-07-30 14:02:28,725] Trial 5 pruned. Trial was pruned at iteration 78.\n"
     ]
    },
    {
     "name": "stdout",
     "output_type": "stream",
     "text": [
      "1.3947525233137053\n",
      "1.4867321076851896\n"
     ]
    },
    {
     "name": "stderr",
     "output_type": "stream",
     "text": [
      "[I 2023-07-30 14:02:30,389] Trial 3 pruned. Trial was pruned at iteration 194.\n"
     ]
    },
    {
     "name": "stdout",
     "output_type": "stream",
     "text": [
      "1.1329775508433382\n"
     ]
    },
    {
     "name": "stderr",
     "output_type": "stream",
     "text": [
      "[I 2023-07-30 14:02:37,000] Trial 7 finished with value: -1.3325970083428342 and parameters: {'max_depth': 7, 'num_leaves': 127, 'subsample': 0.8, 'colsample_bytree': 0.8, 'reg_alpha': 0.009429612121701448, 'reg_lambda': 0.09359167972526947}. Best is trial 8 with value: -1.3911605904534836.\n",
      "[I 2023-07-30 14:02:37,000] A new study created in memory with name: no-name-7899d7be-d581-49b0-b82e-b1ca2ce75ec9\n"
     ]
    },
    {
     "name": "stdout",
     "output_type": "stream",
     "text": [
      "1.425976875647432\n",
      "1.0626139940093242\n",
      "1.336639607866871\n",
      "1.0626139940093242\n",
      "1.4011246653731448\n",
      "1.3942915758558252\n",
      "1.2306522588374615\n",
      "1.3816334895043543\n",
      "1.1421988894082256\n",
      "1.3340401060102345\n",
      "1.146021269791184\n",
      "1.3136886440655415\n",
      "1.3418287255385875\n",
      "1.430606583412922\n",
      "1.396423570406136\n",
      "1.366630653544187\n",
      "1.2659893656851615\n",
      "1.3542382505860027\n",
      "1.4113750838605228\n",
      "1.3819929419560588\n",
      "1.3253323159115047\n",
      "1.357881680400101\n",
      "1.2723017634283604\n",
      "0.9171259864164334\n",
      "0.9171259864164334\n",
      "1.1991191153289835\n",
      "1.3910258571878924\n",
      "1.4197142363238198\n",
      "1.3869292653956717\n",
      "1.3991254334610426\n",
      "1.293219155865276\n",
      "1.2723308696976945\n",
      "1.2822766940457049\n",
      "1.3881560241475686\n",
      "1.2506702038298498\n",
      "0.9171259864164334\n",
      "1.3641212556361186\n"
     ]
    },
    {
     "name": "stderr",
     "output_type": "stream",
     "text": [
      "[I 2023-07-30 14:03:27,962] Trial 8 finished with value: -1.2437717583574153 and parameters: {'max_depth': 3, 'num_leaves': 127, 'subsample': 0.8, 'colsample_bytree': 0.8, 'reg_alpha': 0.0030201772467203757, 'reg_lambda': 0.004237218430692143}. Best is trial 8 with value: -1.2437717583574153.\n",
      "[I 2023-07-30 14:03:28,056] Trial 7 finished with value: -1.2507646420929226 and parameters: {'max_depth': 3, 'num_leaves': 63, 'subsample': 0.8, 'colsample_bytree': 0.8, 'reg_alpha': 0.001249429838808774, 'reg_lambda': 4.374286673665613}. Best is trial 7 with value: -1.2507646420929226.\n"
     ]
    },
    {
     "name": "stdout",
     "output_type": "stream",
     "text": [
      "1.379427017767574\n",
      "1.3819985854062862\n",
      "1.269502252886054\n",
      "1.2854425457722827\n",
      "1.4368890523665605\n"
     ]
    },
    {
     "name": "stderr",
     "output_type": "stream",
     "text": [
      "[I 2023-07-30 14:03:33,438] Trial 4 finished with value: -1.2371520044635305 and parameters: {'max_depth': 3, 'num_leaves': 7, 'subsample': 0.8, 'colsample_bytree': 0.8, 'reg_alpha': 0.9385404390244533, 'reg_lambda': 0.002802457655599495}. Best is trial 7 with value: -1.2507646420929226.\n"
     ]
    },
    {
     "name": "stdout",
     "output_type": "stream",
     "text": [
      "1.32697285017723\n"
     ]
    },
    {
     "name": "stderr",
     "output_type": "stream",
     "text": [
      "[I 2023-07-30 14:03:38,980] Trial 3 finished with value: -1.3595004481732664 and parameters: {'max_depth': 3, 'num_leaves': 127, 'subsample': 0.8, 'colsample_bytree': 0.8, 'reg_alpha': 0.09510815144053701, 'reg_lambda': 0.001026134206094829}. Best is trial 3 with value: -1.3595004481732664.\n"
     ]
    },
    {
     "name": "stdout",
     "output_type": "stream",
     "text": [
      "1.3759355465841934\n"
     ]
    },
    {
     "name": "stderr",
     "output_type": "stream",
     "text": [
      "[I 2023-07-30 14:03:41,177] Trial 1 finished with value: -1.2431761557421832 and parameters: {'max_depth': 3, 'num_leaves': 31, 'subsample': 0.8, 'colsample_bytree': 0.8, 'reg_alpha': 0.9801986752345365, 'reg_lambda': 0.21489910775786678}. Best is trial 3 with value: -1.3595004481732664.\n",
      "[I 2023-07-30 14:03:41,193] Trial 9 pruned. Trial was pruned at iteration 172.\n"
     ]
    },
    {
     "name": "stdout",
     "output_type": "stream",
     "text": [
      "1.3295040035464543\n"
     ]
    },
    {
     "name": "stderr",
     "output_type": "stream",
     "text": [
      "[I 2023-07-30 14:03:41,412] Trial 6 finished with value: -1.3378096452090291 and parameters: {'max_depth': 3, 'num_leaves': 63, 'subsample': 0.8, 'colsample_bytree': 0.8, 'reg_alpha': 0.17071800188285988, 'reg_lambda': 1.2993778354341112}. Best is trial 3 with value: -1.3595004481732664.\n"
     ]
    },
    {
     "name": "stdout",
     "output_type": "stream",
     "text": [
      "1.363170400223386\n"
     ]
    },
    {
     "name": "stderr",
     "output_type": "stream",
     "text": [
      "[I 2023-07-30 14:03:41,868] Trial 2 finished with value: -1.289322545834888 and parameters: {'max_depth': 5, 'num_leaves': 7, 'subsample': 0.8, 'colsample_bytree': 0.8, 'reg_alpha': 0.01908254019542448, 'reg_lambda': 0.07913648319757655}. Best is trial 3 with value: -1.3595004481732664.\n"
     ]
    },
    {
     "name": "stdout",
     "output_type": "stream",
     "text": [
      "1.3744224099725364\n"
     ]
    },
    {
     "name": "stderr",
     "output_type": "stream",
     "text": [
      "[I 2023-07-30 14:03:42,338] Trial 0 finished with value: -1.3594881254252398 and parameters: {'max_depth': 3, 'num_leaves': 7, 'subsample': 0.8, 'colsample_bytree': 0.8, 'reg_alpha': 0.30318462505949245, 'reg_lambda': 0.17433319555734436}. Best is trial 3 with value: -1.3595004481732664.\n"
     ]
    },
    {
     "name": "stdout",
     "output_type": "stream",
     "text": [
      "1.3632768832338475\n",
      "1.0623260434171258\n"
     ]
    },
    {
     "name": "stderr",
     "output_type": "stream",
     "text": [
      "[I 2023-07-30 14:03:47,720] Trial 5 finished with value: -1.2909863425591994 and parameters: {'max_depth': 7, 'num_leaves': 127, 'subsample': 0.8, 'colsample_bytree': 0.8, 'reg_alpha': 0.0036407752088796898, 'reg_lambda': 0.4938593576889699}. Best is trial 3 with value: -1.3595004481732664.\n",
      "[I 2023-07-30 14:03:47,720] A new study created in memory with name: no-name-8365069c-40fa-4434-b0ab-cc12c1c25c38\n"
     ]
    },
    {
     "name": "stdout",
     "output_type": "stream",
     "text": [
      "1.360173931277192\n",
      "1.065605154380822\n",
      "1.065605154380822\n",
      "1.3204094587487245\n",
      "1.2247529946208178\n",
      "1.3890779901490453\n",
      "1.1223925879613765\n",
      "1.1223925879613765\n",
      "0.9998109009422256\n",
      "1.44158626964042\n",
      "0.9998109009422256\n",
      "1.4241930421878735\n",
      "1.3017552738523686\n",
      "1.2866126579270716\n",
      "0.9174881244437249\n",
      "1.4186096499663885\n",
      "1.2565425854913754\n",
      "0.9174881244437249\n",
      "1.2796220801562108\n",
      "1.1195994253838861\n"
     ]
    },
    {
     "name": "stderr",
     "output_type": "stream",
     "text": [
      "[I 2023-07-30 14:04:07,653] Trial 1 finished with value: -1.0379775321944822 and parameters: {'max_depth': 5, 'num_leaves': 31, 'subsample': 0.8, 'colsample_bytree': 0.8, 'reg_alpha': 8.000554880595814, 'reg_lambda': 3.3084605169826165}. Best is trial 1 with value: -1.0379775321944822.\n"
     ]
    },
    {
     "name": "stdout",
     "output_type": "stream",
     "text": [
      "1.0845908932442612\n",
      "1.3453533619740954\n",
      "1.3084005435743586\n"
     ]
    },
    {
     "name": "stderr",
     "output_type": "stream",
     "text": [
      "[I 2023-07-30 14:04:10,068] Trial 2 finished with value: -1.0379775321944822 and parameters: {'max_depth': 7, 'num_leaves': 127, 'subsample': 0.8, 'colsample_bytree': 0.8, 'reg_alpha': 9.219989131043455, 'reg_lambda': 0.007706015112919173}. Best is trial 1 with value: -1.0379775321944822.\n"
     ]
    },
    {
     "name": "stdout",
     "output_type": "stream",
     "text": [
      "1.0845908932442612\n",
      "1.3486119583362606\n",
      "1.3913069610960407\n",
      "1.3715030026722927\n",
      "1.3674106679406481\n",
      "1.3809823053291155\n",
      "1.3540203123890482\n",
      "1.3742798092656623\n",
      "1.3683932312266633\n",
      "0.9174881244437249\n",
      "0.9174881244437249\n",
      "1.3923464096941613\n",
      "0.9174881244437249\n",
      "1.2682506947416183\n",
      "1.3199238537432536\n",
      "1.307710985822156\n",
      "1.3119792166888837\n"
     ]
    },
    {
     "name": "stderr",
     "output_type": "stream",
     "text": [
      "[I 2023-07-30 14:04:34,944] Trial 6 finished with value: -1.234138047002059 and parameters: {'max_depth': 3, 'num_leaves': 31, 'subsample': 0.8, 'colsample_bytree': 0.8, 'reg_alpha': 0.012467663663322965, 'reg_lambda': 0.16157835755901725}. Best is trial 6 with value: -1.234138047002059.\n"
     ]
    },
    {
     "name": "stdout",
     "output_type": "stream",
     "text": [
      "1.3379066403225177\n"
     ]
    },
    {
     "name": "stderr",
     "output_type": "stream",
     "text": [
      "[I 2023-07-30 14:04:41,081] Trial 0 finished with value: -1.2830882497321474 and parameters: {'max_depth': 5, 'num_leaves': 7, 'subsample': 0.8, 'colsample_bytree': 0.8, 'reg_alpha': 0.02928081148291222, 'reg_lambda': 0.0015186157474825785}. Best is trial 0 with value: -1.2830882497321474.\n"
     ]
    },
    {
     "name": "stdout",
     "output_type": "stream",
     "text": [
      "1.3436028246618479\n",
      "1.335633812453029\n"
     ]
    },
    {
     "name": "stderr",
     "output_type": "stream",
     "text": [
      "[I 2023-07-30 14:04:41,662] Trial 8 finished with value: -1.275891898149917 and parameters: {'max_depth': 3, 'num_leaves': 127, 'subsample': 0.8, 'colsample_bytree': 0.8, 'reg_alpha': 0.045476153496868545, 'reg_lambda': 5.073773140047696}. Best is trial 0 with value: -1.2830882497321474.\n",
      "[I 2023-07-30 14:04:41,662] Trial 5 pruned. Trial was pruned at iteration 58.\n",
      "[I 2023-07-30 14:04:41,819] Trial 4 finished with value: -1.3279253885571634 and parameters: {'max_depth': 3, 'num_leaves': 63, 'subsample': 0.8, 'colsample_bytree': 0.8, 'reg_alpha': 0.17325309354859933, 'reg_lambda': 3.250717701089213}. Best is trial 4 with value: -1.3279253885571634.\n"
     ]
    },
    {
     "name": "stdout",
     "output_type": "stream",
     "text": [
      "1.3407294456141623\n",
      "1.3474803302712717\n"
     ]
    },
    {
     "name": "stderr",
     "output_type": "stream",
     "text": [
      "[I 2023-07-30 14:04:42,243] Trial 3 pruned. Trial was pruned at iteration 273.\n",
      "[I 2023-07-30 14:04:42,415] Trial 9 finished with value: -1.3312342043057197 and parameters: {'max_depth': 3, 'num_leaves': 31, 'subsample': 0.8, 'colsample_bytree': 0.8, 'reg_alpha': 0.4137890029227825, 'reg_lambda': 1.4678290522181854}. Best is trial 9 with value: -1.3312342043057197.\n"
     ]
    },
    {
     "name": "stdout",
     "output_type": "stream",
     "text": [
      "1.3301779979726314\n"
     ]
    },
    {
     "name": "stderr",
     "output_type": "stream",
     "text": [
      "[I 2023-07-30 14:04:45,836] Trial 7 finished with value: -1.3138114888621248 and parameters: {'max_depth': 7, 'num_leaves': 127, 'subsample': 0.8, 'colsample_bytree': 0.8, 'reg_alpha': 0.5238769895797624, 'reg_lambda': 0.2660226062352923}. Best is trial 9 with value: -1.3312342043057197.\n",
      "[I 2023-07-30 14:04:45,836] A new study created in memory with name: no-name-65d05886-8b7e-49d0-a20d-2b32c16876d2\n"
     ]
    },
    {
     "name": "stdout",
     "output_type": "stream",
     "text": [
      "1.3367021473864051\n",
      "1.0676464120247013\n",
      "1.4050170846813312\n",
      "1.0676464120247013\n",
      "1.0676464120247013\n",
      "1.0676464120247013\n",
      "1.0676464120247013\n",
      "1.1142515407955607\n",
      "1.3357541385403402\n",
      "1.1142515407955607\n",
      "1.1142515407955607\n",
      "1.2322054494505585\n",
      "0.9978142041544085\n",
      "1.3672406862286088\n",
      "0.9978142041544085\n",
      "1.2517597974207066\n",
      "1.0676464120247013\n",
      "0.9186740612369755\n",
      "0.9186740612369755\n",
      "1.393456345655283\n",
      "1.2653706657384896\n"
     ]
    },
    {
     "name": "stderr",
     "output_type": "stream",
     "text": [
      "[I 2023-07-30 14:05:09,192] Trial 0 finished with value: -1.036221311329947 and parameters: {'max_depth': 5, 'num_leaves': 7, 'subsample': 0.8, 'colsample_bytree': 0.8, 'reg_alpha': 4.980736410973837, 'reg_lambda': 0.031062039368477224}. Best is trial 0 with value: -1.036221311329947.\n"
     ]
    },
    {
     "name": "stdout",
     "output_type": "stream",
     "text": [
      "1.0827203384380895\n"
     ]
    },
    {
     "name": "stderr",
     "output_type": "stream",
     "text": [
      "[I 2023-07-30 14:05:10,338] Trial 6 finished with value: -1.036221311329947 and parameters: {'max_depth': 5, 'num_leaves': 7, 'subsample': 0.8, 'colsample_bytree': 0.8, 'reg_alpha': 9.992612499901476, 'reg_lambda': 0.0013802378519173772}. Best is trial 0 with value: -1.036221311329947.\n"
     ]
    },
    {
     "name": "stdout",
     "output_type": "stream",
     "text": [
      "1.0827203384380895\n",
      "1.256961459216341\n",
      "1.258165692812098\n",
      "1.233408351843022\n",
      "1.2775167667414085\n",
      "1.0947526203767421\n",
      "1.13373320969225\n",
      "1.2806966333062544\n",
      "1.178010982423172\n",
      "1.3250641067963023\n",
      "1.1528142286769854\n",
      "1.335340867652464\n",
      "1.2384112904161475\n"
     ]
    },
    {
     "name": "stderr",
     "output_type": "stream",
     "text": [
      "[I 2023-07-30 14:05:28,042] Trial 9 finished with value: -1.2081590686043144 and parameters: {'max_depth': 7, 'num_leaves': 31, 'subsample': 0.8, 'colsample_bytree': 0.8, 'reg_alpha': 1.3721535928186388, 'reg_lambda': 0.003177627957057488}. Best is trial 9 with value: -1.2081590686043144.\n"
     ]
    },
    {
     "name": "stdout",
     "output_type": "stream",
     "text": [
      "1.2852124583408944\n",
      "1.3343939856185671\n",
      "1.360905182944815\n",
      "1.261182073302569\n"
     ]
    },
    {
     "name": "stderr",
     "output_type": "stream",
     "text": [
      "[I 2023-07-30 14:05:32,970] Trial 8 finished with value: -1.16902928324518 and parameters: {'max_depth': 5, 'num_leaves': 7, 'subsample': 0.8, 'colsample_bytree': 0.8, 'reg_alpha': 2.5848191954777002, 'reg_lambda': 0.022241775746380428}. Best is trial 9 with value: -1.2081590686043144.\n"
     ]
    },
    {
     "name": "stdout",
     "output_type": "stream",
     "text": [
      "1.2329174679872448\n",
      "1.3477861373833777\n"
     ]
    },
    {
     "name": "stderr",
     "output_type": "stream",
     "text": [
      "[I 2023-07-30 14:05:34,555] Trial 2 finished with value: -1.2293011805788632 and parameters: {'max_depth': 3, 'num_leaves': 127, 'subsample': 0.8, 'colsample_bytree': 0.8, 'reg_alpha': 0.933060772259008, 'reg_lambda': 3.0431200277335306}. Best is trial 2 with value: -1.2293011805788632.\n",
      "[I 2023-07-30 14:05:34,555] Trial 5 pruned. Trial was pruned at iteration 8.\n",
      "[I 2023-07-30 14:05:34,571] Trial 1 pruned. Trial was pruned at iteration 17.\n"
     ]
    },
    {
     "name": "stdout",
     "output_type": "stream",
     "text": [
      "1.3275461176966543\n",
      "1.2815265971617122\n",
      "1.2482728907478557\n"
     ]
    },
    {
     "name": "stderr",
     "output_type": "stream",
     "text": [
      "[I 2023-07-30 14:05:36,532] Trial 4 pruned. Trial was pruned at iteration 0.\n",
      "[I 2023-07-30 14:05:41,239] Trial 7 finished with value: -1.3023685822974727 and parameters: {'max_depth': 5, 'num_leaves': 31, 'subsample': 0.8, 'colsample_bytree': 0.8, 'reg_alpha': 0.2706089308894776, 'reg_lambda': 0.08845099879849448}. Best is trial 7 with value: -1.3023685822974727.\n"
     ]
    },
    {
     "name": "stdout",
     "output_type": "stream",
     "text": [
      "1.293850642394357\n"
     ]
    },
    {
     "name": "stderr",
     "output_type": "stream",
     "text": [
      "[I 2023-07-30 14:05:41,898] Trial 3 finished with value: -1.2817069080194754 and parameters: {'max_depth': 7, 'num_leaves': 31, 'subsample': 0.8, 'colsample_bytree': 0.8, 'reg_alpha': 0.005884470823980538, 'reg_lambda': 1.1758700302574463}. Best is trial 7 with value: -1.3023685822974727.\n",
      "[I 2023-07-30 14:05:41,898] A new study created in memory with name: no-name-0409c141-0109-485e-9b9c-890a5a680f4c\n"
     ]
    },
    {
     "name": "stdout",
     "output_type": "stream",
     "text": [
      "1.311147500372681\n",
      "1.0692243015796117\n",
      "1.0692243015796117\n",
      "1.0692243015796117\n",
      "1.0692243015796117\n",
      "1.0692243015796117\n",
      "1.1085029965041404\n",
      "1.1085029965041404\n",
      "1.1085029965041404\n",
      "1.4193948132209133\n",
      "0.9959175800692146\n",
      "1.3410971254814683\n",
      "1.2665879319300037\n",
      "1.2952471324723684\n",
      "0.9194389637782843\n",
      "1.2821578523363653\n",
      "1.2538249735263107\n"
     ]
    },
    {
     "name": "stderr",
     "output_type": "stream",
     "text": [
      "[I 2023-07-30 14:05:59,523] Trial 2 finished with value: -1.0348980787645776 and parameters: {'max_depth': 5, 'num_leaves': 127, 'subsample': 0.8, 'colsample_bytree': 0.8, 'reg_alpha': 9.417445196744733, 'reg_lambda': 0.8226904961680845}. Best is trial 2 with value: -1.0348980787645776.\n"
     ]
    },
    {
     "name": "stdout",
     "output_type": "stream",
     "text": [
      "1.0814065518916365\n",
      "1.2343782658122977\n",
      "1.2670894002218178\n",
      "0.9959175800692146\n",
      "1.3147145355002319\n",
      "1.36161395801183\n",
      "1.1750504436294498\n",
      "1.2437668943862357\n",
      "1.3456244629547742\n",
      "1.2938895685034375\n",
      "1.3223911306507248\n",
      "1.3203171822533282\n",
      "1.099775516583155\n",
      "1.1057144484447345\n",
      "1.1740338988584302\n",
      "1.2218578702363165\n",
      "1.2294450659416998\n",
      "1.164392354894589\n",
      "1.0524196787246853\n",
      "1.2636205722447587\n",
      "1.2559162163319804\n"
     ]
    },
    {
     "name": "stderr",
     "output_type": "stream",
     "text": [
      "[I 2023-07-30 14:06:25,061] Trial 5 finished with value: -1.198870498323805 and parameters: {'max_depth': 3, 'num_leaves': 7, 'subsample': 0.8, 'colsample_bytree': 0.8, 'reg_alpha': 1.633822556310853, 'reg_lambda': 0.7208260999617186}. Best is trial 5 with value: -1.198870498323805.\n"
     ]
    },
    {
     "name": "stdout",
     "output_type": "stream",
     "text": [
      "1.2729491309824494\n",
      "1.3433048696958143\n"
     ]
    },
    {
     "name": "stderr",
     "output_type": "stream",
     "text": [
      "[I 2023-07-30 14:06:30,749] Trial 4 finished with value: -1.1342475338279612 and parameters: {'max_depth': 3, 'num_leaves': 63, 'subsample': 0.8, 'colsample_bytree': 0.8, 'reg_alpha': 3.0729391732963047, 'reg_lambda': 0.03453413589920619}. Best is trial 5 with value: -1.198870498323805.\n"
     ]
    },
    {
     "name": "stdout",
     "output_type": "stream",
     "text": [
      "1.2127454789818688\n"
     ]
    },
    {
     "name": "stderr",
     "output_type": "stream",
     "text": [
      "[I 2023-07-30 14:06:33,747] Trial 3 finished with value: -1.3114796520548073 and parameters: {'max_depth': 3, 'num_leaves': 63, 'subsample': 0.8, 'colsample_bytree': 0.8, 'reg_alpha': 0.015037157807416433, 'reg_lambda': 0.02996186042142256}. Best is trial 3 with value: -1.3114796520548073.\n"
     ]
    },
    {
     "name": "stdout",
     "output_type": "stream",
     "text": [
      "1.2883632615256675\n",
      "1.3238201081763679\n"
     ]
    },
    {
     "name": "stderr",
     "output_type": "stream",
     "text": [
      "[I 2023-07-30 14:06:34,987] Trial 6 finished with value: -1.275363298248887 and parameters: {'max_depth': 7, 'num_leaves': 7, 'subsample': 0.8, 'colsample_bytree': 0.8, 'reg_alpha': 0.03023071834949308, 'reg_lambda': 0.19067181618171639}. Best is trial 3 with value: -1.3114796520548073.\n",
      "[I 2023-07-30 14:06:35,003] Trial 9 pruned. Trial was pruned at iteration 409.\n",
      "[I 2023-07-30 14:06:35,003] Trial 0 pruned. Trial was pruned at iteration 75.\n",
      "[I 2023-07-30 14:06:35,003] Trial 1 pruned. Trial was pruned at iteration 208.\n"
     ]
    },
    {
     "name": "stdout",
     "output_type": "stream",
     "text": [
      "1.2951109066913418\n",
      "1.22700813389942\n"
     ]
    },
    {
     "name": "stderr",
     "output_type": "stream",
     "text": [
      "[I 2023-07-30 14:06:36,761] Trial 8 pruned. Trial was pruned at iteration 0.\n",
      "[I 2023-07-30 14:06:39,963] Trial 7 finished with value: -1.255106481100634 and parameters: {'max_depth': 7, 'num_leaves': 127, 'subsample': 0.8, 'colsample_bytree': 0.8, 'reg_alpha': 0.001801923487234547, 'reg_lambda': 0.09157727584019892}. Best is trial 3 with value: -1.3114796520548073.\n",
      "[I 2023-07-30 14:06:39,963] A new study created in memory with name: no-name-820a43c8-140d-4bff-8b7c-6132a63ea5c2\n"
     ]
    },
    {
     "name": "stdout",
     "output_type": "stream",
     "text": [
      "1.2907293498245491\n",
      "1.3899990672915146\n",
      "1.0701735972652267\n",
      "1.0701735972652267\n",
      "1.0701735972652267\n",
      "1.106023255181861\n",
      "1.2329669899094287\n",
      "1.3394846768118889\n",
      "1.2697624481701009\n",
      "0.9943884178866539\n",
      "1.377569617884761\n",
      "1.2597075810365008\n",
      "1.2380088576162585\n",
      "1.3442967851372534\n",
      "0.9200318276334367\n",
      "1.3471721454374885\n",
      "1.251873925154295\n",
      "1.2245809970787085\n",
      "1.23418324506277\n",
      "1.2642362704287684\n"
     ]
    },
    {
     "name": "stderr",
     "output_type": "stream",
     "text": [
      "[I 2023-07-30 14:07:02,977] Trial 6 finished with value: -1.0342476374083518 and parameters: {'max_depth': 3, 'num_leaves': 31, 'subsample': 0.8, 'colsample_bytree': 0.8, 'reg_alpha': 9.070835655143751, 'reg_lambda': 0.0010584577065640415}. Best is trial 6 with value: -1.0342476374083518.\n"
     ]
    },
    {
     "name": "stdout",
     "output_type": "stream",
     "text": [
      "1.0806210890745804\n",
      "1.24844639804288\n",
      "1.3108446197151944\n",
      "1.2499957582834231\n",
      "1.2397493965845876\n",
      "1.2251670742686551\n",
      "1.299182158180994\n",
      "1.1532193679720024\n",
      "1.2452328605516596\n",
      "1.2772544574947002\n",
      "1.1701677126207095\n",
      "1.2848288537670665\n",
      "1.2860978691050458\n",
      "1.288588196595738\n",
      "1.2061183796849453\n",
      "1.276286559582618\n",
      "1.2200936272589635\n"
     ]
    },
    {
     "name": "stderr",
     "output_type": "stream",
     "text": [
      "[I 2023-07-30 14:07:25,197] Trial 5 finished with value: -1.1907572681709326 and parameters: {'max_depth': 5, 'num_leaves': 127, 'subsample': 0.8, 'colsample_bytree': 0.8, 'reg_alpha': 1.4147675705322986, 'reg_lambda': 0.019641553478232023}. Best is trial 5 with value: -1.1907572681709326.\n"
     ]
    },
    {
     "name": "stdout",
     "output_type": "stream",
     "text": [
      "1.272845388629297\n",
      "1.2002252908755904\n",
      "1.2501205847124113\n"
     ]
    },
    {
     "name": "stderr",
     "output_type": "stream",
     "text": [
      "[I 2023-07-30 14:07:30,472] Trial 1 finished with value: -1.289163884224931 and parameters: {'max_depth': 3, 'num_leaves': 31, 'subsample': 0.8, 'colsample_bytree': 0.8, 'reg_alpha': 0.001408659302378462, 'reg_lambda': 0.07389185438770633}. Best is trial 1 with value: -1.289163884224931.\n"
     ]
    },
    {
     "name": "stdout",
     "output_type": "stream",
     "text": [
      "1.3050455733271358\n",
      "1.2513955547832583\n",
      "1.2349107078652497\n"
     ]
    },
    {
     "name": "stderr",
     "output_type": "stream",
     "text": [
      "[I 2023-07-30 14:07:38,728] Trial 7 finished with value: -1.2842040738829081 and parameters: {'max_depth': 3, 'num_leaves': 7, 'subsample': 0.8, 'colsample_bytree': 0.8, 'reg_alpha': 0.0010324730980207542, 'reg_lambda': 0.00853040470292165}. Best is trial 1 with value: -1.289163884224931.\n"
     ]
    },
    {
     "name": "stdout",
     "output_type": "stream",
     "text": [
      "1.2862762885095465\n",
      "1.254059649762516\n"
     ]
    },
    {
     "name": "stderr",
     "output_type": "stream",
     "text": [
      "[I 2023-07-30 14:07:40,313] Trial 8 finished with value: -1.209366258251044 and parameters: {'max_depth': 3, 'num_leaves': 31, 'subsample': 0.8, 'colsample_bytree': 0.8, 'reg_alpha': 0.9464317259332187, 'reg_lambda': 0.26009248110908595}. Best is trial 1 with value: -1.289163884224931.\n",
      "[I 2023-07-30 14:07:40,313] Trial 2 pruned. Trial was pruned at iteration 213.\n",
      "[I 2023-07-30 14:07:40,313] Trial 0 pruned. Trial was pruned at iteration 112.\n",
      "[I 2023-07-30 14:07:40,313] Trial 3 pruned. Trial was pruned at iteration 30.\n",
      "[I 2023-07-30 14:07:40,313] Trial 4 pruned. Trial was pruned at iteration 74.\n"
     ]
    },
    {
     "name": "stdout",
     "output_type": "stream",
     "text": [
      "1.297016297499972\n"
     ]
    },
    {
     "name": "stderr",
     "output_type": "stream",
     "text": [
      "[I 2023-07-30 14:07:41,619] Trial 9 pruned. Trial was pruned at iteration 0.\n"
     ]
    },
    {
     "name": "stdout",
     "output_type": "stream",
     "text": [
      ">>>Done with 8 processes, and time taken is 609.5509870052338\n",
      "Time taken:  612.8920819759369 seconds\n"
     ]
    }
   ],
   "source": [
    "import optuna\n",
    "from optuna.integration import LightGBMPruningCallback\n",
    "\n",
    "\n",
    "def objective(trial, x_train, y_train, measure, lookforward_win):\n",
    "    param = {\n",
    "        'metric': 'rmse', \n",
    "        'random_state': 48,\n",
    "        'n_estimators': 500,\n",
    "        'learning_rate': 0.05,\n",
    "        'max_depth': trial.suggest_categorical('max_depth', [3, 5, 7]), \n",
    "        'num_leaves': trial.suggest_categorical('num_leaves', [7, 31, 63, 127]),\n",
    "        'subsample': trial.suggest_categorical('subsample', [0.8]),\n",
    "        'colsample_bytree': trial.suggest_categorical('colsample_bytree', [0.8]),\n",
    "        'reg_alpha': trial.suggest_loguniform('reg_alpha', 1e-3, 10.0),\n",
    "        'reg_lambda': trial.suggest_loguniform('reg_lambda', 1e-3, 10.0),\n",
    "    }\n",
    "\n",
    "    model = lgb.LGBMRegressor(**param)\n",
    "    tscv = TimeSeriesSplit(n_splits=5)\n",
    "    score = 0\n",
    "    for train_index, val_index in tscv.split(x_train):\n",
    "        x_train_cv, x_val_cv = x_train.iloc[train_index], x_train.iloc[val_index]\n",
    "        y_train_cv, y_val_cv = y_train.iloc[train_index], y_train.iloc[val_index]\n",
    "        model.fit(x_train_cv, y_train_cv, eval_set=[(x_val_cv, y_val_cv)], early_stopping_rounds=50, verbose=False, callbacks=[LightGBMPruningCallback(trial, 'rmse')])\n",
    "        y_pred = model.predict(x_val_cv)\n",
    "        if measure == 'rmse':\n",
    "            error = mean_squared_error(y_val_cv, y_pred)\n",
    "            score += error\n",
    "        elif measure == 'cum_ret':\n",
    "            error = -backtest(y_val_cv, y_pred, lookforward_win)\n",
    "            score += error\n",
    "    return score / 5\n",
    "\n",
    "\n",
    "def backtest(y_val_cv, pred_series, lookforward_win):\n",
    "    val_df = y_val_cv.copy()\n",
    "    val_df = pd.DataFrame(val_df)\n",
    "    val_df['pred'] = pred_series\n",
    "\n",
    "    # long if pred > 0, short if pred < 0, record the return\n",
    "    val_df['direction'] = np.where(val_df['pred'] > 0, 1, np.where(val_df['pred'] < 0, -1, 0))\n",
    "    val_df['return'] = val_df['Y_M_{}'.format(str(lookforward_win))] * val_df['direction'] / lookforward_win\n",
    "    val_df['return'] = val_df['return'].shift(lookforward_win)\n",
    "    val_df['return'] = val_df['return'].fillna(0)\n",
    "\n",
    "    # calculate the cumulative return\n",
    "    val_df['cum_return'] = val_df['return'].cumsum() + 1\n",
    "    cum_return = val_df['cum_return'].iloc[-1]\n",
    "    print(cum_return)\n",
    "\n",
    "    # std of return\n",
    "    val_df['std'] = val_df['return'].std()\n",
    "\n",
    "    return cum_return\n",
    "\n",
    "\n",
    "def modelConstructionAndForecasting(numOfPastDays:int, numOfForwardDays:int, data:pd.DataFrame, numOfProcesses:int, featureColumns:list, tickers:str, measure:str):\n",
    "    date=data.date\n",
    "    date_index=np.unique(date)\n",
    "    date_num=date_index.size\n",
    "    p=numOfPastDays\n",
    "    \n",
    "    #Output data\n",
    "    columns1 = ['date', 'label', 'isR2', 'oosR2']\n",
    "    outputData = pd.DataFrame(columns=columns1)\n",
    "    \n",
    "    tscv = TimeSeriesSplit(n_splits=5)\n",
    "\n",
    "    for i in range(date_num-p):\n",
    "        if i >= numOfForwardDays:\n",
    "            break\n",
    "        #Prepare training and testing data for the current testing day\n",
    "        trainingDates=[date_index[i]]\n",
    "        for j in range(i+1,i+p):\n",
    "            trainingDates.append(date_index[j])        \n",
    "\n",
    "        dataPd=data[data.date.isin(trainingDates)]\n",
    "        data1d=data[data.date==date_index[i+p]]\n",
    "\n",
    "        #Building models with LightGBM models for each label\n",
    "        lgbmModels = {}\n",
    "        LGBMModels = {}\n",
    "        for j in range(1, 11):\n",
    "            lgbmModels['Y_M_{}'.format(str(j))] = lgb.LGBMRegressor()\n",
    "        \n",
    "        #Use a dictionry to hold training label data\n",
    "        y_training = {}\n",
    "        for j in range(1, 11):\n",
    "            y_training['Y_M_{}'.format(str(j))] = dataPd['Y_M_{}'.format(str(j))]\n",
    "        \n",
    "        #Hold feature data for training\n",
    "        x_training = pd.DataFrame()\n",
    "        for j in range(len(featureColumns)):\n",
    "            x_training[featureColumns[j]] = dataPd[featureColumns[j]]\n",
    "\n",
    "        #Use a dictionry to hold testing label data\n",
    "        y_testing = {}\n",
    "        for j in range(1, 11):\n",
    "            y_testing['Y_M_{}'.format(str(j))] = data1d['Y_M_{}'.format(str(j))]\n",
    "\n",
    "        #Hold feature data for testing\n",
    "        x_testing = pd.DataFrame()\n",
    "        for j in range(len(featureColumns)):\n",
    "            x_testing[featureColumns[j]] = data1d[featureColumns[j]]\n",
    "\n",
    "        #Use a dictionry to hold predictions\n",
    "        y_prediction = {}\n",
    "\n",
    "        #timing the multi-Process prcessing\n",
    "        t = time.time()\n",
    "        #Construction of models\n",
    "        ##Establish a number of Processs for the calculation tasks\n",
    "        pool = Pool(processes=numOfProcesses)\n",
    "\n",
    "        for j in range(1, 11):\n",
    "            study = optuna.create_study(direction='minimize')\n",
    "            study.optimize(lambda trial: objective(trial, x_training, y_training['Y_M_{}'.format(str(j))], measure, lookforward_win=j), n_trials=10, n_jobs=-1)\n",
    "            best_params = study.best_params\n",
    "            lgbmModels['Y_M_{}'.format(str(j))].set_params(**best_params)\n",
    "            LGBMModels['Y_M_{}'.format(str(j))] = pool.apply_async(lgbmModels['Y_M_{}'.format(str(j))].fit, args=(x_training, y_training['Y_M_{}'.format(str(j))]))\n",
    "\n",
    "        pool.close()\n",
    "        pool.join()\n",
    "        print(\">>>Done with \" + str(numOfProcesses) + \" processes, and time taken is \" + str(time.time() - t)) \n",
    "        \n",
    "        # Save the models after all models are fitted\n",
    "        # check if dir exists\n",
    "        if not os.path.exists('./model_params'):\n",
    "            os.makedirs('./model_params')\n",
    "        for j in range(1, 11):\n",
    "            LGBMModels['Y_M_{}'.format(str(j))].get().booster_.save_model('./model_params/model_{}_Y_M_{}.txt'.format(tickers, str(j)))\n",
    "        \n",
    "        #Use the models to predict\n",
    "        for j in range(1, 11):\n",
    "            y_prediction['Y_M_{}'.format(str(j))] = LGBMModels['Y_M_{}'.format(str(j))].get().predict(x_testing)\n",
    "        \n",
    "        #Now, we store modeling results\n",
    "        for j in range(1, 11):\n",
    "            oneLineModelResult = []\n",
    "            oneLineModelResult.extend([str(date_index[i+p])])\n",
    "            oneLineModelResult.extend(['Y_M_{}'.format(str(j))])\n",
    "            oneLineModelResult.extend([LGBMModels['Y_M_{}'.format(str(j))].get().score(x_training, y_training['Y_M_{}'.format(str(j))])])\n",
    "            oneLineModelResult.extend([LGBMModels['Y_M_{}'.format(str(j))].get().score(x_testing, y_testing['Y_M_{}'.format(str(j))])])            \n",
    "            outputData = pd.concat([outputData, pd.DataFrame(data = [oneLineModelResult], columns = columns1)])\n",
    "\n",
    "    return outputData\n",
    "\n",
    "for future_ticker, df in df_all.items():\n",
    "    numOfPastDays = np.unique(df['date']).size - 1\n",
    "    numOfForwardDays = 1\n",
    "    numOfProcesses = 8\n",
    "    measure = 'cum_ret'\n",
    "\n",
    "    start_time = time.time()\n",
    "    outputData = modelConstructionAndForecasting(numOfPastDays, numOfForwardDays, df, numOfProcesses, featureCols, future_ticker, measure)\n",
    "    end_time = time.time()\n",
    "    print('Time taken: ', end_time - start_time, 'seconds')\n",
    "    # Check if dir exists\n",
    "    if not os.path.exists('./modelStats'):\n",
    "        os.makedirs('./modelStats')\n",
    "    outputData.to_csv('./modelStats/modelStats_{}.csv'.format(future_ticker), index=False)"
   ]
  },
  {
   "cell_type": "code",
   "execution_count": 10,
   "metadata": {},
   "outputs": [
    {
     "name": "stdout",
     "output_type": "stream",
     "text": [
      "Collecting optuna\n",
      "  Downloading optuna-3.2.0-py3-none-any.whl (390 kB)\n",
      "     -------------------------------------- 390.6/390.6 kB 8.1 MB/s eta 0:00:00\n",
      "Requirement already satisfied: tqdm in c:\\users\\patrick\\anaconda3\\lib\\site-packages (from optuna) (4.64.1)\n",
      "Requirement already satisfied: PyYAML in c:\\users\\patrick\\anaconda3\\lib\\site-packages (from optuna) (6.0)\n",
      "Collecting cmaes>=0.9.1\n",
      "  Downloading cmaes-0.10.0-py3-none-any.whl (29 kB)\n",
      "Requirement already satisfied: numpy in c:\\users\\patrick\\anaconda3\\lib\\site-packages (from optuna) (1.23.5)\n",
      "Collecting colorlog\n",
      "  Downloading colorlog-6.7.0-py2.py3-none-any.whl (11 kB)\n",
      "Requirement already satisfied: sqlalchemy>=1.3.0 in c:\\users\\patrick\\anaconda3\\lib\\site-packages (from optuna) (1.4.39)\n",
      "Requirement already satisfied: packaging>=20.0 in c:\\users\\patrick\\anaconda3\\lib\\site-packages (from optuna) (22.0)\n",
      "Collecting alembic>=1.5.0\n",
      "  Downloading alembic-1.11.1-py3-none-any.whl (224 kB)\n",
      "     -------------------------------------- 224.5/224.5 kB 6.7 MB/s eta 0:00:00\n",
      "Collecting Mako\n",
      "  Downloading Mako-1.2.4-py3-none-any.whl (78 kB)\n",
      "     ---------------------------------------- 78.7/78.7 kB ? eta 0:00:00\n",
      "Requirement already satisfied: typing-extensions>=4 in c:\\users\\patrick\\anaconda3\\lib\\site-packages (from alembic>=1.5.0->optuna) (4.4.0)\n",
      "Requirement already satisfied: greenlet!=0.4.17 in c:\\users\\patrick\\anaconda3\\lib\\site-packages (from sqlalchemy>=1.3.0->optuna) (1.1.3.post0)\n",
      "Requirement already satisfied: colorama in c:\\users\\patrick\\anaconda3\\lib\\site-packages (from colorlog->optuna) (0.4.6)\n",
      "Requirement already satisfied: MarkupSafe>=0.9.2 in c:\\users\\patrick\\anaconda3\\lib\\site-packages (from Mako->alembic>=1.5.0->optuna) (2.0.1)\n",
      "Installing collected packages: Mako, colorlog, cmaes, alembic, optuna\n",
      "Successfully installed Mako-1.2.4 alembic-1.11.1 cmaes-0.10.0 colorlog-6.7.0 optuna-3.2.0\n",
      "Note: you may need to restart the kernel to use updated packages.\n"
     ]
    }
   ],
   "source": [
    "%pip install optuna"
   ]
  },
  {
   "cell_type": "code",
   "execution_count": null,
   "metadata": {},
   "outputs": [],
   "source": []
  }
 ],
 "metadata": {
  "kernelspec": {
   "display_name": "Python 3.9.12 ('base')",
   "language": "python",
   "name": "python3"
  },
  "language_info": {
   "codemirror_mode": {
    "name": "ipython",
    "version": 3
   },
   "file_extension": ".py",
   "mimetype": "text/x-python",
   "name": "python",
   "nbconvert_exporter": "python",
   "pygments_lexer": "ipython3",
   "version": "3.9.7"
  },
  "orig_nbformat": 4,
  "vscode": {
   "interpreter": {
    "hash": "57bc2b6ce032b5f0e93daa91901b7ea38a856826ef43aa9e95b6d3999f5310df"
   }
  }
 },
 "nbformat": 4,
 "nbformat_minor": 2
}
